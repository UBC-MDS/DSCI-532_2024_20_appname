{
 "cells": [
  {
   "cell_type": "markdown",
   "metadata": {},
   "source": [
    "# Initial EDA of the Dataset\n"
   ]
  },
  {
   "cell_type": "markdown",
   "metadata": {},
   "source": [
    "## Plot the global Temperature Increase and CO2 Emission over the years"
   ]
  },
  {
   "cell_type": "code",
   "execution_count": 3,
   "metadata": {},
   "outputs": [
    {
     "data": {
      "text/html": [
       "<div>\n",
       "<style scoped>\n",
       "    .dataframe tbody tr th:only-of-type {\n",
       "        vertical-align: middle;\n",
       "    }\n",
       "\n",
       "    .dataframe tbody tr th {\n",
       "        vertical-align: top;\n",
       "    }\n",
       "\n",
       "    .dataframe thead th {\n",
       "        text-align: right;\n",
       "    }\n",
       "</style>\n",
       "<table border=\"1\" class=\"dataframe\">\n",
       "  <thead>\n",
       "    <tr style=\"text-align: right;\">\n",
       "      <th></th>\n",
       "      <th>country</th>\n",
       "      <th>year</th>\n",
       "      <th>iso_code</th>\n",
       "      <th>population</th>\n",
       "      <th>gdp</th>\n",
       "      <th>cement_co2</th>\n",
       "      <th>cement_co2_per_capita</th>\n",
       "      <th>co2</th>\n",
       "      <th>co2_growth_abs</th>\n",
       "      <th>co2_growth_prct</th>\n",
       "      <th>...</th>\n",
       "      <th>share_global_other_co2</th>\n",
       "      <th>share_of_temperature_change_from_ghg</th>\n",
       "      <th>temperature_change_from_ch4</th>\n",
       "      <th>temperature_change_from_co2</th>\n",
       "      <th>temperature_change_from_ghg</th>\n",
       "      <th>temperature_change_from_n2o</th>\n",
       "      <th>total_ghg</th>\n",
       "      <th>total_ghg_excluding_lucf</th>\n",
       "      <th>trade_co2</th>\n",
       "      <th>trade_co2_share</th>\n",
       "    </tr>\n",
       "  </thead>\n",
       "  <tbody>\n",
       "    <tr>\n",
       "      <th>0</th>\n",
       "      <td>Afghanistan</td>\n",
       "      <td>1850</td>\n",
       "      <td>AFG</td>\n",
       "      <td>3752993.0</td>\n",
       "      <td>NaN</td>\n",
       "      <td>NaN</td>\n",
       "      <td>NaN</td>\n",
       "      <td>NaN</td>\n",
       "      <td>NaN</td>\n",
       "      <td>NaN</td>\n",
       "      <td>...</td>\n",
       "      <td>NaN</td>\n",
       "      <td>NaN</td>\n",
       "      <td>NaN</td>\n",
       "      <td>NaN</td>\n",
       "      <td>NaN</td>\n",
       "      <td>NaN</td>\n",
       "      <td>NaN</td>\n",
       "      <td>NaN</td>\n",
       "      <td>NaN</td>\n",
       "      <td>NaN</td>\n",
       "    </tr>\n",
       "    <tr>\n",
       "      <th>1</th>\n",
       "      <td>Afghanistan</td>\n",
       "      <td>1851</td>\n",
       "      <td>AFG</td>\n",
       "      <td>3767956.0</td>\n",
       "      <td>NaN</td>\n",
       "      <td>NaN</td>\n",
       "      <td>NaN</td>\n",
       "      <td>NaN</td>\n",
       "      <td>NaN</td>\n",
       "      <td>NaN</td>\n",
       "      <td>...</td>\n",
       "      <td>NaN</td>\n",
       "      <td>0.165</td>\n",
       "      <td>0.0</td>\n",
       "      <td>0.0</td>\n",
       "      <td>0.0</td>\n",
       "      <td>0.0</td>\n",
       "      <td>NaN</td>\n",
       "      <td>NaN</td>\n",
       "      <td>NaN</td>\n",
       "      <td>NaN</td>\n",
       "    </tr>\n",
       "    <tr>\n",
       "      <th>2</th>\n",
       "      <td>Afghanistan</td>\n",
       "      <td>1852</td>\n",
       "      <td>AFG</td>\n",
       "      <td>3783940.0</td>\n",
       "      <td>NaN</td>\n",
       "      <td>NaN</td>\n",
       "      <td>NaN</td>\n",
       "      <td>NaN</td>\n",
       "      <td>NaN</td>\n",
       "      <td>NaN</td>\n",
       "      <td>...</td>\n",
       "      <td>NaN</td>\n",
       "      <td>0.164</td>\n",
       "      <td>0.0</td>\n",
       "      <td>0.0</td>\n",
       "      <td>0.0</td>\n",
       "      <td>0.0</td>\n",
       "      <td>NaN</td>\n",
       "      <td>NaN</td>\n",
       "      <td>NaN</td>\n",
       "      <td>NaN</td>\n",
       "    </tr>\n",
       "    <tr>\n",
       "      <th>3</th>\n",
       "      <td>Afghanistan</td>\n",
       "      <td>1853</td>\n",
       "      <td>AFG</td>\n",
       "      <td>3800954.0</td>\n",
       "      <td>NaN</td>\n",
       "      <td>NaN</td>\n",
       "      <td>NaN</td>\n",
       "      <td>NaN</td>\n",
       "      <td>NaN</td>\n",
       "      <td>NaN</td>\n",
       "      <td>...</td>\n",
       "      <td>NaN</td>\n",
       "      <td>0.164</td>\n",
       "      <td>0.0</td>\n",
       "      <td>0.0</td>\n",
       "      <td>0.0</td>\n",
       "      <td>0.0</td>\n",
       "      <td>NaN</td>\n",
       "      <td>NaN</td>\n",
       "      <td>NaN</td>\n",
       "      <td>NaN</td>\n",
       "    </tr>\n",
       "    <tr>\n",
       "      <th>4</th>\n",
       "      <td>Afghanistan</td>\n",
       "      <td>1854</td>\n",
       "      <td>AFG</td>\n",
       "      <td>3818038.0</td>\n",
       "      <td>NaN</td>\n",
       "      <td>NaN</td>\n",
       "      <td>NaN</td>\n",
       "      <td>NaN</td>\n",
       "      <td>NaN</td>\n",
       "      <td>NaN</td>\n",
       "      <td>...</td>\n",
       "      <td>NaN</td>\n",
       "      <td>0.163</td>\n",
       "      <td>0.0</td>\n",
       "      <td>0.0</td>\n",
       "      <td>0.0</td>\n",
       "      <td>0.0</td>\n",
       "      <td>NaN</td>\n",
       "      <td>NaN</td>\n",
       "      <td>NaN</td>\n",
       "      <td>NaN</td>\n",
       "    </tr>\n",
       "  </tbody>\n",
       "</table>\n",
       "<p>5 rows × 79 columns</p>\n",
       "</div>"
      ],
      "text/plain": [
       "       country  year iso_code  population  gdp  cement_co2  \\\n",
       "0  Afghanistan  1850      AFG   3752993.0  NaN         NaN   \n",
       "1  Afghanistan  1851      AFG   3767956.0  NaN         NaN   \n",
       "2  Afghanistan  1852      AFG   3783940.0  NaN         NaN   \n",
       "3  Afghanistan  1853      AFG   3800954.0  NaN         NaN   \n",
       "4  Afghanistan  1854      AFG   3818038.0  NaN         NaN   \n",
       "\n",
       "   cement_co2_per_capita  co2  co2_growth_abs  co2_growth_prct  ...  \\\n",
       "0                    NaN  NaN             NaN              NaN  ...   \n",
       "1                    NaN  NaN             NaN              NaN  ...   \n",
       "2                    NaN  NaN             NaN              NaN  ...   \n",
       "3                    NaN  NaN             NaN              NaN  ...   \n",
       "4                    NaN  NaN             NaN              NaN  ...   \n",
       "\n",
       "   share_global_other_co2  share_of_temperature_change_from_ghg  \\\n",
       "0                     NaN                                   NaN   \n",
       "1                     NaN                                 0.165   \n",
       "2                     NaN                                 0.164   \n",
       "3                     NaN                                 0.164   \n",
       "4                     NaN                                 0.163   \n",
       "\n",
       "   temperature_change_from_ch4  temperature_change_from_co2  \\\n",
       "0                          NaN                          NaN   \n",
       "1                          0.0                          0.0   \n",
       "2                          0.0                          0.0   \n",
       "3                          0.0                          0.0   \n",
       "4                          0.0                          0.0   \n",
       "\n",
       "   temperature_change_from_ghg  temperature_change_from_n2o  total_ghg  \\\n",
       "0                          NaN                          NaN        NaN   \n",
       "1                          0.0                          0.0        NaN   \n",
       "2                          0.0                          0.0        NaN   \n",
       "3                          0.0                          0.0        NaN   \n",
       "4                          0.0                          0.0        NaN   \n",
       "\n",
       "   total_ghg_excluding_lucf  trade_co2  trade_co2_share  \n",
       "0                       NaN        NaN              NaN  \n",
       "1                       NaN        NaN              NaN  \n",
       "2                       NaN        NaN              NaN  \n",
       "3                       NaN        NaN              NaN  \n",
       "4                       NaN        NaN              NaN  \n",
       "\n",
       "[5 rows x 79 columns]"
      ]
     },
     "execution_count": 3,
     "metadata": {},
     "output_type": "execute_result"
    }
   ],
   "source": [
    "import pandas as pd\n",
    "import plotly.express as px\n",
    "import altair as alt\n",
    "import numpy as np\n",
    "from plotly.subplots import make_subplots\n",
    "\n",
    "# alt.data_transformers.enable(\"vegafusion\")\n",
    "df = pd.read_csv(\"../data/raw/owid-co2-data.csv\")\n",
    "df.head()"
   ]
  },
  {
   "cell_type": "code",
   "execution_count": 3,
   "metadata": {},
   "outputs": [
    {
     "data": {
      "text/html": [
       "<div>\n",
       "<style scoped>\n",
       "    .dataframe tbody tr th:only-of-type {\n",
       "        vertical-align: middle;\n",
       "    }\n",
       "\n",
       "    .dataframe tbody tr th {\n",
       "        vertical-align: top;\n",
       "    }\n",
       "\n",
       "    .dataframe thead th {\n",
       "        text-align: right;\n",
       "    }\n",
       "</style>\n",
       "<table border=\"1\" class=\"dataframe\">\n",
       "  <thead>\n",
       "    <tr style=\"text-align: right;\">\n",
       "      <th></th>\n",
       "      <th>year</th>\n",
       "      <th>co2</th>\n",
       "      <th>temperature_change_from_co2</th>\n",
       "    </tr>\n",
       "  </thead>\n",
       "  <tbody>\n",
       "    <tr>\n",
       "      <th>0</th>\n",
       "      <td>1750</td>\n",
       "      <td>55.836</td>\n",
       "      <td>NaN</td>\n",
       "    </tr>\n",
       "    <tr>\n",
       "      <th>1</th>\n",
       "      <td>1751</td>\n",
       "      <td>56.442</td>\n",
       "      <td>NaN</td>\n",
       "    </tr>\n",
       "    <tr>\n",
       "      <th>2</th>\n",
       "      <td>1752</td>\n",
       "      <td>57.030</td>\n",
       "      <td>NaN</td>\n",
       "    </tr>\n",
       "    <tr>\n",
       "      <th>3</th>\n",
       "      <td>1753</td>\n",
       "      <td>57.660</td>\n",
       "      <td>NaN</td>\n",
       "    </tr>\n",
       "    <tr>\n",
       "      <th>4</th>\n",
       "      <td>1754</td>\n",
       "      <td>58.404</td>\n",
       "      <td>NaN</td>\n",
       "    </tr>\n",
       "  </tbody>\n",
       "</table>\n",
       "</div>"
      ],
      "text/plain": [
       "   year     co2  temperature_change_from_co2\n",
       "0  1750  55.836                          NaN\n",
       "1  1751  56.442                          NaN\n",
       "2  1752  57.030                          NaN\n",
       "3  1753  57.660                          NaN\n",
       "4  1754  58.404                          NaN"
      ]
     },
     "execution_count": 3,
     "metadata": {},
     "output_type": "execute_result"
    }
   ],
   "source": [
    "# Group by year\n",
    "df_year = (\n",
    "    df.groupby(\"year\")\n",
    "    .aggregate({\"co2\": \"sum\", \"temperature_change_from_co2\": \"mean\"})\n",
    "    .reset_index()\n",
    ")\n",
    "df_year.head()"
   ]
  },
  {
   "cell_type": "code",
   "execution_count": 4,
   "metadata": {},
   "outputs": [
    {
     "data": {
      "text/html": [
       "\n",
       "<style>\n",
       "  #altair-viz-b22046e6e0e54697b2440f80d1566f19.vega-embed {\n",
       "    width: 100%;\n",
       "    display: flex;\n",
       "  }\n",
       "\n",
       "  #altair-viz-b22046e6e0e54697b2440f80d1566f19.vega-embed details,\n",
       "  #altair-viz-b22046e6e0e54697b2440f80d1566f19.vega-embed details summary {\n",
       "    position: relative;\n",
       "  }\n",
       "</style>\n",
       "<div id=\"altair-viz-b22046e6e0e54697b2440f80d1566f19\"></div>\n",
       "<script type=\"text/javascript\">\n",
       "  var VEGA_DEBUG = (typeof VEGA_DEBUG == \"undefined\") ? {} : VEGA_DEBUG;\n",
       "  (function(spec, embedOpt){\n",
       "    let outputDiv = document.currentScript.previousElementSibling;\n",
       "    if (outputDiv.id !== \"altair-viz-b22046e6e0e54697b2440f80d1566f19\") {\n",
       "      outputDiv = document.getElementById(\"altair-viz-b22046e6e0e54697b2440f80d1566f19\");\n",
       "    }\n",
       "    const paths = {\n",
       "      \"vega\": \"https://cdn.jsdelivr.net/npm/vega@5?noext\",\n",
       "      \"vega-lib\": \"https://cdn.jsdelivr.net/npm/vega-lib?noext\",\n",
       "      \"vega-lite\": \"https://cdn.jsdelivr.net/npm/vega-lite@5.16.3?noext\",\n",
       "      \"vega-embed\": \"https://cdn.jsdelivr.net/npm/vega-embed@6?noext\",\n",
       "    };\n",
       "\n",
       "    function maybeLoadScript(lib, version) {\n",
       "      var key = `${lib.replace(\"-\", \"\")}_version`;\n",
       "      return (VEGA_DEBUG[key] == version) ?\n",
       "        Promise.resolve(paths[lib]) :\n",
       "        new Promise(function(resolve, reject) {\n",
       "          var s = document.createElement('script');\n",
       "          document.getElementsByTagName(\"head\")[0].appendChild(s);\n",
       "          s.async = true;\n",
       "          s.onload = () => {\n",
       "            VEGA_DEBUG[key] = version;\n",
       "            return resolve(paths[lib]);\n",
       "          };\n",
       "          s.onerror = () => reject(`Error loading script: ${paths[lib]}`);\n",
       "          s.src = paths[lib];\n",
       "        });\n",
       "    }\n",
       "\n",
       "    function showError(err) {\n",
       "      outputDiv.innerHTML = `<div class=\"error\" style=\"color:red;\">${err}</div>`;\n",
       "      throw err;\n",
       "    }\n",
       "\n",
       "    function displayChart(vegaEmbed) {\n",
       "      vegaEmbed(outputDiv, spec, embedOpt)\n",
       "        .catch(err => showError(`Javascript Error: ${err.message}<br>This usually means there's a typo in your chart specification. See the javascript console for the full traceback.`));\n",
       "    }\n",
       "\n",
       "    if(typeof define === \"function\" && define.amd) {\n",
       "      requirejs.config({paths});\n",
       "      require([\"vega-embed\"], displayChart, err => showError(`Error loading script: ${err.message}`));\n",
       "    } else {\n",
       "      maybeLoadScript(\"vega\", \"5\")\n",
       "        .then(() => maybeLoadScript(\"vega-lite\", \"5.16.3\"))\n",
       "        .then(() => maybeLoadScript(\"vega-embed\", \"6\"))\n",
       "        .catch(showError)\n",
       "        .then(() => displayChart(vegaEmbed));\n",
       "    }\n",
       "  })({\"config\": {\"view\": {\"continuousWidth\": 300, \"continuousHeight\": 300}}, \"data\": {\"name\": \"data-2b1b5b7b1dd03854d5fca192a593635c\"}, \"mark\": {\"type\": \"line\"}, \"encoding\": {\"x\": {\"field\": \"year\", \"title\": \"Year\", \"type\": \"quantitative\"}, \"y\": {\"field\": \"co2\", \"title\": \"CO2 Emissions\", \"type\": \"quantitative\"}}, \"height\": 400, \"title\": \"Global CO2 emissions over time\", \"width\": 800, \"$schema\": \"https://vega.github.io/schema/vega-lite/v5.16.3.json\", \"datasets\": {\"data-2b1b5b7b1dd03854d5fca192a593635c\": [{\"year\": 1750, \"co2\": 55.836, \"temperature_change_from_co2\": null}, {\"year\": 1751, \"co2\": 56.442, \"temperature_change_from_co2\": null}, {\"year\": 1752, \"co2\": 57.03, \"temperature_change_from_co2\": null}, {\"year\": 1753, \"co2\": 57.66, \"temperature_change_from_co2\": null}, {\"year\": 1754, \"co2\": 58.403999999999996, \"temperature_change_from_co2\": null}, {\"year\": 1755, \"co2\": 58.757999999999996, \"temperature_change_from_co2\": null}, {\"year\": 1756, \"co2\": 59.46, \"temperature_change_from_co2\": null}, {\"year\": 1757, \"co2\": 60.56399999999999, \"temperature_change_from_co2\": null}, {\"year\": 1758, \"co2\": 61.29599999999999, \"temperature_change_from_co2\": null}, {\"year\": 1759, \"co2\": 62.034000000000006, \"temperature_change_from_co2\": null}, {\"year\": 1760, \"co2\": 63.083999999999996, \"temperature_change_from_co2\": null}, {\"year\": 1761, \"co2\": 64.488, \"temperature_change_from_co2\": null}, {\"year\": 1762, \"co2\": 65.712, \"temperature_change_from_co2\": null}, {\"year\": 1763, \"co2\": 67.152, \"temperature_change_from_co2\": null}, {\"year\": 1764, \"co2\": 68.382, \"temperature_change_from_co2\": null}, {\"year\": 1765, \"co2\": 69.858, \"temperature_change_from_co2\": null}, {\"year\": 1766, \"co2\": 71.256, \"temperature_change_from_co2\": null}, {\"year\": 1767, \"co2\": 72.918, \"temperature_change_from_co2\": null}, {\"year\": 1768, \"co2\": 74.802, \"temperature_change_from_co2\": null}, {\"year\": 1769, \"co2\": 76.67999999999999, \"temperature_change_from_co2\": null}, {\"year\": 1770, \"co2\": 78.582, \"temperature_change_from_co2\": null}, {\"year\": 1771, \"co2\": 80.214, \"temperature_change_from_co2\": null}, {\"year\": 1772, \"co2\": 81.744, \"temperature_change_from_co2\": null}, {\"year\": 1773, \"co2\": 82.848, \"temperature_change_from_co2\": null}, {\"year\": 1774, \"co2\": 84.072, \"temperature_change_from_co2\": null}, {\"year\": 1775, \"co2\": 86.034, \"temperature_change_from_co2\": null}, {\"year\": 1776, \"co2\": 87.924, \"temperature_change_from_co2\": null}, {\"year\": 1777, \"co2\": 89.76, \"temperature_change_from_co2\": null}, {\"year\": 1778, \"co2\": 91.458, \"temperature_change_from_co2\": null}, {\"year\": 1779, \"co2\": 93.21000000000001, \"temperature_change_from_co2\": null}, {\"year\": 1780, \"co2\": 95.274, \"temperature_change_from_co2\": null}, {\"year\": 1781, \"co2\": 97.40400000000001, \"temperature_change_from_co2\": null}, {\"year\": 1782, \"co2\": 99.48599999999999, \"temperature_change_from_co2\": null}, {\"year\": 1783, \"co2\": 102.37799999999999, \"temperature_change_from_co2\": null}, {\"year\": 1784, \"co2\": 104.826, \"temperature_change_from_co2\": null}, {\"year\": 1785, \"co2\": 107.786, \"temperature_change_from_co2\": null}, {\"year\": 1786, \"co2\": 110.68199999999999, \"temperature_change_from_co2\": null}, {\"year\": 1787, \"co2\": 113.15, \"temperature_change_from_co2\": null}, {\"year\": 1788, \"co2\": 115.71600000000001, \"temperature_change_from_co2\": null}, {\"year\": 1789, \"co2\": 119.178, \"temperature_change_from_co2\": null}, {\"year\": 1790, \"co2\": 122.38399999999999, \"temperature_change_from_co2\": null}, {\"year\": 1791, \"co2\": 125.588, \"temperature_change_from_co2\": null}, {\"year\": 1792, \"co2\": 131.574, \"temperature_change_from_co2\": null}, {\"year\": 1793, \"co2\": 133.782, \"temperature_change_from_co2\": null}, {\"year\": 1794, \"co2\": 135.11599999999999, \"temperature_change_from_co2\": null}, {\"year\": 1795, \"co2\": 133.89, \"temperature_change_from_co2\": null}, {\"year\": 1796, \"co2\": 132.726, \"temperature_change_from_co2\": null}, {\"year\": 1797, \"co2\": 132.538, \"temperature_change_from_co2\": null}, {\"year\": 1798, \"co2\": 138.632, \"temperature_change_from_co2\": null}, {\"year\": 1799, \"co2\": 164.91, \"temperature_change_from_co2\": null}, {\"year\": 1800, \"co2\": 196.281, \"temperature_change_from_co2\": null}, {\"year\": 1801, \"co2\": 191.378, \"temperature_change_from_co2\": null}, {\"year\": 1802, \"co2\": 241.27800000000002, \"temperature_change_from_co2\": null}, {\"year\": 1803, \"co2\": 176.635, \"temperature_change_from_co2\": null}, {\"year\": 1804, \"co2\": 189.944, \"temperature_change_from_co2\": null}, {\"year\": 1805, \"co2\": 186.826, \"temperature_change_from_co2\": null}, {\"year\": 1806, \"co2\": 195.558, \"temperature_change_from_co2\": null}, {\"year\": 1807, \"co2\": 216.44600000000003, \"temperature_change_from_co2\": null}, {\"year\": 1808, \"co2\": 212.2, \"temperature_change_from_co2\": null}, {\"year\": 1809, \"co2\": 217.193, \"temperature_change_from_co2\": null}, {\"year\": 1810, \"co2\": 236.112, \"temperature_change_from_co2\": null}, {\"year\": 1811, \"co2\": 240.16, \"temperature_change_from_co2\": null}, {\"year\": 1812, \"co2\": 243.913, \"temperature_change_from_co2\": null}, {\"year\": 1813, \"co2\": 246.187, \"temperature_change_from_co2\": null}, {\"year\": 1814, \"co2\": 252.22899999999998, \"temperature_change_from_co2\": null}, {\"year\": 1815, \"co2\": 260.31399999999996, \"temperature_change_from_co2\": null}, {\"year\": 1816, \"co2\": 271.644, \"temperature_change_from_co2\": null}, {\"year\": 1817, \"co2\": 294.212, \"temperature_change_from_co2\": null}, {\"year\": 1818, \"co2\": 306.784, \"temperature_change_from_co2\": null}, {\"year\": 1819, \"co2\": 304.046, \"temperature_change_from_co2\": null}, {\"year\": 1820, \"co2\": 302.799, \"temperature_change_from_co2\": null}, {\"year\": 1821, \"co2\": 310.688, \"temperature_change_from_co2\": null}, {\"year\": 1822, \"co2\": 322.389, \"temperature_change_from_co2\": null}, {\"year\": 1823, \"co2\": 336.331, \"temperature_change_from_co2\": null}, {\"year\": 1824, \"co2\": 343.461, \"temperature_change_from_co2\": null}, {\"year\": 1825, \"co2\": 362.105, \"temperature_change_from_co2\": null}, {\"year\": 1826, \"co2\": 365.646, \"temperature_change_from_co2\": null}, {\"year\": 1827, \"co2\": 391.524, \"temperature_change_from_co2\": null}, {\"year\": 1828, \"co2\": 396.892, \"temperature_change_from_co2\": null}, {\"year\": 1829, \"co2\": 394.236, \"temperature_change_from_co2\": null}, {\"year\": 1830, \"co2\": 529.734, \"temperature_change_from_co2\": null}, {\"year\": 1831, \"co2\": 494.966, \"temperature_change_from_co2\": null}, {\"year\": 1832, \"co2\": 486.475, \"temperature_change_from_co2\": null}, {\"year\": 1833, \"co2\": 492.407, \"temperature_change_from_co2\": null}, {\"year\": 1834, \"co2\": 525.7850000000001, \"temperature_change_from_co2\": null}, {\"year\": 1835, \"co2\": 575.724, \"temperature_change_from_co2\": null}, {\"year\": 1836, \"co2\": 631.863, \"temperature_change_from_co2\": null}, {\"year\": 1837, \"co2\": 626.531, \"temperature_change_from_co2\": null}, {\"year\": 1838, \"co2\": 624.954, \"temperature_change_from_co2\": null}, {\"year\": 1839, \"co2\": 646.811, \"temperature_change_from_co2\": null}, {\"year\": 1840, \"co2\": 701.009, \"temperature_change_from_co2\": null}, {\"year\": 1841, \"co2\": 720.454, \"temperature_change_from_co2\": null}, {\"year\": 1842, \"co2\": 762.369, \"temperature_change_from_co2\": null}, {\"year\": 1843, \"co2\": 778.606, \"temperature_change_from_co2\": null}, {\"year\": 1844, \"co2\": 832.967, \"temperature_change_from_co2\": null}, {\"year\": 1845, \"co2\": 907.74, \"temperature_change_from_co2\": null}, {\"year\": 1846, \"co2\": 920.369, \"temperature_change_from_co2\": null}, {\"year\": 1847, \"co2\": 994.1460000000001, \"temperature_change_from_co2\": null}, {\"year\": 1848, \"co2\": 1007.726, \"temperature_change_from_co2\": null}, {\"year\": 1849, \"co2\": 1072.9499999999998, \"temperature_change_from_co2\": null}, {\"year\": 1850, \"co2\": 1534.134, \"temperature_change_from_co2\": null}, {\"year\": 1851, \"co2\": 1539.795, \"temperature_change_from_co2\": 1.2295081967213116e-05}, {\"year\": 1852, \"co2\": 1605.433, \"temperature_change_from_co2\": 3.6885245901639346e-05}, {\"year\": 1853, \"co2\": 1676.23, \"temperature_change_from_co2\": 7.377049180327869e-05}, {\"year\": 1854, \"co2\": 1973.4569999999999, \"temperature_change_from_co2\": 8.606557377049181e-05}, {\"year\": 1855, \"co2\": 2003.894, \"temperature_change_from_co2\": 0.00011885245901639345}, {\"year\": 1856, \"co2\": 2137.52, \"temperature_change_from_co2\": 0.00014754098360655738}, {\"year\": 1857, \"co2\": 2156.465, \"temperature_change_from_co2\": 0.0001762295081967213}, {\"year\": 1858, \"co2\": 2188.713, \"temperature_change_from_co2\": 0.00020081967213114754}, {\"year\": 1859, \"co2\": 2318.591, \"temperature_change_from_co2\": 0.00024180327868852458}, {\"year\": 1860, \"co2\": 2549.871, \"temperature_change_from_co2\": 0.00026639344262295085}, {\"year\": 1861, \"co2\": 2688.246, \"temperature_change_from_co2\": 0.00029098360655737705}, {\"year\": 1862, \"co2\": 2737.679, \"temperature_change_from_co2\": 0.00031147540983606555}, {\"year\": 1863, \"co2\": 2912.349, \"temperature_change_from_co2\": 0.0003401639344262295}, {\"year\": 1864, \"co2\": 3140.5769999999998, \"temperature_change_from_co2\": 0.000360655737704918}, {\"year\": 1865, \"co2\": 3340.87, \"temperature_change_from_co2\": 0.0003975409836065574}, {\"year\": 1866, \"co2\": 3448.314, \"temperature_change_from_co2\": 0.0004139344262295082}, {\"year\": 1867, \"co2\": 3674.843, \"temperature_change_from_co2\": 0.0004426229508196721}, {\"year\": 1868, \"co2\": 3763.175, \"temperature_change_from_co2\": 0.00047950819672131146}, {\"year\": 1869, \"co2\": 3983.881, \"temperature_change_from_co2\": 0.0005081967213114754}, {\"year\": 1870, \"co2\": 4064.761, \"temperature_change_from_co2\": 0.0005491803278688525}, {\"year\": 1871, \"co2\": 4323.53, \"temperature_change_from_co2\": 0.0005778688524590164}, {\"year\": 1872, \"co2\": 4759.708, \"temperature_change_from_co2\": 0.000610655737704918}, {\"year\": 1873, \"co2\": 5046.432, \"temperature_change_from_co2\": 0.0006393442622950819}, {\"year\": 1874, \"co2\": 4717.759, \"temperature_change_from_co2\": 0.0006762295081967213}, {\"year\": 1875, \"co2\": 5136.555, \"temperature_change_from_co2\": 0.000721311475409836}, {\"year\": 1876, \"co2\": 5219.619, \"temperature_change_from_co2\": 0.0007622950819672131}, {\"year\": 1877, \"co2\": 5299.226, \"temperature_change_from_co2\": 0.0007827868852459017}, {\"year\": 1878, \"co2\": 5344.991, \"temperature_change_from_co2\": 0.0008278688524590164}, {\"year\": 1879, \"co2\": 5681.28, \"temperature_change_from_co2\": 0.0008606557377049181}, {\"year\": 1880, \"co2\": 6414.506, \"temperature_change_from_co2\": 0.0009016393442622951}, {\"year\": 1881, \"co2\": 6626.9039999999995, \"temperature_change_from_co2\": 0.0009508196721311475}, {\"year\": 1882, \"co2\": 6971.845, \"temperature_change_from_co2\": 0.0009877049180327868}, {\"year\": 1883, \"co2\": 7406.641, \"temperature_change_from_co2\": 0.0010327868852459017}, {\"year\": 1884, \"co2\": 7467.145, \"temperature_change_from_co2\": 0.001069672131147541}, {\"year\": 1885, \"co2\": 7517.452, \"temperature_change_from_co2\": 0.001110655737704918}, {\"year\": 1886, \"co2\": 7611.598, \"temperature_change_from_co2\": 0.0011475409836065576}, {\"year\": 1887, \"co2\": 7976.66, \"temperature_change_from_co2\": 0.0011885245901639345}, {\"year\": 1888, \"co2\": 8762.733, \"temperature_change_from_co2\": 0.0012418032786885246}, {\"year\": 1889, \"co2\": 8837.896, \"temperature_change_from_co2\": 0.0012991803278688526}, {\"year\": 1890, \"co2\": 9550.371000000001, \"temperature_change_from_co2\": 0.0013401639344262297}, {\"year\": 1891, \"co2\": 9983.402, \"temperature_change_from_co2\": 0.0013934426229508196}, {\"year\": 1892, \"co2\": 10020.497, \"temperature_change_from_co2\": 0.0014385245901639343}, {\"year\": 1893, \"co2\": 9872.855, \"temperature_change_from_co2\": 0.0015}, {\"year\": 1894, \"co2\": 10305.777, \"temperature_change_from_co2\": 0.0015368852459016393}, {\"year\": 1895, \"co2\": 10863.121, \"temperature_change_from_co2\": 0.001569672131147541}, {\"year\": 1896, \"co2\": 11246.152, \"temperature_change_from_co2\": 0.0016311475409836065}, {\"year\": 1897, \"co2\": 11784.416000000001, \"temperature_change_from_co2\": 0.001680327868852459}, {\"year\": 1898, \"co2\": 12385.108, \"temperature_change_from_co2\": 0.0017459016393442622}, {\"year\": 1899, \"co2\": 13469.768, \"temperature_change_from_co2\": 0.0018155737704918034}, {\"year\": 1900, \"co2\": 14178.438, \"temperature_change_from_co2\": 0.0018647540983606555}, {\"year\": 1901, \"co2\": 14553.226999999999, \"temperature_change_from_co2\": 0.0019262295081967213}, {\"year\": 1902, \"co2\": 14863.208, \"temperature_change_from_co2\": 0.0020081967213114752}, {\"year\": 1903, \"co2\": 16084.68, \"temperature_change_from_co2\": 0.0020655737704918034}, {\"year\": 1904, \"co2\": 16295.482, \"temperature_change_from_co2\": 0.0021352459016393444}, {\"year\": 1905, \"co2\": 17258.426, \"temperature_change_from_co2\": 0.0022049180327868853}, {\"year\": 1906, \"co2\": 17993.256, \"temperature_change_from_co2\": 0.0022786885245901643}, {\"year\": 1907, \"co2\": 20420.331000000002, \"temperature_change_from_co2\": 0.002360655737704918}, {\"year\": 1908, \"co2\": 19802.635, \"temperature_change_from_co2\": 0.0024180327868852463}, {\"year\": 1909, \"co2\": 20490.576, \"temperature_change_from_co2\": 0.0024959016393442625}, {\"year\": 1910, \"co2\": 21399.904, \"temperature_change_from_co2\": 0.0025655737704918034}, {\"year\": 1911, \"co2\": 21762.397, \"temperature_change_from_co2\": 0.0026352459016393444}, {\"year\": 1912, \"co2\": 22831.13, \"temperature_change_from_co2\": 0.0027172131147540986}, {\"year\": 1913, \"co2\": 24745.324, \"temperature_change_from_co2\": 0.002786885245901639}, {\"year\": 1914, \"co2\": 22393.29, \"temperature_change_from_co2\": 0.002864754098360656}, {\"year\": 1915, \"co2\": 21948.668999999998, \"temperature_change_from_co2\": 0.002926229508196721}, {\"year\": 1916, \"co2\": 23617.786, \"temperature_change_from_co2\": 0.003}, {\"year\": 1917, \"co2\": 24516.22, \"temperature_change_from_co2\": 0.0030819672131147543}, {\"year\": 1918, \"co2\": 23961.5, \"temperature_change_from_co2\": 0.0031803278688524593}, {\"year\": 1919, \"co2\": 20762.063000000002, \"temperature_change_from_co2\": 0.003237704918032787}, {\"year\": 1920, \"co2\": 24137.759000000002, \"temperature_change_from_co2\": 0.0033196721311475413}, {\"year\": 1921, \"co2\": 21314.2, \"temperature_change_from_co2\": 0.003385245901639344}, {\"year\": 1922, \"co2\": 22497.874, \"temperature_change_from_co2\": 0.0034631147540983604}, {\"year\": 1923, \"co2\": 25009.823, \"temperature_change_from_co2\": 0.00355327868852459}, {\"year\": 1924, \"co2\": 25477.167, \"temperature_change_from_co2\": 0.003614754098360656}, {\"year\": 1925, \"co2\": 25679.562, \"temperature_change_from_co2\": 0.0036967213114754097}, {\"year\": 1926, \"co2\": 24850.364, \"temperature_change_from_co2\": 0.0037745901639344263}, {\"year\": 1927, \"co2\": 27592.954, \"temperature_change_from_co2\": 0.0038647540983606553}, {\"year\": 1928, \"co2\": 27509.664, \"temperature_change_from_co2\": 0.003954918032786885}, {\"year\": 1929, \"co2\": 29561.214, \"temperature_change_from_co2\": 0.004057377049180328}, {\"year\": 1930, \"co2\": 27361.092, \"temperature_change_from_co2\": 0.00412704918032787}, {\"year\": 1931, \"co2\": 24588.579999999998, \"temperature_change_from_co2\": 0.004217213114754098}, {\"year\": 1932, \"co2\": 22281.042, \"temperature_change_from_co2\": 0.004290983606557377}, {\"year\": 1933, \"co2\": 23399.914, \"temperature_change_from_co2\": 0.004360655737704919}, {\"year\": 1934, \"co2\": 25483.961, \"temperature_change_from_co2\": 0.004442622950819672}, {\"year\": 1935, \"co2\": 26754.321, \"temperature_change_from_co2\": 0.004524590163934427}, {\"year\": 1936, \"co2\": 29231.678, \"temperature_change_from_co2\": 0.004614754098360655}, {\"year\": 1937, \"co2\": 31317.894, \"temperature_change_from_co2\": 0.004692622950819673}, {\"year\": 1938, \"co2\": 29739.049, \"temperature_change_from_co2\": 0.004786885245901639}, {\"year\": 1939, \"co2\": 31322.369000000002, \"temperature_change_from_co2\": 0.004889344262295082}, {\"year\": 1940, \"co2\": 34099.706, \"temperature_change_from_co2\": 0.004987704918032787}, {\"year\": 1941, \"co2\": 34579.203, \"temperature_change_from_co2\": 0.005094262295081968}, {\"year\": 1942, \"co2\": 34180.663, \"temperature_change_from_co2\": 0.005192622950819672}, {\"year\": 1943, \"co2\": 34712.577, \"temperature_change_from_co2\": 0.005278688524590164}, {\"year\": 1944, \"co2\": 34952.905, \"temperature_change_from_co2\": 0.00539344262295082}, {\"year\": 1945, \"co2\": 28399.422, \"temperature_change_from_co2\": 0.005463114754098361}, {\"year\": 1946, \"co2\": 31599.399, \"temperature_change_from_co2\": 0.005565573770491803}, {\"year\": 1947, \"co2\": 35167.729, \"temperature_change_from_co2\": 0.005676229508196721}, {\"year\": 1948, \"co2\": 37163.63, \"temperature_change_from_co2\": 0.005745901639344262}, {\"year\": 1949, \"co2\": 36025.832, \"temperature_change_from_co2\": 0.00585655737704918}, {\"year\": 1950, \"co2\": 40292.509, \"temperature_change_from_co2\": 0.005954918032786885}, {\"year\": 1951, \"co2\": 43446.356, \"temperature_change_from_co2\": 0.006081967213114754}, {\"year\": 1952, \"co2\": 44133.58, \"temperature_change_from_co2\": 0.00619672131147541}, {\"year\": 1953, \"co2\": 45395.843, \"temperature_change_from_co2\": 0.006315573770491803}, {\"year\": 1954, \"co2\": 46613.039, \"temperature_change_from_co2\": 0.006438524590163934}, {\"year\": 1955, \"co2\": 51024.616, \"temperature_change_from_co2\": 0.0065819672131147535}, {\"year\": 1956, \"co2\": 54356.421, \"temperature_change_from_co2\": 0.0067254098360655734}, {\"year\": 1957, \"co2\": 56167.925, \"temperature_change_from_co2\": 0.006864754098360656}, {\"year\": 1958, \"co2\": 57726.636, \"temperature_change_from_co2\": 0.007024590163934426}, {\"year\": 1959, \"co2\": 60534.277, \"temperature_change_from_co2\": 0.007172131147540984}, {\"year\": 1960, \"co2\": 64213.592, \"temperature_change_from_co2\": 0.007327868852459016}, {\"year\": 1961, \"co2\": 64650.174, \"temperature_change_from_co2\": 0.007475409836065574}, {\"year\": 1962, \"co2\": 67124.201, \"temperature_change_from_co2\": 0.00762295081967213}, {\"year\": 1963, \"co2\": 70809.194, \"temperature_change_from_co2\": 0.007782786885245902}, {\"year\": 1964, \"co2\": 74628.806, \"temperature_change_from_co2\": 0.007934426229508197}, {\"year\": 1965, \"co2\": 77892.566, \"temperature_change_from_co2\": 0.00810655737704918}, {\"year\": 1966, \"co2\": 81547.025, \"temperature_change_from_co2\": 0.00826639344262295}, {\"year\": 1967, \"co2\": 84078.06999999999, \"temperature_change_from_co2\": 0.008426229508196721}, {\"year\": 1968, \"co2\": 88658.221, \"temperature_change_from_co2\": 0.008577868852459015}, {\"year\": 1969, \"co2\": 94499.758, \"temperature_change_from_co2\": 0.008762295081967212}, {\"year\": 1970, \"co2\": 102053.726, \"temperature_change_from_co2\": 0.008967213114754099}, {\"year\": 1971, \"co2\": 106208.91, \"temperature_change_from_co2\": 0.00917622950819672}, {\"year\": 1972, \"co2\": 110993.887, \"temperature_change_from_co2\": 0.009401639344262296}, {\"year\": 1973, \"co2\": 116828.09, \"temperature_change_from_co2\": 0.009610655737704917}, {\"year\": 1974, \"co2\": 116620.367, \"temperature_change_from_co2\": 0.009799180327868853}, {\"year\": 1975, \"co2\": 117119.698, \"temperature_change_from_co2\": 0.010012295081967213}, {\"year\": 1976, \"co2\": 123723.806, \"temperature_change_from_co2\": 0.010254098360655738}, {\"year\": 1977, \"co2\": 126982.436, \"temperature_change_from_co2\": 0.010479508196721311}, {\"year\": 1978, \"co2\": 130895.742, \"temperature_change_from_co2\": 0.010709016393442622}, {\"year\": 1979, \"co2\": 134658.444, \"temperature_change_from_co2\": 0.010942622950819672}, {\"year\": 1980, \"co2\": 134028.40899999999, \"temperature_change_from_co2\": 0.011172131147540983}, {\"year\": 1981, \"co2\": 130774.158, \"temperature_change_from_co2\": 0.011385245901639345}, {\"year\": 1982, \"co2\": 129917.156, \"temperature_change_from_co2\": 0.01162295081967213}, {\"year\": 1983, \"co2\": 130738.059, \"temperature_change_from_co2\": 0.011864754098360656}, {\"year\": 1984, \"co2\": 134909.059, \"temperature_change_from_co2\": 0.012122950819672131}, {\"year\": 1985, \"co2\": 139622.059, \"temperature_change_from_co2\": 0.012344262295081967}, {\"year\": 1986, \"co2\": 141422.505, \"temperature_change_from_co2\": 0.012627049180327869}, {\"year\": 1987, \"co2\": 144860.551, \"temperature_change_from_co2\": 0.012856557377049181}, {\"year\": 1988, \"co2\": 150134.679, \"temperature_change_from_co2\": 0.013122950819672132}, {\"year\": 1989, \"co2\": 151956.29, \"temperature_change_from_co2\": 0.013389344262295082}, {\"year\": 1990, \"co2\": 154811.928, \"temperature_change_from_co2\": 0.013651639344262294}, {\"year\": 1991, \"co2\": 157735.428, \"temperature_change_from_co2\": 0.013913934426229508}, {\"year\": 1992, \"co2\": 152130.361, \"temperature_change_from_co2\": 0.014168032786885245}, {\"year\": 1993, \"co2\": 153050.72699999998, \"temperature_change_from_co2\": 0.014422131147540984}, {\"year\": 1994, \"co2\": 153807.582, \"temperature_change_from_co2\": 0.014676229508196722}, {\"year\": 1995, \"co2\": 156583.345, \"temperature_change_from_co2\": 0.014987704918032786}, {\"year\": 1996, \"co2\": 160990.209, \"temperature_change_from_co2\": 0.015258196721311474}, {\"year\": 1997, \"co2\": 161436.816, \"temperature_change_from_co2\": 0.01553688524590164}, {\"year\": 1998, \"co2\": 160737.446, \"temperature_change_from_co2\": 0.01581967213114754}, {\"year\": 1999, \"co2\": 163714.99599999998, \"temperature_change_from_co2\": 0.016094262295081967}, {\"year\": 2000, \"co2\": 167972.61800000002, \"temperature_change_from_co2\": 0.01640983606557377}, {\"year\": 2001, \"co2\": 169372.638, \"temperature_change_from_co2\": 0.016688524590163935}, {\"year\": 2002, \"co2\": 172799.902, \"temperature_change_from_co2\": 0.016954918032786887}, {\"year\": 2003, \"co2\": 181647.4, \"temperature_change_from_co2\": 0.0172827868852459}, {\"year\": 2004, \"co2\": 187467.37, \"temperature_change_from_co2\": 0.017614754098360656}, {\"year\": 2005, \"co2\": 193289.337, \"temperature_change_from_co2\": 0.01792622950819672}, {\"year\": 2006, \"co2\": 199521.243, \"temperature_change_from_co2\": 0.01826639344262295}, {\"year\": 2007, \"co2\": 204710.394, \"temperature_change_from_co2\": 0.01857377049180328}, {\"year\": 2008, \"co2\": 207879.92299999998, \"temperature_change_from_co2\": 0.01890983606557377}, {\"year\": 2009, \"co2\": 203698.61, \"temperature_change_from_co2\": 0.019241803278688525}, {\"year\": 2010, \"co2\": 215151.809, \"temperature_change_from_co2\": 0.019594262295081967}, {\"year\": 2011, \"co2\": 221924.561, \"temperature_change_from_co2\": 0.019922131147540982}, {\"year\": 2012, \"co2\": 225160.414, \"temperature_change_from_co2\": 0.0202827868852459}, {\"year\": 2013, \"co2\": 226555.346, \"temperature_change_from_co2\": 0.02062704918032787}, {\"year\": 2014, \"co2\": 227582.19999999998, \"temperature_change_from_co2\": 0.02098360655737705}, {\"year\": 2015, \"co2\": 227612.884, \"temperature_change_from_co2\": 0.021348360655737704}, {\"year\": 2016, \"co2\": 227618.087, \"temperature_change_from_co2\": 0.021717213114754098}, {\"year\": 2017, \"co2\": 231066.766, \"temperature_change_from_co2\": 0.022061475409836065}, {\"year\": 2018, \"co2\": 235455.96, \"temperature_change_from_co2\": 0.02244672131147541}, {\"year\": 2019, \"co2\": 236804.78, \"temperature_change_from_co2\": 0.022799180327868852}, {\"year\": 2020, \"co2\": 224973.704, \"temperature_change_from_co2\": 0.02313934426229508}, {\"year\": 2021, \"co2\": 236484.697, \"temperature_change_from_co2\": 0.023520491803278688}, {\"year\": 2022, \"co2\": 237679.814, \"temperature_change_from_co2\": null}]}}, {\"mode\": \"vega-lite\"});\n",
       "</script>"
      ],
      "text/plain": [
       "alt.Chart(...)"
      ]
     },
     "execution_count": 4,
     "metadata": {},
     "output_type": "execute_result"
    }
   ],
   "source": [
    "# px.line(df_year, x=\"year\", y=\"co2\", title=\"CO2 emissions over time\")\n",
    "alt.Chart(df_year).mark_line().encode(\n",
    "    x=alt.X(\"year\", title=\"Year\"), y=alt.Y(\"co2\", title=\"CO2 Emissions\")\n",
    ").properties(title=\"Global CO2 emissions over time\", width=800, height=400)"
   ]
  },
  {
   "cell_type": "code",
   "execution_count": 5,
   "metadata": {},
   "outputs": [
    {
     "data": {
      "text/html": [
       "\n",
       "<style>\n",
       "  #altair-viz-8c8fd4fdf98a47929f16625338fea09c.vega-embed {\n",
       "    width: 100%;\n",
       "    display: flex;\n",
       "  }\n",
       "\n",
       "  #altair-viz-8c8fd4fdf98a47929f16625338fea09c.vega-embed details,\n",
       "  #altair-viz-8c8fd4fdf98a47929f16625338fea09c.vega-embed details summary {\n",
       "    position: relative;\n",
       "  }\n",
       "</style>\n",
       "<div id=\"altair-viz-8c8fd4fdf98a47929f16625338fea09c\"></div>\n",
       "<script type=\"text/javascript\">\n",
       "  var VEGA_DEBUG = (typeof VEGA_DEBUG == \"undefined\") ? {} : VEGA_DEBUG;\n",
       "  (function(spec, embedOpt){\n",
       "    let outputDiv = document.currentScript.previousElementSibling;\n",
       "    if (outputDiv.id !== \"altair-viz-8c8fd4fdf98a47929f16625338fea09c\") {\n",
       "      outputDiv = document.getElementById(\"altair-viz-8c8fd4fdf98a47929f16625338fea09c\");\n",
       "    }\n",
       "    const paths = {\n",
       "      \"vega\": \"https://cdn.jsdelivr.net/npm/vega@5?noext\",\n",
       "      \"vega-lib\": \"https://cdn.jsdelivr.net/npm/vega-lib?noext\",\n",
       "      \"vega-lite\": \"https://cdn.jsdelivr.net/npm/vega-lite@5.16.3?noext\",\n",
       "      \"vega-embed\": \"https://cdn.jsdelivr.net/npm/vega-embed@6?noext\",\n",
       "    };\n",
       "\n",
       "    function maybeLoadScript(lib, version) {\n",
       "      var key = `${lib.replace(\"-\", \"\")}_version`;\n",
       "      return (VEGA_DEBUG[key] == version) ?\n",
       "        Promise.resolve(paths[lib]) :\n",
       "        new Promise(function(resolve, reject) {\n",
       "          var s = document.createElement('script');\n",
       "          document.getElementsByTagName(\"head\")[0].appendChild(s);\n",
       "          s.async = true;\n",
       "          s.onload = () => {\n",
       "            VEGA_DEBUG[key] = version;\n",
       "            return resolve(paths[lib]);\n",
       "          };\n",
       "          s.onerror = () => reject(`Error loading script: ${paths[lib]}`);\n",
       "          s.src = paths[lib];\n",
       "        });\n",
       "    }\n",
       "\n",
       "    function showError(err) {\n",
       "      outputDiv.innerHTML = `<div class=\"error\" style=\"color:red;\">${err}</div>`;\n",
       "      throw err;\n",
       "    }\n",
       "\n",
       "    function displayChart(vegaEmbed) {\n",
       "      vegaEmbed(outputDiv, spec, embedOpt)\n",
       "        .catch(err => showError(`Javascript Error: ${err.message}<br>This usually means there's a typo in your chart specification. See the javascript console for the full traceback.`));\n",
       "    }\n",
       "\n",
       "    if(typeof define === \"function\" && define.amd) {\n",
       "      requirejs.config({paths});\n",
       "      require([\"vega-embed\"], displayChart, err => showError(`Error loading script: ${err.message}`));\n",
       "    } else {\n",
       "      maybeLoadScript(\"vega\", \"5\")\n",
       "        .then(() => maybeLoadScript(\"vega-lite\", \"5.16.3\"))\n",
       "        .then(() => maybeLoadScript(\"vega-embed\", \"6\"))\n",
       "        .catch(showError)\n",
       "        .then(() => displayChart(vegaEmbed));\n",
       "    }\n",
       "  })({\"config\": {\"view\": {\"continuousWidth\": 300, \"continuousHeight\": 300}}, \"data\": {\"name\": \"data-2b1b5b7b1dd03854d5fca192a593635c\"}, \"mark\": {\"type\": \"line\"}, \"encoding\": {\"x\": {\"field\": \"year\", \"title\": \"Year\", \"type\": \"quantitative\"}, \"y\": {\"field\": \"temperature_change_from_co2\", \"title\": \"Temperature Change\", \"type\": \"quantitative\"}}, \"height\": 400, \"title\": \"Global temperature change over time\", \"width\": 800, \"$schema\": \"https://vega.github.io/schema/vega-lite/v5.16.3.json\", \"datasets\": {\"data-2b1b5b7b1dd03854d5fca192a593635c\": [{\"year\": 1750, \"co2\": 55.836, \"temperature_change_from_co2\": null}, {\"year\": 1751, \"co2\": 56.442, \"temperature_change_from_co2\": null}, {\"year\": 1752, \"co2\": 57.03, \"temperature_change_from_co2\": null}, {\"year\": 1753, \"co2\": 57.66, \"temperature_change_from_co2\": null}, {\"year\": 1754, \"co2\": 58.403999999999996, \"temperature_change_from_co2\": null}, {\"year\": 1755, \"co2\": 58.757999999999996, \"temperature_change_from_co2\": null}, {\"year\": 1756, \"co2\": 59.46, \"temperature_change_from_co2\": null}, {\"year\": 1757, \"co2\": 60.56399999999999, \"temperature_change_from_co2\": null}, {\"year\": 1758, \"co2\": 61.29599999999999, \"temperature_change_from_co2\": null}, {\"year\": 1759, \"co2\": 62.034000000000006, \"temperature_change_from_co2\": null}, {\"year\": 1760, \"co2\": 63.083999999999996, \"temperature_change_from_co2\": null}, {\"year\": 1761, \"co2\": 64.488, \"temperature_change_from_co2\": null}, {\"year\": 1762, \"co2\": 65.712, \"temperature_change_from_co2\": null}, {\"year\": 1763, \"co2\": 67.152, \"temperature_change_from_co2\": null}, {\"year\": 1764, \"co2\": 68.382, \"temperature_change_from_co2\": null}, {\"year\": 1765, \"co2\": 69.858, \"temperature_change_from_co2\": null}, {\"year\": 1766, \"co2\": 71.256, \"temperature_change_from_co2\": null}, {\"year\": 1767, \"co2\": 72.918, \"temperature_change_from_co2\": null}, {\"year\": 1768, \"co2\": 74.802, \"temperature_change_from_co2\": null}, {\"year\": 1769, \"co2\": 76.67999999999999, \"temperature_change_from_co2\": null}, {\"year\": 1770, \"co2\": 78.582, \"temperature_change_from_co2\": null}, {\"year\": 1771, \"co2\": 80.214, \"temperature_change_from_co2\": null}, {\"year\": 1772, \"co2\": 81.744, \"temperature_change_from_co2\": null}, {\"year\": 1773, \"co2\": 82.848, \"temperature_change_from_co2\": null}, {\"year\": 1774, \"co2\": 84.072, \"temperature_change_from_co2\": null}, {\"year\": 1775, \"co2\": 86.034, \"temperature_change_from_co2\": null}, {\"year\": 1776, \"co2\": 87.924, \"temperature_change_from_co2\": null}, {\"year\": 1777, \"co2\": 89.76, \"temperature_change_from_co2\": null}, {\"year\": 1778, \"co2\": 91.458, \"temperature_change_from_co2\": null}, {\"year\": 1779, \"co2\": 93.21000000000001, \"temperature_change_from_co2\": null}, {\"year\": 1780, \"co2\": 95.274, \"temperature_change_from_co2\": null}, {\"year\": 1781, \"co2\": 97.40400000000001, \"temperature_change_from_co2\": null}, {\"year\": 1782, \"co2\": 99.48599999999999, \"temperature_change_from_co2\": null}, {\"year\": 1783, \"co2\": 102.37799999999999, \"temperature_change_from_co2\": null}, {\"year\": 1784, \"co2\": 104.826, \"temperature_change_from_co2\": null}, {\"year\": 1785, \"co2\": 107.786, \"temperature_change_from_co2\": null}, {\"year\": 1786, \"co2\": 110.68199999999999, \"temperature_change_from_co2\": null}, {\"year\": 1787, \"co2\": 113.15, \"temperature_change_from_co2\": null}, {\"year\": 1788, \"co2\": 115.71600000000001, \"temperature_change_from_co2\": null}, {\"year\": 1789, \"co2\": 119.178, \"temperature_change_from_co2\": null}, {\"year\": 1790, \"co2\": 122.38399999999999, \"temperature_change_from_co2\": null}, {\"year\": 1791, \"co2\": 125.588, \"temperature_change_from_co2\": null}, {\"year\": 1792, \"co2\": 131.574, \"temperature_change_from_co2\": null}, {\"year\": 1793, \"co2\": 133.782, \"temperature_change_from_co2\": null}, {\"year\": 1794, \"co2\": 135.11599999999999, \"temperature_change_from_co2\": null}, {\"year\": 1795, \"co2\": 133.89, \"temperature_change_from_co2\": null}, {\"year\": 1796, \"co2\": 132.726, \"temperature_change_from_co2\": null}, {\"year\": 1797, \"co2\": 132.538, \"temperature_change_from_co2\": null}, {\"year\": 1798, \"co2\": 138.632, \"temperature_change_from_co2\": null}, {\"year\": 1799, \"co2\": 164.91, \"temperature_change_from_co2\": null}, {\"year\": 1800, \"co2\": 196.281, \"temperature_change_from_co2\": null}, {\"year\": 1801, \"co2\": 191.378, \"temperature_change_from_co2\": null}, {\"year\": 1802, \"co2\": 241.27800000000002, \"temperature_change_from_co2\": null}, {\"year\": 1803, \"co2\": 176.635, \"temperature_change_from_co2\": null}, {\"year\": 1804, \"co2\": 189.944, \"temperature_change_from_co2\": null}, {\"year\": 1805, \"co2\": 186.826, \"temperature_change_from_co2\": null}, {\"year\": 1806, \"co2\": 195.558, \"temperature_change_from_co2\": null}, {\"year\": 1807, \"co2\": 216.44600000000003, \"temperature_change_from_co2\": null}, {\"year\": 1808, \"co2\": 212.2, \"temperature_change_from_co2\": null}, {\"year\": 1809, \"co2\": 217.193, \"temperature_change_from_co2\": null}, {\"year\": 1810, \"co2\": 236.112, \"temperature_change_from_co2\": null}, {\"year\": 1811, \"co2\": 240.16, \"temperature_change_from_co2\": null}, {\"year\": 1812, \"co2\": 243.913, \"temperature_change_from_co2\": null}, {\"year\": 1813, \"co2\": 246.187, \"temperature_change_from_co2\": null}, {\"year\": 1814, \"co2\": 252.22899999999998, \"temperature_change_from_co2\": null}, {\"year\": 1815, \"co2\": 260.31399999999996, \"temperature_change_from_co2\": null}, {\"year\": 1816, \"co2\": 271.644, \"temperature_change_from_co2\": null}, {\"year\": 1817, \"co2\": 294.212, \"temperature_change_from_co2\": null}, {\"year\": 1818, \"co2\": 306.784, \"temperature_change_from_co2\": null}, {\"year\": 1819, \"co2\": 304.046, \"temperature_change_from_co2\": null}, {\"year\": 1820, \"co2\": 302.799, \"temperature_change_from_co2\": null}, {\"year\": 1821, \"co2\": 310.688, \"temperature_change_from_co2\": null}, {\"year\": 1822, \"co2\": 322.389, \"temperature_change_from_co2\": null}, {\"year\": 1823, \"co2\": 336.331, \"temperature_change_from_co2\": null}, {\"year\": 1824, \"co2\": 343.461, \"temperature_change_from_co2\": null}, {\"year\": 1825, \"co2\": 362.105, \"temperature_change_from_co2\": null}, {\"year\": 1826, \"co2\": 365.646, \"temperature_change_from_co2\": null}, {\"year\": 1827, \"co2\": 391.524, \"temperature_change_from_co2\": null}, {\"year\": 1828, \"co2\": 396.892, \"temperature_change_from_co2\": null}, {\"year\": 1829, \"co2\": 394.236, \"temperature_change_from_co2\": null}, {\"year\": 1830, \"co2\": 529.734, \"temperature_change_from_co2\": null}, {\"year\": 1831, \"co2\": 494.966, \"temperature_change_from_co2\": null}, {\"year\": 1832, \"co2\": 486.475, \"temperature_change_from_co2\": null}, {\"year\": 1833, \"co2\": 492.407, \"temperature_change_from_co2\": null}, {\"year\": 1834, \"co2\": 525.7850000000001, \"temperature_change_from_co2\": null}, {\"year\": 1835, \"co2\": 575.724, \"temperature_change_from_co2\": null}, {\"year\": 1836, \"co2\": 631.863, \"temperature_change_from_co2\": null}, {\"year\": 1837, \"co2\": 626.531, \"temperature_change_from_co2\": null}, {\"year\": 1838, \"co2\": 624.954, \"temperature_change_from_co2\": null}, {\"year\": 1839, \"co2\": 646.811, \"temperature_change_from_co2\": null}, {\"year\": 1840, \"co2\": 701.009, \"temperature_change_from_co2\": null}, {\"year\": 1841, \"co2\": 720.454, \"temperature_change_from_co2\": null}, {\"year\": 1842, \"co2\": 762.369, \"temperature_change_from_co2\": null}, {\"year\": 1843, \"co2\": 778.606, \"temperature_change_from_co2\": null}, {\"year\": 1844, \"co2\": 832.967, \"temperature_change_from_co2\": null}, {\"year\": 1845, \"co2\": 907.74, \"temperature_change_from_co2\": null}, {\"year\": 1846, \"co2\": 920.369, \"temperature_change_from_co2\": null}, {\"year\": 1847, \"co2\": 994.1460000000001, \"temperature_change_from_co2\": null}, {\"year\": 1848, \"co2\": 1007.726, \"temperature_change_from_co2\": null}, {\"year\": 1849, \"co2\": 1072.9499999999998, \"temperature_change_from_co2\": null}, {\"year\": 1850, \"co2\": 1534.134, \"temperature_change_from_co2\": null}, {\"year\": 1851, \"co2\": 1539.795, \"temperature_change_from_co2\": 1.2295081967213116e-05}, {\"year\": 1852, \"co2\": 1605.433, \"temperature_change_from_co2\": 3.6885245901639346e-05}, {\"year\": 1853, \"co2\": 1676.23, \"temperature_change_from_co2\": 7.377049180327869e-05}, {\"year\": 1854, \"co2\": 1973.4569999999999, \"temperature_change_from_co2\": 8.606557377049181e-05}, {\"year\": 1855, \"co2\": 2003.894, \"temperature_change_from_co2\": 0.00011885245901639345}, {\"year\": 1856, \"co2\": 2137.52, \"temperature_change_from_co2\": 0.00014754098360655738}, {\"year\": 1857, \"co2\": 2156.465, \"temperature_change_from_co2\": 0.0001762295081967213}, {\"year\": 1858, \"co2\": 2188.713, \"temperature_change_from_co2\": 0.00020081967213114754}, {\"year\": 1859, \"co2\": 2318.591, \"temperature_change_from_co2\": 0.00024180327868852458}, {\"year\": 1860, \"co2\": 2549.871, \"temperature_change_from_co2\": 0.00026639344262295085}, {\"year\": 1861, \"co2\": 2688.246, \"temperature_change_from_co2\": 0.00029098360655737705}, {\"year\": 1862, \"co2\": 2737.679, \"temperature_change_from_co2\": 0.00031147540983606555}, {\"year\": 1863, \"co2\": 2912.349, \"temperature_change_from_co2\": 0.0003401639344262295}, {\"year\": 1864, \"co2\": 3140.5769999999998, \"temperature_change_from_co2\": 0.000360655737704918}, {\"year\": 1865, \"co2\": 3340.87, \"temperature_change_from_co2\": 0.0003975409836065574}, {\"year\": 1866, \"co2\": 3448.314, \"temperature_change_from_co2\": 0.0004139344262295082}, {\"year\": 1867, \"co2\": 3674.843, \"temperature_change_from_co2\": 0.0004426229508196721}, {\"year\": 1868, \"co2\": 3763.175, \"temperature_change_from_co2\": 0.00047950819672131146}, {\"year\": 1869, \"co2\": 3983.881, \"temperature_change_from_co2\": 0.0005081967213114754}, {\"year\": 1870, \"co2\": 4064.761, \"temperature_change_from_co2\": 0.0005491803278688525}, {\"year\": 1871, \"co2\": 4323.53, \"temperature_change_from_co2\": 0.0005778688524590164}, {\"year\": 1872, \"co2\": 4759.708, \"temperature_change_from_co2\": 0.000610655737704918}, {\"year\": 1873, \"co2\": 5046.432, \"temperature_change_from_co2\": 0.0006393442622950819}, {\"year\": 1874, \"co2\": 4717.759, \"temperature_change_from_co2\": 0.0006762295081967213}, {\"year\": 1875, \"co2\": 5136.555, \"temperature_change_from_co2\": 0.000721311475409836}, {\"year\": 1876, \"co2\": 5219.619, \"temperature_change_from_co2\": 0.0007622950819672131}, {\"year\": 1877, \"co2\": 5299.226, \"temperature_change_from_co2\": 0.0007827868852459017}, {\"year\": 1878, \"co2\": 5344.991, \"temperature_change_from_co2\": 0.0008278688524590164}, {\"year\": 1879, \"co2\": 5681.28, \"temperature_change_from_co2\": 0.0008606557377049181}, {\"year\": 1880, \"co2\": 6414.506, \"temperature_change_from_co2\": 0.0009016393442622951}, {\"year\": 1881, \"co2\": 6626.9039999999995, \"temperature_change_from_co2\": 0.0009508196721311475}, {\"year\": 1882, \"co2\": 6971.845, \"temperature_change_from_co2\": 0.0009877049180327868}, {\"year\": 1883, \"co2\": 7406.641, \"temperature_change_from_co2\": 0.0010327868852459017}, {\"year\": 1884, \"co2\": 7467.145, \"temperature_change_from_co2\": 0.001069672131147541}, {\"year\": 1885, \"co2\": 7517.452, \"temperature_change_from_co2\": 0.001110655737704918}, {\"year\": 1886, \"co2\": 7611.598, \"temperature_change_from_co2\": 0.0011475409836065576}, {\"year\": 1887, \"co2\": 7976.66, \"temperature_change_from_co2\": 0.0011885245901639345}, {\"year\": 1888, \"co2\": 8762.733, \"temperature_change_from_co2\": 0.0012418032786885246}, {\"year\": 1889, \"co2\": 8837.896, \"temperature_change_from_co2\": 0.0012991803278688526}, {\"year\": 1890, \"co2\": 9550.371000000001, \"temperature_change_from_co2\": 0.0013401639344262297}, {\"year\": 1891, \"co2\": 9983.402, \"temperature_change_from_co2\": 0.0013934426229508196}, {\"year\": 1892, \"co2\": 10020.497, \"temperature_change_from_co2\": 0.0014385245901639343}, {\"year\": 1893, \"co2\": 9872.855, \"temperature_change_from_co2\": 0.0015}, {\"year\": 1894, \"co2\": 10305.777, \"temperature_change_from_co2\": 0.0015368852459016393}, {\"year\": 1895, \"co2\": 10863.121, \"temperature_change_from_co2\": 0.001569672131147541}, {\"year\": 1896, \"co2\": 11246.152, \"temperature_change_from_co2\": 0.0016311475409836065}, {\"year\": 1897, \"co2\": 11784.416000000001, \"temperature_change_from_co2\": 0.001680327868852459}, {\"year\": 1898, \"co2\": 12385.108, \"temperature_change_from_co2\": 0.0017459016393442622}, {\"year\": 1899, \"co2\": 13469.768, \"temperature_change_from_co2\": 0.0018155737704918034}, {\"year\": 1900, \"co2\": 14178.438, \"temperature_change_from_co2\": 0.0018647540983606555}, {\"year\": 1901, \"co2\": 14553.226999999999, \"temperature_change_from_co2\": 0.0019262295081967213}, {\"year\": 1902, \"co2\": 14863.208, \"temperature_change_from_co2\": 0.0020081967213114752}, {\"year\": 1903, \"co2\": 16084.68, \"temperature_change_from_co2\": 0.0020655737704918034}, {\"year\": 1904, \"co2\": 16295.482, \"temperature_change_from_co2\": 0.0021352459016393444}, {\"year\": 1905, \"co2\": 17258.426, \"temperature_change_from_co2\": 0.0022049180327868853}, {\"year\": 1906, \"co2\": 17993.256, \"temperature_change_from_co2\": 0.0022786885245901643}, {\"year\": 1907, \"co2\": 20420.331000000002, \"temperature_change_from_co2\": 0.002360655737704918}, {\"year\": 1908, \"co2\": 19802.635, \"temperature_change_from_co2\": 0.0024180327868852463}, {\"year\": 1909, \"co2\": 20490.576, \"temperature_change_from_co2\": 0.0024959016393442625}, {\"year\": 1910, \"co2\": 21399.904, \"temperature_change_from_co2\": 0.0025655737704918034}, {\"year\": 1911, \"co2\": 21762.397, \"temperature_change_from_co2\": 0.0026352459016393444}, {\"year\": 1912, \"co2\": 22831.13, \"temperature_change_from_co2\": 0.0027172131147540986}, {\"year\": 1913, \"co2\": 24745.324, \"temperature_change_from_co2\": 0.002786885245901639}, {\"year\": 1914, \"co2\": 22393.29, \"temperature_change_from_co2\": 0.002864754098360656}, {\"year\": 1915, \"co2\": 21948.668999999998, \"temperature_change_from_co2\": 0.002926229508196721}, {\"year\": 1916, \"co2\": 23617.786, \"temperature_change_from_co2\": 0.003}, {\"year\": 1917, \"co2\": 24516.22, \"temperature_change_from_co2\": 0.0030819672131147543}, {\"year\": 1918, \"co2\": 23961.5, \"temperature_change_from_co2\": 0.0031803278688524593}, {\"year\": 1919, \"co2\": 20762.063000000002, \"temperature_change_from_co2\": 0.003237704918032787}, {\"year\": 1920, \"co2\": 24137.759000000002, \"temperature_change_from_co2\": 0.0033196721311475413}, {\"year\": 1921, \"co2\": 21314.2, \"temperature_change_from_co2\": 0.003385245901639344}, {\"year\": 1922, \"co2\": 22497.874, \"temperature_change_from_co2\": 0.0034631147540983604}, {\"year\": 1923, \"co2\": 25009.823, \"temperature_change_from_co2\": 0.00355327868852459}, {\"year\": 1924, \"co2\": 25477.167, \"temperature_change_from_co2\": 0.003614754098360656}, {\"year\": 1925, \"co2\": 25679.562, \"temperature_change_from_co2\": 0.0036967213114754097}, {\"year\": 1926, \"co2\": 24850.364, \"temperature_change_from_co2\": 0.0037745901639344263}, {\"year\": 1927, \"co2\": 27592.954, \"temperature_change_from_co2\": 0.0038647540983606553}, {\"year\": 1928, \"co2\": 27509.664, \"temperature_change_from_co2\": 0.003954918032786885}, {\"year\": 1929, \"co2\": 29561.214, \"temperature_change_from_co2\": 0.004057377049180328}, {\"year\": 1930, \"co2\": 27361.092, \"temperature_change_from_co2\": 0.00412704918032787}, {\"year\": 1931, \"co2\": 24588.579999999998, \"temperature_change_from_co2\": 0.004217213114754098}, {\"year\": 1932, \"co2\": 22281.042, \"temperature_change_from_co2\": 0.004290983606557377}, {\"year\": 1933, \"co2\": 23399.914, \"temperature_change_from_co2\": 0.004360655737704919}, {\"year\": 1934, \"co2\": 25483.961, \"temperature_change_from_co2\": 0.004442622950819672}, {\"year\": 1935, \"co2\": 26754.321, \"temperature_change_from_co2\": 0.004524590163934427}, {\"year\": 1936, \"co2\": 29231.678, \"temperature_change_from_co2\": 0.004614754098360655}, {\"year\": 1937, \"co2\": 31317.894, \"temperature_change_from_co2\": 0.004692622950819673}, {\"year\": 1938, \"co2\": 29739.049, \"temperature_change_from_co2\": 0.004786885245901639}, {\"year\": 1939, \"co2\": 31322.369000000002, \"temperature_change_from_co2\": 0.004889344262295082}, {\"year\": 1940, \"co2\": 34099.706, \"temperature_change_from_co2\": 0.004987704918032787}, {\"year\": 1941, \"co2\": 34579.203, \"temperature_change_from_co2\": 0.005094262295081968}, {\"year\": 1942, \"co2\": 34180.663, \"temperature_change_from_co2\": 0.005192622950819672}, {\"year\": 1943, \"co2\": 34712.577, \"temperature_change_from_co2\": 0.005278688524590164}, {\"year\": 1944, \"co2\": 34952.905, \"temperature_change_from_co2\": 0.00539344262295082}, {\"year\": 1945, \"co2\": 28399.422, \"temperature_change_from_co2\": 0.005463114754098361}, {\"year\": 1946, \"co2\": 31599.399, \"temperature_change_from_co2\": 0.005565573770491803}, {\"year\": 1947, \"co2\": 35167.729, \"temperature_change_from_co2\": 0.005676229508196721}, {\"year\": 1948, \"co2\": 37163.63, \"temperature_change_from_co2\": 0.005745901639344262}, {\"year\": 1949, \"co2\": 36025.832, \"temperature_change_from_co2\": 0.00585655737704918}, {\"year\": 1950, \"co2\": 40292.509, \"temperature_change_from_co2\": 0.005954918032786885}, {\"year\": 1951, \"co2\": 43446.356, \"temperature_change_from_co2\": 0.006081967213114754}, {\"year\": 1952, \"co2\": 44133.58, \"temperature_change_from_co2\": 0.00619672131147541}, {\"year\": 1953, \"co2\": 45395.843, \"temperature_change_from_co2\": 0.006315573770491803}, {\"year\": 1954, \"co2\": 46613.039, \"temperature_change_from_co2\": 0.006438524590163934}, {\"year\": 1955, \"co2\": 51024.616, \"temperature_change_from_co2\": 0.0065819672131147535}, {\"year\": 1956, \"co2\": 54356.421, \"temperature_change_from_co2\": 0.0067254098360655734}, {\"year\": 1957, \"co2\": 56167.925, \"temperature_change_from_co2\": 0.006864754098360656}, {\"year\": 1958, \"co2\": 57726.636, \"temperature_change_from_co2\": 0.007024590163934426}, {\"year\": 1959, \"co2\": 60534.277, \"temperature_change_from_co2\": 0.007172131147540984}, {\"year\": 1960, \"co2\": 64213.592, \"temperature_change_from_co2\": 0.007327868852459016}, {\"year\": 1961, \"co2\": 64650.174, \"temperature_change_from_co2\": 0.007475409836065574}, {\"year\": 1962, \"co2\": 67124.201, \"temperature_change_from_co2\": 0.00762295081967213}, {\"year\": 1963, \"co2\": 70809.194, \"temperature_change_from_co2\": 0.007782786885245902}, {\"year\": 1964, \"co2\": 74628.806, \"temperature_change_from_co2\": 0.007934426229508197}, {\"year\": 1965, \"co2\": 77892.566, \"temperature_change_from_co2\": 0.00810655737704918}, {\"year\": 1966, \"co2\": 81547.025, \"temperature_change_from_co2\": 0.00826639344262295}, {\"year\": 1967, \"co2\": 84078.06999999999, \"temperature_change_from_co2\": 0.008426229508196721}, {\"year\": 1968, \"co2\": 88658.221, \"temperature_change_from_co2\": 0.008577868852459015}, {\"year\": 1969, \"co2\": 94499.758, \"temperature_change_from_co2\": 0.008762295081967212}, {\"year\": 1970, \"co2\": 102053.726, \"temperature_change_from_co2\": 0.008967213114754099}, {\"year\": 1971, \"co2\": 106208.91, \"temperature_change_from_co2\": 0.00917622950819672}, {\"year\": 1972, \"co2\": 110993.887, \"temperature_change_from_co2\": 0.009401639344262296}, {\"year\": 1973, \"co2\": 116828.09, \"temperature_change_from_co2\": 0.009610655737704917}, {\"year\": 1974, \"co2\": 116620.367, \"temperature_change_from_co2\": 0.009799180327868853}, {\"year\": 1975, \"co2\": 117119.698, \"temperature_change_from_co2\": 0.010012295081967213}, {\"year\": 1976, \"co2\": 123723.806, \"temperature_change_from_co2\": 0.010254098360655738}, {\"year\": 1977, \"co2\": 126982.436, \"temperature_change_from_co2\": 0.010479508196721311}, {\"year\": 1978, \"co2\": 130895.742, \"temperature_change_from_co2\": 0.010709016393442622}, {\"year\": 1979, \"co2\": 134658.444, \"temperature_change_from_co2\": 0.010942622950819672}, {\"year\": 1980, \"co2\": 134028.40899999999, \"temperature_change_from_co2\": 0.011172131147540983}, {\"year\": 1981, \"co2\": 130774.158, \"temperature_change_from_co2\": 0.011385245901639345}, {\"year\": 1982, \"co2\": 129917.156, \"temperature_change_from_co2\": 0.01162295081967213}, {\"year\": 1983, \"co2\": 130738.059, \"temperature_change_from_co2\": 0.011864754098360656}, {\"year\": 1984, \"co2\": 134909.059, \"temperature_change_from_co2\": 0.012122950819672131}, {\"year\": 1985, \"co2\": 139622.059, \"temperature_change_from_co2\": 0.012344262295081967}, {\"year\": 1986, \"co2\": 141422.505, \"temperature_change_from_co2\": 0.012627049180327869}, {\"year\": 1987, \"co2\": 144860.551, \"temperature_change_from_co2\": 0.012856557377049181}, {\"year\": 1988, \"co2\": 150134.679, \"temperature_change_from_co2\": 0.013122950819672132}, {\"year\": 1989, \"co2\": 151956.29, \"temperature_change_from_co2\": 0.013389344262295082}, {\"year\": 1990, \"co2\": 154811.928, \"temperature_change_from_co2\": 0.013651639344262294}, {\"year\": 1991, \"co2\": 157735.428, \"temperature_change_from_co2\": 0.013913934426229508}, {\"year\": 1992, \"co2\": 152130.361, \"temperature_change_from_co2\": 0.014168032786885245}, {\"year\": 1993, \"co2\": 153050.72699999998, \"temperature_change_from_co2\": 0.014422131147540984}, {\"year\": 1994, \"co2\": 153807.582, \"temperature_change_from_co2\": 0.014676229508196722}, {\"year\": 1995, \"co2\": 156583.345, \"temperature_change_from_co2\": 0.014987704918032786}, {\"year\": 1996, \"co2\": 160990.209, \"temperature_change_from_co2\": 0.015258196721311474}, {\"year\": 1997, \"co2\": 161436.816, \"temperature_change_from_co2\": 0.01553688524590164}, {\"year\": 1998, \"co2\": 160737.446, \"temperature_change_from_co2\": 0.01581967213114754}, {\"year\": 1999, \"co2\": 163714.99599999998, \"temperature_change_from_co2\": 0.016094262295081967}, {\"year\": 2000, \"co2\": 167972.61800000002, \"temperature_change_from_co2\": 0.01640983606557377}, {\"year\": 2001, \"co2\": 169372.638, \"temperature_change_from_co2\": 0.016688524590163935}, {\"year\": 2002, \"co2\": 172799.902, \"temperature_change_from_co2\": 0.016954918032786887}, {\"year\": 2003, \"co2\": 181647.4, \"temperature_change_from_co2\": 0.0172827868852459}, {\"year\": 2004, \"co2\": 187467.37, \"temperature_change_from_co2\": 0.017614754098360656}, {\"year\": 2005, \"co2\": 193289.337, \"temperature_change_from_co2\": 0.01792622950819672}, {\"year\": 2006, \"co2\": 199521.243, \"temperature_change_from_co2\": 0.01826639344262295}, {\"year\": 2007, \"co2\": 204710.394, \"temperature_change_from_co2\": 0.01857377049180328}, {\"year\": 2008, \"co2\": 207879.92299999998, \"temperature_change_from_co2\": 0.01890983606557377}, {\"year\": 2009, \"co2\": 203698.61, \"temperature_change_from_co2\": 0.019241803278688525}, {\"year\": 2010, \"co2\": 215151.809, \"temperature_change_from_co2\": 0.019594262295081967}, {\"year\": 2011, \"co2\": 221924.561, \"temperature_change_from_co2\": 0.019922131147540982}, {\"year\": 2012, \"co2\": 225160.414, \"temperature_change_from_co2\": 0.0202827868852459}, {\"year\": 2013, \"co2\": 226555.346, \"temperature_change_from_co2\": 0.02062704918032787}, {\"year\": 2014, \"co2\": 227582.19999999998, \"temperature_change_from_co2\": 0.02098360655737705}, {\"year\": 2015, \"co2\": 227612.884, \"temperature_change_from_co2\": 0.021348360655737704}, {\"year\": 2016, \"co2\": 227618.087, \"temperature_change_from_co2\": 0.021717213114754098}, {\"year\": 2017, \"co2\": 231066.766, \"temperature_change_from_co2\": 0.022061475409836065}, {\"year\": 2018, \"co2\": 235455.96, \"temperature_change_from_co2\": 0.02244672131147541}, {\"year\": 2019, \"co2\": 236804.78, \"temperature_change_from_co2\": 0.022799180327868852}, {\"year\": 2020, \"co2\": 224973.704, \"temperature_change_from_co2\": 0.02313934426229508}, {\"year\": 2021, \"co2\": 236484.697, \"temperature_change_from_co2\": 0.023520491803278688}, {\"year\": 2022, \"co2\": 237679.814, \"temperature_change_from_co2\": null}]}}, {\"mode\": \"vega-lite\"});\n",
       "</script>"
      ],
      "text/plain": [
       "alt.Chart(...)"
      ]
     },
     "execution_count": 5,
     "metadata": {},
     "output_type": "execute_result"
    }
   ],
   "source": [
    "alt.Chart(df_year).mark_line().encode(\n",
    "    x=alt.X(\"year\", title=\"Year\"),\n",
    "    y=alt.Y(\"temperature_change_from_co2\", title=\"Temperature Change\"),\n",
    ").properties(title=\"Global temperature change over time\", width=800, height=400)"
   ]
  },
  {
   "cell_type": "code",
   "execution_count": 6,
   "metadata": {},
   "outputs": [
    {
     "data": {
      "text/plain": [
       "273"
      ]
     },
     "execution_count": 6,
     "metadata": {},
     "output_type": "execute_result"
    }
   ],
   "source": [
    "df_year.shape[0]"
   ]
  },
  {
   "cell_type": "code",
   "execution_count": 15,
   "metadata": {},
   "outputs": [
    {
     "data": {
      "application/vnd.plotly.v1+json": {
       "config": {
        "plotlyServerURL": "https://plot.ly"
       },
       "data": [
        {
         "hovertemplate": "year=%{x}<br>co2=%{y}<extra></extra>",
         "legendgroup": "",
         "line": {
          "dash": "solid"
         },
         "marker": {
          "symbol": "circle"
         },
         "mode": "lines",
         "name": "",
         "showlegend": false,
         "type": "scattergl",
         "x": [
          1851,
          1852,
          1853,
          1854,
          1855,
          1856,
          1857,
          1858,
          1859,
          1860,
          1861,
          1862,
          1863,
          1864,
          1865,
          1866,
          1867,
          1868,
          1869,
          1870,
          1871,
          1872,
          1873,
          1874,
          1875,
          1876,
          1877,
          1878,
          1879,
          1880,
          1881,
          1882,
          1883,
          1884,
          1885,
          1886,
          1887,
          1888,
          1889,
          1890,
          1891,
          1892,
          1893,
          1894,
          1895,
          1896,
          1897,
          1898,
          1899,
          1900,
          1901,
          1902,
          1903,
          1904,
          1905,
          1906,
          1907,
          1908,
          1909,
          1910,
          1911,
          1912,
          1913,
          1914,
          1915,
          1916,
          1917,
          1918,
          1919,
          1920,
          1921,
          1922,
          1923,
          1924,
          1925,
          1926,
          1927,
          1928,
          1929,
          1930,
          1931,
          1932,
          1933,
          1934,
          1935,
          1936,
          1937,
          1938,
          1939,
          1940,
          1941,
          1942,
          1943,
          1944,
          1945,
          1946,
          1947,
          1948,
          1949,
          1950,
          1951,
          1952,
          1953,
          1954,
          1955,
          1956,
          1957,
          1958,
          1959,
          1960,
          1961,
          1962,
          1963,
          1964,
          1965,
          1966,
          1967,
          1968,
          1969,
          1970,
          1971,
          1972,
          1973,
          1974,
          1975,
          1976,
          1977,
          1978,
          1979,
          1980,
          1981,
          1982,
          1983,
          1984,
          1985,
          1986,
          1987,
          1988,
          1989,
          1990,
          1991,
          1992,
          1993,
          1994,
          1995,
          1996,
          1997,
          1998,
          1999,
          2000,
          2001,
          2002,
          2003,
          2004,
          2005,
          2006,
          2007,
          2008,
          2009,
          2010,
          2011,
          2012,
          2013,
          2014,
          2015,
          2016,
          2017,
          2018,
          2019,
          2020,
          2021
         ],
         "xaxis": "x",
         "y": [
          198.668,
          207.414,
          217.12,
          255.033,
          260.104,
          277.296,
          279.932,
          284.225,
          301.481,
          330.963,
          347.786,
          354.489,
          378.18,
          407.726,
          432.859,
          446.554,
          478.161,
          491.552,
          521.954,
          533.338,
          566.891,
          627.301,
          666.481,
          624.232,
          677.114,
          686.78,
          700.404,
          705.974,
          755.99,
          853.916,
          883.544,
          933.36,
          992.754,
          1004.134,
          1011.637,
          1027.417,
          1078.747,
          1194.353,
          1194.624,
          1300.362,
          1361.75,
          1372.396,
          1355.477,
          1403.019,
          1487.432,
          1536.366,
          1609.232,
          1697.166,
          1853.709,
          1952.209,
          2016.744,
          2067.684,
          2254.1,
          2279.747,
          2427.318,
          2534.733,
          2888.318,
          2776.441,
          2890.495,
          3034.09,
          3079.502,
          3235.964,
          3506.276,
          3180.355,
          3134.854,
          3385.858,
          3540.427,
          3493.264,
          3029.007,
          3521.427,
          3090.097,
          3240.314,
          3676.233,
          3687.22,
          3727.034,
          3661.03,
          3996.129,
          3978.763,
          4270.908,
          3938.598,
          3519.903,
          3173.476,
          3341.518,
          3634.242,
          3814.798,
          4185.514,
          4474.233,
          4206.901,
          4451.247,
          4861.346,
          4970.814,
          4959.586,
          5041.694,
          5117.909,
          4257.136,
          4646.124,
          5145.782,
          5424.953,
          5181.006,
          5929.342,
          6381.406,
          6467.437,
          6650.861,
          6789.498,
          7443.861,
          7925.98,
          8185.614,
          8417.16,
          8854.662,
          9386.421,
          9414.383,
          9746.556,
          10266.047,
          10823.618,
          11309.689,
          11861.708,
          12236.328,
          12904.336,
          13760.84,
          14898.156,
          15502.786,
          16223.439,
          17083.5,
          17009.383,
          17049.979,
          17985.242,
          18494.652,
          19063.955,
          19603.002,
          19482.441,
          19016.949,
          18865.373,
          18985.9,
          19641.729,
          20305.131,
          20607.514,
          21245.783,
          22077.385,
          22378.969,
          22752.701,
          23229.475,
          22567.199,
          22798.35,
          23034.775,
          23524.49,
          24250.16,
          24395.951,
          24330.945,
          24833.494,
          25501.287,
          25674.93,
          26248.289,
          27648.648,
          28620.193,
          29592.104,
          30605.766,
          31499.734,
          32041.902,
          31493.266,
          33306.328,
          34436.469,
          34935.453,
          35232.469,
          35466.195,
          35463.215,
          35460.027,
          36025.453,
          36766.945,
          37040.102,
          35007.738,
          36816.543
         ],
         "yaxis": "y"
        },
        {
         "hovertemplate": "year=%{x}<br>temperature_change_from_co2=%{y}<extra></extra>",
         "legendgroup": "",
         "line": {
          "dash": "solid"
         },
         "marker": {
          "symbol": "circle"
         },
         "mode": "lines",
         "name": "",
         "showlegend": false,
         "type": "scattergl",
         "x": [
          1851,
          1852,
          1853,
          1854,
          1855,
          1856,
          1857,
          1858,
          1859,
          1860,
          1861,
          1862,
          1863,
          1864,
          1865,
          1866,
          1867,
          1868,
          1869,
          1870,
          1871,
          1872,
          1873,
          1874,
          1875,
          1876,
          1877,
          1878,
          1879,
          1880,
          1881,
          1882,
          1883,
          1884,
          1885,
          1886,
          1887,
          1888,
          1889,
          1890,
          1891,
          1892,
          1893,
          1894,
          1895,
          1896,
          1897,
          1898,
          1899,
          1900,
          1901,
          1902,
          1903,
          1904,
          1905,
          1906,
          1907,
          1908,
          1909,
          1910,
          1911,
          1912,
          1913,
          1914,
          1915,
          1916,
          1917,
          1918,
          1919,
          1920,
          1921,
          1922,
          1923,
          1924,
          1925,
          1926,
          1927,
          1928,
          1929,
          1930,
          1931,
          1932,
          1933,
          1934,
          1935,
          1936,
          1937,
          1938,
          1939,
          1940,
          1941,
          1942,
          1943,
          1944,
          1945,
          1946,
          1947,
          1948,
          1949,
          1950,
          1951,
          1952,
          1953,
          1954,
          1955,
          1956,
          1957,
          1958,
          1959,
          1960,
          1961,
          1962,
          1963,
          1964,
          1965,
          1966,
          1967,
          1968,
          1969,
          1970,
          1971,
          1972,
          1973,
          1974,
          1975,
          1976,
          1977,
          1978,
          1979,
          1980,
          1981,
          1982,
          1983,
          1984,
          1985,
          1986,
          1987,
          1988,
          1989,
          1990,
          1991,
          1992,
          1993,
          1994,
          1995,
          1996,
          1997,
          1998,
          1999,
          2000,
          2001,
          2002,
          2003,
          2004,
          2005,
          2006,
          2007,
          2008,
          2009,
          2010,
          2011,
          2012,
          2013,
          2014,
          2015,
          2016,
          2017,
          2018,
          2019,
          2020,
          2021
         ],
         "xaxis": "x",
         "y": [
          0.001,
          0.002,
          0.004,
          0.005,
          0.006,
          0.008,
          0.009,
          0.01,
          0.012,
          0.013,
          0.014,
          0.016,
          0.017,
          0.018,
          0.02,
          0.021,
          0.022,
          0.023,
          0.025,
          0.026,
          0.028,
          0.029,
          0.031,
          0.032,
          0.034,
          0.035,
          0.037,
          0.039,
          0.041,
          0.042,
          0.044,
          0.046,
          0.048,
          0.05,
          0.052,
          0.054,
          0.056,
          0.058,
          0.06,
          0.062,
          0.064,
          0.066,
          0.068,
          0.071,
          0.073,
          0.076,
          0.078,
          0.08,
          0.083,
          0.086,
          0.088,
          0.091,
          0.094,
          0.097,
          0.1,
          0.103,
          0.106,
          0.109,
          0.113,
          0.116,
          0.119,
          0.123,
          0.126,
          0.13,
          0.133,
          0.136,
          0.14,
          0.143,
          0.146,
          0.15,
          0.153,
          0.157,
          0.16,
          0.164,
          0.168,
          0.171,
          0.175,
          0.179,
          0.183,
          0.187,
          0.19,
          0.194,
          0.198,
          0.201,
          0.205,
          0.209,
          0.213,
          0.217,
          0.222,
          0.226,
          0.231,
          0.235,
          0.24,
          0.244,
          0.249,
          0.253,
          0.258,
          0.262,
          0.267,
          0.272,
          0.278,
          0.283,
          0.289,
          0.294,
          0.301,
          0.307,
          0.314,
          0.32,
          0.328,
          0.335,
          0.342,
          0.349,
          0.356,
          0.363,
          0.371,
          0.378,
          0.386,
          0.394,
          0.402,
          0.411,
          0.42,
          0.43,
          0.439,
          0.449,
          0.459,
          0.469,
          0.479,
          0.489,
          0.5,
          0.511,
          0.521,
          0.532,
          0.542,
          0.554,
          0.565,
          0.577,
          0.588,
          0.601,
          0.613,
          0.625,
          0.638,
          0.65,
          0.663,
          0.676,
          0.689,
          0.702,
          0.716,
          0.729,
          0.743,
          0.757,
          0.77,
          0.784,
          0.799,
          0.815,
          0.83,
          0.846,
          0.862,
          0.879,
          0.895,
          0.913,
          0.93,
          0.948,
          0.966,
          0.985,
          1.003,
          1.021,
          1.039,
          1.058,
          1.076,
          1.094,
          1.113
         ],
         "yaxis": "y2"
        }
       ],
       "layout": {
        "template": {
         "data": {
          "bar": [
           {
            "error_x": {
             "color": "#2a3f5f"
            },
            "error_y": {
             "color": "#2a3f5f"
            },
            "marker": {
             "line": {
              "color": "#E5ECF6",
              "width": 0.5
             },
             "pattern": {
              "fillmode": "overlay",
              "size": 10,
              "solidity": 0.2
             }
            },
            "type": "bar"
           }
          ],
          "barpolar": [
           {
            "marker": {
             "line": {
              "color": "#E5ECF6",
              "width": 0.5
             },
             "pattern": {
              "fillmode": "overlay",
              "size": 10,
              "solidity": 0.2
             }
            },
            "type": "barpolar"
           }
          ],
          "carpet": [
           {
            "aaxis": {
             "endlinecolor": "#2a3f5f",
             "gridcolor": "white",
             "linecolor": "white",
             "minorgridcolor": "white",
             "startlinecolor": "#2a3f5f"
            },
            "baxis": {
             "endlinecolor": "#2a3f5f",
             "gridcolor": "white",
             "linecolor": "white",
             "minorgridcolor": "white",
             "startlinecolor": "#2a3f5f"
            },
            "type": "carpet"
           }
          ],
          "choropleth": [
           {
            "colorbar": {
             "outlinewidth": 0,
             "ticks": ""
            },
            "type": "choropleth"
           }
          ],
          "contour": [
           {
            "colorbar": {
             "outlinewidth": 0,
             "ticks": ""
            },
            "colorscale": [
             [
              0,
              "#0d0887"
             ],
             [
              0.1111111111111111,
              "#46039f"
             ],
             [
              0.2222222222222222,
              "#7201a8"
             ],
             [
              0.3333333333333333,
              "#9c179e"
             ],
             [
              0.4444444444444444,
              "#bd3786"
             ],
             [
              0.5555555555555556,
              "#d8576b"
             ],
             [
              0.6666666666666666,
              "#ed7953"
             ],
             [
              0.7777777777777778,
              "#fb9f3a"
             ],
             [
              0.8888888888888888,
              "#fdca26"
             ],
             [
              1,
              "#f0f921"
             ]
            ],
            "type": "contour"
           }
          ],
          "contourcarpet": [
           {
            "colorbar": {
             "outlinewidth": 0,
             "ticks": ""
            },
            "type": "contourcarpet"
           }
          ],
          "heatmap": [
           {
            "colorbar": {
             "outlinewidth": 0,
             "ticks": ""
            },
            "colorscale": [
             [
              0,
              "#0d0887"
             ],
             [
              0.1111111111111111,
              "#46039f"
             ],
             [
              0.2222222222222222,
              "#7201a8"
             ],
             [
              0.3333333333333333,
              "#9c179e"
             ],
             [
              0.4444444444444444,
              "#bd3786"
             ],
             [
              0.5555555555555556,
              "#d8576b"
             ],
             [
              0.6666666666666666,
              "#ed7953"
             ],
             [
              0.7777777777777778,
              "#fb9f3a"
             ],
             [
              0.8888888888888888,
              "#fdca26"
             ],
             [
              1,
              "#f0f921"
             ]
            ],
            "type": "heatmap"
           }
          ],
          "heatmapgl": [
           {
            "colorbar": {
             "outlinewidth": 0,
             "ticks": ""
            },
            "colorscale": [
             [
              0,
              "#0d0887"
             ],
             [
              0.1111111111111111,
              "#46039f"
             ],
             [
              0.2222222222222222,
              "#7201a8"
             ],
             [
              0.3333333333333333,
              "#9c179e"
             ],
             [
              0.4444444444444444,
              "#bd3786"
             ],
             [
              0.5555555555555556,
              "#d8576b"
             ],
             [
              0.6666666666666666,
              "#ed7953"
             ],
             [
              0.7777777777777778,
              "#fb9f3a"
             ],
             [
              0.8888888888888888,
              "#fdca26"
             ],
             [
              1,
              "#f0f921"
             ]
            ],
            "type": "heatmapgl"
           }
          ],
          "histogram": [
           {
            "marker": {
             "pattern": {
              "fillmode": "overlay",
              "size": 10,
              "solidity": 0.2
             }
            },
            "type": "histogram"
           }
          ],
          "histogram2d": [
           {
            "colorbar": {
             "outlinewidth": 0,
             "ticks": ""
            },
            "colorscale": [
             [
              0,
              "#0d0887"
             ],
             [
              0.1111111111111111,
              "#46039f"
             ],
             [
              0.2222222222222222,
              "#7201a8"
             ],
             [
              0.3333333333333333,
              "#9c179e"
             ],
             [
              0.4444444444444444,
              "#bd3786"
             ],
             [
              0.5555555555555556,
              "#d8576b"
             ],
             [
              0.6666666666666666,
              "#ed7953"
             ],
             [
              0.7777777777777778,
              "#fb9f3a"
             ],
             [
              0.8888888888888888,
              "#fdca26"
             ],
             [
              1,
              "#f0f921"
             ]
            ],
            "type": "histogram2d"
           }
          ],
          "histogram2dcontour": [
           {
            "colorbar": {
             "outlinewidth": 0,
             "ticks": ""
            },
            "colorscale": [
             [
              0,
              "#0d0887"
             ],
             [
              0.1111111111111111,
              "#46039f"
             ],
             [
              0.2222222222222222,
              "#7201a8"
             ],
             [
              0.3333333333333333,
              "#9c179e"
             ],
             [
              0.4444444444444444,
              "#bd3786"
             ],
             [
              0.5555555555555556,
              "#d8576b"
             ],
             [
              0.6666666666666666,
              "#ed7953"
             ],
             [
              0.7777777777777778,
              "#fb9f3a"
             ],
             [
              0.8888888888888888,
              "#fdca26"
             ],
             [
              1,
              "#f0f921"
             ]
            ],
            "type": "histogram2dcontour"
           }
          ],
          "mesh3d": [
           {
            "colorbar": {
             "outlinewidth": 0,
             "ticks": ""
            },
            "type": "mesh3d"
           }
          ],
          "parcoords": [
           {
            "line": {
             "colorbar": {
              "outlinewidth": 0,
              "ticks": ""
             }
            },
            "type": "parcoords"
           }
          ],
          "pie": [
           {
            "automargin": true,
            "type": "pie"
           }
          ],
          "scatter": [
           {
            "fillpattern": {
             "fillmode": "overlay",
             "size": 10,
             "solidity": 0.2
            },
            "type": "scatter"
           }
          ],
          "scatter3d": [
           {
            "line": {
             "colorbar": {
              "outlinewidth": 0,
              "ticks": ""
             }
            },
            "marker": {
             "colorbar": {
              "outlinewidth": 0,
              "ticks": ""
             }
            },
            "type": "scatter3d"
           }
          ],
          "scattercarpet": [
           {
            "marker": {
             "colorbar": {
              "outlinewidth": 0,
              "ticks": ""
             }
            },
            "type": "scattercarpet"
           }
          ],
          "scattergeo": [
           {
            "marker": {
             "colorbar": {
              "outlinewidth": 0,
              "ticks": ""
             }
            },
            "type": "scattergeo"
           }
          ],
          "scattergl": [
           {
            "marker": {
             "colorbar": {
              "outlinewidth": 0,
              "ticks": ""
             }
            },
            "type": "scattergl"
           }
          ],
          "scattermapbox": [
           {
            "marker": {
             "colorbar": {
              "outlinewidth": 0,
              "ticks": ""
             }
            },
            "type": "scattermapbox"
           }
          ],
          "scatterpolar": [
           {
            "marker": {
             "colorbar": {
              "outlinewidth": 0,
              "ticks": ""
             }
            },
            "type": "scatterpolar"
           }
          ],
          "scatterpolargl": [
           {
            "marker": {
             "colorbar": {
              "outlinewidth": 0,
              "ticks": ""
             }
            },
            "type": "scatterpolargl"
           }
          ],
          "scatterternary": [
           {
            "marker": {
             "colorbar": {
              "outlinewidth": 0,
              "ticks": ""
             }
            },
            "type": "scatterternary"
           }
          ],
          "surface": [
           {
            "colorbar": {
             "outlinewidth": 0,
             "ticks": ""
            },
            "colorscale": [
             [
              0,
              "#0d0887"
             ],
             [
              0.1111111111111111,
              "#46039f"
             ],
             [
              0.2222222222222222,
              "#7201a8"
             ],
             [
              0.3333333333333333,
              "#9c179e"
             ],
             [
              0.4444444444444444,
              "#bd3786"
             ],
             [
              0.5555555555555556,
              "#d8576b"
             ],
             [
              0.6666666666666666,
              "#ed7953"
             ],
             [
              0.7777777777777778,
              "#fb9f3a"
             ],
             [
              0.8888888888888888,
              "#fdca26"
             ],
             [
              1,
              "#f0f921"
             ]
            ],
            "type": "surface"
           }
          ],
          "table": [
           {
            "cells": {
             "fill": {
              "color": "#EBF0F8"
             },
             "line": {
              "color": "white"
             }
            },
            "header": {
             "fill": {
              "color": "#C8D4E3"
             },
             "line": {
              "color": "white"
             }
            },
            "type": "table"
           }
          ]
         },
         "layout": {
          "annotationdefaults": {
           "arrowcolor": "#2a3f5f",
           "arrowhead": 0,
           "arrowwidth": 1
          },
          "autotypenumbers": "strict",
          "coloraxis": {
           "colorbar": {
            "outlinewidth": 0,
            "ticks": ""
           }
          },
          "colorscale": {
           "diverging": [
            [
             0,
             "#8e0152"
            ],
            [
             0.1,
             "#c51b7d"
            ],
            [
             0.2,
             "#de77ae"
            ],
            [
             0.3,
             "#f1b6da"
            ],
            [
             0.4,
             "#fde0ef"
            ],
            [
             0.5,
             "#f7f7f7"
            ],
            [
             0.6,
             "#e6f5d0"
            ],
            [
             0.7,
             "#b8e186"
            ],
            [
             0.8,
             "#7fbc41"
            ],
            [
             0.9,
             "#4d9221"
            ],
            [
             1,
             "#276419"
            ]
           ],
           "sequential": [
            [
             0,
             "#0d0887"
            ],
            [
             0.1111111111111111,
             "#46039f"
            ],
            [
             0.2222222222222222,
             "#7201a8"
            ],
            [
             0.3333333333333333,
             "#9c179e"
            ],
            [
             0.4444444444444444,
             "#bd3786"
            ],
            [
             0.5555555555555556,
             "#d8576b"
            ],
            [
             0.6666666666666666,
             "#ed7953"
            ],
            [
             0.7777777777777778,
             "#fb9f3a"
            ],
            [
             0.8888888888888888,
             "#fdca26"
            ],
            [
             1,
             "#f0f921"
            ]
           ],
           "sequentialminus": [
            [
             0,
             "#0d0887"
            ],
            [
             0.1111111111111111,
             "#46039f"
            ],
            [
             0.2222222222222222,
             "#7201a8"
            ],
            [
             0.3333333333333333,
             "#9c179e"
            ],
            [
             0.4444444444444444,
             "#bd3786"
            ],
            [
             0.5555555555555556,
             "#d8576b"
            ],
            [
             0.6666666666666666,
             "#ed7953"
            ],
            [
             0.7777777777777778,
             "#fb9f3a"
            ],
            [
             0.8888888888888888,
             "#fdca26"
            ],
            [
             1,
             "#f0f921"
            ]
           ]
          },
          "colorway": [
           "#636efa",
           "#EF553B",
           "#00cc96",
           "#ab63fa",
           "#FFA15A",
           "#19d3f3",
           "#FF6692",
           "#B6E880",
           "#FF97FF",
           "#FECB52"
          ],
          "font": {
           "color": "#2a3f5f"
          },
          "geo": {
           "bgcolor": "white",
           "lakecolor": "white",
           "landcolor": "#E5ECF6",
           "showlakes": true,
           "showland": true,
           "subunitcolor": "white"
          },
          "hoverlabel": {
           "align": "left"
          },
          "hovermode": "closest",
          "mapbox": {
           "style": "light"
          },
          "paper_bgcolor": "white",
          "plot_bgcolor": "#E5ECF6",
          "polar": {
           "angularaxis": {
            "gridcolor": "white",
            "linecolor": "white",
            "ticks": ""
           },
           "bgcolor": "#E5ECF6",
           "radialaxis": {
            "gridcolor": "white",
            "linecolor": "white",
            "ticks": ""
           }
          },
          "scene": {
           "xaxis": {
            "backgroundcolor": "#E5ECF6",
            "gridcolor": "white",
            "gridwidth": 2,
            "linecolor": "white",
            "showbackground": true,
            "ticks": "",
            "zerolinecolor": "white"
           },
           "yaxis": {
            "backgroundcolor": "#E5ECF6",
            "gridcolor": "white",
            "gridwidth": 2,
            "linecolor": "white",
            "showbackground": true,
            "ticks": "",
            "zerolinecolor": "white"
           },
           "zaxis": {
            "backgroundcolor": "#E5ECF6",
            "gridcolor": "white",
            "gridwidth": 2,
            "linecolor": "white",
            "showbackground": true,
            "ticks": "",
            "zerolinecolor": "white"
           }
          },
          "shapedefaults": {
           "line": {
            "color": "#2a3f5f"
           }
          },
          "ternary": {
           "aaxis": {
            "gridcolor": "white",
            "linecolor": "white",
            "ticks": ""
           },
           "baxis": {
            "gridcolor": "white",
            "linecolor": "white",
            "ticks": ""
           },
           "bgcolor": "#E5ECF6",
           "caxis": {
            "gridcolor": "white",
            "linecolor": "white",
            "ticks": ""
           }
          },
          "title": {
           "x": 0.05
          },
          "xaxis": {
           "automargin": true,
           "gridcolor": "white",
           "linecolor": "white",
           "ticks": "",
           "title": {
            "standoff": 15
           },
           "zerolinecolor": "white",
           "zerolinewidth": 2
          },
          "yaxis": {
           "automargin": true,
           "gridcolor": "white",
           "linecolor": "white",
           "ticks": "",
           "title": {
            "standoff": 15
           },
           "zerolinecolor": "white",
           "zerolinewidth": 2
          }
         }
        },
        "xaxis": {
         "anchor": "y",
         "domain": [
          0,
          0.94
         ],
         "title": {
          "text": "Year"
         }
        },
        "yaxis": {
         "anchor": "x",
         "domain": [
          0,
          1
         ],
         "title": {
          "text": "CO2 emissions (kT)"
         }
        },
        "yaxis2": {
         "anchor": "x",
         "overlaying": "y",
         "side": "right",
         "title": {
          "text": "Temperature change (°C)"
         }
        }
       }
      }
     },
     "metadata": {},
     "output_type": "display_data"
    }
   ],
   "source": [
    "co2_color = \"red\"\n",
    "temp_color = \"blue\"\n",
    "\n",
    "start_year = 1850\n",
    "end_year = 2022\n",
    "country_codes = None\n",
    "\n",
    "if country_codes:\n",
    "    df = df[df.iso_code.isin(country_codes)]\n",
    "else:\n",
    "    df = df[df.country == \"World\"]\n",
    "\n",
    "df_year = (\n",
    "    df.query(f\"{start_year} <= year <= {end_year}\")\n",
    "    .groupby(\"year\")\n",
    "    .aggregate({\"co2\": \"sum\", \"temperature_change_from_co2\": \"mean\"})\n",
    "    .reset_index()\n",
    "    .dropna()\n",
    ")\n",
    "\n",
    "co2_line = px.line(\n",
    "    df_year, x=\"year\", y=\"co2\", title=\"CO2 emissions over time\", render_mode=\"webgl\"\n",
    ")\n",
    "temp_line = px.line(\n",
    "    df_year,\n",
    "    x=\"year\",\n",
    "    y=\"temperature_change_from_co2\",\n",
    "    title=\"Temperature change over time\",\n",
    "    render_mode=\"webgl\",\n",
    ")\n",
    "temp_line.update_traces(yaxis=\"y2\")\n",
    "\n",
    "subfig = make_subplots(specs=[[{\"secondary_y\": True}]])\n",
    "subfig.add_traces(co2_line.data + temp_line.data)\n",
    "subfig.layout.xaxis.title = \"Year\"\n",
    "subfig.layout.yaxis.title = \"CO2 emissions (kT)\"\n",
    "subfig.layout.yaxis2.title = \"Temperature change (°C)\"\n",
    "subfig.for_each_trace(lambda t: t.update(line=dict(color=t.marker.color)))\n",
    "\n",
    "subfig.show()"
   ]
  },
  {
   "cell_type": "code",
   "execution_count": 8,
   "metadata": {},
   "outputs": [
    {
     "data": {
      "text/html": [
       "\n",
       "<style>\n",
       "  #altair-viz-b70ee91004384444a498b8fa832f61d5.vega-embed {\n",
       "    width: 100%;\n",
       "    display: flex;\n",
       "  }\n",
       "\n",
       "  #altair-viz-b70ee91004384444a498b8fa832f61d5.vega-embed details,\n",
       "  #altair-viz-b70ee91004384444a498b8fa832f61d5.vega-embed details summary {\n",
       "    position: relative;\n",
       "  }\n",
       "</style>\n",
       "<div id=\"altair-viz-b70ee91004384444a498b8fa832f61d5\"></div>\n",
       "<script type=\"text/javascript\">\n",
       "  var VEGA_DEBUG = (typeof VEGA_DEBUG == \"undefined\") ? {} : VEGA_DEBUG;\n",
       "  (function(spec, embedOpt){\n",
       "    let outputDiv = document.currentScript.previousElementSibling;\n",
       "    if (outputDiv.id !== \"altair-viz-b70ee91004384444a498b8fa832f61d5\") {\n",
       "      outputDiv = document.getElementById(\"altair-viz-b70ee91004384444a498b8fa832f61d5\");\n",
       "    }\n",
       "    const paths = {\n",
       "      \"vega\": \"https://cdn.jsdelivr.net/npm/vega@5?noext\",\n",
       "      \"vega-lib\": \"https://cdn.jsdelivr.net/npm/vega-lib?noext\",\n",
       "      \"vega-lite\": \"https://cdn.jsdelivr.net/npm/vega-lite@5.16.3?noext\",\n",
       "      \"vega-embed\": \"https://cdn.jsdelivr.net/npm/vega-embed@6?noext\",\n",
       "    };\n",
       "\n",
       "    function maybeLoadScript(lib, version) {\n",
       "      var key = `${lib.replace(\"-\", \"\")}_version`;\n",
       "      return (VEGA_DEBUG[key] == version) ?\n",
       "        Promise.resolve(paths[lib]) :\n",
       "        new Promise(function(resolve, reject) {\n",
       "          var s = document.createElement('script');\n",
       "          document.getElementsByTagName(\"head\")[0].appendChild(s);\n",
       "          s.async = true;\n",
       "          s.onload = () => {\n",
       "            VEGA_DEBUG[key] = version;\n",
       "            return resolve(paths[lib]);\n",
       "          };\n",
       "          s.onerror = () => reject(`Error loading script: ${paths[lib]}`);\n",
       "          s.src = paths[lib];\n",
       "        });\n",
       "    }\n",
       "\n",
       "    function showError(err) {\n",
       "      outputDiv.innerHTML = `<div class=\"error\" style=\"color:red;\">${err}</div>`;\n",
       "      throw err;\n",
       "    }\n",
       "\n",
       "    function displayChart(vegaEmbed) {\n",
       "      vegaEmbed(outputDiv, spec, embedOpt)\n",
       "        .catch(err => showError(`Javascript Error: ${err.message}<br>This usually means there's a typo in your chart specification. See the javascript console for the full traceback.`));\n",
       "    }\n",
       "\n",
       "    if(typeof define === \"function\" && define.amd) {\n",
       "      requirejs.config({paths});\n",
       "      require([\"vega-embed\"], displayChart, err => showError(`Error loading script: ${err.message}`));\n",
       "    } else {\n",
       "      maybeLoadScript(\"vega\", \"5\")\n",
       "        .then(() => maybeLoadScript(\"vega-lite\", \"5.16.3\"))\n",
       "        .then(() => maybeLoadScript(\"vega-embed\", \"6\"))\n",
       "        .catch(showError)\n",
       "        .then(() => displayChart(vegaEmbed));\n",
       "    }\n",
       "  })({\"config\": {\"view\": {\"continuousWidth\": 300, \"continuousHeight\": 300}, \"axisLeft\": {\"titleColor\": \"red\", \"titleFontSize\": 12}, \"axisRight\": {\"titleColor\": \"blue\", \"titleFontSize\": 12}, \"title\": {\"fontSize\": 20}}, \"layer\": [{\"mark\": {\"type\": \"line\", \"color\": \"red\"}, \"encoding\": {\"tooltip\": [{\"field\": \"year\", \"type\": \"ordinal\"}, {\"field\": \"co2\", \"title\": \"CO2 Emissions\", \"type\": \"quantitative\"}], \"x\": {\"axis\": {\"labelAngle\": 0, \"values\": [1850.0, 1859.0, 1868.0, 1877.0, 1886.0, 1895.0, 1904.0, 1913.0, 1922.0, 1931.0, 1940.0, 1949.0, 1958.0, 1967.0, 1976.0, 1985.0, 1994.0, 2003.0, 2012.0, 2022.0]}, \"field\": \"year\", \"title\": \"Year\", \"type\": \"ordinal\"}, \"y\": {\"field\": \"co2\", \"title\": \"CO2 Emissions\", \"type\": \"quantitative\"}}}, {\"mark\": {\"type\": \"line\", \"stroke\": \"blue\"}, \"encoding\": {\"tooltip\": [{\"field\": \"year\", \"type\": \"ordinal\"}, {\"field\": \"temperature_change_from_co2\", \"title\": \"Temperature Change\", \"type\": \"quantitative\"}], \"x\": {\"axis\": {\"labelAngle\": 0, \"values\": [1850.0, 1859.0, 1868.0, 1877.0, 1886.0, 1895.0, 1904.0, 1913.0, 1922.0, 1931.0, 1940.0, 1949.0, 1958.0, 1967.0, 1976.0, 1985.0, 1994.0, 2003.0, 2012.0, 2022.0]}, \"field\": \"year\", \"title\": \"Year\", \"type\": \"ordinal\"}, \"y\": {\"field\": \"temperature_change_from_co2\", \"title\": \"Temperature Change\", \"type\": \"quantitative\"}}}], \"data\": {\"name\": \"data-5a80d0cb1c9dcf9fc67aabae276d423a\"}, \"height\": 400, \"resolve\": {\"scale\": {\"y\": \"independent\"}}, \"width\": 600, \"$schema\": \"https://vega.github.io/schema/vega-lite/v5.16.3.json\", \"datasets\": {\"data-5a80d0cb1c9dcf9fc67aabae276d423a\": [{\"year\": 1851, \"co2\": 198.668, \"temperature_change_from_co2\": 0.001}, {\"year\": 1852, \"co2\": 207.414, \"temperature_change_from_co2\": 0.002}, {\"year\": 1853, \"co2\": 217.12, \"temperature_change_from_co2\": 0.004}, {\"year\": 1854, \"co2\": 255.033, \"temperature_change_from_co2\": 0.005}, {\"year\": 1855, \"co2\": 260.104, \"temperature_change_from_co2\": 0.006}, {\"year\": 1856, \"co2\": 277.296, \"temperature_change_from_co2\": 0.008}, {\"year\": 1857, \"co2\": 279.932, \"temperature_change_from_co2\": 0.009}, {\"year\": 1858, \"co2\": 284.225, \"temperature_change_from_co2\": 0.01}, {\"year\": 1859, \"co2\": 301.481, \"temperature_change_from_co2\": 0.012}, {\"year\": 1860, \"co2\": 330.963, \"temperature_change_from_co2\": 0.013}, {\"year\": 1861, \"co2\": 347.786, \"temperature_change_from_co2\": 0.014}, {\"year\": 1862, \"co2\": 354.489, \"temperature_change_from_co2\": 0.016}, {\"year\": 1863, \"co2\": 378.18, \"temperature_change_from_co2\": 0.017}, {\"year\": 1864, \"co2\": 407.726, \"temperature_change_from_co2\": 0.018}, {\"year\": 1865, \"co2\": 432.859, \"temperature_change_from_co2\": 0.02}, {\"year\": 1866, \"co2\": 446.554, \"temperature_change_from_co2\": 0.021}, {\"year\": 1867, \"co2\": 478.161, \"temperature_change_from_co2\": 0.022}, {\"year\": 1868, \"co2\": 491.552, \"temperature_change_from_co2\": 0.023}, {\"year\": 1869, \"co2\": 521.954, \"temperature_change_from_co2\": 0.025}, {\"year\": 1870, \"co2\": 533.338, \"temperature_change_from_co2\": 0.026}, {\"year\": 1871, \"co2\": 566.891, \"temperature_change_from_co2\": 0.028}, {\"year\": 1872, \"co2\": 627.301, \"temperature_change_from_co2\": 0.029}, {\"year\": 1873, \"co2\": 666.481, \"temperature_change_from_co2\": 0.031}, {\"year\": 1874, \"co2\": 624.232, \"temperature_change_from_co2\": 0.032}, {\"year\": 1875, \"co2\": 677.114, \"temperature_change_from_co2\": 0.034}, {\"year\": 1876, \"co2\": 686.78, \"temperature_change_from_co2\": 0.035}, {\"year\": 1877, \"co2\": 700.404, \"temperature_change_from_co2\": 0.037}, {\"year\": 1878, \"co2\": 705.974, \"temperature_change_from_co2\": 0.039}, {\"year\": 1879, \"co2\": 755.99, \"temperature_change_from_co2\": 0.041}, {\"year\": 1880, \"co2\": 853.916, \"temperature_change_from_co2\": 0.042}, {\"year\": 1881, \"co2\": 883.544, \"temperature_change_from_co2\": 0.044}, {\"year\": 1882, \"co2\": 933.36, \"temperature_change_from_co2\": 0.046}, {\"year\": 1883, \"co2\": 992.754, \"temperature_change_from_co2\": 0.048}, {\"year\": 1884, \"co2\": 1004.134, \"temperature_change_from_co2\": 0.05}, {\"year\": 1885, \"co2\": 1011.637, \"temperature_change_from_co2\": 0.052}, {\"year\": 1886, \"co2\": 1027.417, \"temperature_change_from_co2\": 0.054}, {\"year\": 1887, \"co2\": 1078.747, \"temperature_change_from_co2\": 0.056}, {\"year\": 1888, \"co2\": 1194.353, \"temperature_change_from_co2\": 0.058}, {\"year\": 1889, \"co2\": 1194.624, \"temperature_change_from_co2\": 0.06}, {\"year\": 1890, \"co2\": 1300.362, \"temperature_change_from_co2\": 0.062}, {\"year\": 1891, \"co2\": 1361.75, \"temperature_change_from_co2\": 0.064}, {\"year\": 1892, \"co2\": 1372.396, \"temperature_change_from_co2\": 0.066}, {\"year\": 1893, \"co2\": 1355.477, \"temperature_change_from_co2\": 0.068}, {\"year\": 1894, \"co2\": 1403.019, \"temperature_change_from_co2\": 0.071}, {\"year\": 1895, \"co2\": 1487.432, \"temperature_change_from_co2\": 0.073}, {\"year\": 1896, \"co2\": 1536.366, \"temperature_change_from_co2\": 0.076}, {\"year\": 1897, \"co2\": 1609.232, \"temperature_change_from_co2\": 0.078}, {\"year\": 1898, \"co2\": 1697.166, \"temperature_change_from_co2\": 0.08}, {\"year\": 1899, \"co2\": 1853.709, \"temperature_change_from_co2\": 0.083}, {\"year\": 1900, \"co2\": 1952.209, \"temperature_change_from_co2\": 0.086}, {\"year\": 1901, \"co2\": 2016.744, \"temperature_change_from_co2\": 0.088}, {\"year\": 1902, \"co2\": 2067.684, \"temperature_change_from_co2\": 0.091}, {\"year\": 1903, \"co2\": 2254.1, \"temperature_change_from_co2\": 0.094}, {\"year\": 1904, \"co2\": 2279.747, \"temperature_change_from_co2\": 0.097}, {\"year\": 1905, \"co2\": 2427.318, \"temperature_change_from_co2\": 0.1}, {\"year\": 1906, \"co2\": 2534.733, \"temperature_change_from_co2\": 0.103}, {\"year\": 1907, \"co2\": 2888.318, \"temperature_change_from_co2\": 0.106}, {\"year\": 1908, \"co2\": 2776.441, \"temperature_change_from_co2\": 0.109}, {\"year\": 1909, \"co2\": 2890.495, \"temperature_change_from_co2\": 0.113}, {\"year\": 1910, \"co2\": 3034.09, \"temperature_change_from_co2\": 0.116}, {\"year\": 1911, \"co2\": 3079.502, \"temperature_change_from_co2\": 0.119}, {\"year\": 1912, \"co2\": 3235.964, \"temperature_change_from_co2\": 0.123}, {\"year\": 1913, \"co2\": 3506.276, \"temperature_change_from_co2\": 0.126}, {\"year\": 1914, \"co2\": 3180.355, \"temperature_change_from_co2\": 0.13}, {\"year\": 1915, \"co2\": 3134.854, \"temperature_change_from_co2\": 0.133}, {\"year\": 1916, \"co2\": 3385.858, \"temperature_change_from_co2\": 0.136}, {\"year\": 1917, \"co2\": 3540.427, \"temperature_change_from_co2\": 0.14}, {\"year\": 1918, \"co2\": 3493.264, \"temperature_change_from_co2\": 0.143}, {\"year\": 1919, \"co2\": 3029.007, \"temperature_change_from_co2\": 0.146}, {\"year\": 1920, \"co2\": 3521.427, \"temperature_change_from_co2\": 0.15}, {\"year\": 1921, \"co2\": 3090.097, \"temperature_change_from_co2\": 0.153}, {\"year\": 1922, \"co2\": 3240.314, \"temperature_change_from_co2\": 0.157}, {\"year\": 1923, \"co2\": 3676.233, \"temperature_change_from_co2\": 0.16}, {\"year\": 1924, \"co2\": 3687.22, \"temperature_change_from_co2\": 0.164}, {\"year\": 1925, \"co2\": 3727.034, \"temperature_change_from_co2\": 0.168}, {\"year\": 1926, \"co2\": 3661.03, \"temperature_change_from_co2\": 0.171}, {\"year\": 1927, \"co2\": 3996.129, \"temperature_change_from_co2\": 0.175}, {\"year\": 1928, \"co2\": 3978.763, \"temperature_change_from_co2\": 0.179}, {\"year\": 1929, \"co2\": 4270.908, \"temperature_change_from_co2\": 0.183}, {\"year\": 1930, \"co2\": 3938.598, \"temperature_change_from_co2\": 0.187}, {\"year\": 1931, \"co2\": 3519.903, \"temperature_change_from_co2\": 0.19}, {\"year\": 1932, \"co2\": 3173.476, \"temperature_change_from_co2\": 0.194}, {\"year\": 1933, \"co2\": 3341.518, \"temperature_change_from_co2\": 0.198}, {\"year\": 1934, \"co2\": 3634.242, \"temperature_change_from_co2\": 0.201}, {\"year\": 1935, \"co2\": 3814.798, \"temperature_change_from_co2\": 0.205}, {\"year\": 1936, \"co2\": 4185.514, \"temperature_change_from_co2\": 0.209}, {\"year\": 1937, \"co2\": 4474.233, \"temperature_change_from_co2\": 0.213}, {\"year\": 1938, \"co2\": 4206.901, \"temperature_change_from_co2\": 0.217}, {\"year\": 1939, \"co2\": 4451.247, \"temperature_change_from_co2\": 0.222}, {\"year\": 1940, \"co2\": 4861.346, \"temperature_change_from_co2\": 0.226}, {\"year\": 1941, \"co2\": 4970.814, \"temperature_change_from_co2\": 0.231}, {\"year\": 1942, \"co2\": 4959.586, \"temperature_change_from_co2\": 0.235}, {\"year\": 1943, \"co2\": 5041.694, \"temperature_change_from_co2\": 0.24}, {\"year\": 1944, \"co2\": 5117.909, \"temperature_change_from_co2\": 0.244}, {\"year\": 1945, \"co2\": 4257.136, \"temperature_change_from_co2\": 0.249}, {\"year\": 1946, \"co2\": 4646.124, \"temperature_change_from_co2\": 0.253}, {\"year\": 1947, \"co2\": 5145.782, \"temperature_change_from_co2\": 0.258}, {\"year\": 1948, \"co2\": 5424.953, \"temperature_change_from_co2\": 0.262}, {\"year\": 1949, \"co2\": 5181.006, \"temperature_change_from_co2\": 0.267}, {\"year\": 1950, \"co2\": 5929.342, \"temperature_change_from_co2\": 0.272}, {\"year\": 1951, \"co2\": 6381.406, \"temperature_change_from_co2\": 0.278}, {\"year\": 1952, \"co2\": 6467.437, \"temperature_change_from_co2\": 0.283}, {\"year\": 1953, \"co2\": 6650.861, \"temperature_change_from_co2\": 0.289}, {\"year\": 1954, \"co2\": 6789.498, \"temperature_change_from_co2\": 0.294}, {\"year\": 1955, \"co2\": 7443.861, \"temperature_change_from_co2\": 0.301}, {\"year\": 1956, \"co2\": 7925.98, \"temperature_change_from_co2\": 0.307}, {\"year\": 1957, \"co2\": 8185.614, \"temperature_change_from_co2\": 0.314}, {\"year\": 1958, \"co2\": 8417.16, \"temperature_change_from_co2\": 0.32}, {\"year\": 1959, \"co2\": 8854.662, \"temperature_change_from_co2\": 0.328}, {\"year\": 1960, \"co2\": 9386.421, \"temperature_change_from_co2\": 0.335}, {\"year\": 1961, \"co2\": 9414.383, \"temperature_change_from_co2\": 0.342}, {\"year\": 1962, \"co2\": 9746.556, \"temperature_change_from_co2\": 0.349}, {\"year\": 1963, \"co2\": 10266.047, \"temperature_change_from_co2\": 0.356}, {\"year\": 1964, \"co2\": 10823.618, \"temperature_change_from_co2\": 0.363}, {\"year\": 1965, \"co2\": 11309.689, \"temperature_change_from_co2\": 0.371}, {\"year\": 1966, \"co2\": 11861.708, \"temperature_change_from_co2\": 0.378}, {\"year\": 1967, \"co2\": 12236.328, \"temperature_change_from_co2\": 0.386}, {\"year\": 1968, \"co2\": 12904.336, \"temperature_change_from_co2\": 0.394}, {\"year\": 1969, \"co2\": 13760.84, \"temperature_change_from_co2\": 0.402}, {\"year\": 1970, \"co2\": 14898.156, \"temperature_change_from_co2\": 0.411}, {\"year\": 1971, \"co2\": 15502.786, \"temperature_change_from_co2\": 0.42}, {\"year\": 1972, \"co2\": 16223.439, \"temperature_change_from_co2\": 0.43}, {\"year\": 1973, \"co2\": 17083.5, \"temperature_change_from_co2\": 0.439}, {\"year\": 1974, \"co2\": 17009.383, \"temperature_change_from_co2\": 0.449}, {\"year\": 1975, \"co2\": 17049.979, \"temperature_change_from_co2\": 0.459}, {\"year\": 1976, \"co2\": 17985.242, \"temperature_change_from_co2\": 0.469}, {\"year\": 1977, \"co2\": 18494.652, \"temperature_change_from_co2\": 0.479}, {\"year\": 1978, \"co2\": 19063.955, \"temperature_change_from_co2\": 0.489}, {\"year\": 1979, \"co2\": 19603.002, \"temperature_change_from_co2\": 0.5}, {\"year\": 1980, \"co2\": 19482.441, \"temperature_change_from_co2\": 0.511}, {\"year\": 1981, \"co2\": 19016.949, \"temperature_change_from_co2\": 0.521}, {\"year\": 1982, \"co2\": 18865.373, \"temperature_change_from_co2\": 0.532}, {\"year\": 1983, \"co2\": 18985.9, \"temperature_change_from_co2\": 0.542}, {\"year\": 1984, \"co2\": 19641.729, \"temperature_change_from_co2\": 0.554}, {\"year\": 1985, \"co2\": 20305.131, \"temperature_change_from_co2\": 0.565}, {\"year\": 1986, \"co2\": 20607.514, \"temperature_change_from_co2\": 0.577}, {\"year\": 1987, \"co2\": 21245.783, \"temperature_change_from_co2\": 0.588}, {\"year\": 1988, \"co2\": 22077.385, \"temperature_change_from_co2\": 0.601}, {\"year\": 1989, \"co2\": 22378.969, \"temperature_change_from_co2\": 0.613}, {\"year\": 1990, \"co2\": 22752.701, \"temperature_change_from_co2\": 0.625}, {\"year\": 1991, \"co2\": 23229.475, \"temperature_change_from_co2\": 0.638}, {\"year\": 1992, \"co2\": 22567.199, \"temperature_change_from_co2\": 0.65}, {\"year\": 1993, \"co2\": 22798.35, \"temperature_change_from_co2\": 0.663}, {\"year\": 1994, \"co2\": 23034.775, \"temperature_change_from_co2\": 0.676}, {\"year\": 1995, \"co2\": 23524.49, \"temperature_change_from_co2\": 0.689}, {\"year\": 1996, \"co2\": 24250.16, \"temperature_change_from_co2\": 0.702}, {\"year\": 1997, \"co2\": 24395.951, \"temperature_change_from_co2\": 0.716}, {\"year\": 1998, \"co2\": 24330.945, \"temperature_change_from_co2\": 0.729}, {\"year\": 1999, \"co2\": 24833.494, \"temperature_change_from_co2\": 0.743}, {\"year\": 2000, \"co2\": 25501.287, \"temperature_change_from_co2\": 0.757}, {\"year\": 2001, \"co2\": 25674.93, \"temperature_change_from_co2\": 0.77}, {\"year\": 2002, \"co2\": 26248.289, \"temperature_change_from_co2\": 0.784}, {\"year\": 2003, \"co2\": 27648.648, \"temperature_change_from_co2\": 0.799}, {\"year\": 2004, \"co2\": 28620.193, \"temperature_change_from_co2\": 0.815}, {\"year\": 2005, \"co2\": 29592.104, \"temperature_change_from_co2\": 0.83}, {\"year\": 2006, \"co2\": 30605.766, \"temperature_change_from_co2\": 0.846}, {\"year\": 2007, \"co2\": 31499.734, \"temperature_change_from_co2\": 0.862}, {\"year\": 2008, \"co2\": 32041.902, \"temperature_change_from_co2\": 0.879}, {\"year\": 2009, \"co2\": 31493.266, \"temperature_change_from_co2\": 0.895}, {\"year\": 2010, \"co2\": 33306.328, \"temperature_change_from_co2\": 0.913}, {\"year\": 2011, \"co2\": 34436.469, \"temperature_change_from_co2\": 0.93}, {\"year\": 2012, \"co2\": 34935.453, \"temperature_change_from_co2\": 0.948}, {\"year\": 2013, \"co2\": 35232.469, \"temperature_change_from_co2\": 0.966}, {\"year\": 2014, \"co2\": 35466.195, \"temperature_change_from_co2\": 0.985}, {\"year\": 2015, \"co2\": 35463.215, \"temperature_change_from_co2\": 1.003}, {\"year\": 2016, \"co2\": 35460.027, \"temperature_change_from_co2\": 1.021}, {\"year\": 2017, \"co2\": 36025.453, \"temperature_change_from_co2\": 1.039}, {\"year\": 2018, \"co2\": 36766.945, \"temperature_change_from_co2\": 1.058}, {\"year\": 2019, \"co2\": 37040.102, \"temperature_change_from_co2\": 1.076}, {\"year\": 2020, \"co2\": 35007.738, \"temperature_change_from_co2\": 1.094}, {\"year\": 2021, \"co2\": 36816.543, \"temperature_change_from_co2\": 1.113}]}}, {\"mode\": \"vega-lite\"});\n",
       "</script>"
      ],
      "text/plain": [
       "alt.LayerChart(...)"
      ]
     },
     "execution_count": 8,
     "metadata": {},
     "output_type": "execute_result"
    }
   ],
   "source": [
    "df = pd.read_csv(\"../data/processed/co2-data.csv\")\n",
    "# df.head()\n",
    "plot_global_temp_co2(df, None, 1850, 2022)"
   ]
  },
  {
   "cell_type": "markdown",
   "metadata": {},
   "source": [
    "## World Map plot with interactive selection of countries"
   ]
  },
  {
   "cell_type": "code",
   "execution_count": 8,
   "metadata": {},
   "outputs": [
    {
     "data": {
      "text/html": [
       "<div>\n",
       "<style scoped>\n",
       "    .dataframe tbody tr th:only-of-type {\n",
       "        vertical-align: middle;\n",
       "    }\n",
       "\n",
       "    .dataframe tbody tr th {\n",
       "        vertical-align: top;\n",
       "    }\n",
       "\n",
       "    .dataframe thead th {\n",
       "        text-align: right;\n",
       "    }\n",
       "</style>\n",
       "<table border=\"1\" class=\"dataframe\">\n",
       "  <thead>\n",
       "    <tr style=\"text-align: right;\">\n",
       "      <th></th>\n",
       "      <th>country</th>\n",
       "      <th>year</th>\n",
       "      <th>iso_code</th>\n",
       "      <th>population</th>\n",
       "      <th>gdp</th>\n",
       "      <th>cement_co2</th>\n",
       "      <th>cement_co2_per_capita</th>\n",
       "      <th>co2</th>\n",
       "      <th>co2_growth_abs</th>\n",
       "      <th>co2_growth_prct</th>\n",
       "      <th>...</th>\n",
       "      <th>share_global_other_co2</th>\n",
       "      <th>share_of_temperature_change_from_ghg</th>\n",
       "      <th>temperature_change_from_ch4</th>\n",
       "      <th>temperature_change_from_co2</th>\n",
       "      <th>temperature_change_from_ghg</th>\n",
       "      <th>temperature_change_from_n2o</th>\n",
       "      <th>total_ghg</th>\n",
       "      <th>total_ghg_excluding_lucf</th>\n",
       "      <th>trade_co2</th>\n",
       "      <th>trade_co2_share</th>\n",
       "    </tr>\n",
       "  </thead>\n",
       "  <tbody>\n",
       "    <tr>\n",
       "      <th>0</th>\n",
       "      <td>Afghanistan</td>\n",
       "      <td>1850</td>\n",
       "      <td>AFG</td>\n",
       "      <td>3752993.0</td>\n",
       "      <td>NaN</td>\n",
       "      <td>NaN</td>\n",
       "      <td>NaN</td>\n",
       "      <td>NaN</td>\n",
       "      <td>NaN</td>\n",
       "      <td>NaN</td>\n",
       "      <td>...</td>\n",
       "      <td>NaN</td>\n",
       "      <td>NaN</td>\n",
       "      <td>NaN</td>\n",
       "      <td>NaN</td>\n",
       "      <td>NaN</td>\n",
       "      <td>NaN</td>\n",
       "      <td>NaN</td>\n",
       "      <td>NaN</td>\n",
       "      <td>NaN</td>\n",
       "      <td>NaN</td>\n",
       "    </tr>\n",
       "    <tr>\n",
       "      <th>1</th>\n",
       "      <td>Afghanistan</td>\n",
       "      <td>1851</td>\n",
       "      <td>AFG</td>\n",
       "      <td>3767956.0</td>\n",
       "      <td>NaN</td>\n",
       "      <td>NaN</td>\n",
       "      <td>NaN</td>\n",
       "      <td>NaN</td>\n",
       "      <td>NaN</td>\n",
       "      <td>NaN</td>\n",
       "      <td>...</td>\n",
       "      <td>NaN</td>\n",
       "      <td>0.165</td>\n",
       "      <td>0.0</td>\n",
       "      <td>0.0</td>\n",
       "      <td>0.0</td>\n",
       "      <td>0.0</td>\n",
       "      <td>NaN</td>\n",
       "      <td>NaN</td>\n",
       "      <td>NaN</td>\n",
       "      <td>NaN</td>\n",
       "    </tr>\n",
       "    <tr>\n",
       "      <th>2</th>\n",
       "      <td>Afghanistan</td>\n",
       "      <td>1852</td>\n",
       "      <td>AFG</td>\n",
       "      <td>3783940.0</td>\n",
       "      <td>NaN</td>\n",
       "      <td>NaN</td>\n",
       "      <td>NaN</td>\n",
       "      <td>NaN</td>\n",
       "      <td>NaN</td>\n",
       "      <td>NaN</td>\n",
       "      <td>...</td>\n",
       "      <td>NaN</td>\n",
       "      <td>0.164</td>\n",
       "      <td>0.0</td>\n",
       "      <td>0.0</td>\n",
       "      <td>0.0</td>\n",
       "      <td>0.0</td>\n",
       "      <td>NaN</td>\n",
       "      <td>NaN</td>\n",
       "      <td>NaN</td>\n",
       "      <td>NaN</td>\n",
       "    </tr>\n",
       "    <tr>\n",
       "      <th>3</th>\n",
       "      <td>Afghanistan</td>\n",
       "      <td>1853</td>\n",
       "      <td>AFG</td>\n",
       "      <td>3800954.0</td>\n",
       "      <td>NaN</td>\n",
       "      <td>NaN</td>\n",
       "      <td>NaN</td>\n",
       "      <td>NaN</td>\n",
       "      <td>NaN</td>\n",
       "      <td>NaN</td>\n",
       "      <td>...</td>\n",
       "      <td>NaN</td>\n",
       "      <td>0.164</td>\n",
       "      <td>0.0</td>\n",
       "      <td>0.0</td>\n",
       "      <td>0.0</td>\n",
       "      <td>0.0</td>\n",
       "      <td>NaN</td>\n",
       "      <td>NaN</td>\n",
       "      <td>NaN</td>\n",
       "      <td>NaN</td>\n",
       "    </tr>\n",
       "    <tr>\n",
       "      <th>4</th>\n",
       "      <td>Afghanistan</td>\n",
       "      <td>1854</td>\n",
       "      <td>AFG</td>\n",
       "      <td>3818038.0</td>\n",
       "      <td>NaN</td>\n",
       "      <td>NaN</td>\n",
       "      <td>NaN</td>\n",
       "      <td>NaN</td>\n",
       "      <td>NaN</td>\n",
       "      <td>NaN</td>\n",
       "      <td>...</td>\n",
       "      <td>NaN</td>\n",
       "      <td>0.163</td>\n",
       "      <td>0.0</td>\n",
       "      <td>0.0</td>\n",
       "      <td>0.0</td>\n",
       "      <td>0.0</td>\n",
       "      <td>NaN</td>\n",
       "      <td>NaN</td>\n",
       "      <td>NaN</td>\n",
       "      <td>NaN</td>\n",
       "    </tr>\n",
       "  </tbody>\n",
       "</table>\n",
       "<p>5 rows × 79 columns</p>\n",
       "</div>"
      ],
      "text/plain": [
       "       country  year iso_code  population  gdp  cement_co2  \\\n",
       "0  Afghanistan  1850      AFG   3752993.0  NaN         NaN   \n",
       "1  Afghanistan  1851      AFG   3767956.0  NaN         NaN   \n",
       "2  Afghanistan  1852      AFG   3783940.0  NaN         NaN   \n",
       "3  Afghanistan  1853      AFG   3800954.0  NaN         NaN   \n",
       "4  Afghanistan  1854      AFG   3818038.0  NaN         NaN   \n",
       "\n",
       "   cement_co2_per_capita  co2  co2_growth_abs  co2_growth_prct  ...  \\\n",
       "0                    NaN  NaN             NaN              NaN  ...   \n",
       "1                    NaN  NaN             NaN              NaN  ...   \n",
       "2                    NaN  NaN             NaN              NaN  ...   \n",
       "3                    NaN  NaN             NaN              NaN  ...   \n",
       "4                    NaN  NaN             NaN              NaN  ...   \n",
       "\n",
       "   share_global_other_co2  share_of_temperature_change_from_ghg  \\\n",
       "0                     NaN                                   NaN   \n",
       "1                     NaN                                 0.165   \n",
       "2                     NaN                                 0.164   \n",
       "3                     NaN                                 0.164   \n",
       "4                     NaN                                 0.163   \n",
       "\n",
       "   temperature_change_from_ch4  temperature_change_from_co2  \\\n",
       "0                          NaN                          NaN   \n",
       "1                          0.0                          0.0   \n",
       "2                          0.0                          0.0   \n",
       "3                          0.0                          0.0   \n",
       "4                          0.0                          0.0   \n",
       "\n",
       "   temperature_change_from_ghg  temperature_change_from_n2o  total_ghg  \\\n",
       "0                          NaN                          NaN        NaN   \n",
       "1                          0.0                          0.0        NaN   \n",
       "2                          0.0                          0.0        NaN   \n",
       "3                          0.0                          0.0        NaN   \n",
       "4                          0.0                          0.0        NaN   \n",
       "\n",
       "   total_ghg_excluding_lucf  trade_co2  trade_co2_share  \n",
       "0                       NaN        NaN              NaN  \n",
       "1                       NaN        NaN              NaN  \n",
       "2                       NaN        NaN              NaN  \n",
       "3                       NaN        NaN              NaN  \n",
       "4                       NaN        NaN              NaN  \n",
       "\n",
       "[5 rows x 79 columns]"
      ]
     },
     "execution_count": 8,
     "metadata": {},
     "output_type": "execute_result"
    }
   ],
   "source": [
    "df.head()"
   ]
  },
  {
   "cell_type": "code",
   "execution_count": 9,
   "metadata": {},
   "outputs": [
    {
     "data": {
      "application/vnd.plotly.v1+json": {
       "config": {
        "plotlyServerURL": "https://plot.ly"
       },
       "data": [
        {
         "coloraxis": "coloraxis",
         "geo": "geo",
         "hovertemplate": "<b>%{hovertext}</b><br><br>iso_code=%{location}<br>CO2 Emissions=%{z}<extra></extra>",
         "hovertext": [
          "Brazil",
          "Brazil",
          "Brazil",
          "Brazil",
          "Brazil",
          "Brazil",
          "Brazil",
          "Brazil",
          "Brazil",
          "Brazil",
          "Brazil",
          "Brazil",
          "Brazil",
          "Brazil",
          "Brazil",
          "Brazil",
          "Brazil",
          "Brazil",
          "Brazil",
          "Brazil",
          "Brazil",
          "Brazil",
          "Brazil",
          "China",
          "China",
          "China",
          "China",
          "China",
          "China",
          "China",
          "China",
          "China",
          "China",
          "China",
          "China",
          "China",
          "China",
          "China",
          "China",
          "China",
          "China",
          "China",
          "China",
          "China",
          "China",
          "China",
          "France",
          "France",
          "France",
          "France",
          "France",
          "France",
          "France",
          "France",
          "France",
          "France",
          "France",
          "France",
          "France",
          "France",
          "France",
          "France",
          "France",
          "France",
          "France",
          "France",
          "France",
          "France",
          "France",
          "Germany",
          "Germany",
          "Germany",
          "Germany",
          "Germany",
          "Germany",
          "Germany",
          "Germany",
          "Germany",
          "Germany",
          "Germany",
          "Germany",
          "Germany",
          "Germany",
          "Germany",
          "Germany",
          "Germany",
          "Germany",
          "Germany",
          "Germany",
          "Germany",
          "Germany",
          "Germany",
          "India",
          "India",
          "India",
          "India",
          "India",
          "India",
          "India",
          "India",
          "India",
          "India",
          "India",
          "India",
          "India",
          "India",
          "India",
          "India",
          "India",
          "India",
          "India",
          "India",
          "India",
          "India",
          "India",
          "Indonesia",
          "Indonesia",
          "Indonesia",
          "Indonesia",
          "Indonesia",
          "Indonesia",
          "Indonesia",
          "Indonesia",
          "Indonesia",
          "Indonesia",
          "Indonesia",
          "Indonesia",
          "Indonesia",
          "Indonesia",
          "Indonesia",
          "Indonesia",
          "Indonesia",
          "Indonesia",
          "Indonesia",
          "Indonesia",
          "Indonesia",
          "Indonesia",
          "Indonesia",
          "Iran",
          "Iran",
          "Iran",
          "Iran",
          "Iran",
          "Iran",
          "Iran",
          "Iran",
          "Iran",
          "Iran",
          "Iran",
          "Iran",
          "Iran",
          "Iran",
          "Iran",
          "Iran",
          "Iran",
          "Iran",
          "Iran",
          "Iran",
          "Iran",
          "Iran",
          "Iran",
          "Russia",
          "Russia",
          "Russia",
          "Russia",
          "Russia",
          "Russia",
          "Russia",
          "Russia",
          "Russia",
          "Russia",
          "Russia",
          "Russia",
          "Russia",
          "Russia",
          "Russia",
          "Russia",
          "Russia",
          "Russia",
          "Russia",
          "Russia",
          "Russia",
          "Russia",
          "Russia",
          "United Kingdom",
          "United Kingdom",
          "United Kingdom",
          "United Kingdom",
          "United Kingdom",
          "United Kingdom",
          "United Kingdom",
          "United Kingdom",
          "United Kingdom",
          "United Kingdom",
          "United Kingdom",
          "United Kingdom",
          "United Kingdom",
          "United Kingdom",
          "United Kingdom",
          "United Kingdom",
          "United Kingdom",
          "United Kingdom",
          "United Kingdom",
          "United Kingdom",
          "United Kingdom",
          "United Kingdom",
          "United Kingdom",
          "United States",
          "United States",
          "United States",
          "United States",
          "United States",
          "United States",
          "United States",
          "United States",
          "United States",
          "United States",
          "United States",
          "United States",
          "United States",
          "United States",
          "United States",
          "United States",
          "United States",
          "United States",
          "United States",
          "United States",
          "United States",
          "United States",
          "United States"
         ],
         "locations": [
          "BRA",
          "BRA",
          "BRA",
          "BRA",
          "BRA",
          "BRA",
          "BRA",
          "BRA",
          "BRA",
          "BRA",
          "BRA",
          "BRA",
          "BRA",
          "BRA",
          "BRA",
          "BRA",
          "BRA",
          "BRA",
          "BRA",
          "BRA",
          "BRA",
          "BRA",
          "BRA",
          "CHN",
          "CHN",
          "CHN",
          "CHN",
          "CHN",
          "CHN",
          "CHN",
          "CHN",
          "CHN",
          "CHN",
          "CHN",
          "CHN",
          "CHN",
          "CHN",
          "CHN",
          "CHN",
          "CHN",
          "CHN",
          "CHN",
          "CHN",
          "CHN",
          "CHN",
          "CHN",
          "FRA",
          "FRA",
          "FRA",
          "FRA",
          "FRA",
          "FRA",
          "FRA",
          "FRA",
          "FRA",
          "FRA",
          "FRA",
          "FRA",
          "FRA",
          "FRA",
          "FRA",
          "FRA",
          "FRA",
          "FRA",
          "FRA",
          "FRA",
          "FRA",
          "FRA",
          "FRA",
          "DEU",
          "DEU",
          "DEU",
          "DEU",
          "DEU",
          "DEU",
          "DEU",
          "DEU",
          "DEU",
          "DEU",
          "DEU",
          "DEU",
          "DEU",
          "DEU",
          "DEU",
          "DEU",
          "DEU",
          "DEU",
          "DEU",
          "DEU",
          "DEU",
          "DEU",
          "DEU",
          "IND",
          "IND",
          "IND",
          "IND",
          "IND",
          "IND",
          "IND",
          "IND",
          "IND",
          "IND",
          "IND",
          "IND",
          "IND",
          "IND",
          "IND",
          "IND",
          "IND",
          "IND",
          "IND",
          "IND",
          "IND",
          "IND",
          "IND",
          "IDN",
          "IDN",
          "IDN",
          "IDN",
          "IDN",
          "IDN",
          "IDN",
          "IDN",
          "IDN",
          "IDN",
          "IDN",
          "IDN",
          "IDN",
          "IDN",
          "IDN",
          "IDN",
          "IDN",
          "IDN",
          "IDN",
          "IDN",
          "IDN",
          "IDN",
          "IDN",
          "IRN",
          "IRN",
          "IRN",
          "IRN",
          "IRN",
          "IRN",
          "IRN",
          "IRN",
          "IRN",
          "IRN",
          "IRN",
          "IRN",
          "IRN",
          "IRN",
          "IRN",
          "IRN",
          "IRN",
          "IRN",
          "IRN",
          "IRN",
          "IRN",
          "IRN",
          "IRN",
          "RUS",
          "RUS",
          "RUS",
          "RUS",
          "RUS",
          "RUS",
          "RUS",
          "RUS",
          "RUS",
          "RUS",
          "RUS",
          "RUS",
          "RUS",
          "RUS",
          "RUS",
          "RUS",
          "RUS",
          "RUS",
          "RUS",
          "RUS",
          "RUS",
          "RUS",
          "RUS",
          "GBR",
          "GBR",
          "GBR",
          "GBR",
          "GBR",
          "GBR",
          "GBR",
          "GBR",
          "GBR",
          "GBR",
          "GBR",
          "GBR",
          "GBR",
          "GBR",
          "GBR",
          "GBR",
          "GBR",
          "GBR",
          "GBR",
          "GBR",
          "GBR",
          "GBR",
          "GBR",
          "USA",
          "USA",
          "USA",
          "USA",
          "USA",
          "USA",
          "USA",
          "USA",
          "USA",
          "USA",
          "USA",
          "USA",
          "USA",
          "USA",
          "USA",
          "USA",
          "USA",
          "USA",
          "USA",
          "USA",
          "USA",
          "USA",
          "USA"
         ],
         "name": "",
         "type": "choropleth",
         "z": [
          340.183,
          346.166,
          347.765,
          344.645,
          361.434,
          364.371,
          368.871,
          390.573,
          412.638,
          389.775,
          440.269,
          462.58,
          498.309,
          532.418,
          557.901,
          529.353,
          492.748,
          497.121,
          477.999,
          473.464,
          444.504,
          497.206,
          483.477,
          3649.201,
          3728.513,
          4103.042,
          4841.119,
          5217.351,
          5882.143,
          6494.338,
          6983.577,
          7501.498,
          7891.089,
          8620.627,
          9532.409,
          9779.354,
          9956.376,
          9998.674,
          9866.951,
          9765.029,
          10011.151,
          10353.935,
          10721.042,
          10914.012,
          11336.233,
          11396.777,
          406.508,
          411.016,
          406.431,
          412.457,
          413.663,
          416.151,
          406.31,
          396.198,
          389.427,
          370.966,
          376.564,
          354.089,
          356.445,
          358.487,
          327.009,
          331.414,
          334.005,
          336.896,
          322.079,
          315.45,
          281.539,
          306.776,
          297.534,
          898.938,
          915.242,
          898.835,
          899.858,
          885.633,
          865.471,
          877.498,
          850.23,
          852.858,
          788.286,
          831.13,
          807.614,
          812.816,
          833.804,
          794.738,
          798.085,
          801.745,
          785.986,
          754.811,
          707.491,
          647.252,
          678.799,
          665.605,
          977.526,
          990.97,
          1021.664,
          1059.16,
          1125.096,
          1185.674,
          1292.485,
          1392.506,
          1489.437,
          1612.216,
          1677.337,
          1764.712,
          1925.7,
          1995.098,
          2148.344,
          2234.219,
          2354.658,
          2426.607,
          2593.058,
          2612.888,
          2421.552,
          2674.222,
          2829.644,
          281.33,
          317.027,
          308.486,
          339.357,
          343.022,
          347.617,
          346.633,
          387.858,
          365.718,
          398.942,
          445.806,
          500.725,
          515.954,
          489.055,
          487.89,
          539.149,
          540.086,
          556.944,
          594.101,
          650.906,
          605.985,
          615.923,
          728.883,
          364.302,
          386.158,
          393.41,
          407.077,
          437.679,
          462.003,
          496.07,
          502.565,
          522.557,
          536.605,
          552.953,
          566.289,
          588.365,
          597.952,
          632.673,
          631.581,
          633.827,
          685.401,
          710.215,
          694.667,
          679.007,
          688.076,
          690.635,
          1479.142,
          1515.647,
          1506.788,
          1537.018,
          1543.957,
          1562.577,
          1623.002,
          1623.781,
          1652.064,
          1545.034,
          1632.783,
          1685.91,
          1701.268,
          1640.437,
          1639.959,
          1638.675,
          1634.885,
          1666.121,
          1712.494,
          1705.031,
          1632.929,
          1711.993,
          1652.177,
          569.034,
          577.971,
          560.273,
          571.619,
          573.43,
          570.338,
          567.846,
          559.566,
          544.932,
          494.108,
          511.905,
          469.713,
          487.477,
          477.611,
          438.807,
          422.461,
          399.43,
          387.367,
          379.73,
          364.753,
          326.263,
          347.465,
          318.654,
          6010.136,
          5907.74,
          5946.308,
          6010.146,
          6112.655,
          6132.183,
          6052.686,
          6130.123,
          5915.119,
          5480.726,
          5679.715,
          5546.116,
          5344.086,
          5480.157,
          5528.681,
          5376.473,
          5252.932,
          5212.162,
          5377.797,
          5262.145,
          4714.628,
          5032.213,
          5057.304
         ]
        }
       ],
       "layout": {
        "coloraxis": {
         "colorbar": {
          "title": {
           "text": "CO2 Emissions"
          }
         },
         "colorscale": [
          [
           0,
           "rgb(255,245,240)"
          ],
          [
           0.125,
           "rgb(254,224,210)"
          ],
          [
           0.25,
           "rgb(252,187,161)"
          ],
          [
           0.375,
           "rgb(252,146,114)"
          ],
          [
           0.5,
           "rgb(251,106,74)"
          ],
          [
           0.625,
           "rgb(239,59,44)"
          ],
          [
           0.75,
           "rgb(203,24,29)"
          ],
          [
           0.875,
           "rgb(165,15,21)"
          ],
          [
           1,
           "rgb(103,0,13)"
          ]
         ]
        },
        "geo": {
         "center": {},
         "countrycolor": "darkgrey",
         "domain": {
          "x": [
           0,
           1
          ],
          "y": [
           0,
           1
          ]
         },
         "landcolor": "lightgrey",
         "resolution": 110,
         "scope": "world",
         "showcountries": true,
         "showland": true
        },
        "legend": {
         "tracegroupgap": 0
        },
        "margin": {
         "b": 0,
         "l": 0,
         "r": 0,
         "t": 55
        },
        "template": {
         "data": {
          "bar": [
           {
            "error_x": {
             "color": "#2a3f5f"
            },
            "error_y": {
             "color": "#2a3f5f"
            },
            "marker": {
             "line": {
              "color": "#E5ECF6",
              "width": 0.5
             },
             "pattern": {
              "fillmode": "overlay",
              "size": 10,
              "solidity": 0.2
             }
            },
            "type": "bar"
           }
          ],
          "barpolar": [
           {
            "marker": {
             "line": {
              "color": "#E5ECF6",
              "width": 0.5
             },
             "pattern": {
              "fillmode": "overlay",
              "size": 10,
              "solidity": 0.2
             }
            },
            "type": "barpolar"
           }
          ],
          "carpet": [
           {
            "aaxis": {
             "endlinecolor": "#2a3f5f",
             "gridcolor": "white",
             "linecolor": "white",
             "minorgridcolor": "white",
             "startlinecolor": "#2a3f5f"
            },
            "baxis": {
             "endlinecolor": "#2a3f5f",
             "gridcolor": "white",
             "linecolor": "white",
             "minorgridcolor": "white",
             "startlinecolor": "#2a3f5f"
            },
            "type": "carpet"
           }
          ],
          "choropleth": [
           {
            "colorbar": {
             "outlinewidth": 0,
             "ticks": ""
            },
            "type": "choropleth"
           }
          ],
          "contour": [
           {
            "colorbar": {
             "outlinewidth": 0,
             "ticks": ""
            },
            "colorscale": [
             [
              0,
              "#0d0887"
             ],
             [
              0.1111111111111111,
              "#46039f"
             ],
             [
              0.2222222222222222,
              "#7201a8"
             ],
             [
              0.3333333333333333,
              "#9c179e"
             ],
             [
              0.4444444444444444,
              "#bd3786"
             ],
             [
              0.5555555555555556,
              "#d8576b"
             ],
             [
              0.6666666666666666,
              "#ed7953"
             ],
             [
              0.7777777777777778,
              "#fb9f3a"
             ],
             [
              0.8888888888888888,
              "#fdca26"
             ],
             [
              1,
              "#f0f921"
             ]
            ],
            "type": "contour"
           }
          ],
          "contourcarpet": [
           {
            "colorbar": {
             "outlinewidth": 0,
             "ticks": ""
            },
            "type": "contourcarpet"
           }
          ],
          "heatmap": [
           {
            "colorbar": {
             "outlinewidth": 0,
             "ticks": ""
            },
            "colorscale": [
             [
              0,
              "#0d0887"
             ],
             [
              0.1111111111111111,
              "#46039f"
             ],
             [
              0.2222222222222222,
              "#7201a8"
             ],
             [
              0.3333333333333333,
              "#9c179e"
             ],
             [
              0.4444444444444444,
              "#bd3786"
             ],
             [
              0.5555555555555556,
              "#d8576b"
             ],
             [
              0.6666666666666666,
              "#ed7953"
             ],
             [
              0.7777777777777778,
              "#fb9f3a"
             ],
             [
              0.8888888888888888,
              "#fdca26"
             ],
             [
              1,
              "#f0f921"
             ]
            ],
            "type": "heatmap"
           }
          ],
          "heatmapgl": [
           {
            "colorbar": {
             "outlinewidth": 0,
             "ticks": ""
            },
            "colorscale": [
             [
              0,
              "#0d0887"
             ],
             [
              0.1111111111111111,
              "#46039f"
             ],
             [
              0.2222222222222222,
              "#7201a8"
             ],
             [
              0.3333333333333333,
              "#9c179e"
             ],
             [
              0.4444444444444444,
              "#bd3786"
             ],
             [
              0.5555555555555556,
              "#d8576b"
             ],
             [
              0.6666666666666666,
              "#ed7953"
             ],
             [
              0.7777777777777778,
              "#fb9f3a"
             ],
             [
              0.8888888888888888,
              "#fdca26"
             ],
             [
              1,
              "#f0f921"
             ]
            ],
            "type": "heatmapgl"
           }
          ],
          "histogram": [
           {
            "marker": {
             "pattern": {
              "fillmode": "overlay",
              "size": 10,
              "solidity": 0.2
             }
            },
            "type": "histogram"
           }
          ],
          "histogram2d": [
           {
            "colorbar": {
             "outlinewidth": 0,
             "ticks": ""
            },
            "colorscale": [
             [
              0,
              "#0d0887"
             ],
             [
              0.1111111111111111,
              "#46039f"
             ],
             [
              0.2222222222222222,
              "#7201a8"
             ],
             [
              0.3333333333333333,
              "#9c179e"
             ],
             [
              0.4444444444444444,
              "#bd3786"
             ],
             [
              0.5555555555555556,
              "#d8576b"
             ],
             [
              0.6666666666666666,
              "#ed7953"
             ],
             [
              0.7777777777777778,
              "#fb9f3a"
             ],
             [
              0.8888888888888888,
              "#fdca26"
             ],
             [
              1,
              "#f0f921"
             ]
            ],
            "type": "histogram2d"
           }
          ],
          "histogram2dcontour": [
           {
            "colorbar": {
             "outlinewidth": 0,
             "ticks": ""
            },
            "colorscale": [
             [
              0,
              "#0d0887"
             ],
             [
              0.1111111111111111,
              "#46039f"
             ],
             [
              0.2222222222222222,
              "#7201a8"
             ],
             [
              0.3333333333333333,
              "#9c179e"
             ],
             [
              0.4444444444444444,
              "#bd3786"
             ],
             [
              0.5555555555555556,
              "#d8576b"
             ],
             [
              0.6666666666666666,
              "#ed7953"
             ],
             [
              0.7777777777777778,
              "#fb9f3a"
             ],
             [
              0.8888888888888888,
              "#fdca26"
             ],
             [
              1,
              "#f0f921"
             ]
            ],
            "type": "histogram2dcontour"
           }
          ],
          "mesh3d": [
           {
            "colorbar": {
             "outlinewidth": 0,
             "ticks": ""
            },
            "type": "mesh3d"
           }
          ],
          "parcoords": [
           {
            "line": {
             "colorbar": {
              "outlinewidth": 0,
              "ticks": ""
             }
            },
            "type": "parcoords"
           }
          ],
          "pie": [
           {
            "automargin": true,
            "type": "pie"
           }
          ],
          "scatter": [
           {
            "fillpattern": {
             "fillmode": "overlay",
             "size": 10,
             "solidity": 0.2
            },
            "type": "scatter"
           }
          ],
          "scatter3d": [
           {
            "line": {
             "colorbar": {
              "outlinewidth": 0,
              "ticks": ""
             }
            },
            "marker": {
             "colorbar": {
              "outlinewidth": 0,
              "ticks": ""
             }
            },
            "type": "scatter3d"
           }
          ],
          "scattercarpet": [
           {
            "marker": {
             "colorbar": {
              "outlinewidth": 0,
              "ticks": ""
             }
            },
            "type": "scattercarpet"
           }
          ],
          "scattergeo": [
           {
            "marker": {
             "colorbar": {
              "outlinewidth": 0,
              "ticks": ""
             }
            },
            "type": "scattergeo"
           }
          ],
          "scattergl": [
           {
            "marker": {
             "colorbar": {
              "outlinewidth": 0,
              "ticks": ""
             }
            },
            "type": "scattergl"
           }
          ],
          "scattermapbox": [
           {
            "marker": {
             "colorbar": {
              "outlinewidth": 0,
              "ticks": ""
             }
            },
            "type": "scattermapbox"
           }
          ],
          "scatterpolar": [
           {
            "marker": {
             "colorbar": {
              "outlinewidth": 0,
              "ticks": ""
             }
            },
            "type": "scatterpolar"
           }
          ],
          "scatterpolargl": [
           {
            "marker": {
             "colorbar": {
              "outlinewidth": 0,
              "ticks": ""
             }
            },
            "type": "scatterpolargl"
           }
          ],
          "scatterternary": [
           {
            "marker": {
             "colorbar": {
              "outlinewidth": 0,
              "ticks": ""
             }
            },
            "type": "scatterternary"
           }
          ],
          "surface": [
           {
            "colorbar": {
             "outlinewidth": 0,
             "ticks": ""
            },
            "colorscale": [
             [
              0,
              "#0d0887"
             ],
             [
              0.1111111111111111,
              "#46039f"
             ],
             [
              0.2222222222222222,
              "#7201a8"
             ],
             [
              0.3333333333333333,
              "#9c179e"
             ],
             [
              0.4444444444444444,
              "#bd3786"
             ],
             [
              0.5555555555555556,
              "#d8576b"
             ],
             [
              0.6666666666666666,
              "#ed7953"
             ],
             [
              0.7777777777777778,
              "#fb9f3a"
             ],
             [
              0.8888888888888888,
              "#fdca26"
             ],
             [
              1,
              "#f0f921"
             ]
            ],
            "type": "surface"
           }
          ],
          "table": [
           {
            "cells": {
             "fill": {
              "color": "#EBF0F8"
             },
             "line": {
              "color": "white"
             }
            },
            "header": {
             "fill": {
              "color": "#C8D4E3"
             },
             "line": {
              "color": "white"
             }
            },
            "type": "table"
           }
          ]
         },
         "layout": {
          "annotationdefaults": {
           "arrowcolor": "#2a3f5f",
           "arrowhead": 0,
           "arrowwidth": 1
          },
          "autotypenumbers": "strict",
          "coloraxis": {
           "colorbar": {
            "outlinewidth": 0,
            "ticks": ""
           }
          },
          "colorscale": {
           "diverging": [
            [
             0,
             "#8e0152"
            ],
            [
             0.1,
             "#c51b7d"
            ],
            [
             0.2,
             "#de77ae"
            ],
            [
             0.3,
             "#f1b6da"
            ],
            [
             0.4,
             "#fde0ef"
            ],
            [
             0.5,
             "#f7f7f7"
            ],
            [
             0.6,
             "#e6f5d0"
            ],
            [
             0.7,
             "#b8e186"
            ],
            [
             0.8,
             "#7fbc41"
            ],
            [
             0.9,
             "#4d9221"
            ],
            [
             1,
             "#276419"
            ]
           ],
           "sequential": [
            [
             0,
             "#0d0887"
            ],
            [
             0.1111111111111111,
             "#46039f"
            ],
            [
             0.2222222222222222,
             "#7201a8"
            ],
            [
             0.3333333333333333,
             "#9c179e"
            ],
            [
             0.4444444444444444,
             "#bd3786"
            ],
            [
             0.5555555555555556,
             "#d8576b"
            ],
            [
             0.6666666666666666,
             "#ed7953"
            ],
            [
             0.7777777777777778,
             "#fb9f3a"
            ],
            [
             0.8888888888888888,
             "#fdca26"
            ],
            [
             1,
             "#f0f921"
            ]
           ],
           "sequentialminus": [
            [
             0,
             "#0d0887"
            ],
            [
             0.1111111111111111,
             "#46039f"
            ],
            [
             0.2222222222222222,
             "#7201a8"
            ],
            [
             0.3333333333333333,
             "#9c179e"
            ],
            [
             0.4444444444444444,
             "#bd3786"
            ],
            [
             0.5555555555555556,
             "#d8576b"
            ],
            [
             0.6666666666666666,
             "#ed7953"
            ],
            [
             0.7777777777777778,
             "#fb9f3a"
            ],
            [
             0.8888888888888888,
             "#fdca26"
            ],
            [
             1,
             "#f0f921"
            ]
           ]
          },
          "colorway": [
           "#636efa",
           "#EF553B",
           "#00cc96",
           "#ab63fa",
           "#FFA15A",
           "#19d3f3",
           "#FF6692",
           "#B6E880",
           "#FF97FF",
           "#FECB52"
          ],
          "font": {
           "color": "#2a3f5f"
          },
          "geo": {
           "bgcolor": "white",
           "lakecolor": "white",
           "landcolor": "#E5ECF6",
           "showlakes": true,
           "showland": true,
           "subunitcolor": "white"
          },
          "hoverlabel": {
           "align": "left"
          },
          "hovermode": "closest",
          "mapbox": {
           "style": "light"
          },
          "paper_bgcolor": "white",
          "plot_bgcolor": "#E5ECF6",
          "polar": {
           "angularaxis": {
            "gridcolor": "white",
            "linecolor": "white",
            "ticks": ""
           },
           "bgcolor": "#E5ECF6",
           "radialaxis": {
            "gridcolor": "white",
            "linecolor": "white",
            "ticks": ""
           }
          },
          "scene": {
           "xaxis": {
            "backgroundcolor": "#E5ECF6",
            "gridcolor": "white",
            "gridwidth": 2,
            "linecolor": "white",
            "showbackground": true,
            "ticks": "",
            "zerolinecolor": "white"
           },
           "yaxis": {
            "backgroundcolor": "#E5ECF6",
            "gridcolor": "white",
            "gridwidth": 2,
            "linecolor": "white",
            "showbackground": true,
            "ticks": "",
            "zerolinecolor": "white"
           },
           "zaxis": {
            "backgroundcolor": "#E5ECF6",
            "gridcolor": "white",
            "gridwidth": 2,
            "linecolor": "white",
            "showbackground": true,
            "ticks": "",
            "zerolinecolor": "white"
           }
          },
          "shapedefaults": {
           "line": {
            "color": "#2a3f5f"
           }
          },
          "ternary": {
           "aaxis": {
            "gridcolor": "white",
            "linecolor": "white",
            "ticks": ""
           },
           "baxis": {
            "gridcolor": "white",
            "linecolor": "white",
            "ticks": ""
           },
           "bgcolor": "#E5ECF6",
           "caxis": {
            "gridcolor": "white",
            "linecolor": "white",
            "ticks": ""
           }
          },
          "title": {
           "x": 0.05
          },
          "xaxis": {
           "automargin": true,
           "gridcolor": "white",
           "linecolor": "white",
           "ticks": "",
           "title": {
            "standoff": 15
           },
           "zerolinecolor": "white",
           "zerolinewidth": 2
          },
          "yaxis": {
           "automargin": true,
           "gridcolor": "white",
           "linecolor": "white",
           "ticks": "",
           "title": {
            "standoff": 15
           },
           "zerolinecolor": "white",
           "zerolinewidth": 2
          }
         }
        },
        "title": {
         "font": {
          "size": 30
         },
         "text": "CO2 emissions by country"
        }
       }
      }
     },
     "metadata": {},
     "output_type": "display_data"
    }
   ],
   "source": [
    "start_year = 2000\n",
    "end_year = 2022\n",
    "country_codes = [\"USA\", \"CHN\", \"IND\", \"RUS\",\n",
    "                 \"DEU\", \"GBR\", \"FRA\", \"BRA\", \"IDN\", \"IRN\"]\n",
    "\n",
    "df_filtered = df.query(f\"{start_year} <= year <= {end_year}\")\n",
    "df_filtered = df_filtered[df_filtered.iso_code.isin(country_codes)]\n",
    "\n",
    "fig = px.choropleth(\n",
    "    df_filtered,\n",
    "    locations=\"iso_code\",\n",
    "    color=\"co2\",\n",
    "    color_continuous_scale=\"reds\",\n",
    "    labels={\"co2\": \"CO2 Emissions\"},\n",
    "    hover_name=\"country\",\n",
    "    scope=\"world\",\n",
    ")\n",
    "fig.update_layout(\n",
    "    title_text=\"CO2 emissions by country\",\n",
    "    title_font_size=30,\n",
    "    margin={\"r\": 0, \"t\": 55, \"l\": 0, \"b\": 0},\n",
    ")\n",
    "fig.update_geos(\n",
    "    resolution=110,\n",
    "    showcountries=True,\n",
    "    showland=True,\n",
    "    landcolor=\"lightgrey\",\n",
    "    countrycolor=\"darkgrey\",\n",
    ")\n",
    "fig.show()"
   ]
  },
  {
   "cell_type": "code",
   "execution_count": 10,
   "metadata": {},
   "outputs": [
    {
     "data": {
      "text/plain": [
       "{'Aruba': 'ABW',\n",
       " 'Afghanistan': 'AFG',\n",
       " 'Angola': 'AGO',\n",
       " 'Anguilla': 'AIA',\n",
       " 'Albania': 'ALB',\n",
       " 'Andorra': 'AND',\n",
       " 'United Arab Emirates': 'ARE',\n",
       " 'Argentina': 'ARG',\n",
       " 'Armenia': 'ARM',\n",
       " 'Antarctica': 'ATA',\n",
       " 'Antigua and Barbuda': 'ATG',\n",
       " 'Australia': 'AUS',\n",
       " 'Austria': 'AUT',\n",
       " 'Azerbaijan': 'AZE',\n",
       " 'Burundi': 'BDI',\n",
       " 'Belgium': 'BEL',\n",
       " 'Benin': 'BEN',\n",
       " 'Bonaire Sint Eustatius and Saba': 'BES',\n",
       " 'Burkina Faso': 'BFA',\n",
       " 'Bangladesh': 'BGD',\n",
       " 'Bulgaria': 'BGR',\n",
       " 'Bahrain': 'BHR',\n",
       " 'Bahamas': 'BHS',\n",
       " 'Bosnia and Herzegovina': 'BIH',\n",
       " 'Belarus': 'BLR',\n",
       " 'Belize': 'BLZ',\n",
       " 'Bermuda': 'BMU',\n",
       " 'Bolivia': 'BOL',\n",
       " 'Brazil': 'BRA',\n",
       " 'Barbados': 'BRB',\n",
       " 'Brunei': 'BRN',\n",
       " 'Bhutan': 'BTN',\n",
       " 'Botswana': 'BWA',\n",
       " 'Central African Republic': 'CAF',\n",
       " 'Canada': 'CAN',\n",
       " 'Switzerland': 'CHE',\n",
       " 'Chile': 'CHL',\n",
       " 'China': 'CHN',\n",
       " \"Cote d'Ivoire\": 'CIV',\n",
       " 'Cameroon': 'CMR',\n",
       " 'Democratic Republic of Congo': 'COD',\n",
       " 'Congo': 'COG',\n",
       " 'Cook Islands': 'COK',\n",
       " 'Colombia': 'COL',\n",
       " 'Comoros': 'COM',\n",
       " 'Cape Verde': 'CPV',\n",
       " 'Costa Rica': 'CRI',\n",
       " 'Cuba': 'CUB',\n",
       " 'Curacao': 'CUW',\n",
       " 'Christmas Island': 'CXR',\n",
       " 'Cyprus': 'CYP',\n",
       " 'Czechia': 'CZE',\n",
       " 'Germany': 'DEU',\n",
       " 'Djibouti': 'DJI',\n",
       " 'Dominica': 'DMA',\n",
       " 'Denmark': 'DNK',\n",
       " 'Dominican Republic': 'DOM',\n",
       " 'Algeria': 'DZA',\n",
       " 'Ecuador': 'ECU',\n",
       " 'Egypt': 'EGY',\n",
       " 'Eritrea': 'ERI',\n",
       " 'Spain': 'ESP',\n",
       " 'Estonia': 'EST',\n",
       " 'Ethiopia': 'ETH',\n",
       " 'Finland': 'FIN',\n",
       " 'Fiji': 'FJI',\n",
       " 'France': 'FRA',\n",
       " 'Faroe Islands': 'FRO',\n",
       " 'Micronesia (country)': 'FSM',\n",
       " 'Gabon': 'GAB',\n",
       " 'United Kingdom': 'GBR',\n",
       " 'Georgia': 'GEO',\n",
       " 'Ghana': 'GHA',\n",
       " 'Guinea': 'GIN',\n",
       " 'Gambia': 'GMB',\n",
       " 'Guinea-Bissau': 'GNB',\n",
       " 'Equatorial Guinea': 'GNQ',\n",
       " 'Greece': 'GRC',\n",
       " 'Grenada': 'GRD',\n",
       " 'Greenland': 'GRL',\n",
       " 'Guatemala': 'GTM',\n",
       " 'Guyana': 'GUY',\n",
       " 'Hong Kong': 'HKG',\n",
       " 'Honduras': 'HND',\n",
       " 'Croatia': 'HRV',\n",
       " 'Haiti': 'HTI',\n",
       " 'Hungary': 'HUN',\n",
       " 'Indonesia': 'IDN',\n",
       " 'India': 'IND',\n",
       " 'Ireland': 'IRL',\n",
       " 'Iran': 'IRN',\n",
       " 'Iraq': 'IRQ',\n",
       " 'Iceland': 'ISL',\n",
       " 'Israel': 'ISR',\n",
       " 'Italy': 'ITA',\n",
       " 'Jamaica': 'JAM',\n",
       " 'Jordan': 'JOR',\n",
       " 'Japan': 'JPN',\n",
       " 'Kazakhstan': 'KAZ',\n",
       " 'Kenya': 'KEN',\n",
       " 'Kyrgyzstan': 'KGZ',\n",
       " 'Cambodia': 'KHM',\n",
       " 'Kiribati': 'KIR',\n",
       " 'Saint Kitts and Nevis': 'KNA',\n",
       " 'South Korea': 'KOR',\n",
       " 'Kuwait': 'KWT',\n",
       " 'Laos': 'LAO',\n",
       " 'Lebanon': 'LBN',\n",
       " 'Liberia': 'LBR',\n",
       " 'Libya': 'LBY',\n",
       " 'Saint Lucia': 'LCA',\n",
       " 'Liechtenstein': 'LIE',\n",
       " 'Sri Lanka': 'LKA',\n",
       " 'Lesotho': 'LSO',\n",
       " 'Lithuania': 'LTU',\n",
       " 'Luxembourg': 'LUX',\n",
       " 'Latvia': 'LVA',\n",
       " 'Macao': 'MAC',\n",
       " 'Morocco': 'MAR',\n",
       " 'Monaco': 'MCO',\n",
       " 'Moldova': 'MDA',\n",
       " 'Madagascar': 'MDG',\n",
       " 'Maldives': 'MDV',\n",
       " 'Mexico': 'MEX',\n",
       " 'Marshall Islands': 'MHL',\n",
       " 'North Macedonia': 'MKD',\n",
       " 'Mali': 'MLI',\n",
       " 'Malta': 'MLT',\n",
       " 'Myanmar': 'MMR',\n",
       " 'Montenegro': 'MNE',\n",
       " 'Mongolia': 'MNG',\n",
       " 'Mozambique': 'MOZ',\n",
       " 'Mauritania': 'MRT',\n",
       " 'Montserrat': 'MSR',\n",
       " 'Mauritius': 'MUS',\n",
       " 'Malawi': 'MWI',\n",
       " 'Malaysia': 'MYS',\n",
       " 'Namibia': 'NAM',\n",
       " 'New Caledonia': 'NCL',\n",
       " 'Niger': 'NER',\n",
       " 'Nigeria': 'NGA',\n",
       " 'Nicaragua': 'NIC',\n",
       " 'Niue': 'NIU',\n",
       " 'Netherlands': 'NLD',\n",
       " 'Norway': 'NOR',\n",
       " 'Nepal': 'NPL',\n",
       " 'Nauru': 'NRU',\n",
       " 'New Zealand': 'NZL',\n",
       " 'Oman': 'OMN',\n",
       " 'Pakistan': 'PAK',\n",
       " 'Panama': 'PAN',\n",
       " 'Peru': 'PER',\n",
       " 'Philippines': 'PHL',\n",
       " 'Palau': 'PLW',\n",
       " 'Papua New Guinea': 'PNG',\n",
       " 'Poland': 'POL',\n",
       " 'Puerto Rico': 'PRI',\n",
       " 'North Korea': 'PRK',\n",
       " 'Portugal': 'PRT',\n",
       " 'Paraguay': 'PRY',\n",
       " 'Palestine': 'PSE',\n",
       " 'French Polynesia': 'PYF',\n",
       " 'Qatar': 'QAT',\n",
       " 'Romania': 'ROU',\n",
       " 'Russia': 'RUS',\n",
       " 'Rwanda': 'RWA',\n",
       " 'Saudi Arabia': 'SAU',\n",
       " 'Sudan': 'SDN',\n",
       " 'Senegal': 'SEN',\n",
       " 'Singapore': 'SGP',\n",
       " 'Saint Helena': 'SHN',\n",
       " 'Solomon Islands': 'SLB',\n",
       " 'Sierra Leone': 'SLE',\n",
       " 'El Salvador': 'SLV',\n",
       " 'San Marino': 'SMR',\n",
       " 'Somalia': 'SOM',\n",
       " 'Saint Pierre and Miquelon': 'SPM',\n",
       " 'Serbia': 'SRB',\n",
       " 'South Sudan': 'SSD',\n",
       " 'Sao Tome and Principe': 'STP',\n",
       " 'Suriname': 'SUR',\n",
       " 'Slovakia': 'SVK',\n",
       " 'Slovenia': 'SVN',\n",
       " 'Sweden': 'SWE',\n",
       " 'Eswatini': 'SWZ',\n",
       " 'Sint Maarten (Dutch part)': 'SXM',\n",
       " 'Seychelles': 'SYC',\n",
       " 'Syria': 'SYR',\n",
       " 'Turks and Caicos Islands': 'TCA',\n",
       " 'Chad': 'TCD',\n",
       " 'Togo': 'TGO',\n",
       " 'Thailand': 'THA',\n",
       " 'Tajikistan': 'TJK',\n",
       " 'Turkmenistan': 'TKM',\n",
       " 'East Timor': 'TLS',\n",
       " 'Tonga': 'TON',\n",
       " 'Trinidad and Tobago': 'TTO',\n",
       " 'Tunisia': 'TUN',\n",
       " 'Turkey': 'TUR',\n",
       " 'Tuvalu': 'TUV',\n",
       " 'Taiwan': 'TWN',\n",
       " 'Tanzania': 'TZA',\n",
       " 'Uganda': 'UGA',\n",
       " 'Ukraine': 'UKR',\n",
       " 'Uruguay': 'URY',\n",
       " 'United States': 'USA',\n",
       " 'Uzbekistan': 'UZB',\n",
       " 'Vatican': 'VAT',\n",
       " 'Saint Vincent and the Grenadines': 'VCT',\n",
       " 'Venezuela': 'VEN',\n",
       " 'British Virgin Islands': 'VGB',\n",
       " 'Vietnam': 'VNM',\n",
       " 'Vanuatu': 'VUT',\n",
       " 'Wallis and Futuna': 'WLF',\n",
       " 'Samoa': 'WSM',\n",
       " 'Yemen': 'YEM',\n",
       " 'South Africa': 'ZAF',\n",
       " 'Zambia': 'ZMB',\n",
       " 'Zimbabwe': 'ZWE'}"
      ]
     },
     "execution_count": 10,
     "metadata": {},
     "output_type": "execute_result"
    }
   ],
   "source": [
    "# Get dictionary of country names and codes\n",
    "country_codes = df.groupby([\"iso_code\", \"country\"]).size().reset_index()\n",
    "country_codes = (\n",
    "    country_codes[[\"iso_code\", \"country\"]].set_index(\"country\")[\n",
    "        \"iso_code\"].to_dict()\n",
    ")\n",
    "country_codes"
   ]
  },
  {
   "cell_type": "markdown",
   "metadata": {},
   "source": [
    "## Plot of bar chart of the top 10 countries with highest CO2 Emission in the time period"
   ]
  },
  {
   "cell_type": "code",
   "execution_count": 11,
   "metadata": {},
   "outputs": [],
   "source": [
    "start_year = 2000\n",
    "end_year = 2022\n",
    "country_codes = None\n",
    "\n",
    "df_filtered = df.query(f\"{start_year} <= year <= {end_year}\")\n",
    "if country_codes:\n",
    "    df_filtered = df_filtered[df_filtered.iso_code.isin(country_codes)]\n",
    "# else:\n",
    "#     df_filtered = df_filtered[df_filtered.iso_code == \"WORLD\"]\n",
    "df_sorted = (\n",
    "    df_filtered.groupby(\"country\")\n",
    "    .sum()\n",
    "    .sort_values(\"co2\", ascending=False)\n",
    "    .head(11)\n",
    "    .reset_index()\n",
    ")\n",
    "# df_sorted.head().reset_index()"
   ]
  },
  {
   "cell_type": "code",
   "execution_count": 12,
   "metadata": {},
   "outputs": [
    {
     "data": {
      "text/html": [
       "\n",
       "<style>\n",
       "  #altair-viz-ee0bd2309ade400dae0c597e9d220f68.vega-embed {\n",
       "    width: 100%;\n",
       "    display: flex;\n",
       "  }\n",
       "\n",
       "  #altair-viz-ee0bd2309ade400dae0c597e9d220f68.vega-embed details,\n",
       "  #altair-viz-ee0bd2309ade400dae0c597e9d220f68.vega-embed details summary {\n",
       "    position: relative;\n",
       "  }\n",
       "</style>\n",
       "<div id=\"altair-viz-ee0bd2309ade400dae0c597e9d220f68\"></div>\n",
       "<script type=\"text/javascript\">\n",
       "  var VEGA_DEBUG = (typeof VEGA_DEBUG == \"undefined\") ? {} : VEGA_DEBUG;\n",
       "  (function(spec, embedOpt){\n",
       "    let outputDiv = document.currentScript.previousElementSibling;\n",
       "    if (outputDiv.id !== \"altair-viz-ee0bd2309ade400dae0c597e9d220f68\") {\n",
       "      outputDiv = document.getElementById(\"altair-viz-ee0bd2309ade400dae0c597e9d220f68\");\n",
       "    }\n",
       "    const paths = {\n",
       "      \"vega\": \"https://cdn.jsdelivr.net/npm/vega@5?noext\",\n",
       "      \"vega-lib\": \"https://cdn.jsdelivr.net/npm/vega-lib?noext\",\n",
       "      \"vega-lite\": \"https://cdn.jsdelivr.net/npm/vega-lite@5.16.3?noext\",\n",
       "      \"vega-embed\": \"https://cdn.jsdelivr.net/npm/vega-embed@6?noext\",\n",
       "    };\n",
       "\n",
       "    function maybeLoadScript(lib, version) {\n",
       "      var key = `${lib.replace(\"-\", \"\")}_version`;\n",
       "      return (VEGA_DEBUG[key] == version) ?\n",
       "        Promise.resolve(paths[lib]) :\n",
       "        new Promise(function(resolve, reject) {\n",
       "          var s = document.createElement('script');\n",
       "          document.getElementsByTagName(\"head\")[0].appendChild(s);\n",
       "          s.async = true;\n",
       "          s.onload = () => {\n",
       "            VEGA_DEBUG[key] = version;\n",
       "            return resolve(paths[lib]);\n",
       "          };\n",
       "          s.onerror = () => reject(`Error loading script: ${paths[lib]}`);\n",
       "          s.src = paths[lib];\n",
       "        });\n",
       "    }\n",
       "\n",
       "    function showError(err) {\n",
       "      outputDiv.innerHTML = `<div class=\"error\" style=\"color:red;\">${err}</div>`;\n",
       "      throw err;\n",
       "    }\n",
       "\n",
       "    function displayChart(vegaEmbed) {\n",
       "      vegaEmbed(outputDiv, spec, embedOpt)\n",
       "        .catch(err => showError(`Javascript Error: ${err.message}<br>This usually means there's a typo in your chart specification. See the javascript console for the full traceback.`));\n",
       "    }\n",
       "\n",
       "    if(typeof define === \"function\" && define.amd) {\n",
       "      requirejs.config({paths});\n",
       "      require([\"vega-embed\"], displayChart, err => showError(`Error loading script: ${err.message}`));\n",
       "    } else {\n",
       "      maybeLoadScript(\"vega\", \"5\")\n",
       "        .then(() => maybeLoadScript(\"vega-lite\", \"5.16.3\"))\n",
       "        .then(() => maybeLoadScript(\"vega-embed\", \"6\"))\n",
       "        .catch(showError)\n",
       "        .then(() => displayChart(vegaEmbed));\n",
       "    }\n",
       "  })({\"config\": {\"view\": {\"continuousWidth\": 300, \"continuousHeight\": 300}}, \"data\": {\"name\": \"data-73da7335bb48ee6645370678e8b00adc\"}, \"mark\": {\"type\": \"bar\"}, \"encoding\": {\"color\": {\"field\": \"country\", \"legend\": null, \"type\": \"nominal\"}, \"x\": {\"field\": \"co2\", \"title\": \"CO2 Emissions\", \"type\": \"quantitative\"}, \"y\": {\"field\": \"country\", \"sort\": \"-x\", \"title\": \"Country\", \"type\": \"nominal\"}}, \"$schema\": \"https://vega.github.io/schema/vega-lite/v5.16.3.json\", \"datasets\": {\"data-73da7335bb48ee6645370678e8b00adc\": [{\"country\": \"World\", \"year\": 46253, \"iso_code\": 0, \"population\": 162721168384.0, \"gdp\": 480869059919872.0, \"cement_co2\": 28954.05, \"cement_co2_per_capita\": 4.038, \"co2\": 752032.841, \"co2_growth_abs\": 12316.29, \"co2_growth_prct\": 41.278999999999996, \"co2_including_luc\": 866134.171, \"co2_including_luc_growth_abs\": 10622.239, \"co2_including_luc_growth_prct\": 30.444, \"co2_including_luc_per_capita\": 122.327, \"co2_including_luc_per_gdp\": 2.048, \"co2_including_luc_per_unit_energy\": 6.144, \"co2_per_capita\": 106.017, \"co2_per_gdp\": 1.778, \"co2_per_unit_energy\": 5.319, \"coal_co2\": 303206.748, \"coal_co2_per_capita\": 42.652, \"consumption_co2\": 752032.841, \"consumption_co2_per_capita\": 106.017, \"consumption_co2_per_gdp\": 1.778, \"cumulative_cement_co2\": 708418.86, \"cumulative_co2\": 31954942.875, \"cumulative_co2_including_luc\": 49086997.625, \"cumulative_coal_co2\": 15235209.064, \"cumulative_flaring_co2\": 348908.241, \"cumulative_gas_co2\": 4280683.584, \"cumulative_luc_co2\": 17237226.187, \"cumulative_oil_co2\": 11224503.686999999, \"cumulative_other_co2\": 157219.637, \"energy_per_capita\": 458505.056, \"energy_per_gdp\": 7.696, \"flaring_co2\": 8438.037, \"flaring_co2_per_capita\": 1.194, \"gas_co2\": 144498.148, \"gas_co2_per_capita\": 20.298000000000002, \"ghg_excluding_lucf_per_capita\": 126.831, \"ghg_per_capita\": 131.283, \"land_use_change_co2\": 114101.336, \"land_use_change_co2_per_capita\": 16.306, \"methane\": 167178.23, \"methane_per_capita\": 23.942, \"nitrous_oxide\": 59598.45, \"nitrous_oxide_per_capita\": 8.528, \"oil_co2\": 260767.64, \"oil_co2_per_capita\": 36.967, \"other_co2_per_capita\": 0.87, \"other_industry_co2\": 6168.219, \"primary_energy_consumption\": 3255100.366, \"share_global_cement_co2\": 2300.0, \"share_global_co2\": 2300.0, \"share_global_co2_including_luc\": 2300.0, \"share_global_coal_co2\": 2300.0, \"share_global_cumulative_cement_co2\": 2300.0, \"share_global_cumulative_co2\": 2300.0, \"share_global_cumulative_co2_including_luc\": 2300.0, \"share_global_cumulative_coal_co2\": 2300.0, \"share_global_cumulative_flaring_co2\": 2300.0, \"share_global_cumulative_gas_co2\": 2300.0, \"share_global_cumulative_luc_co2\": 2300.0, \"share_global_cumulative_oil_co2\": 2300.0, \"share_global_cumulative_other_co2\": 2300.0, \"share_global_flaring_co2\": 2300.0, \"share_global_gas_co2\": 2300.0, \"share_global_luc_co2\": 2300.0, \"share_global_oil_co2\": 2300.0, \"share_global_other_co2\": 2300.0, \"share_of_temperature_change_from_ghg\": 2200.0, \"temperature_change_from_ch4\": 8.032, \"temperature_change_from_co2\": 20.383, \"temperature_change_from_ghg\": 29.955, \"temperature_change_from_n2o\": 1.541, \"total_ghg\": 919453.584, \"total_ghg_excluding_lucf\": 888838.93, \"trade_co2\": -0.002, \"trade_co2_share\": 0.0}, {\"country\": \"Non-OECD (GCP)\", \"year\": 46253, \"iso_code\": 0, \"population\": 0.0, \"gdp\": 0.0, \"cement_co2\": 0.0, \"cement_co2_per_capita\": 0.0, \"co2\": 429593.774, \"co2_growth_abs\": 0.0, \"co2_growth_prct\": 0.0, \"co2_including_luc\": 0.0, \"co2_including_luc_growth_abs\": 0.0, \"co2_including_luc_growth_prct\": 0.0, \"co2_including_luc_per_capita\": 0.0, \"co2_including_luc_per_gdp\": 0.0, \"co2_including_luc_per_unit_energy\": 0.0, \"co2_per_capita\": 0.0, \"co2_per_gdp\": 0.0, \"co2_per_unit_energy\": 0.0, \"coal_co2\": 0.0, \"coal_co2_per_capita\": 0.0, \"consumption_co2\": 369771.001, \"consumption_co2_per_capita\": 0.0, \"consumption_co2_per_gdp\": 0.0, \"cumulative_cement_co2\": 0.0, \"cumulative_co2\": 0.0, \"cumulative_co2_including_luc\": 0.0, \"cumulative_coal_co2\": 0.0, \"cumulative_flaring_co2\": 0.0, \"cumulative_gas_co2\": 0.0, \"cumulative_luc_co2\": 0.0, \"cumulative_oil_co2\": 0.0, \"cumulative_other_co2\": 0.0, \"energy_per_capita\": 0.0, \"energy_per_gdp\": 0.0, \"flaring_co2\": 0.0, \"flaring_co2_per_capita\": 0.0, \"gas_co2\": 0.0, \"gas_co2_per_capita\": 0.0, \"ghg_excluding_lucf_per_capita\": 0.0, \"ghg_per_capita\": 0.0, \"land_use_change_co2\": 0.0, \"land_use_change_co2_per_capita\": 0.0, \"methane\": 0.0, \"methane_per_capita\": 0.0, \"nitrous_oxide\": 0.0, \"nitrous_oxide_per_capita\": 0.0, \"oil_co2\": 0.0, \"oil_co2_per_capita\": 0.0, \"other_co2_per_capita\": 0.0, \"other_industry_co2\": 0.0, \"primary_energy_consumption\": 0.0, \"share_global_cement_co2\": 0.0, \"share_global_co2\": 0.0, \"share_global_co2_including_luc\": 0.0, \"share_global_coal_co2\": 0.0, \"share_global_cumulative_cement_co2\": 0.0, \"share_global_cumulative_co2\": 0.0, \"share_global_cumulative_co2_including_luc\": 0.0, \"share_global_cumulative_coal_co2\": 0.0, \"share_global_cumulative_flaring_co2\": 0.0, \"share_global_cumulative_gas_co2\": 0.0, \"share_global_cumulative_luc_co2\": 0.0, \"share_global_cumulative_oil_co2\": 0.0, \"share_global_cumulative_other_co2\": 0.0, \"share_global_flaring_co2\": 0.0, \"share_global_gas_co2\": 0.0, \"share_global_luc_co2\": 0.0, \"share_global_oil_co2\": 0.0, \"share_global_other_co2\": 0.0, \"share_of_temperature_change_from_ghg\": 0.0, \"temperature_change_from_ch4\": 0.0, \"temperature_change_from_co2\": 0.0, \"temperature_change_from_ghg\": 0.0, \"temperature_change_from_n2o\": 0.0, \"total_ghg\": 0.0, \"total_ghg_excluding_lucf\": 0.0, \"trade_co2\": 0.0, \"trade_co2_share\": 0.0}, {\"country\": \"Asia\", \"year\": 46253, \"iso_code\": 0, \"population\": 97931568992.0, \"gdp\": 0.0, \"cement_co2\": 22200.54, \"cement_co2_per_capita\": 5.127, \"co2\": 375042.245, \"co2_growth_abs\": 12819.612, \"co2_growth_prct\": 91.426, \"co2_including_luc\": 415617.118, \"co2_including_luc_growth_abs\": 12728.581, \"co2_including_luc_growth_prct\": 77.771, \"co2_including_luc_per_capita\": 96.506, \"co2_including_luc_per_gdp\": 8.926, \"co2_including_luc_per_unit_energy\": 6.458, \"co2_per_capita\": 86.96, \"co2_per_gdp\": 7.978, \"co2_per_unit_energy\": 5.792, \"coal_co2\": 204147.651, \"coal_co2_per_capita\": 47.211, \"consumption_co2\": 324480.478, \"consumption_co2_per_capita\": 75.581, \"consumption_co2_per_gdp\": 7.2860000000000005, \"cumulative_cement_co2\": 384500.896, \"cumulative_co2\": 8573947.984, \"cumulative_co2_including_luc\": 14095635.0, \"cumulative_coal_co2\": 4449247.462, \"cumulative_flaring_co2\": 125740.044, \"cumulative_gas_co2\": 825417.754, \"cumulative_luc_co2\": 6840439.0309999995, \"cumulative_oil_co2\": 2700003.844, \"cumulative_other_co2\": 89038.005, \"energy_per_capita\": 345718.981, \"energy_per_gdp\": 0.0, \"flaring_co2\": 2417.01, \"flaring_co2_per_capita\": 0.568, \"gas_co2\": 48952.816, \"gas_co2_per_capita\": 11.288, \"ghg_excluding_lucf_per_capita\": 98.375, \"ghg_per_capita\": 99.133, \"land_use_change_co2\": 47699.214, \"land_use_change_co2_per_capita\": 11.219, \"methane\": 74265.4, \"methane_per_capita\": 17.593, \"nitrous_oxide\": 23975.7, \"nitrous_oxide_per_capita\": 5.67, \"oil_co2\": 93587.226, \"oil_co2_per_capita\": 21.9, \"other_co2_per_capita\": 0.871, \"other_industry_co2\": 3737.001, \"primary_energy_consumption\": 1491669.668, \"share_global_cement_co2\": 1733.955, \"share_global_co2\": 1128.485, \"share_global_co2_including_luc\": 1089.655, \"share_global_coal_co2\": 1513.7930000000001, \"share_global_cumulative_cement_co2\": 1204.025, \"share_global_cumulative_co2\": 603.009, \"share_global_cumulative_co2_including_luc\": 653.9929999999999, \"share_global_cumulative_coal_co2\": 654.765, \"share_global_cumulative_flaring_co2\": 833.234, \"share_global_cumulative_gas_co2\": 425.126, \"share_global_cumulative_luc_co2\": 912.722, \"share_global_cumulative_oil_co2\": 546.442, \"share_global_cumulative_other_co2\": 1295.636, \"share_global_flaring_co2\": 658.966, \"share_global_gas_co2\": 757.943, \"share_global_luc_co2\": 971.215, \"share_global_oil_co2\": 822.8580000000001, \"share_global_other_co2\": 1377.063, \"share_of_temperature_change_from_ghg\": 700.3539999999999, \"temperature_change_from_ch4\": 3.425, \"temperature_change_from_co2\": 5.701, \"temperature_change_from_ghg\": 9.605, \"temperature_change_from_n2o\": 0.484, \"total_ghg\": 422245.04699999996, \"total_ghg_excluding_lucf\": 419109.998, \"trade_co2\": -28789.416, \"trade_co2_share\": -183.968}, {\"country\": \"Asia (GCP)\", \"year\": 46253, \"iso_code\": 0, \"population\": 0.0, \"gdp\": 0.0, \"cement_co2\": 0.0, \"cement_co2_per_capita\": 0.0, \"co2\": 326296.098, \"co2_growth_abs\": 0.0, \"co2_growth_prct\": 0.0, \"co2_including_luc\": 0.0, \"co2_including_luc_growth_abs\": 0.0, \"co2_including_luc_growth_prct\": 0.0, \"co2_including_luc_per_capita\": 0.0, \"co2_including_luc_per_gdp\": 0.0, \"co2_including_luc_per_unit_energy\": 0.0, \"co2_per_capita\": 0.0, \"co2_per_gdp\": 0.0, \"co2_per_unit_energy\": 0.0, \"coal_co2\": 0.0, \"coal_co2_per_capita\": 0.0, \"consumption_co2\": 290067.065, \"consumption_co2_per_capita\": 0.0, \"consumption_co2_per_gdp\": 0.0, \"cumulative_cement_co2\": 0.0, \"cumulative_co2\": 0.0, \"cumulative_co2_including_luc\": 0.0, \"cumulative_coal_co2\": 0.0, \"cumulative_flaring_co2\": 0.0, \"cumulative_gas_co2\": 0.0, \"cumulative_luc_co2\": 0.0, \"cumulative_oil_co2\": 0.0, \"cumulative_other_co2\": 0.0, \"energy_per_capita\": 0.0, \"energy_per_gdp\": 0.0, \"flaring_co2\": 0.0, \"flaring_co2_per_capita\": 0.0, \"gas_co2\": 0.0, \"gas_co2_per_capita\": 0.0, \"ghg_excluding_lucf_per_capita\": 0.0, \"ghg_per_capita\": 0.0, \"land_use_change_co2\": 0.0, \"land_use_change_co2_per_capita\": 0.0, \"methane\": 0.0, \"methane_per_capita\": 0.0, \"nitrous_oxide\": 0.0, \"nitrous_oxide_per_capita\": 0.0, \"oil_co2\": 0.0, \"oil_co2_per_capita\": 0.0, \"other_co2_per_capita\": 0.0, \"other_industry_co2\": 0.0, \"primary_energy_consumption\": 0.0, \"share_global_cement_co2\": 0.0, \"share_global_co2\": 0.0, \"share_global_co2_including_luc\": 0.0, \"share_global_coal_co2\": 0.0, \"share_global_cumulative_cement_co2\": 0.0, \"share_global_cumulative_co2\": 0.0, \"share_global_cumulative_co2_including_luc\": 0.0, \"share_global_cumulative_coal_co2\": 0.0, \"share_global_cumulative_flaring_co2\": 0.0, \"share_global_cumulative_gas_co2\": 0.0, \"share_global_cumulative_luc_co2\": 0.0, \"share_global_cumulative_oil_co2\": 0.0, \"share_global_cumulative_other_co2\": 0.0, \"share_global_flaring_co2\": 0.0, \"share_global_gas_co2\": 0.0, \"share_global_luc_co2\": 0.0, \"share_global_oil_co2\": 0.0, \"share_global_other_co2\": 0.0, \"share_of_temperature_change_from_ghg\": 0.0, \"temperature_change_from_ch4\": 0.0, \"temperature_change_from_co2\": 0.0, \"temperature_change_from_ghg\": 0.0, \"temperature_change_from_n2o\": 0.0, \"total_ghg\": 0.0, \"total_ghg_excluding_lucf\": 0.0, \"trade_co2\": 0.0, \"trade_co2_share\": 0.0}, {\"country\": \"High-income countries\", \"year\": 46253, \"iso_code\": 0, \"population\": 26600923718.0, \"gdp\": 0.0, \"cement_co2\": 5380.224, \"cement_co2_per_capita\": 4.588, \"co2\": 315315.759, \"co2_growth_abs\": -871.6190000000003, \"co2_growth_prct\": -5.7059999999999995, \"co2_including_luc\": 312757.562, \"co2_including_luc_growth_abs\": -1217.469, \"co2_including_luc_growth_prct\": -8.022000000000002, \"co2_including_luc_per_capita\": 266.759, \"co2_including_luc_per_gdp\": 5.922, \"co2_including_luc_per_unit_energy\": 4.519, \"co2_per_capita\": 268.91, \"co2_per_gdp\": 5.968, \"co2_per_unit_energy\": 4.555, \"coal_co2\": 92834.105, \"coal_co2_per_capita\": 79.519, \"consumption_co2\": 338831.074, \"consumption_co2_per_capita\": 289.627, \"consumption_co2_per_gdp\": 6.671, \"cumulative_cement_co2\": 282138.609, \"cumulative_co2\": 19646533.063, \"cumulative_co2_including_luc\": 24294872.064, \"cumulative_coal_co2\": 9539010.47, \"cumulative_flaring_co2\": 130329.504, \"cumulative_gas_co2\": 2709751.091, \"cumulative_luc_co2\": 5069509.983, \"cumulative_oil_co2\": 6923652.328, \"cumulative_other_co2\": 61651.158, \"energy_per_capita\": 1369149.019, \"energy_per_gdp\": 0.0, \"flaring_co2\": 2872.424, \"flaring_co2_per_capita\": 2.44, \"gas_co2\": 79674.162, \"gas_co2_per_capita\": 67.538, \"ghg_excluding_lucf_per_capita\": 283.997, \"ghg_per_capita\": 273.19, \"land_use_change_co2\": 4893.098, \"land_use_change_co2_per_capita\": 4.183, \"methane\": 36797.62, \"methane_per_capita\": 32.025, \"nitrous_oxide\": 15636.38, \"nitrous_oxide_per_capita\": 13.634, \"oil_co2\": 132335.702, \"oil_co2_per_capita\": 112.931, \"other_co2_per_capita\": 1.889, \"other_industry_co2\": 2219.141, \"primary_energy_consumption\": 1581312.5389999999, \"share_global_cement_co2\": 462.579, \"share_global_co2\": 981.797, \"share_global_co2_including_luc\": 840.856, \"share_global_coal_co2\": 735.462, \"share_global_cumulative_cement_co2\": 958.248, \"share_global_cumulative_co2\": 1426.128, \"share_global_cumulative_co2_including_luc\": 1142.939, \"share_global_cumulative_coal_co2\": 1454.249, \"share_global_cumulative_flaring_co2\": 861.184, \"share_global_cumulative_gas_co2\": 1466.321, \"share_global_cumulative_luc_co2\": 677.577, \"share_global_cumulative_oil_co2\": 1425.263, \"share_global_cumulative_other_co2\": 907.6, \"share_global_flaring_co2\": 782.061, \"share_global_gas_co2\": 1277.82, \"share_global_luc_co2\": 98.698, \"share_global_oil_co2\": 1172.215, \"share_global_other_co2\": 842.661, \"share_of_temperature_change_from_ghg\": 933.116, \"temperature_change_from_ch4\": 2.21, \"temperature_change_from_co2\": 9.827, \"temperature_change_from_ghg\": 12.657, \"temperature_change_from_n2o\": 0.62, \"total_ghg\": 313425.628, \"total_ghg_excluding_lucf\": 325873.642, \"trade_co2\": 36125.848, \"trade_co2_share\": 262.266}, {\"country\": \"Upper-middle-income countries\", \"year\": 46253, \"iso_code\": 0, \"population\": 54842742094.0, \"gdp\": 0.0, \"cement_co2\": 17628.234, \"cement_co2_per_capita\": 7.308, \"co2\": 305100.644, \"co2_growth_abs\": 9283.146, \"co2_growth_prct\": 82.197, \"co2_including_luc\": 369365.395, \"co2_including_luc_growth_abs\": 8470.641, \"co2_including_luc_growth_prct\": 58.456, \"co2_including_luc_per_capita\": 154.039, \"co2_including_luc_per_gdp\": 11.588, \"co2_including_luc_per_unit_energy\": 7.088, \"co2_per_capita\": 126.925, \"co2_per_gdp\": 9.304, \"co2_per_unit_energy\": 5.763, \"coal_co2\": 170475.274, \"coal_co2_per_capita\": 70.834, \"consumption_co2\": 247037.49599999998, \"consumption_co2_per_capita\": 102.975, \"consumption_co2_per_gdp\": 7.858, \"cumulative_cement_co2\": 315480.188, \"cumulative_co2\": 8583878.108, \"cumulative_co2_including_luc\": 17447120.437, \"cumulative_coal_co2\": 4532007.133, \"cumulative_flaring_co2\": 109496.266, \"cumulative_gas_co2\": 1073722.418, \"cumulative_luc_co2\": 9753846.343, \"cumulative_oil_co2\": 2459526.774, \"cumulative_other_co2\": 93645.476, \"energy_per_capita\": 494724.643, \"energy_per_gdp\": 0.0, \"flaring_co2\": 3240.811, \"flaring_co2_per_capita\": 1.348, \"gas_co2\": 42160.320999999996, \"gas_co2_per_capita\": 17.536, \"ghg_excluding_lucf_per_capita\": 151.268, \"ghg_per_capita\": 151.228, \"land_use_change_co2\": 64386.57, \"land_use_change_co2_per_capita\": 27.165, \"methane\": 68640.51, \"methane_per_capita\": 28.944, \"nitrous_oxide\": 21182.38, \"nitrous_oxide_per_capita\": 8.922, \"oil_co2\": 67720.441, \"oil_co2_per_capita\": 28.279, \"other_co2_per_capita\": 1.613, \"other_industry_co2\": 3875.565, \"primary_energy_consumption\": 1190643.8, \"share_global_cement_co2\": 1378.129, \"share_global_co2\": 920.3489999999999, \"share_global_co2_including_luc\": 973.397, \"share_global_coal_co2\": 1269.279, \"share_global_cumulative_cement_co2\": 990.588, \"share_global_cumulative_co2\": 609.24, \"share_global_cumulative_co2_including_luc\": 815.093, \"share_global_cumulative_coal_co2\": 672.211, \"share_global_cumulative_flaring_co2\": 717.191, \"share_global_cumulative_gas_co2\": 571.917, \"share_global_cumulative_luc_co2\": 1301.615, \"share_global_cumulative_oil_co2\": 501.55, \"share_global_cumulative_other_co2\": 1364.28, \"share_global_flaring_co2\": 876.691, \"share_global_gas_co2\": 663.927, \"share_global_luc_co2\": 1302.3129999999999, \"share_global_oil_co2\": 594.837, \"share_global_other_co2\": 1429.397, \"share_of_temperature_change_from_ghg\": 712.346, \"temperature_change_from_ch4\": 2.978, \"temperature_change_from_co2\": 6.298, \"temperature_change_from_ghg\": 9.731, \"temperature_change_from_n2o\": 0.457, \"total_ghg\": 360240.283, \"total_ghg_excluding_lucf\": 360750.71, \"trade_co2\": -41160.063, \"trade_co2_share\": -326.656}, {\"country\": \"OECD (GCP)\", \"year\": 46253, \"iso_code\": 0, \"population\": 0.0, \"gdp\": 0.0, \"cement_co2\": 0.0, \"cement_co2_per_capita\": 0.0, \"co2\": 298868.739, \"co2_growth_abs\": 0.0, \"co2_growth_prct\": 0.0, \"co2_including_luc\": 0.0, \"co2_including_luc_growth_abs\": 0.0, \"co2_including_luc_growth_prct\": 0.0, \"co2_including_luc_per_capita\": 0.0, \"co2_including_luc_per_gdp\": 0.0, \"co2_including_luc_per_unit_energy\": 0.0, \"co2_per_capita\": 0.0, \"co2_per_gdp\": 0.0, \"co2_per_unit_energy\": 0.0, \"coal_co2\": 0.0, \"coal_co2_per_capita\": 0.0, \"consumption_co2\": 322578.73, \"consumption_co2_per_capita\": 0.0, \"consumption_co2_per_gdp\": 0.0, \"cumulative_cement_co2\": 0.0, \"cumulative_co2\": 0.0, \"cumulative_co2_including_luc\": 0.0, \"cumulative_coal_co2\": 0.0, \"cumulative_flaring_co2\": 0.0, \"cumulative_gas_co2\": 0.0, \"cumulative_luc_co2\": 0.0, \"cumulative_oil_co2\": 0.0, \"cumulative_other_co2\": 0.0, \"energy_per_capita\": 0.0, \"energy_per_gdp\": 0.0, \"flaring_co2\": 0.0, \"flaring_co2_per_capita\": 0.0, \"gas_co2\": 0.0, \"gas_co2_per_capita\": 0.0, \"ghg_excluding_lucf_per_capita\": 0.0, \"ghg_per_capita\": 0.0, \"land_use_change_co2\": 0.0, \"land_use_change_co2_per_capita\": 0.0, \"methane\": 0.0, \"methane_per_capita\": 0.0, \"nitrous_oxide\": 0.0, \"nitrous_oxide_per_capita\": 0.0, \"oil_co2\": 0.0, \"oil_co2_per_capita\": 0.0, \"other_co2_per_capita\": 0.0, \"other_industry_co2\": 0.0, \"primary_energy_consumption\": 0.0, \"share_global_cement_co2\": 0.0, \"share_global_co2\": 0.0, \"share_global_co2_including_luc\": 0.0, \"share_global_coal_co2\": 0.0, \"share_global_cumulative_cement_co2\": 0.0, \"share_global_cumulative_co2\": 0.0, \"share_global_cumulative_co2_including_luc\": 0.0, \"share_global_cumulative_coal_co2\": 0.0, \"share_global_cumulative_flaring_co2\": 0.0, \"share_global_cumulative_gas_co2\": 0.0, \"share_global_cumulative_luc_co2\": 0.0, \"share_global_cumulative_oil_co2\": 0.0, \"share_global_cumulative_other_co2\": 0.0, \"share_global_flaring_co2\": 0.0, \"share_global_gas_co2\": 0.0, \"share_global_luc_co2\": 0.0, \"share_global_oil_co2\": 0.0, \"share_global_other_co2\": 0.0, \"share_of_temperature_change_from_ghg\": 0.0, \"temperature_change_from_ch4\": 0.0, \"temperature_change_from_co2\": 0.0, \"temperature_change_from_ghg\": 0.0, \"temperature_change_from_n2o\": 0.0, \"total_ghg\": 0.0, \"total_ghg_excluding_lucf\": 0.0, \"trade_co2\": 0.0, \"trade_co2_share\": 0.0}, {\"country\": \"China\", \"year\": 46253, \"iso_code\": \"CHNCHNCHNCHNCHNCHNCHNCHNCHNCHNCHNCHNCHNCHNCHNCHNCHNCHNCHNCHNCHNCHNCHN\", \"population\": 31166897792.0, \"gdp\": 227107368075264.0, \"cement_co2\": 13926.485, \"cement_co2_per_capita\": 10.162, \"co2\": 188544.441, \"co2_growth_abs\": 7839.503000000001, \"co2_growth_prct\": 121.84700000000001, \"co2_including_luc\": 199112.21, \"co2_including_luc_growth_abs\": 7916.475, \"co2_including_luc_growth_prct\": 106.541, \"co2_including_luc_per_capita\": 145.467, \"co2_including_luc_per_gdp\": 12.922, \"co2_including_luc_per_unit_energy\": 6.976999999999999, \"co2_per_capita\": 137.692, \"co2_per_gdp\": 12.168, \"co2_per_unit_energy\": 6.547, \"coal_co2\": 138585.563, \"coal_co2_per_capita\": 101.264, \"consumption_co2\": 154994.736, \"consumption_co2_per_capita\": 113.338, \"consumption_co2_per_gdp\": 10.453, \"cumulative_cement_co2\": 195232.911, \"cumulative_co2\": 3549217.102, \"cumulative_co2_including_luc\": 4848535.14, \"cumulative_coal_co2\": 2712462.786, \"cumulative_flaring_co2\": 2587.992, \"cumulative_gas_co2\": 69720.372, \"cumulative_luc_co2\": 1406917.006, \"cumulative_oil_co2\": 491713.358, \"cumulative_other_co2\": 77499.743, \"energy_per_capita\": 489635.708, \"energy_per_gdp\": 42.063, \"flaring_co2\": 100.677, \"flaring_co2_per_capita\": 0.076, \"gas_co2\": 7048.4619999999995, \"gas_co2_per_capita\": 5.063, \"ghg_excluding_lucf_per_capita\": 146.028, \"ghg_per_capita\": 138.38, \"land_use_change_co2\": 10567.765, \"land_use_change_co2_per_capita\": 7.774, \"methane\": 21352.989999999998, \"methane_per_capita\": 15.783, \"nitrous_oxide\": 10056.91, \"nitrous_oxide_per_capita\": 7.436, \"oil_co2\": 25755.298, \"oil_co2_per_capita\": 18.831, \"other_co2_per_capita\": 2.289, \"other_industry_co2\": 3127.956, \"primary_energy_consumption\": 671428.132, \"share_global_cement_co2\": 1078.008, \"share_global_co2\": 562.845, \"share_global_co2_including_luc\": 518.557, \"share_global_coal_co2\": 1023.981, \"share_global_cumulative_cement_co2\": 591.937, \"share_global_cumulative_co2\": 246.71, \"share_global_cumulative_co2_including_luc\": 222.721, \"share_global_cumulative_coal_co2\": 396.844, \"share_global_cumulative_flaring_co2\": 16.799, \"share_global_cumulative_gas_co2\": 33.905, \"share_global_cumulative_luc_co2\": 187.769, \"share_global_cumulative_oil_co2\": 97.561, \"share_global_cumulative_other_co2\": 1131.429, \"share_global_flaring_co2\": 27.78, \"share_global_gas_co2\": 102.035, \"share_global_luc_co2\": 220.101, \"share_global_oil_co2\": 225.042, \"share_global_other_co2\": 1150.156, \"share_of_temperature_change_from_ghg\": 220.036, \"temperature_change_from_ch4\": 1.063, \"temperature_change_from_co2\": 1.823, \"temperature_change_from_ghg\": 3.041, \"temperature_change_from_n2o\": 0.152, \"total_ghg\": 188396.42, \"total_ghg_excluding_lucf\": 198807.95, \"trade_co2\": -22152.927, \"trade_co2_share\": -287.992}, {\"country\": \"North America\", \"year\": 46253, \"iso_code\": 0, \"population\": 12588864865.0, \"gdp\": 0.0, \"cement_co2\": 1656.65, \"cement_co2_per_capita\": 3.065, \"co2\": 155954.293, \"co2_growth_abs\": -574.567, \"co2_growth_prct\": -7.388000000000001, \"co2_including_luc\": 165463.128, \"co2_including_luc_growth_abs\": -630.5210000000001, \"co2_including_luc_growth_prct\": -7.329, \"co2_including_luc_per_capita\": 307.23199999999997, \"co2_including_luc_per_gdp\": 7.41, \"co2_including_luc_per_unit_energy\": 5.038, \"co2_per_capita\": 289.69, \"co2_per_gdp\": 7.032, \"co2_per_unit_energy\": 4.749, \"coal_co2\": 42613.352, \"coal_co2_per_capita\": 80.125, \"consumption_co2\": 158237.693, \"consumption_co2_per_capita\": 295.074, \"consumption_co2_per_gdp\": 7.417, \"cumulative_cement_co2\": 78774.306, \"cumulative_co2\": 9612167.718, \"cumulative_co2_including_luc\": 14061442.813, \"cumulative_coal_co2\": 3920167.452, \"cumulative_flaring_co2\": 63525.208, \"cumulative_gas_co2\": 1699453.408, \"cumulative_luc_co2\": 4705997.627, \"cumulative_oil_co2\": 3822428.949, \"cumulative_other_co2\": 27818.322, \"energy_per_capita\": 1380000.711, \"energy_per_gdp\": 0.0, \"flaring_co2\": 1723.446, \"flaring_co2_per_capita\": 3.149, \"gas_co2\": 40214.832, \"gas_co2_per_capita\": 73.835, \"ghg_excluding_lucf_per_capita\": 308.075, \"ghg_per_capita\": 302.644, \"land_use_change_co2\": 9719.997, \"land_use_change_co2_per_capita\": 17.936, \"methane\": 20368.739999999998, \"methane_per_capita\": 37.562, \"nitrous_oxide\": 7667.96, \"nitrous_oxide_per_capita\": 14.164, \"oil_co2\": 69045.516, \"oil_co2_per_capita\": 128.217, \"other_co2_per_capita\": 1.298, \"other_industry_co2\": 700.503, \"primary_energy_consumption\": 752224.473, \"share_global_cement_co2\": 140.779, \"share_global_co2\": 486.484, \"share_global_co2_including_luc\": 445.492, \"share_global_coal_co2\": 341.998, \"share_global_cumulative_cement_co2\": 266.627, \"share_global_cumulative_co2\": 697.652, \"share_global_cumulative_co2_including_luc\": 662.194, \"share_global_cumulative_coal_co2\": 597.013, \"share_global_cumulative_flaring_co2\": 417.461, \"share_global_cumulative_gas_co2\": 928.4350000000001, \"share_global_cumulative_luc_co2\": 628.852, \"share_global_cumulative_oil_co2\": 787.751, \"share_global_cumulative_other_co2\": 417.933, \"share_global_flaring_co2\": 465.157, \"share_global_gas_co2\": 643.65, \"share_global_luc_co2\": 200.593, \"share_global_oil_co2\": 611.37, \"share_global_other_co2\": 265.574, \"share_of_temperature_change_from_ghg\": 515.152, \"temperature_change_from_ch4\": 1.142, \"temperature_change_from_co2\": 5.553, \"temperature_change_from_ghg\": 6.985, \"temperature_change_from_n2o\": 0.289, \"total_ghg\": 163226.531, \"total_ghg_excluding_lucf\": 166173.94, \"trade_co2\": 8563.089, \"trade_co2_share\": 125.973}, {\"country\": \"North America (GCP)\", \"year\": 46253, \"iso_code\": 0, \"population\": 0.0, \"gdp\": 0.0, \"cement_co2\": 0.0, \"cement_co2_per_capita\": 0.0, \"co2\": 152207.308, \"co2_growth_abs\": 0.0, \"co2_growth_prct\": 0.0, \"co2_including_luc\": 0.0, \"co2_including_luc_growth_abs\": 0.0, \"co2_including_luc_growth_prct\": 0.0, \"co2_including_luc_per_capita\": 0.0, \"co2_including_luc_per_gdp\": 0.0, \"co2_including_luc_per_unit_energy\": 0.0, \"co2_per_capita\": 0.0, \"co2_per_gdp\": 0.0, \"co2_per_unit_energy\": 0.0, \"coal_co2\": 0.0, \"coal_co2_per_capita\": 0.0, \"consumption_co2\": 155836.204, \"consumption_co2_per_capita\": 0.0, \"consumption_co2_per_gdp\": 0.0, \"cumulative_cement_co2\": 0.0, \"cumulative_co2\": 0.0, \"cumulative_co2_including_luc\": 0.0, \"cumulative_coal_co2\": 0.0, \"cumulative_flaring_co2\": 0.0, \"cumulative_gas_co2\": 0.0, \"cumulative_luc_co2\": 0.0, \"cumulative_oil_co2\": 0.0, \"cumulative_other_co2\": 0.0, \"energy_per_capita\": 0.0, \"energy_per_gdp\": 0.0, \"flaring_co2\": 0.0, \"flaring_co2_per_capita\": 0.0, \"gas_co2\": 0.0, \"gas_co2_per_capita\": 0.0, \"ghg_excluding_lucf_per_capita\": 0.0, \"ghg_per_capita\": 0.0, \"land_use_change_co2\": 0.0, \"land_use_change_co2_per_capita\": 0.0, \"methane\": 0.0, \"methane_per_capita\": 0.0, \"nitrous_oxide\": 0.0, \"nitrous_oxide_per_capita\": 0.0, \"oil_co2\": 0.0, \"oil_co2_per_capita\": 0.0, \"other_co2_per_capita\": 0.0, \"other_industry_co2\": 0.0, \"primary_energy_consumption\": 0.0, \"share_global_cement_co2\": 0.0, \"share_global_co2\": 0.0, \"share_global_co2_including_luc\": 0.0, \"share_global_coal_co2\": 0.0, \"share_global_cumulative_cement_co2\": 0.0, \"share_global_cumulative_co2\": 0.0, \"share_global_cumulative_co2_including_luc\": 0.0, \"share_global_cumulative_coal_co2\": 0.0, \"share_global_cumulative_flaring_co2\": 0.0, \"share_global_cumulative_gas_co2\": 0.0, \"share_global_cumulative_luc_co2\": 0.0, \"share_global_cumulative_oil_co2\": 0.0, \"share_global_cumulative_other_co2\": 0.0, \"share_global_flaring_co2\": 0.0, \"share_global_gas_co2\": 0.0, \"share_global_luc_co2\": 0.0, \"share_global_oil_co2\": 0.0, \"share_global_other_co2\": 0.0, \"share_of_temperature_change_from_ghg\": 0.0, \"temperature_change_from_ch4\": 0.0, \"temperature_change_from_co2\": 0.0, \"temperature_change_from_ghg\": 0.0, \"temperature_change_from_n2o\": 0.0, \"total_ghg\": 0.0, \"total_ghg_excluding_lucf\": 0.0, \"trade_co2\": 0.0, \"trade_co2_share\": 0.0}, {\"country\": \"Asia (excl. China and India)\", \"year\": 46253, \"iso_code\": 0, \"population\": 0.0, \"gdp\": 0.0, \"cement_co2\": 6096.428, \"cement_co2_per_capita\": 3.6470000000000002, \"co2\": 144693.03, \"co2_growth_abs\": 3100.927, \"co2_growth_prct\": 54.059, \"co2_including_luc\": 172176.639, \"co2_including_luc_growth_abs\": 2983.625, \"co2_including_luc_growth_prct\": 44.432, \"co2_including_luc_per_capita\": 103.894, \"co2_including_luc_per_gdp\": 7.173, \"co2_including_luc_per_unit_energy\": 5.9590000000000005, \"co2_per_capita\": 87.173, \"co2_per_gdp\": 5.9799999999999995, \"co2_per_unit_energy\": 4.994, \"coal_co2\": 39286.307, \"coal_co2_per_capita\": 23.546, \"consumption_co2\": 133382.672, \"consumption_co2_per_capita\": 80.879, \"consumption_co2_per_gdp\": 5.823, \"cumulative_cement_co2\": 154449.345, \"cumulative_co2\": 4202171.767, \"cumulative_co2_including_luc\": 7538644.829, \"cumulative_coal_co2\": 1201893.562, \"cumulative_flaring_co2\": 119889.845, \"cumulative_gas_co2\": 722694.117, \"cumulative_luc_co2\": 4485653.656, \"cumulative_oil_co2\": 1991706.689, \"cumulative_other_co2\": 11538.262, \"energy_per_capita\": 0.0, \"energy_per_gdp\": 0.0, \"flaring_co2\": 2259.395, \"flaring_co2_per_capita\": 1.369, \"gas_co2\": 39650.853, \"gas_co2_per_capita\": 23.665, \"ghg_excluding_lucf_per_capita\": 0.0, \"ghg_per_capita\": 0.0, \"land_use_change_co2\": 34607.951, \"land_use_change_co2_per_capita\": 21.056, \"methane\": 0.0, \"methane_per_capita\": 0.0, \"nitrous_oxide\": 0.0, \"nitrous_oxide_per_capita\": 0.0, \"oil_co2\": 56790.994999999995, \"oil_co2_per_capita\": 34.577, \"other_co2_per_capita\": 0.368, \"other_industry_co2\": 609.045, \"primary_energy_consumption\": 0.0, \"share_global_cement_co2\": 488.369, \"share_global_co2\": 440.899, \"share_global_co2_including_luc\": 455.664, \"share_global_coal_co2\": 296.159, \"share_global_cumulative_cement_co2\": 503.755, \"share_global_cumulative_co2\": 298.855, \"share_global_cumulative_co2_including_luc\": 351.755, \"share_global_cumulative_coal_co2\": 179.34, \"share_global_cumulative_flaring_co2\": 794.784, \"share_global_cumulative_gas_co2\": 374.575, \"share_global_cumulative_luc_co2\": 598.334, \"share_global_cumulative_oil_co2\": 405.80899999999997, \"share_global_cumulative_other_co2\": 164.209, \"share_global_flaring_co2\": 615.825, \"share_global_gas_co2\": 620.932, \"share_global_luc_co2\": 700.281, \"share_global_oil_co2\": 501.292, \"share_global_other_co2\": 226.909, \"share_of_temperature_change_from_ghg\": 381.695, \"temperature_change_from_ch4\": 1.704, \"temperature_change_from_co2\": 3.301, \"temperature_change_from_ghg\": 5.218, \"temperature_change_from_n2o\": 0.216, \"total_ghg\": 0.0, \"total_ghg_excluding_lucf\": 0.0, \"trade_co2\": -3764.427, \"trade_co2_share\": -60.616}]}}, {\"mode\": \"vega-lite\"});\n",
       "</script>"
      ],
      "text/plain": [
       "alt.Chart(...)"
      ]
     },
     "execution_count": 12,
     "metadata": {},
     "output_type": "execute_result"
    }
   ],
   "source": [
    "alt.Chart(df_sorted).mark_bar().encode(\n",
    "    y=alt.Y(\"country\", title=\"Country\").sort(\"-x\"),\n",
    "    x=alt.X(\"co2\", title=\"CO2 Emissions\"),\n",
    "    color=alt.Color(\"country\", legend=None),\n",
    ")"
   ]
  },
  {
   "cell_type": "markdown",
   "metadata": {},
   "source": [
    "## View the names of the countries in the dataset"
   ]
  },
  {
   "cell_type": "code",
   "execution_count": 7,
   "metadata": {},
   "outputs": [
    {
     "data": {
      "text/plain": [
       "0        False\n",
       "1        False\n",
       "2        False\n",
       "3        False\n",
       "4        False\n",
       "         ...  \n",
       "48053    False\n",
       "48054    False\n",
       "48055    False\n",
       "48056    False\n",
       "48057    False\n",
       "Name: iso_code, Length: 48058, dtype: bool"
      ]
     },
     "execution_count": 7,
     "metadata": {},
     "output_type": "execute_result"
    }
   ],
   "source": [
    "df = pd.read_csv(\"../data/processed/co2-data.csv\")\n",
    "df[\"iso_code\"].isna()"
   ]
  },
  {
   "cell_type": "markdown",
   "metadata": {},
   "source": [
    "## Total Emission over the years"
   ]
  },
  {
   "cell_type": "code",
   "execution_count": 7,
   "metadata": {},
   "outputs": [
    {
     "name": "stdout",
     "output_type": "stream",
     "text": [
      "Total CO2 emissions: 4,862,430 kT\n"
     ]
    }
   ],
   "source": [
    "start_year = 2000\n",
    "end_year = 2022\n",
    "country_codes = None\n",
    "\n",
    "df_filtered = df.query(f\"{start_year} <= year <= {end_year}\")\n",
    "if country_codes:\n",
    "    df_filtered = df_filtered[df_filtered.iso_code.isin(country_codes)]\n",
    "\n",
    "total_co2 = df_filtered[[\"co2\"]].sum().values[0]\n",
    "print(f\"Total CO2 emissions: {total_co2:,.0f} kT\")"
   ]
  },
  {
   "cell_type": "code",
   "execution_count": 9,
   "metadata": {},
   "outputs": [
    {
     "name": "stdout",
     "output_type": "stream",
     "text": [
      "Number of Empire State Buildings: 2,581,295\n"
     ]
    }
   ],
   "source": [
    "# Convert to how volume of CO2 released\n",
    "# src = https://www.icbe.com/carbondatabase/CO2volumecalculation.asp\n",
    "ton_to_volume = 556200  # m^3/kt of CO2\n",
    "\n",
    "# src = https://www.esbnyc.com/sites/default/files/esb_fact_sheet_4_9_14_4.pdf\n",
    "vol_of_empire_state_building = 1047723.3239  # m^3\n",
    "\n",
    "number_of_empire_state_buildings = int(\n",
    "    total_co2 * ton_to_volume / vol_of_empire_state_building\n",
    ")\n",
    "\n",
    "print(f\"Number of Empire State Buildings: {number_of_empire_state_buildings:,}\")"
   ]
  },
  {
   "cell_type": "code",
   "execution_count": 10,
   "metadata": {},
   "outputs": [
    {
     "data": {
      "text/plain": [
       "2343.913609691865"
      ]
     },
     "execution_count": 10,
     "metadata": {},
     "output_type": "execute_result"
    }
   ],
   "source": [
    "total_co2 * 1e3 / 1.98 / vol_of_empire_state_building"
   ]
  },
  {
   "cell_type": "code",
   "execution_count": null,
   "metadata": {},
   "outputs": [],
   "source": []
  }
 ],
 "metadata": {
  "kernelspec": {
   "display_name": "hotspot",
   "language": "python",
   "name": "python3"
  },
  "language_info": {
   "codemirror_mode": {
    "name": "ipython",
    "version": 3
   },
   "file_extension": ".py",
   "mimetype": "text/x-python",
   "name": "python",
   "nbconvert_exporter": "python",
   "pygments_lexer": "ipython3",
   "version": "3.11.8"
  }
 },
 "nbformat": 4,
 "nbformat_minor": 2
}
