{
 "cells": [
  {
   "cell_type": "markdown",
   "metadata": {},
   "source": [
    "# Initial EDA of the Dataset\n"
   ]
  },
  {
   "cell_type": "markdown",
   "metadata": {},
   "source": [
    "## Plot the global Temperature Increase and CO2 Emission over the years"
   ]
  },
  {
   "cell_type": "code",
   "execution_count": 20,
   "metadata": {},
   "outputs": [
    {
     "data": {
      "text/html": [
       "<div>\n",
       "<style scoped>\n",
       "    .dataframe tbody tr th:only-of-type {\n",
       "        vertical-align: middle;\n",
       "    }\n",
       "\n",
       "    .dataframe tbody tr th {\n",
       "        vertical-align: top;\n",
       "    }\n",
       "\n",
       "    .dataframe thead th {\n",
       "        text-align: right;\n",
       "    }\n",
       "</style>\n",
       "<table border=\"1\" class=\"dataframe\">\n",
       "  <thead>\n",
       "    <tr style=\"text-align: right;\">\n",
       "      <th></th>\n",
       "      <th>country</th>\n",
       "      <th>year</th>\n",
       "      <th>iso_code</th>\n",
       "      <th>population</th>\n",
       "      <th>gdp</th>\n",
       "      <th>cement_co2</th>\n",
       "      <th>cement_co2_per_capita</th>\n",
       "      <th>co2</th>\n",
       "      <th>co2_growth_abs</th>\n",
       "      <th>co2_growth_prct</th>\n",
       "      <th>...</th>\n",
       "      <th>share_global_other_co2</th>\n",
       "      <th>share_of_temperature_change_from_ghg</th>\n",
       "      <th>temperature_change_from_ch4</th>\n",
       "      <th>temperature_change_from_co2</th>\n",
       "      <th>temperature_change_from_ghg</th>\n",
       "      <th>temperature_change_from_n2o</th>\n",
       "      <th>total_ghg</th>\n",
       "      <th>total_ghg_excluding_lucf</th>\n",
       "      <th>trade_co2</th>\n",
       "      <th>trade_co2_share</th>\n",
       "    </tr>\n",
       "  </thead>\n",
       "  <tbody>\n",
       "    <tr>\n",
       "      <th>0</th>\n",
       "      <td>Afghanistan</td>\n",
       "      <td>1850</td>\n",
       "      <td>AFG</td>\n",
       "      <td>3752993.0</td>\n",
       "      <td>NaN</td>\n",
       "      <td>NaN</td>\n",
       "      <td>NaN</td>\n",
       "      <td>NaN</td>\n",
       "      <td>NaN</td>\n",
       "      <td>NaN</td>\n",
       "      <td>...</td>\n",
       "      <td>NaN</td>\n",
       "      <td>NaN</td>\n",
       "      <td>NaN</td>\n",
       "      <td>NaN</td>\n",
       "      <td>NaN</td>\n",
       "      <td>NaN</td>\n",
       "      <td>NaN</td>\n",
       "      <td>NaN</td>\n",
       "      <td>NaN</td>\n",
       "      <td>NaN</td>\n",
       "    </tr>\n",
       "    <tr>\n",
       "      <th>1</th>\n",
       "      <td>Afghanistan</td>\n",
       "      <td>1851</td>\n",
       "      <td>AFG</td>\n",
       "      <td>3767956.0</td>\n",
       "      <td>NaN</td>\n",
       "      <td>NaN</td>\n",
       "      <td>NaN</td>\n",
       "      <td>NaN</td>\n",
       "      <td>NaN</td>\n",
       "      <td>NaN</td>\n",
       "      <td>...</td>\n",
       "      <td>NaN</td>\n",
       "      <td>0.165</td>\n",
       "      <td>0.0</td>\n",
       "      <td>0.0</td>\n",
       "      <td>0.0</td>\n",
       "      <td>0.0</td>\n",
       "      <td>NaN</td>\n",
       "      <td>NaN</td>\n",
       "      <td>NaN</td>\n",
       "      <td>NaN</td>\n",
       "    </tr>\n",
       "    <tr>\n",
       "      <th>2</th>\n",
       "      <td>Afghanistan</td>\n",
       "      <td>1852</td>\n",
       "      <td>AFG</td>\n",
       "      <td>3783940.0</td>\n",
       "      <td>NaN</td>\n",
       "      <td>NaN</td>\n",
       "      <td>NaN</td>\n",
       "      <td>NaN</td>\n",
       "      <td>NaN</td>\n",
       "      <td>NaN</td>\n",
       "      <td>...</td>\n",
       "      <td>NaN</td>\n",
       "      <td>0.164</td>\n",
       "      <td>0.0</td>\n",
       "      <td>0.0</td>\n",
       "      <td>0.0</td>\n",
       "      <td>0.0</td>\n",
       "      <td>NaN</td>\n",
       "      <td>NaN</td>\n",
       "      <td>NaN</td>\n",
       "      <td>NaN</td>\n",
       "    </tr>\n",
       "    <tr>\n",
       "      <th>3</th>\n",
       "      <td>Afghanistan</td>\n",
       "      <td>1853</td>\n",
       "      <td>AFG</td>\n",
       "      <td>3800954.0</td>\n",
       "      <td>NaN</td>\n",
       "      <td>NaN</td>\n",
       "      <td>NaN</td>\n",
       "      <td>NaN</td>\n",
       "      <td>NaN</td>\n",
       "      <td>NaN</td>\n",
       "      <td>...</td>\n",
       "      <td>NaN</td>\n",
       "      <td>0.164</td>\n",
       "      <td>0.0</td>\n",
       "      <td>0.0</td>\n",
       "      <td>0.0</td>\n",
       "      <td>0.0</td>\n",
       "      <td>NaN</td>\n",
       "      <td>NaN</td>\n",
       "      <td>NaN</td>\n",
       "      <td>NaN</td>\n",
       "    </tr>\n",
       "    <tr>\n",
       "      <th>4</th>\n",
       "      <td>Afghanistan</td>\n",
       "      <td>1854</td>\n",
       "      <td>AFG</td>\n",
       "      <td>3818038.0</td>\n",
       "      <td>NaN</td>\n",
       "      <td>NaN</td>\n",
       "      <td>NaN</td>\n",
       "      <td>NaN</td>\n",
       "      <td>NaN</td>\n",
       "      <td>NaN</td>\n",
       "      <td>...</td>\n",
       "      <td>NaN</td>\n",
       "      <td>0.163</td>\n",
       "      <td>0.0</td>\n",
       "      <td>0.0</td>\n",
       "      <td>0.0</td>\n",
       "      <td>0.0</td>\n",
       "      <td>NaN</td>\n",
       "      <td>NaN</td>\n",
       "      <td>NaN</td>\n",
       "      <td>NaN</td>\n",
       "    </tr>\n",
       "  </tbody>\n",
       "</table>\n",
       "<p>5 rows × 79 columns</p>\n",
       "</div>"
      ],
      "text/plain": [
       "       country  year iso_code  population  gdp  cement_co2  \\\n",
       "0  Afghanistan  1850      AFG   3752993.0  NaN         NaN   \n",
       "1  Afghanistan  1851      AFG   3767956.0  NaN         NaN   \n",
       "2  Afghanistan  1852      AFG   3783940.0  NaN         NaN   \n",
       "3  Afghanistan  1853      AFG   3800954.0  NaN         NaN   \n",
       "4  Afghanistan  1854      AFG   3818038.0  NaN         NaN   \n",
       "\n",
       "   cement_co2_per_capita  co2  co2_growth_abs  co2_growth_prct  ...  \\\n",
       "0                    NaN  NaN             NaN              NaN  ...   \n",
       "1                    NaN  NaN             NaN              NaN  ...   \n",
       "2                    NaN  NaN             NaN              NaN  ...   \n",
       "3                    NaN  NaN             NaN              NaN  ...   \n",
       "4                    NaN  NaN             NaN              NaN  ...   \n",
       "\n",
       "   share_global_other_co2  share_of_temperature_change_from_ghg  \\\n",
       "0                     NaN                                   NaN   \n",
       "1                     NaN                                 0.165   \n",
       "2                     NaN                                 0.164   \n",
       "3                     NaN                                 0.164   \n",
       "4                     NaN                                 0.163   \n",
       "\n",
       "   temperature_change_from_ch4  temperature_change_from_co2  \\\n",
       "0                          NaN                          NaN   \n",
       "1                          0.0                          0.0   \n",
       "2                          0.0                          0.0   \n",
       "3                          0.0                          0.0   \n",
       "4                          0.0                          0.0   \n",
       "\n",
       "   temperature_change_from_ghg  temperature_change_from_n2o  total_ghg  \\\n",
       "0                          NaN                          NaN        NaN   \n",
       "1                          0.0                          0.0        NaN   \n",
       "2                          0.0                          0.0        NaN   \n",
       "3                          0.0                          0.0        NaN   \n",
       "4                          0.0                          0.0        NaN   \n",
       "\n",
       "   total_ghg_excluding_lucf  trade_co2  trade_co2_share  \n",
       "0                       NaN        NaN              NaN  \n",
       "1                       NaN        NaN              NaN  \n",
       "2                       NaN        NaN              NaN  \n",
       "3                       NaN        NaN              NaN  \n",
       "4                       NaN        NaN              NaN  \n",
       "\n",
       "[5 rows x 79 columns]"
      ]
     },
     "execution_count": 20,
     "metadata": {},
     "output_type": "execute_result"
    }
   ],
   "source": [
    "import pandas as pd\n",
    "import plotly.express as px\n",
    "import altair as alt\n",
    "import numpy as np\n",
    "from plotly.subplots import make_subplots\n",
    "import sys\n",
    "sys.path.append('..')\n",
    "\n",
    "# Now you can import from src/hotspot\n",
    "from src.hotspot_plot import *\n",
    "\n",
    "# alt.data_transformers.enable(\"vegafusion\")\n",
    "df = pd.read_csv(\"../data/raw/owid-co2-data.csv\")\n",
    "df.head()"
   ]
  },
  {
   "cell_type": "code",
   "execution_count": 21,
   "metadata": {},
   "outputs": [
    {
     "name": "stdout",
     "output_type": "stream",
     "text": [
      "/Users/lirt/Documents/UBC/532/DSCI-532_2024_20_hotspot/notebooks\n"
     ]
    }
   ],
   "source": [
    "import os\n",
    "print(os.getcwd())"
   ]
  },
  {
   "cell_type": "code",
   "execution_count": 22,
   "metadata": {},
   "outputs": [
    {
     "data": {
      "text/html": [
       "<div>\n",
       "<style scoped>\n",
       "    .dataframe tbody tr th:only-of-type {\n",
       "        vertical-align: middle;\n",
       "    }\n",
       "\n",
       "    .dataframe tbody tr th {\n",
       "        vertical-align: top;\n",
       "    }\n",
       "\n",
       "    .dataframe thead th {\n",
       "        text-align: right;\n",
       "    }\n",
       "</style>\n",
       "<table border=\"1\" class=\"dataframe\">\n",
       "  <thead>\n",
       "    <tr style=\"text-align: right;\">\n",
       "      <th></th>\n",
       "      <th>year</th>\n",
       "      <th>co2</th>\n",
       "      <th>temperature_change_from_co2</th>\n",
       "    </tr>\n",
       "  </thead>\n",
       "  <tbody>\n",
       "    <tr>\n",
       "      <th>0</th>\n",
       "      <td>1750</td>\n",
       "      <td>55.836</td>\n",
       "      <td>NaN</td>\n",
       "    </tr>\n",
       "    <tr>\n",
       "      <th>1</th>\n",
       "      <td>1751</td>\n",
       "      <td>56.442</td>\n",
       "      <td>NaN</td>\n",
       "    </tr>\n",
       "    <tr>\n",
       "      <th>2</th>\n",
       "      <td>1752</td>\n",
       "      <td>57.030</td>\n",
       "      <td>NaN</td>\n",
       "    </tr>\n",
       "    <tr>\n",
       "      <th>3</th>\n",
       "      <td>1753</td>\n",
       "      <td>57.660</td>\n",
       "      <td>NaN</td>\n",
       "    </tr>\n",
       "    <tr>\n",
       "      <th>4</th>\n",
       "      <td>1754</td>\n",
       "      <td>58.404</td>\n",
       "      <td>NaN</td>\n",
       "    </tr>\n",
       "  </tbody>\n",
       "</table>\n",
       "</div>"
      ],
      "text/plain": [
       "   year     co2  temperature_change_from_co2\n",
       "0  1750  55.836                          NaN\n",
       "1  1751  56.442                          NaN\n",
       "2  1752  57.030                          NaN\n",
       "3  1753  57.660                          NaN\n",
       "4  1754  58.404                          NaN"
      ]
     },
     "execution_count": 22,
     "metadata": {},
     "output_type": "execute_result"
    }
   ],
   "source": [
    "# Group by year\n",
    "df_year = (\n",
    "    df.groupby(\"year\")\n",
    "    .aggregate({\"co2\": \"sum\", \"temperature_change_from_co2\": \"mean\"})\n",
    "    .reset_index()\n",
    ")\n",
    "df_year.head()"
   ]
  },
  {
   "cell_type": "code",
   "execution_count": 23,
   "metadata": {},
   "outputs": [
    {
     "data": {
      "text/html": [
       "\n",
       "<style>\n",
       "  #altair-viz-df88523bda0e4b7eb8f66a7bcb437225.vega-embed {\n",
       "    width: 100%;\n",
       "    display: flex;\n",
       "  }\n",
       "\n",
       "  #altair-viz-df88523bda0e4b7eb8f66a7bcb437225.vega-embed details,\n",
       "  #altair-viz-df88523bda0e4b7eb8f66a7bcb437225.vega-embed details summary {\n",
       "    position: relative;\n",
       "  }\n",
       "</style>\n",
       "<div id=\"altair-viz-df88523bda0e4b7eb8f66a7bcb437225\"></div>\n",
       "<script type=\"text/javascript\">\n",
       "  var VEGA_DEBUG = (typeof VEGA_DEBUG == \"undefined\") ? {} : VEGA_DEBUG;\n",
       "  (function(spec, embedOpt){\n",
       "    let outputDiv = document.currentScript.previousElementSibling;\n",
       "    if (outputDiv.id !== \"altair-viz-df88523bda0e4b7eb8f66a7bcb437225\") {\n",
       "      outputDiv = document.getElementById(\"altair-viz-df88523bda0e4b7eb8f66a7bcb437225\");\n",
       "    }\n",
       "    const paths = {\n",
       "      \"vega\": \"https://cdn.jsdelivr.net/npm/vega@5?noext\",\n",
       "      \"vega-lib\": \"https://cdn.jsdelivr.net/npm/vega-lib?noext\",\n",
       "      \"vega-lite\": \"https://cdn.jsdelivr.net/npm/vega-lite@5.17.0?noext\",\n",
       "      \"vega-embed\": \"https://cdn.jsdelivr.net/npm/vega-embed@6?noext\",\n",
       "    };\n",
       "\n",
       "    function maybeLoadScript(lib, version) {\n",
       "      var key = `${lib.replace(\"-\", \"\")}_version`;\n",
       "      return (VEGA_DEBUG[key] == version) ?\n",
       "        Promise.resolve(paths[lib]) :\n",
       "        new Promise(function(resolve, reject) {\n",
       "          var s = document.createElement('script');\n",
       "          document.getElementsByTagName(\"head\")[0].appendChild(s);\n",
       "          s.async = true;\n",
       "          s.onload = () => {\n",
       "            VEGA_DEBUG[key] = version;\n",
       "            return resolve(paths[lib]);\n",
       "          };\n",
       "          s.onerror = () => reject(`Error loading script: ${paths[lib]}`);\n",
       "          s.src = paths[lib];\n",
       "        });\n",
       "    }\n",
       "\n",
       "    function showError(err) {\n",
       "      outputDiv.innerHTML = `<div class=\"error\" style=\"color:red;\">${err}</div>`;\n",
       "      throw err;\n",
       "    }\n",
       "\n",
       "    function displayChart(vegaEmbed) {\n",
       "      vegaEmbed(outputDiv, spec, embedOpt)\n",
       "        .catch(err => showError(`Javascript Error: ${err.message}<br>This usually means there's a typo in your chart specification. See the javascript console for the full traceback.`));\n",
       "    }\n",
       "\n",
       "    if(typeof define === \"function\" && define.amd) {\n",
       "      requirejs.config({paths});\n",
       "      require([\"vega-embed\"], displayChart, err => showError(`Error loading script: ${err.message}`));\n",
       "    } else {\n",
       "      maybeLoadScript(\"vega\", \"5\")\n",
       "        .then(() => maybeLoadScript(\"vega-lite\", \"5.17.0\"))\n",
       "        .then(() => maybeLoadScript(\"vega-embed\", \"6\"))\n",
       "        .catch(showError)\n",
       "        .then(() => displayChart(vegaEmbed));\n",
       "    }\n",
       "  })({\"$schema\": \"https://vega.github.io/schema/vega/v5.json\", \"data\": [{\"name\": \"source_0\", \"values\": [{\"co2\": 55.836, \"year\": 1750}, {\"co2\": 56.442, \"year\": 1751}, {\"co2\": 57.03, \"year\": 1752}, {\"co2\": 57.66, \"year\": 1753}, {\"co2\": 58.403999999999996, \"year\": 1754}, {\"co2\": 58.757999999999996, \"year\": 1755}, {\"co2\": 59.46, \"year\": 1756}, {\"co2\": 60.56399999999999, \"year\": 1757}, {\"co2\": 61.29599999999999, \"year\": 1758}, {\"co2\": 62.034000000000006, \"year\": 1759}, {\"co2\": 63.083999999999996, \"year\": 1760}, {\"co2\": 64.488, \"year\": 1761}, {\"co2\": 65.712, \"year\": 1762}, {\"co2\": 67.152, \"year\": 1763}, {\"co2\": 68.382, \"year\": 1764}, {\"co2\": 69.858, \"year\": 1765}, {\"co2\": 71.256, \"year\": 1766}, {\"co2\": 72.918, \"year\": 1767}, {\"co2\": 74.802, \"year\": 1768}, {\"co2\": 76.67999999999999, \"year\": 1769}, {\"co2\": 78.582, \"year\": 1770}, {\"co2\": 80.214, \"year\": 1771}, {\"co2\": 81.744, \"year\": 1772}, {\"co2\": 82.848, \"year\": 1773}, {\"co2\": 84.072, \"year\": 1774}, {\"co2\": 86.034, \"year\": 1775}, {\"co2\": 87.924, \"year\": 1776}, {\"co2\": 89.76, \"year\": 1777}, {\"co2\": 91.458, \"year\": 1778}, {\"co2\": 93.21000000000001, \"year\": 1779}, {\"co2\": 95.274, \"year\": 1780}, {\"co2\": 97.40400000000001, \"year\": 1781}, {\"co2\": 99.48599999999999, \"year\": 1782}, {\"co2\": 102.37799999999999, \"year\": 1783}, {\"co2\": 104.826, \"year\": 1784}, {\"co2\": 107.786, \"year\": 1785}, {\"co2\": 110.68199999999999, \"year\": 1786}, {\"co2\": 113.15, \"year\": 1787}, {\"co2\": 115.71600000000001, \"year\": 1788}, {\"co2\": 119.178, \"year\": 1789}, {\"co2\": 122.38399999999999, \"year\": 1790}, {\"co2\": 125.588, \"year\": 1791}, {\"co2\": 131.574, \"year\": 1792}, {\"co2\": 133.782, \"year\": 1793}, {\"co2\": 135.11599999999999, \"year\": 1794}, {\"co2\": 133.89, \"year\": 1795}, {\"co2\": 132.726, \"year\": 1796}, {\"co2\": 132.538, \"year\": 1797}, {\"co2\": 138.632, \"year\": 1798}, {\"co2\": 164.91, \"year\": 1799}, {\"co2\": 196.281, \"year\": 1800}, {\"co2\": 191.378, \"year\": 1801}, {\"co2\": 241.27800000000002, \"year\": 1802}, {\"co2\": 176.635, \"year\": 1803}, {\"co2\": 189.944, \"year\": 1804}, {\"co2\": 186.826, \"year\": 1805}, {\"co2\": 195.558, \"year\": 1806}, {\"co2\": 216.44600000000003, \"year\": 1807}, {\"co2\": 212.2, \"year\": 1808}, {\"co2\": 217.193, \"year\": 1809}, {\"co2\": 236.112, \"year\": 1810}, {\"co2\": 240.16, \"year\": 1811}, {\"co2\": 243.913, \"year\": 1812}, {\"co2\": 246.187, \"year\": 1813}, {\"co2\": 252.22899999999998, \"year\": 1814}, {\"co2\": 260.31399999999996, \"year\": 1815}, {\"co2\": 271.644, \"year\": 1816}, {\"co2\": 294.212, \"year\": 1817}, {\"co2\": 306.784, \"year\": 1818}, {\"co2\": 304.046, \"year\": 1819}, {\"co2\": 302.799, \"year\": 1820}, {\"co2\": 310.688, \"year\": 1821}, {\"co2\": 322.389, \"year\": 1822}, {\"co2\": 336.331, \"year\": 1823}, {\"co2\": 343.461, \"year\": 1824}, {\"co2\": 362.105, \"year\": 1825}, {\"co2\": 365.646, \"year\": 1826}, {\"co2\": 391.524, \"year\": 1827}, {\"co2\": 396.892, \"year\": 1828}, {\"co2\": 394.236, \"year\": 1829}, {\"co2\": 529.734, \"year\": 1830}, {\"co2\": 494.966, \"year\": 1831}, {\"co2\": 486.475, \"year\": 1832}, {\"co2\": 492.407, \"year\": 1833}, {\"co2\": 525.7850000000001, \"year\": 1834}, {\"co2\": 575.724, \"year\": 1835}, {\"co2\": 631.863, \"year\": 1836}, {\"co2\": 626.531, \"year\": 1837}, {\"co2\": 624.954, \"year\": 1838}, {\"co2\": 646.811, \"year\": 1839}, {\"co2\": 701.009, \"year\": 1840}, {\"co2\": 720.454, \"year\": 1841}, {\"co2\": 762.369, \"year\": 1842}, {\"co2\": 778.606, \"year\": 1843}, {\"co2\": 832.967, \"year\": 1844}, {\"co2\": 907.74, \"year\": 1845}, {\"co2\": 920.369, \"year\": 1846}, {\"co2\": 994.1460000000001, \"year\": 1847}, {\"co2\": 1007.726, \"year\": 1848}, {\"co2\": 1072.9499999999998, \"year\": 1849}, {\"co2\": 1534.134, \"year\": 1850}, {\"co2\": 1539.795, \"year\": 1851}, {\"co2\": 1605.433, \"year\": 1852}, {\"co2\": 1676.23, \"year\": 1853}, {\"co2\": 1973.4569999999999, \"year\": 1854}, {\"co2\": 2003.894, \"year\": 1855}, {\"co2\": 2137.52, \"year\": 1856}, {\"co2\": 2156.465, \"year\": 1857}, {\"co2\": 2188.713, \"year\": 1858}, {\"co2\": 2318.591, \"year\": 1859}, {\"co2\": 2549.871, \"year\": 1860}, {\"co2\": 2688.246, \"year\": 1861}, {\"co2\": 2737.679, \"year\": 1862}, {\"co2\": 2912.349, \"year\": 1863}, {\"co2\": 3140.5769999999998, \"year\": 1864}, {\"co2\": 3340.87, \"year\": 1865}, {\"co2\": 3448.314, \"year\": 1866}, {\"co2\": 3674.843, \"year\": 1867}, {\"co2\": 3763.175, \"year\": 1868}, {\"co2\": 3983.881, \"year\": 1869}, {\"co2\": 4064.761, \"year\": 1870}, {\"co2\": 4323.53, \"year\": 1871}, {\"co2\": 4759.708, \"year\": 1872}, {\"co2\": 5046.432, \"year\": 1873}, {\"co2\": 4717.759, \"year\": 1874}, {\"co2\": 5136.555, \"year\": 1875}, {\"co2\": 5219.619, \"year\": 1876}, {\"co2\": 5299.226, \"year\": 1877}, {\"co2\": 5344.991, \"year\": 1878}, {\"co2\": 5681.28, \"year\": 1879}, {\"co2\": 6414.506, \"year\": 1880}, {\"co2\": 6626.9039999999995, \"year\": 1881}, {\"co2\": 6971.845, \"year\": 1882}, {\"co2\": 7406.641, \"year\": 1883}, {\"co2\": 7467.145, \"year\": 1884}, {\"co2\": 7517.452, \"year\": 1885}, {\"co2\": 7611.598, \"year\": 1886}, {\"co2\": 7976.66, \"year\": 1887}, {\"co2\": 8762.733, \"year\": 1888}, {\"co2\": 8837.896, \"year\": 1889}, {\"co2\": 9550.371000000001, \"year\": 1890}, {\"co2\": 9983.402, \"year\": 1891}, {\"co2\": 10020.497, \"year\": 1892}, {\"co2\": 9872.855, \"year\": 1893}, {\"co2\": 10305.777, \"year\": 1894}, {\"co2\": 10863.121, \"year\": 1895}, {\"co2\": 11246.152, \"year\": 1896}, {\"co2\": 11784.416000000001, \"year\": 1897}, {\"co2\": 12385.108, \"year\": 1898}, {\"co2\": 13469.768, \"year\": 1899}, {\"co2\": 14178.438, \"year\": 1900}, {\"co2\": 14553.226999999999, \"year\": 1901}, {\"co2\": 14863.208, \"year\": 1902}, {\"co2\": 16084.68, \"year\": 1903}, {\"co2\": 16295.482, \"year\": 1904}, {\"co2\": 17258.426, \"year\": 1905}, {\"co2\": 17993.256, \"year\": 1906}, {\"co2\": 20420.331000000002, \"year\": 1907}, {\"co2\": 19802.635, \"year\": 1908}, {\"co2\": 20490.576, \"year\": 1909}, {\"co2\": 21399.904, \"year\": 1910}, {\"co2\": 21762.397, \"year\": 1911}, {\"co2\": 22831.13, \"year\": 1912}, {\"co2\": 24745.324, \"year\": 1913}, {\"co2\": 22393.29, \"year\": 1914}, {\"co2\": 21948.668999999998, \"year\": 1915}, {\"co2\": 23617.786, \"year\": 1916}, {\"co2\": 24516.22, \"year\": 1917}, {\"co2\": 23961.5, \"year\": 1918}, {\"co2\": 20762.063000000002, \"year\": 1919}, {\"co2\": 24137.759000000002, \"year\": 1920}, {\"co2\": 21314.2, \"year\": 1921}, {\"co2\": 22497.874, \"year\": 1922}, {\"co2\": 25009.823, \"year\": 1923}, {\"co2\": 25477.167, \"year\": 1924}, {\"co2\": 25679.562, \"year\": 1925}, {\"co2\": 24850.364, \"year\": 1926}, {\"co2\": 27592.954, \"year\": 1927}, {\"co2\": 27509.664, \"year\": 1928}, {\"co2\": 29561.214, \"year\": 1929}, {\"co2\": 27361.092, \"year\": 1930}, {\"co2\": 24588.579999999998, \"year\": 1931}, {\"co2\": 22281.042, \"year\": 1932}, {\"co2\": 23399.914, \"year\": 1933}, {\"co2\": 25483.961, \"year\": 1934}, {\"co2\": 26754.321, \"year\": 1935}, {\"co2\": 29231.678, \"year\": 1936}, {\"co2\": 31317.894, \"year\": 1937}, {\"co2\": 29739.049, \"year\": 1938}, {\"co2\": 31322.369000000002, \"year\": 1939}, {\"co2\": 34099.706, \"year\": 1940}, {\"co2\": 34579.203, \"year\": 1941}, {\"co2\": 34180.663, \"year\": 1942}, {\"co2\": 34712.577, \"year\": 1943}, {\"co2\": 34952.905, \"year\": 1944}, {\"co2\": 28399.422, \"year\": 1945}, {\"co2\": 31599.399, \"year\": 1946}, {\"co2\": 35167.729, \"year\": 1947}, {\"co2\": 37163.63, \"year\": 1948}, {\"co2\": 36025.832, \"year\": 1949}, {\"co2\": 40292.509, \"year\": 1950}, {\"co2\": 43446.356, \"year\": 1951}, {\"co2\": 44133.58, \"year\": 1952}, {\"co2\": 45395.843, \"year\": 1953}, {\"co2\": 46613.039, \"year\": 1954}, {\"co2\": 51024.616, \"year\": 1955}, {\"co2\": 54356.421, \"year\": 1956}, {\"co2\": 56167.925, \"year\": 1957}, {\"co2\": 57726.636, \"year\": 1958}, {\"co2\": 60534.277, \"year\": 1959}, {\"co2\": 64213.592, \"year\": 1960}, {\"co2\": 64650.174, \"year\": 1961}, {\"co2\": 67124.201, \"year\": 1962}, {\"co2\": 70809.194, \"year\": 1963}, {\"co2\": 74628.806, \"year\": 1964}, {\"co2\": 77892.566, \"year\": 1965}, {\"co2\": 81547.025, \"year\": 1966}, {\"co2\": 84078.06999999999, \"year\": 1967}, {\"co2\": 88658.221, \"year\": 1968}, {\"co2\": 94499.758, \"year\": 1969}, {\"co2\": 102053.726, \"year\": 1970}, {\"co2\": 106208.91, \"year\": 1971}, {\"co2\": 110993.887, \"year\": 1972}, {\"co2\": 116828.09, \"year\": 1973}, {\"co2\": 116620.367, \"year\": 1974}, {\"co2\": 117119.698, \"year\": 1975}, {\"co2\": 123723.806, \"year\": 1976}, {\"co2\": 126982.436, \"year\": 1977}, {\"co2\": 130895.742, \"year\": 1978}, {\"co2\": 134658.444, \"year\": 1979}, {\"co2\": 134028.40899999999, \"year\": 1980}, {\"co2\": 130774.158, \"year\": 1981}, {\"co2\": 129917.156, \"year\": 1982}, {\"co2\": 130738.059, \"year\": 1983}, {\"co2\": 134909.059, \"year\": 1984}, {\"co2\": 139622.059, \"year\": 1985}, {\"co2\": 141422.505, \"year\": 1986}, {\"co2\": 144860.551, \"year\": 1987}, {\"co2\": 150134.679, \"year\": 1988}, {\"co2\": 151956.29, \"year\": 1989}, {\"co2\": 154811.928, \"year\": 1990}, {\"co2\": 157735.428, \"year\": 1991}, {\"co2\": 152130.361, \"year\": 1992}, {\"co2\": 153050.72699999998, \"year\": 1993}, {\"co2\": 153807.582, \"year\": 1994}, {\"co2\": 156583.345, \"year\": 1995}, {\"co2\": 160990.209, \"year\": 1996}, {\"co2\": 161436.816, \"year\": 1997}, {\"co2\": 160737.446, \"year\": 1998}, {\"co2\": 163714.99599999998, \"year\": 1999}, {\"co2\": 167972.61800000002, \"year\": 2000}, {\"co2\": 169372.638, \"year\": 2001}, {\"co2\": 172799.902, \"year\": 2002}, {\"co2\": 181647.4, \"year\": 2003}, {\"co2\": 187467.37, \"year\": 2004}, {\"co2\": 193289.337, \"year\": 2005}, {\"co2\": 199521.243, \"year\": 2006}, {\"co2\": 204710.394, \"year\": 2007}, {\"co2\": 207879.92299999998, \"year\": 2008}, {\"co2\": 203698.61, \"year\": 2009}, {\"co2\": 215151.809, \"year\": 2010}, {\"co2\": 221924.561, \"year\": 2011}, {\"co2\": 225160.414, \"year\": 2012}, {\"co2\": 226555.346, \"year\": 2013}, {\"co2\": 227582.19999999998, \"year\": 2014}, {\"co2\": 227612.884, \"year\": 2015}, {\"co2\": 227618.087, \"year\": 2016}, {\"co2\": 231066.766, \"year\": 2017}, {\"co2\": 235455.96, \"year\": 2018}, {\"co2\": 236804.78, \"year\": 2019}, {\"co2\": 224973.704, \"year\": 2020}, {\"co2\": 236484.697, \"year\": 2021}, {\"co2\": 237679.814, \"year\": 2022}]}, {\"name\": \"source_0_x_domain_year\", \"values\": [{\"min\": 1750, \"max\": 2022}]}, {\"name\": \"source_0_y_domain_co2\", \"values\": [{\"min\": 55.836, \"max\": 237679.814}]}], \"marks\": [{\"type\": \"line\", \"name\": \"marks\", \"from\": {\"data\": \"source_0\"}, \"sort\": {\"field\": \"datum[\\\"year\\\"]\"}, \"encode\": {\"update\": {\"x\": {\"field\": \"year\", \"scale\": \"x\"}, \"defined\": {\"signal\": \"isValid(datum[\\\"year\\\"]) && isFinite(+datum[\\\"year\\\"]) && isValid(datum[\\\"co2\\\"]) && isFinite(+datum[\\\"co2\\\"])\"}, \"stroke\": {\"value\": \"#4c78a8\"}, \"y\": {\"field\": \"co2\", \"scale\": \"y\"}}}, \"style\": [\"line\"]}], \"scales\": [{\"name\": \"x\", \"type\": \"linear\", \"domain\": [{\"signal\": \"(data(\\\"source_0_x_domain_year\\\")[0] || {}).min\"}, {\"signal\": \"(data(\\\"source_0_x_domain_year\\\")[0] || {}).max\"}], \"range\": [0, {\"signal\": \"width\"}], \"zero\": false, \"nice\": true}, {\"name\": \"y\", \"type\": \"linear\", \"domain\": [{\"signal\": \"(data(\\\"source_0_y_domain_co2\\\")[0] || {}).min\"}, {\"signal\": \"(data(\\\"source_0_y_domain_co2\\\")[0] || {}).max\"}], \"range\": [{\"signal\": \"height\"}, 0], \"zero\": true, \"nice\": true}], \"axes\": [{\"scale\": \"x\", \"domain\": false, \"labels\": false, \"aria\": false, \"ticks\": false, \"zindex\": 0, \"gridScale\": \"y\", \"grid\": true, \"orient\": \"bottom\", \"tickCount\": {\"signal\": \"ceil(width/40)\"}, \"maxExtent\": 0, \"minExtent\": 0}, {\"scale\": \"y\", \"grid\": true, \"aria\": false, \"maxExtent\": 0, \"domain\": false, \"orient\": \"left\", \"gridScale\": \"x\", \"minExtent\": 0, \"ticks\": false, \"zindex\": 0, \"tickCount\": {\"signal\": \"ceil(height/40)\"}, \"labels\": false}, {\"scale\": \"x\", \"orient\": \"bottom\", \"title\": \"Year\", \"zindex\": 0, \"tickCount\": {\"signal\": \"ceil(width/40)\"}, \"grid\": false, \"labelFlush\": true, \"labelOverlap\": true}, {\"scale\": \"y\", \"zindex\": 0, \"tickCount\": {\"signal\": \"ceil(height/40)\"}, \"grid\": false, \"labelOverlap\": true, \"title\": \"CO2 Emissions\", \"orient\": \"left\"}], \"title\": {\"text\": \"Global CO2 emissions over time\", \"frame\": \"group\"}, \"padding\": 5, \"style\": \"cell\", \"background\": \"white\", \"width\": 800, \"height\": 400}, {\"mode\": \"vega\"});\n",
       "</script>"
      ],
      "text/plain": [
       "alt.Chart(...)"
      ]
     },
     "execution_count": 23,
     "metadata": {},
     "output_type": "execute_result"
    }
   ],
   "source": [
    "# px.line(df_year, x=\"year\", y=\"co2\", title=\"CO2 emissions over time\")\n",
    "alt.Chart(df_year).mark_line().encode(\n",
    "    x=alt.X(\"year\", title=\"Year\"), y=alt.Y(\"co2\", title=\"CO2 Emissions\")\n",
    ").properties(title=\"Global CO2 emissions over time\", width=800, height=400)"
   ]
  },
  {
   "cell_type": "code",
   "execution_count": 24,
   "metadata": {},
   "outputs": [
    {
     "data": {
      "text/html": [
       "\n",
       "<style>\n",
       "  #altair-viz-1efe3bea16f64bffa0fb20ce363463c7.vega-embed {\n",
       "    width: 100%;\n",
       "    display: flex;\n",
       "  }\n",
       "\n",
       "  #altair-viz-1efe3bea16f64bffa0fb20ce363463c7.vega-embed details,\n",
       "  #altair-viz-1efe3bea16f64bffa0fb20ce363463c7.vega-embed details summary {\n",
       "    position: relative;\n",
       "  }\n",
       "</style>\n",
       "<div id=\"altair-viz-1efe3bea16f64bffa0fb20ce363463c7\"></div>\n",
       "<script type=\"text/javascript\">\n",
       "  var VEGA_DEBUG = (typeof VEGA_DEBUG == \"undefined\") ? {} : VEGA_DEBUG;\n",
       "  (function(spec, embedOpt){\n",
       "    let outputDiv = document.currentScript.previousElementSibling;\n",
       "    if (outputDiv.id !== \"altair-viz-1efe3bea16f64bffa0fb20ce363463c7\") {\n",
       "      outputDiv = document.getElementById(\"altair-viz-1efe3bea16f64bffa0fb20ce363463c7\");\n",
       "    }\n",
       "    const paths = {\n",
       "      \"vega\": \"https://cdn.jsdelivr.net/npm/vega@5?noext\",\n",
       "      \"vega-lib\": \"https://cdn.jsdelivr.net/npm/vega-lib?noext\",\n",
       "      \"vega-lite\": \"https://cdn.jsdelivr.net/npm/vega-lite@5.17.0?noext\",\n",
       "      \"vega-embed\": \"https://cdn.jsdelivr.net/npm/vega-embed@6?noext\",\n",
       "    };\n",
       "\n",
       "    function maybeLoadScript(lib, version) {\n",
       "      var key = `${lib.replace(\"-\", \"\")}_version`;\n",
       "      return (VEGA_DEBUG[key] == version) ?\n",
       "        Promise.resolve(paths[lib]) :\n",
       "        new Promise(function(resolve, reject) {\n",
       "          var s = document.createElement('script');\n",
       "          document.getElementsByTagName(\"head\")[0].appendChild(s);\n",
       "          s.async = true;\n",
       "          s.onload = () => {\n",
       "            VEGA_DEBUG[key] = version;\n",
       "            return resolve(paths[lib]);\n",
       "          };\n",
       "          s.onerror = () => reject(`Error loading script: ${paths[lib]}`);\n",
       "          s.src = paths[lib];\n",
       "        });\n",
       "    }\n",
       "\n",
       "    function showError(err) {\n",
       "      outputDiv.innerHTML = `<div class=\"error\" style=\"color:red;\">${err}</div>`;\n",
       "      throw err;\n",
       "    }\n",
       "\n",
       "    function displayChart(vegaEmbed) {\n",
       "      vegaEmbed(outputDiv, spec, embedOpt)\n",
       "        .catch(err => showError(`Javascript Error: ${err.message}<br>This usually means there's a typo in your chart specification. See the javascript console for the full traceback.`));\n",
       "    }\n",
       "\n",
       "    if(typeof define === \"function\" && define.amd) {\n",
       "      requirejs.config({paths});\n",
       "      require([\"vega-embed\"], displayChart, err => showError(`Error loading script: ${err.message}`));\n",
       "    } else {\n",
       "      maybeLoadScript(\"vega\", \"5\")\n",
       "        .then(() => maybeLoadScript(\"vega-lite\", \"5.17.0\"))\n",
       "        .then(() => maybeLoadScript(\"vega-embed\", \"6\"))\n",
       "        .catch(showError)\n",
       "        .then(() => displayChart(vegaEmbed));\n",
       "    }\n",
       "  })({\"$schema\": \"https://vega.github.io/schema/vega/v5.json\", \"data\": [{\"name\": \"source_0\", \"values\": [{\"temperature_change_from_co2\": null, \"year\": 1750}, {\"temperature_change_from_co2\": null, \"year\": 1751}, {\"temperature_change_from_co2\": null, \"year\": 1752}, {\"temperature_change_from_co2\": null, \"year\": 1753}, {\"temperature_change_from_co2\": null, \"year\": 1754}, {\"temperature_change_from_co2\": null, \"year\": 1755}, {\"temperature_change_from_co2\": null, \"year\": 1756}, {\"temperature_change_from_co2\": null, \"year\": 1757}, {\"temperature_change_from_co2\": null, \"year\": 1758}, {\"temperature_change_from_co2\": null, \"year\": 1759}, {\"temperature_change_from_co2\": null, \"year\": 1760}, {\"temperature_change_from_co2\": null, \"year\": 1761}, {\"temperature_change_from_co2\": null, \"year\": 1762}, {\"temperature_change_from_co2\": null, \"year\": 1763}, {\"temperature_change_from_co2\": null, \"year\": 1764}, {\"temperature_change_from_co2\": null, \"year\": 1765}, {\"temperature_change_from_co2\": null, \"year\": 1766}, {\"temperature_change_from_co2\": null, \"year\": 1767}, {\"temperature_change_from_co2\": null, \"year\": 1768}, {\"temperature_change_from_co2\": null, \"year\": 1769}, {\"temperature_change_from_co2\": null, \"year\": 1770}, {\"temperature_change_from_co2\": null, \"year\": 1771}, {\"temperature_change_from_co2\": null, \"year\": 1772}, {\"temperature_change_from_co2\": null, \"year\": 1773}, {\"temperature_change_from_co2\": null, \"year\": 1774}, {\"temperature_change_from_co2\": null, \"year\": 1775}, {\"temperature_change_from_co2\": null, \"year\": 1776}, {\"temperature_change_from_co2\": null, \"year\": 1777}, {\"temperature_change_from_co2\": null, \"year\": 1778}, {\"temperature_change_from_co2\": null, \"year\": 1779}, {\"temperature_change_from_co2\": null, \"year\": 1780}, {\"temperature_change_from_co2\": null, \"year\": 1781}, {\"temperature_change_from_co2\": null, \"year\": 1782}, {\"temperature_change_from_co2\": null, \"year\": 1783}, {\"temperature_change_from_co2\": null, \"year\": 1784}, {\"temperature_change_from_co2\": null, \"year\": 1785}, {\"temperature_change_from_co2\": null, \"year\": 1786}, {\"temperature_change_from_co2\": null, \"year\": 1787}, {\"temperature_change_from_co2\": null, \"year\": 1788}, {\"temperature_change_from_co2\": null, \"year\": 1789}, {\"temperature_change_from_co2\": null, \"year\": 1790}, {\"temperature_change_from_co2\": null, \"year\": 1791}, {\"temperature_change_from_co2\": null, \"year\": 1792}, {\"temperature_change_from_co2\": null, \"year\": 1793}, {\"temperature_change_from_co2\": null, \"year\": 1794}, {\"temperature_change_from_co2\": null, \"year\": 1795}, {\"temperature_change_from_co2\": null, \"year\": 1796}, {\"temperature_change_from_co2\": null, \"year\": 1797}, {\"temperature_change_from_co2\": null, \"year\": 1798}, {\"temperature_change_from_co2\": null, \"year\": 1799}, {\"temperature_change_from_co2\": null, \"year\": 1800}, {\"temperature_change_from_co2\": null, \"year\": 1801}, {\"temperature_change_from_co2\": null, \"year\": 1802}, {\"temperature_change_from_co2\": null, \"year\": 1803}, {\"temperature_change_from_co2\": null, \"year\": 1804}, {\"temperature_change_from_co2\": null, \"year\": 1805}, {\"temperature_change_from_co2\": null, \"year\": 1806}, {\"temperature_change_from_co2\": null, \"year\": 1807}, {\"temperature_change_from_co2\": null, \"year\": 1808}, {\"temperature_change_from_co2\": null, \"year\": 1809}, {\"temperature_change_from_co2\": null, \"year\": 1810}, {\"temperature_change_from_co2\": null, \"year\": 1811}, {\"temperature_change_from_co2\": null, \"year\": 1812}, {\"temperature_change_from_co2\": null, \"year\": 1813}, {\"temperature_change_from_co2\": null, \"year\": 1814}, {\"temperature_change_from_co2\": null, \"year\": 1815}, {\"temperature_change_from_co2\": null, \"year\": 1816}, {\"temperature_change_from_co2\": null, \"year\": 1817}, {\"temperature_change_from_co2\": null, \"year\": 1818}, {\"temperature_change_from_co2\": null, \"year\": 1819}, {\"temperature_change_from_co2\": null, \"year\": 1820}, {\"temperature_change_from_co2\": null, \"year\": 1821}, {\"temperature_change_from_co2\": null, \"year\": 1822}, {\"temperature_change_from_co2\": null, \"year\": 1823}, {\"temperature_change_from_co2\": null, \"year\": 1824}, {\"temperature_change_from_co2\": null, \"year\": 1825}, {\"temperature_change_from_co2\": null, \"year\": 1826}, {\"temperature_change_from_co2\": null, \"year\": 1827}, {\"temperature_change_from_co2\": null, \"year\": 1828}, {\"temperature_change_from_co2\": null, \"year\": 1829}, {\"temperature_change_from_co2\": null, \"year\": 1830}, {\"temperature_change_from_co2\": null, \"year\": 1831}, {\"temperature_change_from_co2\": null, \"year\": 1832}, {\"temperature_change_from_co2\": null, \"year\": 1833}, {\"temperature_change_from_co2\": null, \"year\": 1834}, {\"temperature_change_from_co2\": null, \"year\": 1835}, {\"temperature_change_from_co2\": null, \"year\": 1836}, {\"temperature_change_from_co2\": null, \"year\": 1837}, {\"temperature_change_from_co2\": null, \"year\": 1838}, {\"temperature_change_from_co2\": null, \"year\": 1839}, {\"temperature_change_from_co2\": null, \"year\": 1840}, {\"temperature_change_from_co2\": null, \"year\": 1841}, {\"temperature_change_from_co2\": null, \"year\": 1842}, {\"temperature_change_from_co2\": null, \"year\": 1843}, {\"temperature_change_from_co2\": null, \"year\": 1844}, {\"temperature_change_from_co2\": null, \"year\": 1845}, {\"temperature_change_from_co2\": null, \"year\": 1846}, {\"temperature_change_from_co2\": null, \"year\": 1847}, {\"temperature_change_from_co2\": null, \"year\": 1848}, {\"temperature_change_from_co2\": null, \"year\": 1849}, {\"temperature_change_from_co2\": null, \"year\": 1850}, {\"temperature_change_from_co2\": 1.2295081967213116e-05, \"year\": 1851}, {\"temperature_change_from_co2\": 3.6885245901639346e-05, \"year\": 1852}, {\"temperature_change_from_co2\": 7.377049180327869e-05, \"year\": 1853}, {\"temperature_change_from_co2\": 8.606557377049181e-05, \"year\": 1854}, {\"temperature_change_from_co2\": 0.00011885245901639345, \"year\": 1855}, {\"temperature_change_from_co2\": 0.00014754098360655738, \"year\": 1856}, {\"temperature_change_from_co2\": 0.0001762295081967213, \"year\": 1857}, {\"temperature_change_from_co2\": 0.00020081967213114754, \"year\": 1858}, {\"temperature_change_from_co2\": 0.00024180327868852458, \"year\": 1859}, {\"temperature_change_from_co2\": 0.00026639344262295085, \"year\": 1860}, {\"temperature_change_from_co2\": 0.00029098360655737705, \"year\": 1861}, {\"temperature_change_from_co2\": 0.00031147540983606555, \"year\": 1862}, {\"temperature_change_from_co2\": 0.0003401639344262295, \"year\": 1863}, {\"temperature_change_from_co2\": 0.000360655737704918, \"year\": 1864}, {\"temperature_change_from_co2\": 0.0003975409836065574, \"year\": 1865}, {\"temperature_change_from_co2\": 0.0004139344262295082, \"year\": 1866}, {\"temperature_change_from_co2\": 0.0004426229508196721, \"year\": 1867}, {\"temperature_change_from_co2\": 0.00047950819672131146, \"year\": 1868}, {\"temperature_change_from_co2\": 0.0005081967213114754, \"year\": 1869}, {\"temperature_change_from_co2\": 0.0005491803278688525, \"year\": 1870}, {\"temperature_change_from_co2\": 0.0005778688524590164, \"year\": 1871}, {\"temperature_change_from_co2\": 0.000610655737704918, \"year\": 1872}, {\"temperature_change_from_co2\": 0.0006393442622950819, \"year\": 1873}, {\"temperature_change_from_co2\": 0.0006762295081967213, \"year\": 1874}, {\"temperature_change_from_co2\": 0.000721311475409836, \"year\": 1875}, {\"temperature_change_from_co2\": 0.0007622950819672131, \"year\": 1876}, {\"temperature_change_from_co2\": 0.0007827868852459017, \"year\": 1877}, {\"temperature_change_from_co2\": 0.0008278688524590164, \"year\": 1878}, {\"temperature_change_from_co2\": 0.0008606557377049181, \"year\": 1879}, {\"temperature_change_from_co2\": 0.0009016393442622951, \"year\": 1880}, {\"temperature_change_from_co2\": 0.0009508196721311475, \"year\": 1881}, {\"temperature_change_from_co2\": 0.0009877049180327868, \"year\": 1882}, {\"temperature_change_from_co2\": 0.0010327868852459017, \"year\": 1883}, {\"temperature_change_from_co2\": 0.001069672131147541, \"year\": 1884}, {\"temperature_change_from_co2\": 0.001110655737704918, \"year\": 1885}, {\"temperature_change_from_co2\": 0.0011475409836065576, \"year\": 1886}, {\"temperature_change_from_co2\": 0.0011885245901639345, \"year\": 1887}, {\"temperature_change_from_co2\": 0.0012418032786885246, \"year\": 1888}, {\"temperature_change_from_co2\": 0.0012991803278688526, \"year\": 1889}, {\"temperature_change_from_co2\": 0.0013401639344262297, \"year\": 1890}, {\"temperature_change_from_co2\": 0.0013934426229508196, \"year\": 1891}, {\"temperature_change_from_co2\": 0.0014385245901639343, \"year\": 1892}, {\"temperature_change_from_co2\": 0.0015, \"year\": 1893}, {\"temperature_change_from_co2\": 0.0015368852459016393, \"year\": 1894}, {\"temperature_change_from_co2\": 0.001569672131147541, \"year\": 1895}, {\"temperature_change_from_co2\": 0.0016311475409836065, \"year\": 1896}, {\"temperature_change_from_co2\": 0.001680327868852459, \"year\": 1897}, {\"temperature_change_from_co2\": 0.0017459016393442622, \"year\": 1898}, {\"temperature_change_from_co2\": 0.0018155737704918034, \"year\": 1899}, {\"temperature_change_from_co2\": 0.0018647540983606555, \"year\": 1900}, {\"temperature_change_from_co2\": 0.0019262295081967213, \"year\": 1901}, {\"temperature_change_from_co2\": 0.0020081967213114752, \"year\": 1902}, {\"temperature_change_from_co2\": 0.0020655737704918034, \"year\": 1903}, {\"temperature_change_from_co2\": 0.0021352459016393444, \"year\": 1904}, {\"temperature_change_from_co2\": 0.0022049180327868853, \"year\": 1905}, {\"temperature_change_from_co2\": 0.0022786885245901643, \"year\": 1906}, {\"temperature_change_from_co2\": 0.002360655737704918, \"year\": 1907}, {\"temperature_change_from_co2\": 0.0024180327868852463, \"year\": 1908}, {\"temperature_change_from_co2\": 0.0024959016393442625, \"year\": 1909}, {\"temperature_change_from_co2\": 0.0025655737704918034, \"year\": 1910}, {\"temperature_change_from_co2\": 0.0026352459016393444, \"year\": 1911}, {\"temperature_change_from_co2\": 0.0027172131147540986, \"year\": 1912}, {\"temperature_change_from_co2\": 0.002786885245901639, \"year\": 1913}, {\"temperature_change_from_co2\": 0.002864754098360656, \"year\": 1914}, {\"temperature_change_from_co2\": 0.002926229508196721, \"year\": 1915}, {\"temperature_change_from_co2\": 0.003, \"year\": 1916}, {\"temperature_change_from_co2\": 0.0030819672131147543, \"year\": 1917}, {\"temperature_change_from_co2\": 0.0031803278688524593, \"year\": 1918}, {\"temperature_change_from_co2\": 0.003237704918032787, \"year\": 1919}, {\"temperature_change_from_co2\": 0.0033196721311475413, \"year\": 1920}, {\"temperature_change_from_co2\": 0.003385245901639344, \"year\": 1921}, {\"temperature_change_from_co2\": 0.0034631147540983604, \"year\": 1922}, {\"temperature_change_from_co2\": 0.00355327868852459, \"year\": 1923}, {\"temperature_change_from_co2\": 0.003614754098360656, \"year\": 1924}, {\"temperature_change_from_co2\": 0.0036967213114754097, \"year\": 1925}, {\"temperature_change_from_co2\": 0.0037745901639344263, \"year\": 1926}, {\"temperature_change_from_co2\": 0.0038647540983606553, \"year\": 1927}, {\"temperature_change_from_co2\": 0.003954918032786885, \"year\": 1928}, {\"temperature_change_from_co2\": 0.004057377049180328, \"year\": 1929}, {\"temperature_change_from_co2\": 0.00412704918032787, \"year\": 1930}, {\"temperature_change_from_co2\": 0.004217213114754098, \"year\": 1931}, {\"temperature_change_from_co2\": 0.004290983606557377, \"year\": 1932}, {\"temperature_change_from_co2\": 0.004360655737704919, \"year\": 1933}, {\"temperature_change_from_co2\": 0.004442622950819672, \"year\": 1934}, {\"temperature_change_from_co2\": 0.004524590163934427, \"year\": 1935}, {\"temperature_change_from_co2\": 0.004614754098360655, \"year\": 1936}, {\"temperature_change_from_co2\": 0.004692622950819673, \"year\": 1937}, {\"temperature_change_from_co2\": 0.004786885245901639, \"year\": 1938}, {\"temperature_change_from_co2\": 0.004889344262295082, \"year\": 1939}, {\"temperature_change_from_co2\": 0.004987704918032787, \"year\": 1940}, {\"temperature_change_from_co2\": 0.005094262295081968, \"year\": 1941}, {\"temperature_change_from_co2\": 0.005192622950819672, \"year\": 1942}, {\"temperature_change_from_co2\": 0.005278688524590164, \"year\": 1943}, {\"temperature_change_from_co2\": 0.00539344262295082, \"year\": 1944}, {\"temperature_change_from_co2\": 0.005463114754098361, \"year\": 1945}, {\"temperature_change_from_co2\": 0.005565573770491803, \"year\": 1946}, {\"temperature_change_from_co2\": 0.005676229508196721, \"year\": 1947}, {\"temperature_change_from_co2\": 0.005745901639344262, \"year\": 1948}, {\"temperature_change_from_co2\": 0.00585655737704918, \"year\": 1949}, {\"temperature_change_from_co2\": 0.005954918032786885, \"year\": 1950}, {\"temperature_change_from_co2\": 0.006081967213114754, \"year\": 1951}, {\"temperature_change_from_co2\": 0.00619672131147541, \"year\": 1952}, {\"temperature_change_from_co2\": 0.006315573770491803, \"year\": 1953}, {\"temperature_change_from_co2\": 0.006438524590163934, \"year\": 1954}, {\"temperature_change_from_co2\": 0.0065819672131147535, \"year\": 1955}, {\"temperature_change_from_co2\": 0.0067254098360655734, \"year\": 1956}, {\"temperature_change_from_co2\": 0.006864754098360656, \"year\": 1957}, {\"temperature_change_from_co2\": 0.007024590163934426, \"year\": 1958}, {\"temperature_change_from_co2\": 0.007172131147540984, \"year\": 1959}, {\"temperature_change_from_co2\": 0.007327868852459016, \"year\": 1960}, {\"temperature_change_from_co2\": 0.007475409836065574, \"year\": 1961}, {\"temperature_change_from_co2\": 0.00762295081967213, \"year\": 1962}, {\"temperature_change_from_co2\": 0.007782786885245902, \"year\": 1963}, {\"temperature_change_from_co2\": 0.007934426229508197, \"year\": 1964}, {\"temperature_change_from_co2\": 0.00810655737704918, \"year\": 1965}, {\"temperature_change_from_co2\": 0.00826639344262295, \"year\": 1966}, {\"temperature_change_from_co2\": 0.008426229508196721, \"year\": 1967}, {\"temperature_change_from_co2\": 0.008577868852459015, \"year\": 1968}, {\"temperature_change_from_co2\": 0.008762295081967212, \"year\": 1969}, {\"temperature_change_from_co2\": 0.008967213114754099, \"year\": 1970}, {\"temperature_change_from_co2\": 0.00917622950819672, \"year\": 1971}, {\"temperature_change_from_co2\": 0.009401639344262296, \"year\": 1972}, {\"temperature_change_from_co2\": 0.009610655737704917, \"year\": 1973}, {\"temperature_change_from_co2\": 0.009799180327868853, \"year\": 1974}, {\"temperature_change_from_co2\": 0.010012295081967213, \"year\": 1975}, {\"temperature_change_from_co2\": 0.010254098360655738, \"year\": 1976}, {\"temperature_change_from_co2\": 0.010479508196721311, \"year\": 1977}, {\"temperature_change_from_co2\": 0.010709016393442622, \"year\": 1978}, {\"temperature_change_from_co2\": 0.010942622950819672, \"year\": 1979}, {\"temperature_change_from_co2\": 0.011172131147540983, \"year\": 1980}, {\"temperature_change_from_co2\": 0.011385245901639345, \"year\": 1981}, {\"temperature_change_from_co2\": 0.01162295081967213, \"year\": 1982}, {\"temperature_change_from_co2\": 0.011864754098360656, \"year\": 1983}, {\"temperature_change_from_co2\": 0.012122950819672131, \"year\": 1984}, {\"temperature_change_from_co2\": 0.012344262295081967, \"year\": 1985}, {\"temperature_change_from_co2\": 0.012627049180327869, \"year\": 1986}, {\"temperature_change_from_co2\": 0.012856557377049181, \"year\": 1987}, {\"temperature_change_from_co2\": 0.013122950819672132, \"year\": 1988}, {\"temperature_change_from_co2\": 0.013389344262295082, \"year\": 1989}, {\"temperature_change_from_co2\": 0.013651639344262294, \"year\": 1990}, {\"temperature_change_from_co2\": 0.013913934426229508, \"year\": 1991}, {\"temperature_change_from_co2\": 0.014168032786885245, \"year\": 1992}, {\"temperature_change_from_co2\": 0.014422131147540984, \"year\": 1993}, {\"temperature_change_from_co2\": 0.014676229508196722, \"year\": 1994}, {\"temperature_change_from_co2\": 0.014987704918032786, \"year\": 1995}, {\"temperature_change_from_co2\": 0.015258196721311474, \"year\": 1996}, {\"temperature_change_from_co2\": 0.01553688524590164, \"year\": 1997}, {\"temperature_change_from_co2\": 0.01581967213114754, \"year\": 1998}, {\"temperature_change_from_co2\": 0.016094262295081967, \"year\": 1999}, {\"temperature_change_from_co2\": 0.01640983606557377, \"year\": 2000}, {\"temperature_change_from_co2\": 0.016688524590163935, \"year\": 2001}, {\"temperature_change_from_co2\": 0.016954918032786887, \"year\": 2002}, {\"temperature_change_from_co2\": 0.0172827868852459, \"year\": 2003}, {\"temperature_change_from_co2\": 0.017614754098360656, \"year\": 2004}, {\"temperature_change_from_co2\": 0.01792622950819672, \"year\": 2005}, {\"temperature_change_from_co2\": 0.01826639344262295, \"year\": 2006}, {\"temperature_change_from_co2\": 0.01857377049180328, \"year\": 2007}, {\"temperature_change_from_co2\": 0.01890983606557377, \"year\": 2008}, {\"temperature_change_from_co2\": 0.019241803278688525, \"year\": 2009}, {\"temperature_change_from_co2\": 0.019594262295081967, \"year\": 2010}, {\"temperature_change_from_co2\": 0.019922131147540982, \"year\": 2011}, {\"temperature_change_from_co2\": 0.0202827868852459, \"year\": 2012}, {\"temperature_change_from_co2\": 0.02062704918032787, \"year\": 2013}, {\"temperature_change_from_co2\": 0.02098360655737705, \"year\": 2014}, {\"temperature_change_from_co2\": 0.021348360655737704, \"year\": 2015}, {\"temperature_change_from_co2\": 0.021717213114754098, \"year\": 2016}, {\"temperature_change_from_co2\": 0.022061475409836065, \"year\": 2017}, {\"temperature_change_from_co2\": 0.02244672131147541, \"year\": 2018}, {\"temperature_change_from_co2\": 0.022799180327868852, \"year\": 2019}, {\"temperature_change_from_co2\": 0.02313934426229508, \"year\": 2020}, {\"temperature_change_from_co2\": 0.023520491803278688, \"year\": 2021}, {\"temperature_change_from_co2\": null, \"year\": 2022}]}, {\"name\": \"source_0_x_domain_year\", \"values\": [{\"min\": 1750, \"max\": 2022}]}, {\"name\": \"source_0_y_domain_temperature_change_from_co2\", \"values\": [{\"min\": 1.2295081967213116e-05, \"max\": 0.023520491803278688}]}], \"marks\": [{\"type\": \"line\", \"name\": \"marks\", \"from\": {\"data\": \"source_0\"}, \"sort\": {\"field\": \"datum[\\\"year\\\"]\"}, \"encode\": {\"update\": {\"defined\": {\"signal\": \"isValid(datum[\\\"year\\\"]) && isFinite(+datum[\\\"year\\\"]) && isValid(datum[\\\"temperature_change_from_co2\\\"]) && isFinite(+datum[\\\"temperature_change_from_co2\\\"])\"}, \"y\": {\"field\": \"temperature_change_from_co2\", \"scale\": \"y\"}, \"stroke\": {\"value\": \"#4c78a8\"}, \"x\": {\"field\": \"year\", \"scale\": \"x\"}}}, \"style\": [\"line\"]}], \"scales\": [{\"name\": \"x\", \"type\": \"linear\", \"domain\": [{\"signal\": \"(data(\\\"source_0_x_domain_year\\\")[0] || {}).min\"}, {\"signal\": \"(data(\\\"source_0_x_domain_year\\\")[0] || {}).max\"}], \"range\": [0, {\"signal\": \"width\"}], \"zero\": false, \"nice\": true}, {\"name\": \"y\", \"type\": \"linear\", \"domain\": [{\"signal\": \"(data(\\\"source_0_y_domain_temperature_change_from_co2\\\")[0] || {}).min\"}, {\"signal\": \"(data(\\\"source_0_y_domain_temperature_change_from_co2\\\")[0] || {}).max\"}], \"range\": [{\"signal\": \"height\"}, 0], \"nice\": true, \"zero\": true}], \"axes\": [{\"scale\": \"x\", \"maxExtent\": 0, \"ticks\": false, \"gridScale\": \"y\", \"zindex\": 0, \"orient\": \"bottom\", \"labels\": false, \"grid\": true, \"tickCount\": {\"signal\": \"ceil(width/40)\"}, \"domain\": false, \"aria\": false, \"minExtent\": 0}, {\"scale\": \"y\", \"labels\": false, \"minExtent\": 0, \"grid\": true, \"zindex\": 0, \"domain\": false, \"tickCount\": {\"signal\": \"ceil(height/40)\"}, \"maxExtent\": 0, \"gridScale\": \"x\", \"ticks\": false, \"aria\": false, \"orient\": \"left\"}, {\"scale\": \"x\", \"labelFlush\": true, \"zindex\": 0, \"tickCount\": {\"signal\": \"ceil(width/40)\"}, \"title\": \"Year\", \"labelOverlap\": true, \"orient\": \"bottom\", \"grid\": false}, {\"scale\": \"y\", \"labelOverlap\": true, \"zindex\": 0, \"tickCount\": {\"signal\": \"ceil(height/40)\"}, \"grid\": false, \"title\": \"Temperature Change\", \"orient\": \"left\"}], \"title\": {\"text\": \"Global temperature change over time\", \"frame\": \"group\"}, \"background\": \"white\", \"padding\": 5, \"width\": 800, \"style\": \"cell\", \"height\": 400}, {\"mode\": \"vega\"});\n",
       "</script>"
      ],
      "text/plain": [
       "alt.Chart(...)"
      ]
     },
     "execution_count": 24,
     "metadata": {},
     "output_type": "execute_result"
    }
   ],
   "source": [
    "alt.Chart(df_year).mark_line().encode(\n",
    "    x=alt.X(\"year\", title=\"Year\"),\n",
    "    y=alt.Y(\"temperature_change_from_co2\", title=\"Temperature Change\"),\n",
    ").properties(title=\"Global temperature change over time\", width=800, height=400)"
   ]
  },
  {
   "cell_type": "code",
   "execution_count": 25,
   "metadata": {},
   "outputs": [
    {
     "data": {
      "text/plain": [
       "273"
      ]
     },
     "execution_count": 25,
     "metadata": {},
     "output_type": "execute_result"
    }
   ],
   "source": [
    "df_year.shape[0]"
   ]
  },
  {
   "cell_type": "code",
   "execution_count": 26,
   "metadata": {},
   "outputs": [
    {
     "data": {
      "application/vnd.plotly.v1+json": {
       "config": {
        "plotlyServerURL": "https://plot.ly"
       },
       "data": [
        {
         "hovertemplate": "year=%{x}<br>co2=%{y}<extra></extra>",
         "legendgroup": "",
         "line": {
          "dash": "solid"
         },
         "marker": {
          "symbol": "circle"
         },
         "mode": "lines",
         "name": "",
         "showlegend": false,
         "type": "scattergl",
         "x": [
          1851,
          1852,
          1853,
          1854,
          1855,
          1856,
          1857,
          1858,
          1859,
          1860,
          1861,
          1862,
          1863,
          1864,
          1865,
          1866,
          1867,
          1868,
          1869,
          1870,
          1871,
          1872,
          1873,
          1874,
          1875,
          1876,
          1877,
          1878,
          1879,
          1880,
          1881,
          1882,
          1883,
          1884,
          1885,
          1886,
          1887,
          1888,
          1889,
          1890,
          1891,
          1892,
          1893,
          1894,
          1895,
          1896,
          1897,
          1898,
          1899,
          1900,
          1901,
          1902,
          1903,
          1904,
          1905,
          1906,
          1907,
          1908,
          1909,
          1910,
          1911,
          1912,
          1913,
          1914,
          1915,
          1916,
          1917,
          1918,
          1919,
          1920,
          1921,
          1922,
          1923,
          1924,
          1925,
          1926,
          1927,
          1928,
          1929,
          1930,
          1931,
          1932,
          1933,
          1934,
          1935,
          1936,
          1937,
          1938,
          1939,
          1940,
          1941,
          1942,
          1943,
          1944,
          1945,
          1946,
          1947,
          1948,
          1949,
          1950,
          1951,
          1952,
          1953,
          1954,
          1955,
          1956,
          1957,
          1958,
          1959,
          1960,
          1961,
          1962,
          1963,
          1964,
          1965,
          1966,
          1967,
          1968,
          1969,
          1970,
          1971,
          1972,
          1973,
          1974,
          1975,
          1976,
          1977,
          1978,
          1979,
          1980,
          1981,
          1982,
          1983,
          1984,
          1985,
          1986,
          1987,
          1988,
          1989,
          1990,
          1991,
          1992,
          1993,
          1994,
          1995,
          1996,
          1997,
          1998,
          1999,
          2000,
          2001,
          2002,
          2003,
          2004,
          2005,
          2006,
          2007,
          2008,
          2009,
          2010,
          2011,
          2012,
          2013,
          2014,
          2015,
          2016,
          2017,
          2018,
          2019,
          2020,
          2021
         ],
         "xaxis": "x",
         "y": [
          198.668,
          207.414,
          217.12,
          255.033,
          260.104,
          277.296,
          279.932,
          284.225,
          301.481,
          330.963,
          347.786,
          354.489,
          378.18,
          407.726,
          432.859,
          446.554,
          478.161,
          491.552,
          521.954,
          533.338,
          566.891,
          627.301,
          666.481,
          624.232,
          677.114,
          686.78,
          700.404,
          705.974,
          755.99,
          853.916,
          883.544,
          933.36,
          992.754,
          1004.134,
          1011.637,
          1027.417,
          1078.747,
          1194.353,
          1194.624,
          1300.362,
          1361.75,
          1372.396,
          1355.477,
          1403.019,
          1487.432,
          1536.366,
          1609.232,
          1697.166,
          1853.709,
          1952.209,
          2016.744,
          2067.684,
          2254.1,
          2279.747,
          2427.318,
          2534.733,
          2888.318,
          2776.441,
          2890.495,
          3034.09,
          3079.502,
          3235.964,
          3506.276,
          3180.355,
          3134.854,
          3385.858,
          3540.427,
          3493.264,
          3029.007,
          3521.427,
          3090.097,
          3240.314,
          3676.233,
          3687.22,
          3727.034,
          3661.03,
          3996.129,
          3978.763,
          4270.908,
          3938.598,
          3519.903,
          3173.476,
          3341.518,
          3634.242,
          3814.798,
          4185.514,
          4474.233,
          4206.901,
          4451.247,
          4861.346,
          4970.814,
          4959.586,
          5041.694,
          5117.909,
          4257.136,
          4646.124,
          5145.782,
          5424.953,
          5181.006,
          5929.342,
          6381.406,
          6467.437,
          6650.861,
          6789.498,
          7443.861,
          7925.98,
          8185.614,
          8417.16,
          8854.662,
          9386.421,
          9414.383,
          9746.556,
          10266.047,
          10823.618,
          11309.689,
          11861.708,
          12236.328,
          12904.336,
          13760.84,
          14898.156,
          15502.786,
          16223.439,
          17083.5,
          17009.383,
          17049.979,
          17985.242,
          18494.652,
          19063.955,
          19603.002,
          19482.441,
          19016.949,
          18865.373,
          18985.9,
          19641.729,
          20305.131,
          20607.514,
          21245.783,
          22077.385,
          22378.969,
          22752.701,
          23229.475,
          22567.199,
          22798.35,
          23034.775,
          23524.49,
          24250.16,
          24395.951,
          24330.945,
          24833.494,
          25501.287,
          25674.93,
          26248.289,
          27648.648,
          28620.193,
          29592.104,
          30605.766,
          31499.734,
          32041.902,
          31493.266,
          33306.328,
          34436.469,
          34935.453,
          35232.469,
          35466.195,
          35463.215,
          35460.027,
          36025.453,
          36766.945,
          37040.102,
          35007.738,
          36816.543
         ],
         "yaxis": "y"
        },
        {
         "hovertemplate": "year=%{x}<br>temperature_change_from_co2=%{y}<extra></extra>",
         "legendgroup": "",
         "line": {
          "dash": "solid"
         },
         "marker": {
          "symbol": "circle"
         },
         "mode": "lines",
         "name": "",
         "showlegend": false,
         "type": "scattergl",
         "x": [
          1851,
          1852,
          1853,
          1854,
          1855,
          1856,
          1857,
          1858,
          1859,
          1860,
          1861,
          1862,
          1863,
          1864,
          1865,
          1866,
          1867,
          1868,
          1869,
          1870,
          1871,
          1872,
          1873,
          1874,
          1875,
          1876,
          1877,
          1878,
          1879,
          1880,
          1881,
          1882,
          1883,
          1884,
          1885,
          1886,
          1887,
          1888,
          1889,
          1890,
          1891,
          1892,
          1893,
          1894,
          1895,
          1896,
          1897,
          1898,
          1899,
          1900,
          1901,
          1902,
          1903,
          1904,
          1905,
          1906,
          1907,
          1908,
          1909,
          1910,
          1911,
          1912,
          1913,
          1914,
          1915,
          1916,
          1917,
          1918,
          1919,
          1920,
          1921,
          1922,
          1923,
          1924,
          1925,
          1926,
          1927,
          1928,
          1929,
          1930,
          1931,
          1932,
          1933,
          1934,
          1935,
          1936,
          1937,
          1938,
          1939,
          1940,
          1941,
          1942,
          1943,
          1944,
          1945,
          1946,
          1947,
          1948,
          1949,
          1950,
          1951,
          1952,
          1953,
          1954,
          1955,
          1956,
          1957,
          1958,
          1959,
          1960,
          1961,
          1962,
          1963,
          1964,
          1965,
          1966,
          1967,
          1968,
          1969,
          1970,
          1971,
          1972,
          1973,
          1974,
          1975,
          1976,
          1977,
          1978,
          1979,
          1980,
          1981,
          1982,
          1983,
          1984,
          1985,
          1986,
          1987,
          1988,
          1989,
          1990,
          1991,
          1992,
          1993,
          1994,
          1995,
          1996,
          1997,
          1998,
          1999,
          2000,
          2001,
          2002,
          2003,
          2004,
          2005,
          2006,
          2007,
          2008,
          2009,
          2010,
          2011,
          2012,
          2013,
          2014,
          2015,
          2016,
          2017,
          2018,
          2019,
          2020,
          2021
         ],
         "xaxis": "x",
         "y": [
          0.001,
          0.002,
          0.004,
          0.005,
          0.006,
          0.008,
          0.009,
          0.01,
          0.012,
          0.013,
          0.014,
          0.016,
          0.017,
          0.018,
          0.02,
          0.021,
          0.022,
          0.023,
          0.025,
          0.026,
          0.028,
          0.029,
          0.031,
          0.032,
          0.034,
          0.035,
          0.037,
          0.039,
          0.041,
          0.042,
          0.044,
          0.046,
          0.048,
          0.05,
          0.052,
          0.054,
          0.056,
          0.058,
          0.06,
          0.062,
          0.064,
          0.066,
          0.068,
          0.071,
          0.073,
          0.076,
          0.078,
          0.08,
          0.083,
          0.086,
          0.088,
          0.091,
          0.094,
          0.097,
          0.1,
          0.103,
          0.106,
          0.109,
          0.113,
          0.116,
          0.119,
          0.123,
          0.126,
          0.13,
          0.133,
          0.136,
          0.14,
          0.143,
          0.146,
          0.15,
          0.153,
          0.157,
          0.16,
          0.164,
          0.168,
          0.171,
          0.175,
          0.179,
          0.183,
          0.187,
          0.19,
          0.194,
          0.198,
          0.201,
          0.205,
          0.209,
          0.213,
          0.217,
          0.222,
          0.226,
          0.231,
          0.235,
          0.24,
          0.244,
          0.249,
          0.253,
          0.258,
          0.262,
          0.267,
          0.272,
          0.278,
          0.283,
          0.289,
          0.294,
          0.301,
          0.307,
          0.314,
          0.32,
          0.328,
          0.335,
          0.342,
          0.349,
          0.356,
          0.363,
          0.371,
          0.378,
          0.386,
          0.394,
          0.402,
          0.411,
          0.42,
          0.43,
          0.439,
          0.449,
          0.459,
          0.469,
          0.479,
          0.489,
          0.5,
          0.511,
          0.521,
          0.532,
          0.542,
          0.554,
          0.565,
          0.577,
          0.588,
          0.601,
          0.613,
          0.625,
          0.638,
          0.65,
          0.663,
          0.676,
          0.689,
          0.702,
          0.716,
          0.729,
          0.743,
          0.757,
          0.77,
          0.784,
          0.799,
          0.815,
          0.83,
          0.846,
          0.862,
          0.879,
          0.895,
          0.913,
          0.93,
          0.948,
          0.966,
          0.985,
          1.003,
          1.021,
          1.039,
          1.058,
          1.076,
          1.094,
          1.113
         ],
         "yaxis": "y2"
        }
       ],
       "layout": {
        "template": {
         "data": {
          "bar": [
           {
            "error_x": {
             "color": "#2a3f5f"
            },
            "error_y": {
             "color": "#2a3f5f"
            },
            "marker": {
             "line": {
              "color": "#E5ECF6",
              "width": 0.5
             },
             "pattern": {
              "fillmode": "overlay",
              "size": 10,
              "solidity": 0.2
             }
            },
            "type": "bar"
           }
          ],
          "barpolar": [
           {
            "marker": {
             "line": {
              "color": "#E5ECF6",
              "width": 0.5
             },
             "pattern": {
              "fillmode": "overlay",
              "size": 10,
              "solidity": 0.2
             }
            },
            "type": "barpolar"
           }
          ],
          "carpet": [
           {
            "aaxis": {
             "endlinecolor": "#2a3f5f",
             "gridcolor": "white",
             "linecolor": "white",
             "minorgridcolor": "white",
             "startlinecolor": "#2a3f5f"
            },
            "baxis": {
             "endlinecolor": "#2a3f5f",
             "gridcolor": "white",
             "linecolor": "white",
             "minorgridcolor": "white",
             "startlinecolor": "#2a3f5f"
            },
            "type": "carpet"
           }
          ],
          "choropleth": [
           {
            "colorbar": {
             "outlinewidth": 0,
             "ticks": ""
            },
            "type": "choropleth"
           }
          ],
          "contour": [
           {
            "colorbar": {
             "outlinewidth": 0,
             "ticks": ""
            },
            "colorscale": [
             [
              0,
              "#0d0887"
             ],
             [
              0.1111111111111111,
              "#46039f"
             ],
             [
              0.2222222222222222,
              "#7201a8"
             ],
             [
              0.3333333333333333,
              "#9c179e"
             ],
             [
              0.4444444444444444,
              "#bd3786"
             ],
             [
              0.5555555555555556,
              "#d8576b"
             ],
             [
              0.6666666666666666,
              "#ed7953"
             ],
             [
              0.7777777777777778,
              "#fb9f3a"
             ],
             [
              0.8888888888888888,
              "#fdca26"
             ],
             [
              1,
              "#f0f921"
             ]
            ],
            "type": "contour"
           }
          ],
          "contourcarpet": [
           {
            "colorbar": {
             "outlinewidth": 0,
             "ticks": ""
            },
            "type": "contourcarpet"
           }
          ],
          "heatmap": [
           {
            "colorbar": {
             "outlinewidth": 0,
             "ticks": ""
            },
            "colorscale": [
             [
              0,
              "#0d0887"
             ],
             [
              0.1111111111111111,
              "#46039f"
             ],
             [
              0.2222222222222222,
              "#7201a8"
             ],
             [
              0.3333333333333333,
              "#9c179e"
             ],
             [
              0.4444444444444444,
              "#bd3786"
             ],
             [
              0.5555555555555556,
              "#d8576b"
             ],
             [
              0.6666666666666666,
              "#ed7953"
             ],
             [
              0.7777777777777778,
              "#fb9f3a"
             ],
             [
              0.8888888888888888,
              "#fdca26"
             ],
             [
              1,
              "#f0f921"
             ]
            ],
            "type": "heatmap"
           }
          ],
          "heatmapgl": [
           {
            "colorbar": {
             "outlinewidth": 0,
             "ticks": ""
            },
            "colorscale": [
             [
              0,
              "#0d0887"
             ],
             [
              0.1111111111111111,
              "#46039f"
             ],
             [
              0.2222222222222222,
              "#7201a8"
             ],
             [
              0.3333333333333333,
              "#9c179e"
             ],
             [
              0.4444444444444444,
              "#bd3786"
             ],
             [
              0.5555555555555556,
              "#d8576b"
             ],
             [
              0.6666666666666666,
              "#ed7953"
             ],
             [
              0.7777777777777778,
              "#fb9f3a"
             ],
             [
              0.8888888888888888,
              "#fdca26"
             ],
             [
              1,
              "#f0f921"
             ]
            ],
            "type": "heatmapgl"
           }
          ],
          "histogram": [
           {
            "marker": {
             "pattern": {
              "fillmode": "overlay",
              "size": 10,
              "solidity": 0.2
             }
            },
            "type": "histogram"
           }
          ],
          "histogram2d": [
           {
            "colorbar": {
             "outlinewidth": 0,
             "ticks": ""
            },
            "colorscale": [
             [
              0,
              "#0d0887"
             ],
             [
              0.1111111111111111,
              "#46039f"
             ],
             [
              0.2222222222222222,
              "#7201a8"
             ],
             [
              0.3333333333333333,
              "#9c179e"
             ],
             [
              0.4444444444444444,
              "#bd3786"
             ],
             [
              0.5555555555555556,
              "#d8576b"
             ],
             [
              0.6666666666666666,
              "#ed7953"
             ],
             [
              0.7777777777777778,
              "#fb9f3a"
             ],
             [
              0.8888888888888888,
              "#fdca26"
             ],
             [
              1,
              "#f0f921"
             ]
            ],
            "type": "histogram2d"
           }
          ],
          "histogram2dcontour": [
           {
            "colorbar": {
             "outlinewidth": 0,
             "ticks": ""
            },
            "colorscale": [
             [
              0,
              "#0d0887"
             ],
             [
              0.1111111111111111,
              "#46039f"
             ],
             [
              0.2222222222222222,
              "#7201a8"
             ],
             [
              0.3333333333333333,
              "#9c179e"
             ],
             [
              0.4444444444444444,
              "#bd3786"
             ],
             [
              0.5555555555555556,
              "#d8576b"
             ],
             [
              0.6666666666666666,
              "#ed7953"
             ],
             [
              0.7777777777777778,
              "#fb9f3a"
             ],
             [
              0.8888888888888888,
              "#fdca26"
             ],
             [
              1,
              "#f0f921"
             ]
            ],
            "type": "histogram2dcontour"
           }
          ],
          "mesh3d": [
           {
            "colorbar": {
             "outlinewidth": 0,
             "ticks": ""
            },
            "type": "mesh3d"
           }
          ],
          "parcoords": [
           {
            "line": {
             "colorbar": {
              "outlinewidth": 0,
              "ticks": ""
             }
            },
            "type": "parcoords"
           }
          ],
          "pie": [
           {
            "automargin": true,
            "type": "pie"
           }
          ],
          "scatter": [
           {
            "fillpattern": {
             "fillmode": "overlay",
             "size": 10,
             "solidity": 0.2
            },
            "type": "scatter"
           }
          ],
          "scatter3d": [
           {
            "line": {
             "colorbar": {
              "outlinewidth": 0,
              "ticks": ""
             }
            },
            "marker": {
             "colorbar": {
              "outlinewidth": 0,
              "ticks": ""
             }
            },
            "type": "scatter3d"
           }
          ],
          "scattercarpet": [
           {
            "marker": {
             "colorbar": {
              "outlinewidth": 0,
              "ticks": ""
             }
            },
            "type": "scattercarpet"
           }
          ],
          "scattergeo": [
           {
            "marker": {
             "colorbar": {
              "outlinewidth": 0,
              "ticks": ""
             }
            },
            "type": "scattergeo"
           }
          ],
          "scattergl": [
           {
            "marker": {
             "colorbar": {
              "outlinewidth": 0,
              "ticks": ""
             }
            },
            "type": "scattergl"
           }
          ],
          "scattermapbox": [
           {
            "marker": {
             "colorbar": {
              "outlinewidth": 0,
              "ticks": ""
             }
            },
            "type": "scattermapbox"
           }
          ],
          "scatterpolar": [
           {
            "marker": {
             "colorbar": {
              "outlinewidth": 0,
              "ticks": ""
             }
            },
            "type": "scatterpolar"
           }
          ],
          "scatterpolargl": [
           {
            "marker": {
             "colorbar": {
              "outlinewidth": 0,
              "ticks": ""
             }
            },
            "type": "scatterpolargl"
           }
          ],
          "scatterternary": [
           {
            "marker": {
             "colorbar": {
              "outlinewidth": 0,
              "ticks": ""
             }
            },
            "type": "scatterternary"
           }
          ],
          "surface": [
           {
            "colorbar": {
             "outlinewidth": 0,
             "ticks": ""
            },
            "colorscale": [
             [
              0,
              "#0d0887"
             ],
             [
              0.1111111111111111,
              "#46039f"
             ],
             [
              0.2222222222222222,
              "#7201a8"
             ],
             [
              0.3333333333333333,
              "#9c179e"
             ],
             [
              0.4444444444444444,
              "#bd3786"
             ],
             [
              0.5555555555555556,
              "#d8576b"
             ],
             [
              0.6666666666666666,
              "#ed7953"
             ],
             [
              0.7777777777777778,
              "#fb9f3a"
             ],
             [
              0.8888888888888888,
              "#fdca26"
             ],
             [
              1,
              "#f0f921"
             ]
            ],
            "type": "surface"
           }
          ],
          "table": [
           {
            "cells": {
             "fill": {
              "color": "#EBF0F8"
             },
             "line": {
              "color": "white"
             }
            },
            "header": {
             "fill": {
              "color": "#C8D4E3"
             },
             "line": {
              "color": "white"
             }
            },
            "type": "table"
           }
          ]
         },
         "layout": {
          "annotationdefaults": {
           "arrowcolor": "#2a3f5f",
           "arrowhead": 0,
           "arrowwidth": 1
          },
          "autotypenumbers": "strict",
          "coloraxis": {
           "colorbar": {
            "outlinewidth": 0,
            "ticks": ""
           }
          },
          "colorscale": {
           "diverging": [
            [
             0,
             "#8e0152"
            ],
            [
             0.1,
             "#c51b7d"
            ],
            [
             0.2,
             "#de77ae"
            ],
            [
             0.3,
             "#f1b6da"
            ],
            [
             0.4,
             "#fde0ef"
            ],
            [
             0.5,
             "#f7f7f7"
            ],
            [
             0.6,
             "#e6f5d0"
            ],
            [
             0.7,
             "#b8e186"
            ],
            [
             0.8,
             "#7fbc41"
            ],
            [
             0.9,
             "#4d9221"
            ],
            [
             1,
             "#276419"
            ]
           ],
           "sequential": [
            [
             0,
             "#0d0887"
            ],
            [
             0.1111111111111111,
             "#46039f"
            ],
            [
             0.2222222222222222,
             "#7201a8"
            ],
            [
             0.3333333333333333,
             "#9c179e"
            ],
            [
             0.4444444444444444,
             "#bd3786"
            ],
            [
             0.5555555555555556,
             "#d8576b"
            ],
            [
             0.6666666666666666,
             "#ed7953"
            ],
            [
             0.7777777777777778,
             "#fb9f3a"
            ],
            [
             0.8888888888888888,
             "#fdca26"
            ],
            [
             1,
             "#f0f921"
            ]
           ],
           "sequentialminus": [
            [
             0,
             "#0d0887"
            ],
            [
             0.1111111111111111,
             "#46039f"
            ],
            [
             0.2222222222222222,
             "#7201a8"
            ],
            [
             0.3333333333333333,
             "#9c179e"
            ],
            [
             0.4444444444444444,
             "#bd3786"
            ],
            [
             0.5555555555555556,
             "#d8576b"
            ],
            [
             0.6666666666666666,
             "#ed7953"
            ],
            [
             0.7777777777777778,
             "#fb9f3a"
            ],
            [
             0.8888888888888888,
             "#fdca26"
            ],
            [
             1,
             "#f0f921"
            ]
           ]
          },
          "colorway": [
           "#636efa",
           "#EF553B",
           "#00cc96",
           "#ab63fa",
           "#FFA15A",
           "#19d3f3",
           "#FF6692",
           "#B6E880",
           "#FF97FF",
           "#FECB52"
          ],
          "font": {
           "color": "#2a3f5f"
          },
          "geo": {
           "bgcolor": "white",
           "lakecolor": "white",
           "landcolor": "#E5ECF6",
           "showlakes": true,
           "showland": true,
           "subunitcolor": "white"
          },
          "hoverlabel": {
           "align": "left"
          },
          "hovermode": "closest",
          "mapbox": {
           "style": "light"
          },
          "paper_bgcolor": "white",
          "plot_bgcolor": "#E5ECF6",
          "polar": {
           "angularaxis": {
            "gridcolor": "white",
            "linecolor": "white",
            "ticks": ""
           },
           "bgcolor": "#E5ECF6",
           "radialaxis": {
            "gridcolor": "white",
            "linecolor": "white",
            "ticks": ""
           }
          },
          "scene": {
           "xaxis": {
            "backgroundcolor": "#E5ECF6",
            "gridcolor": "white",
            "gridwidth": 2,
            "linecolor": "white",
            "showbackground": true,
            "ticks": "",
            "zerolinecolor": "white"
           },
           "yaxis": {
            "backgroundcolor": "#E5ECF6",
            "gridcolor": "white",
            "gridwidth": 2,
            "linecolor": "white",
            "showbackground": true,
            "ticks": "",
            "zerolinecolor": "white"
           },
           "zaxis": {
            "backgroundcolor": "#E5ECF6",
            "gridcolor": "white",
            "gridwidth": 2,
            "linecolor": "white",
            "showbackground": true,
            "ticks": "",
            "zerolinecolor": "white"
           }
          },
          "shapedefaults": {
           "line": {
            "color": "#2a3f5f"
           }
          },
          "ternary": {
           "aaxis": {
            "gridcolor": "white",
            "linecolor": "white",
            "ticks": ""
           },
           "baxis": {
            "gridcolor": "white",
            "linecolor": "white",
            "ticks": ""
           },
           "bgcolor": "#E5ECF6",
           "caxis": {
            "gridcolor": "white",
            "linecolor": "white",
            "ticks": ""
           }
          },
          "title": {
           "x": 0.05
          },
          "xaxis": {
           "automargin": true,
           "gridcolor": "white",
           "linecolor": "white",
           "ticks": "",
           "title": {
            "standoff": 15
           },
           "zerolinecolor": "white",
           "zerolinewidth": 2
          },
          "yaxis": {
           "automargin": true,
           "gridcolor": "white",
           "linecolor": "white",
           "ticks": "",
           "title": {
            "standoff": 15
           },
           "zerolinecolor": "white",
           "zerolinewidth": 2
          }
         }
        },
        "xaxis": {
         "anchor": "y",
         "domain": [
          0,
          0.94
         ],
         "title": {
          "text": "Year"
         }
        },
        "yaxis": {
         "anchor": "x",
         "domain": [
          0,
          1
         ],
         "title": {
          "text": "CO2 emissions (kT)"
         }
        },
        "yaxis2": {
         "anchor": "x",
         "overlaying": "y",
         "side": "right",
         "title": {
          "text": "Temperature change (°C)"
         }
        }
       }
      }
     },
     "metadata": {},
     "output_type": "display_data"
    }
   ],
   "source": [
    "co2_color = \"red\"\n",
    "temp_color = \"blue\"\n",
    "\n",
    "start_year = 1850\n",
    "end_year = 2022\n",
    "country_codes = None\n",
    "\n",
    "if country_codes:\n",
    "    df = df[df.iso_code.isin(country_codes)]\n",
    "else:\n",
    "    df = df[df.country == \"World\"]\n",
    "\n",
    "df_year = (\n",
    "    df.query(f\"{start_year} <= year <= {end_year}\")\n",
    "    .groupby(\"year\")\n",
    "    .aggregate({\"co2\": \"sum\", \"temperature_change_from_co2\": \"mean\"})\n",
    "    .reset_index()\n",
    "    .dropna()\n",
    ")\n",
    "\n",
    "co2_line = px.line(\n",
    "    df_year, x=\"year\", y=\"co2\", title=\"CO2 emissions over time\", render_mode=\"webgl\"\n",
    ")\n",
    "temp_line = px.line(\n",
    "    df_year,\n",
    "    x=\"year\",\n",
    "    y=\"temperature_change_from_co2\",\n",
    "    title=\"Temperature change over time\",\n",
    "    render_mode=\"webgl\",\n",
    ")\n",
    "temp_line.update_traces(yaxis=\"y2\")\n",
    "\n",
    "subfig = make_subplots(specs=[[{\"secondary_y\": True}]])\n",
    "subfig.add_traces(co2_line.data + temp_line.data)\n",
    "subfig.layout.xaxis.title = \"Year\"\n",
    "subfig.layout.yaxis.title = \"CO2 emissions (kT)\"\n",
    "subfig.layout.yaxis2.title = \"Temperature change (°C)\"\n",
    "subfig.for_each_trace(lambda t: t.update(line=dict(color=t.marker.color)))\n",
    "\n",
    "subfig.show()"
   ]
  },
  {
   "cell_type": "code",
   "execution_count": 27,
   "metadata": {},
   "outputs": [
    {
     "data": {
      "text/plain": [
       "{'$schema': 'https://vega.github.io/schema/vega/v5.json',\n",
       " 'data': [{'name': 'source_0',\n",
       "   'values': [{'co2': 1952.21,\n",
       "     'temperature_change_from_co2': 0.0003425925925925926,\n",
       "     'year': 1900},\n",
       "    {'co2': 2016.7450000000001,\n",
       "     'temperature_change_from_co2': 0.0003564814814814815,\n",
       "     'year': 1901},\n",
       "    {'co2': 2067.683,\n",
       "     'temperature_change_from_co2': 0.00037962962962962966,\n",
       "     'year': 1902},\n",
       "    {'co2': 2254.099,\n",
       "     'temperature_change_from_co2': 0.0003935185185185185,\n",
       "     'year': 1903},\n",
       "    {'co2': 2279.75,\n",
       "     'temperature_change_from_co2': 0.0004027777777777777,\n",
       "     'year': 1904},\n",
       "    {'co2': 2427.317,\n",
       "     'temperature_change_from_co2': 0.0004259259259259259,\n",
       "     'year': 1905},\n",
       "    {'co2': 2534.733,\n",
       "     'temperature_change_from_co2': 0.0004398148148148148,\n",
       "     'year': 1906},\n",
       "    {'co2': 2888.314,\n",
       "     'temperature_change_from_co2': 0.000462962962962963,\n",
       "     'year': 1907},\n",
       "    {'co2': 2776.4410000000003,\n",
       "     'temperature_change_from_co2': 0.00046759259259259264,\n",
       "     'year': 1908},\n",
       "    {'co2': 2890.496,\n",
       "     'temperature_change_from_co2': 0.0004861111111111111,\n",
       "     'year': 1909},\n",
       "    {'co2': 3034.088,\n",
       "     'temperature_change_from_co2': 0.0004907407407407407,\n",
       "     'year': 1910},\n",
       "    {'co2': 3079.504, 'temperature_change_from_co2': 0.0005, 'year': 1911},\n",
       "    {'co2': 3235.965,\n",
       "     'temperature_change_from_co2': 0.0005185185185185185,\n",
       "     'year': 1912},\n",
       "    {'co2': 3506.281,\n",
       "     'temperature_change_from_co2': 0.0005324074074074073,\n",
       "     'year': 1913},\n",
       "    {'co2': 3180.355,\n",
       "     'temperature_change_from_co2': 0.0005462962962962962,\n",
       "     'year': 1914},\n",
       "    {'co2': 3134.8529999999996,\n",
       "     'temperature_change_from_co2': 0.0005555555555555556,\n",
       "     'year': 1915},\n",
       "    {'co2': 3385.864,\n",
       "     'temperature_change_from_co2': 0.0005787037037037037,\n",
       "     'year': 1916},\n",
       "    {'co2': 3540.428,\n",
       "     'temperature_change_from_co2': 0.0005972222222222222,\n",
       "     'year': 1917},\n",
       "    {'co2': 3493.265,\n",
       "     'temperature_change_from_co2': 0.0006157407407407408,\n",
       "     'year': 1918},\n",
       "    {'co2': 3029.001,\n",
       "     'temperature_change_from_co2': 0.0006296296296296297,\n",
       "     'year': 1919},\n",
       "    {'co2': 3521.4280000000003,\n",
       "     'temperature_change_from_co2': 0.0006435185185185184,\n",
       "     'year': 1920},\n",
       "    {'co2': 3090.0950000000003,\n",
       "     'temperature_change_from_co2': 0.0006666666666666666,\n",
       "     'year': 1921},\n",
       "    {'co2': 3240.315,\n",
       "     'temperature_change_from_co2': 0.0006805555555555556,\n",
       "     'year': 1922},\n",
       "    {'co2': 3676.236,\n",
       "     'temperature_change_from_co2': 0.0006990740740740741,\n",
       "     'year': 1923},\n",
       "    {'co2': 3687.215,\n",
       "     'temperature_change_from_co2': 0.0007083333333333333,\n",
       "     'year': 1924},\n",
       "    {'co2': 3727.033,\n",
       "     'temperature_change_from_co2': 0.0007222222222222222,\n",
       "     'year': 1925},\n",
       "    {'co2': 3661.025,\n",
       "     'temperature_change_from_co2': 0.0007407407407407407,\n",
       "     'year': 1926},\n",
       "    {'co2': 3996.131,\n",
       "     'temperature_change_from_co2': 0.0007685185185185185,\n",
       "     'year': 1927},\n",
       "    {'co2': 3978.766,\n",
       "     'temperature_change_from_co2': 0.0007870370370370369,\n",
       "     'year': 1928},\n",
       "    {'co2': 4270.908,\n",
       "     'temperature_change_from_co2': 0.0008101851851851852,\n",
       "     'year': 1929},\n",
       "    {'co2': 3938.5969999999998,\n",
       "     'temperature_change_from_co2': 0.0008240740740740741,\n",
       "     'year': 1930},\n",
       "    {'co2': 3519.905,\n",
       "     'temperature_change_from_co2': 0.0008472222222222222,\n",
       "     'year': 1931},\n",
       "    {'co2': 3173.476,\n",
       "     'temperature_change_from_co2': 0.0008564814814814815,\n",
       "     'year': 1932},\n",
       "    {'co2': 3341.52,\n",
       "     'temperature_change_from_co2': 0.0008611111111111111,\n",
       "     'year': 1933},\n",
       "    {'co2': 3634.246,\n",
       "     'temperature_change_from_co2': 0.0008888888888888889,\n",
       "     'year': 1934},\n",
       "    {'co2': 3814.7980000000002,\n",
       "     'temperature_change_from_co2': 0.0008981481481481481,\n",
       "     'year': 1935},\n",
       "    {'co2': 4185.514,\n",
       "     'temperature_change_from_co2': 0.000912037037037037,\n",
       "     'year': 1936},\n",
       "    {'co2': 4474.235,\n",
       "     'temperature_change_from_co2': 0.0009351851851851853,\n",
       "     'year': 1937},\n",
       "    {'co2': 4206.9,\n",
       "     'temperature_change_from_co2': 0.0009537037037037038,\n",
       "     'year': 1938},\n",
       "    {'co2': 4451.245,\n",
       "     'temperature_change_from_co2': 0.0009768518518518518,\n",
       "     'year': 1939},\n",
       "    {'co2': 4861.347, 'temperature_change_from_co2': 0.001, 'year': 1940},\n",
       "    {'co2': 4970.81,\n",
       "     'temperature_change_from_co2': 0.0010185185185185184,\n",
       "     'year': 1941},\n",
       "    {'co2': 4959.588,\n",
       "     'temperature_change_from_co2': 0.0010462962962962963,\n",
       "     'year': 1942},\n",
       "    {'co2': 5041.692,\n",
       "     'temperature_change_from_co2': 0.0010601851851851853,\n",
       "     'year': 1943},\n",
       "    {'co2': 5117.906,\n",
       "     'temperature_change_from_co2': 0.0010833333333333335,\n",
       "     'year': 1944},\n",
       "    {'co2': 4257.137000000001,\n",
       "     'temperature_change_from_co2': 0.001097222222222222,\n",
       "     'year': 1945},\n",
       "    {'co2': 4646.126,\n",
       "     'temperature_change_from_co2': 0.001115740740740741,\n",
       "     'year': 1946},\n",
       "    {'co2': 5145.78,\n",
       "     'temperature_change_from_co2': 0.0011435185185185185,\n",
       "     'year': 1947},\n",
       "    {'co2': 5424.952,\n",
       "     'temperature_change_from_co2': 0.0011527777777777777,\n",
       "     'year': 1948},\n",
       "    {'co2': 5181.009,\n",
       "     'temperature_change_from_co2': 0.0011666666666666668,\n",
       "     'year': 1949},\n",
       "    {'co2': 5800.744,\n",
       "     'temperature_change_from_co2': 0.0011851851851851852,\n",
       "     'year': 1950},\n",
       "    {'co2': 6227.998,\n",
       "     'temperature_change_from_co2': 0.001212962962962963,\n",
       "     'year': 1951},\n",
       "    {'co2': 6311.048,\n",
       "     'temperature_change_from_co2': 0.0012453703703703704,\n",
       "     'year': 1952},\n",
       "    {'co2': 6488.5019999999995,\n",
       "     'temperature_change_from_co2': 0.001273148148148148,\n",
       "     'year': 1953},\n",
       "    {'co2': 6626.554,\n",
       "     'temperature_change_from_co2': 0.0013055555555555555,\n",
       "     'year': 1954},\n",
       "    {'co2': 7256.497,\n",
       "     'temperature_change_from_co2': 0.0013379629629629629,\n",
       "     'year': 1955},\n",
       "    {'co2': 7724.434,\n",
       "     'temperature_change_from_co2': 0.0013657407407407407,\n",
       "     'year': 1956},\n",
       "    {'co2': 7961.544,\n",
       "     'temperature_change_from_co2': 0.0013981481481481481,\n",
       "     'year': 1957},\n",
       "    {'co2': 8208.797,\n",
       "     'temperature_change_from_co2': 0.0014398148148148148,\n",
       "     'year': 1958},\n",
       "    {'co2': 8640.672999999999,\n",
       "     'temperature_change_from_co2': 0.0014675925925925926,\n",
       "     'year': 1959},\n",
       "    {'co2': 9147.715, 'temperature_change_from_co2': 0.0015, 'year': 1960},\n",
       "    {'co2': 9150.563,\n",
       "     'temperature_change_from_co2': 0.0015231481481481483,\n",
       "     'year': 1961},\n",
       "    {'co2': 9472.961,\n",
       "     'temperature_change_from_co2': 0.0015601851851851853,\n",
       "     'year': 1962},\n",
       "    {'co2': 9979.356,\n",
       "     'temperature_change_from_co2': 0.001597222222222222,\n",
       "     'year': 1963},\n",
       "    {'co2': 10509.376, 'temperature_change_from_co2': 0.001625, 'year': 1964},\n",
       "    {'co2': 10985.226,\n",
       "     'temperature_change_from_co2': 0.0016574074074074074,\n",
       "     'year': 1965},\n",
       "    {'co2': 11510.819,\n",
       "     'temperature_change_from_co2': 0.0016898148148148148,\n",
       "     'year': 1966},\n",
       "    {'co2': 11860.901,\n",
       "     'temperature_change_from_co2': 0.001712962962962963,\n",
       "     'year': 1967},\n",
       "    {'co2': 12507.08,\n",
       "     'temperature_change_from_co2': 0.0017407407407407408,\n",
       "     'year': 1968},\n",
       "    {'co2': 13345.315,\n",
       "     'temperature_change_from_co2': 0.0017824074074074075,\n",
       "     'year': 1969},\n",
       "    {'co2': 14458.886999999999,\n",
       "     'temperature_change_from_co2': 0.0018194444444444445,\n",
       "     'year': 1970},\n",
       "    {'co2': 15037.736,\n",
       "     'temperature_change_from_co2': 0.0018796296296296297,\n",
       "     'year': 1971},\n",
       "    {'co2': 15721.777,\n",
       "     'temperature_change_from_co2': 0.0019305555555555554,\n",
       "     'year': 1972},\n",
       "    {'co2': 16556.399,\n",
       "     'temperature_change_from_co2': 0.0019768518518518516,\n",
       "     'year': 1973},\n",
       "    {'co2': 16519.618000000002,\n",
       "     'temperature_change_from_co2': 0.0020046296296296296,\n",
       "     'year': 1974},\n",
       "    {'co2': 16601.371,\n",
       "     'temperature_change_from_co2': 0.0020462962962962965,\n",
       "     'year': 1975},\n",
       "    {'co2': 17545.462,\n",
       "     'temperature_change_from_co2': 0.0021111111111111113,\n",
       "     'year': 1976},\n",
       "    {'co2': 18044.567,\n",
       "     'temperature_change_from_co2': 0.002166666666666667,\n",
       "     'year': 1977},\n",
       "    {'co2': 18607.196,\n",
       "     'temperature_change_from_co2': 0.002212962962962963,\n",
       "     'year': 1978},\n",
       "    {'co2': 19144.663, 'temperature_change_from_co2': 0.00225, 'year': 1979},\n",
       "    {'co2': 19036.135,\n",
       "     'temperature_change_from_co2': 0.002300925925925926,\n",
       "     'year': 1980},\n",
       "    {'co2': 18604.999,\n",
       "     'temperature_change_from_co2': 0.0023425925925925927,\n",
       "     'year': 1981},\n",
       "    {'co2': 18492.457,\n",
       "     'temperature_change_from_co2': 0.0023935185185185188,\n",
       "     'year': 1982},\n",
       "    {'co2': 18627.856,\n",
       "     'temperature_change_from_co2': 0.0024583333333333336,\n",
       "     'year': 1983},\n",
       "    {'co2': 19282.377,\n",
       "     'temperature_change_from_co2': 0.002513888888888889,\n",
       "     'year': 1984},\n",
       "    {'co2': 19938.114999999998,\n",
       "     'temperature_change_from_co2': 0.0025509259259259257,\n",
       "     'year': 1985},\n",
       "    {'co2': 20214.246,\n",
       "     'temperature_change_from_co2': 0.00262037037037037,\n",
       "     'year': 1986},\n",
       "    {'co2': 20718.756,\n",
       "     'temperature_change_from_co2': 0.0026666666666666666,\n",
       "     'year': 1987},\n",
       "    {'co2': 21532.378,\n",
       "     'temperature_change_from_co2': 0.0027222222222222222,\n",
       "     'year': 1988},\n",
       "    {'co2': 21814.299,\n",
       "     'temperature_change_from_co2': 0.002777777777777778,\n",
       "     'year': 1989},\n",
       "    {'co2': 22203.852,\n",
       "     'temperature_change_from_co2': 0.002833333333333333,\n",
       "     'year': 1990},\n",
       "    {'co2': 22685.784,\n",
       "     'temperature_change_from_co2': 0.002884259259259259,\n",
       "     'year': 1991},\n",
       "    {'co2': 22012.655,\n",
       "     'temperature_change_from_co2': 0.002925925925925926,\n",
       "     'year': 1992},\n",
       "    {'co2': 22240.253,\n",
       "     'temperature_change_from_co2': 0.002976851851851852,\n",
       "     'year': 1993},\n",
       "    {'co2': 22449.495,\n",
       "     'temperature_change_from_co2': 0.003027777777777778,\n",
       "     'year': 1994},\n",
       "    {'co2': 22906.157,\n",
       "     'temperature_change_from_co2': 0.003115740740740741,\n",
       "     'year': 1995},\n",
       "    {'co2': 23580.525,\n",
       "     'temperature_change_from_co2': 0.0031712962962962966,\n",
       "     'year': 1996},\n",
       "    {'co2': 23691.704,\n",
       "     'temperature_change_from_co2': 0.003226851851851852,\n",
       "     'year': 1997},\n",
       "    {'co2': 23583.778,\n",
       "     'temperature_change_from_co2': 0.0032870370370370367,\n",
       "     'year': 1998},\n",
       "    {'co2': 24059.363,\n",
       "     'temperature_change_from_co2': 0.0033425925925925923,\n",
       "     'year': 1999},\n",
       "    {'co2': 24716.705,\n",
       "     'temperature_change_from_co2': 0.003435185185185185,\n",
       "     'year': 2000},\n",
       "    {'co2': 24895.864999999998,\n",
       "     'temperature_change_from_co2': 0.0034953703703703705,\n",
       "     'year': 2001},\n",
       "    {'co2': 25449.889,\n",
       "     'temperature_change_from_co2': 0.003541666666666667,\n",
       "     'year': 2002},\n",
       "    {'co2': 26817.742,\n",
       "     'temperature_change_from_co2': 0.00362962962962963,\n",
       "     'year': 2003},\n",
       "    {'co2': 27716.629,\n",
       "     'temperature_change_from_co2': 0.0037083333333333334,\n",
       "     'year': 2004},\n",
       "    {'co2': 28652.423,\n",
       "     'temperature_change_from_co2': 0.003777777777777778,\n",
       "     'year': 2005},\n",
       "    {'co2': 29613.769,\n",
       "     'temperature_change_from_co2': 0.0038611111111111107,\n",
       "     'year': 2006},\n",
       "    {'co2': 30450.506,\n",
       "     'temperature_change_from_co2': 0.003916666666666666,\n",
       "     'year': 2007},\n",
       "    {'co2': 30975.436,\n",
       "     'temperature_change_from_co2': 0.003990740740740741,\n",
       "     'year': 2008},\n",
       "    {'co2': 30470.167999999998,\n",
       "     'temperature_change_from_co2': 0.0040648148148148145,\n",
       "     'year': 2009},\n",
       "    {'co2': 32218.225000000002,\n",
       "     'temperature_change_from_co2': 0.004143518518518519,\n",
       "     'year': 2010},\n",
       "    {'co2': 33319.899,\n",
       "     'temperature_change_from_co2': 0.004217592592592593,\n",
       "     'year': 2011},\n",
       "    {'co2': 33830.957,\n",
       "     'temperature_change_from_co2': 0.004296296296296296,\n",
       "     'year': 2012},\n",
       "    {'co2': 34111.817,\n",
       "     'temperature_change_from_co2': 0.0043749999999999995,\n",
       "     'year': 2013},\n",
       "    {'co2': 34338.647,\n",
       "     'temperature_change_from_co2': 0.004439814814814815,\n",
       "     'year': 2014},\n",
       "    {'co2': 34294.837999999996,\n",
       "     'temperature_change_from_co2': 0.004523148148148148,\n",
       "     'year': 2015},\n",
       "    {'co2': 34277.554000000004,\n",
       "     'temperature_change_from_co2': 0.004615740740740741,\n",
       "     'year': 2016},\n",
       "    {'co2': 34791.289,\n",
       "     'temperature_change_from_co2': 0.004689814814814814,\n",
       "     'year': 2017},\n",
       "    {'co2': 35497.484,\n",
       "     'temperature_change_from_co2': 0.0047870370370370376,\n",
       "     'year': 2018},\n",
       "    {'co2': 35767.525,\n",
       "     'temperature_change_from_co2': 0.004851851851851852,\n",
       "     'year': 2019},\n",
       "    {'co2': 34140.509,\n",
       "     'temperature_change_from_co2': 0.0049259259259259265,\n",
       "     'year': 2020},\n",
       "    {'co2': 35900.435,\n",
       "     'temperature_change_from_co2': 0.005027777777777778,\n",
       "     'year': 2021}]},\n",
       "  {'name': 'source_0_x_domain_year',\n",
       "   'values': [{'year': 1900},\n",
       "    {'year': 1901},\n",
       "    {'year': 1902},\n",
       "    {'year': 1903},\n",
       "    {'year': 1904},\n",
       "    {'year': 1905},\n",
       "    {'year': 1906},\n",
       "    {'year': 1907},\n",
       "    {'year': 1908},\n",
       "    {'year': 1909},\n",
       "    {'year': 1910},\n",
       "    {'year': 1911},\n",
       "    {'year': 1912},\n",
       "    {'year': 1913},\n",
       "    {'year': 1914},\n",
       "    {'year': 1915},\n",
       "    {'year': 1916},\n",
       "    {'year': 1917},\n",
       "    {'year': 1918},\n",
       "    {'year': 1919},\n",
       "    {'year': 1920},\n",
       "    {'year': 1921},\n",
       "    {'year': 1922},\n",
       "    {'year': 1923},\n",
       "    {'year': 1924},\n",
       "    {'year': 1925},\n",
       "    {'year': 1926},\n",
       "    {'year': 1927},\n",
       "    {'year': 1928},\n",
       "    {'year': 1929},\n",
       "    {'year': 1930},\n",
       "    {'year': 1931},\n",
       "    {'year': 1932},\n",
       "    {'year': 1933},\n",
       "    {'year': 1934},\n",
       "    {'year': 1935},\n",
       "    {'year': 1936},\n",
       "    {'year': 1937},\n",
       "    {'year': 1938},\n",
       "    {'year': 1939},\n",
       "    {'year': 1940},\n",
       "    {'year': 1941},\n",
       "    {'year': 1942},\n",
       "    {'year': 1943},\n",
       "    {'year': 1944},\n",
       "    {'year': 1945},\n",
       "    {'year': 1946},\n",
       "    {'year': 1947},\n",
       "    {'year': 1948},\n",
       "    {'year': 1949},\n",
       "    {'year': 1950},\n",
       "    {'year': 1951},\n",
       "    {'year': 1952},\n",
       "    {'year': 1953},\n",
       "    {'year': 1954},\n",
       "    {'year': 1955},\n",
       "    {'year': 1956},\n",
       "    {'year': 1957},\n",
       "    {'year': 1958},\n",
       "    {'year': 1959},\n",
       "    {'year': 1960},\n",
       "    {'year': 1961},\n",
       "    {'year': 1962},\n",
       "    {'year': 1963},\n",
       "    {'year': 1964},\n",
       "    {'year': 1965},\n",
       "    {'year': 1966},\n",
       "    {'year': 1967},\n",
       "    {'year': 1968},\n",
       "    {'year': 1969},\n",
       "    {'year': 1970},\n",
       "    {'year': 1971},\n",
       "    {'year': 1972},\n",
       "    {'year': 1973},\n",
       "    {'year': 1974},\n",
       "    {'year': 1975},\n",
       "    {'year': 1976},\n",
       "    {'year': 1977},\n",
       "    {'year': 1978},\n",
       "    {'year': 1979},\n",
       "    {'year': 1980},\n",
       "    {'year': 1981},\n",
       "    {'year': 1982},\n",
       "    {'year': 1983},\n",
       "    {'year': 1984},\n",
       "    {'year': 1985},\n",
       "    {'year': 1986},\n",
       "    {'year': 1987},\n",
       "    {'year': 1988},\n",
       "    {'year': 1989},\n",
       "    {'year': 1990},\n",
       "    {'year': 1991},\n",
       "    {'year': 1992},\n",
       "    {'year': 1993},\n",
       "    {'year': 1994},\n",
       "    {'year': 1995},\n",
       "    {'year': 1996},\n",
       "    {'year': 1997},\n",
       "    {'year': 1998},\n",
       "    {'year': 1999},\n",
       "    {'year': 2000},\n",
       "    {'year': 2001},\n",
       "    {'year': 2002},\n",
       "    {'year': 2003},\n",
       "    {'year': 2004},\n",
       "    {'year': 2005},\n",
       "    {'year': 2006},\n",
       "    {'year': 2007},\n",
       "    {'year': 2008},\n",
       "    {'year': 2009},\n",
       "    {'year': 2010},\n",
       "    {'year': 2011},\n",
       "    {'year': 2012},\n",
       "    {'year': 2013},\n",
       "    {'year': 2014},\n",
       "    {'year': 2015},\n",
       "    {'year': 2016},\n",
       "    {'year': 2017},\n",
       "    {'year': 2018},\n",
       "    {'year': 2019},\n",
       "    {'year': 2020},\n",
       "    {'year': 2021}]},\n",
       "  {'name': 'source_0_layer_0_y_domain_co2',\n",
       "   'values': [{'min': 1952.21, 'max': 35900.435}]},\n",
       "  {'name': 'source_0_layer_1_y_domain_temperature_change_from_co2',\n",
       "   'values': [{'min': 0.0003425925925925926, 'max': 0.005027777777777778}]}],\n",
       " 'signals': [{'name': 'width',\n",
       "   'init': 'isFinite(containerSize()[0]) ? containerSize()[0] : 300',\n",
       "   'on': [{'events': 'window:resize',\n",
       "     'update': 'isFinite(containerSize()[0]) ? containerSize()[0] : 300'}]},\n",
       "  {'name': 'height',\n",
       "   'init': 'isFinite(containerSize()[1]) ? containerSize()[1] : 300',\n",
       "   'on': [{'events': 'window:resize',\n",
       "     'update': 'isFinite(containerSize()[1]) ? containerSize()[1] : 300'}]}],\n",
       " 'marks': [{'type': 'line',\n",
       "   'name': 'layer_0_marks',\n",
       "   'from': {'data': 'source_0'},\n",
       "   'sort': {'field': 'datum[\"year\"]'},\n",
       "   'encode': {'update': {'tooltip': {'signal': '{\"year\": isValid(datum[\"year\"]) ? datum[\"year\"] : \"\"+datum[\"year\"], \"CO2 Emissions (GT)\": format(datum[\"co2\"], \"\")}'},\n",
       "     'defined': {'signal': 'isValid(datum[\"co2\"]) && isFinite(+datum[\"co2\"])'},\n",
       "     'x': {'field': 'year', 'scale': 'x'},\n",
       "     'y': {'field': 'co2', 'scale': 'layer_0_y'},\n",
       "     'stroke': {'value': '#424254'}}},\n",
       "   'style': ['line']},\n",
       "  {'type': 'line',\n",
       "   'name': 'layer_1_marks',\n",
       "   'from': {'data': 'source_0'},\n",
       "   'sort': {'field': 'datum[\"year\"]'},\n",
       "   'encode': {'update': {'y': {'field': 'temperature_change_from_co2',\n",
       "      'scale': 'layer_1_y'},\n",
       "     'defined': {'signal': 'isValid(datum[\"temperature_change_from_co2\"]) && isFinite(+datum[\"temperature_change_from_co2\"])'},\n",
       "     'tooltip': {'signal': '{\"year\": isValid(datum[\"year\"]) ? datum[\"year\"] : \"\"+datum[\"year\"], \"Temperature Change\": format(datum[\"temperature_change_from_co2\"], \"\")}'},\n",
       "     'stroke': {'value': '#cc2a40'},\n",
       "     'x': {'field': 'year', 'scale': 'x'}}},\n",
       "   'style': ['line']}],\n",
       " 'scales': [{'name': 'x',\n",
       "   'type': 'point',\n",
       "   'domain': {'data': 'source_0_x_domain_year', 'field': 'year', 'sort': True},\n",
       "   'range': [0, {'signal': 'width'}],\n",
       "   'padding': 0.5},\n",
       "  {'name': 'layer_0_y',\n",
       "   'type': 'linear',\n",
       "   'domain': [{'signal': '(data(\"source_0_layer_0_y_domain_co2\")[0] || {}).min'},\n",
       "    {'signal': '(data(\"source_0_layer_0_y_domain_co2\")[0] || {}).max'}],\n",
       "   'range': [{'signal': 'height'}, 0],\n",
       "   'zero': True,\n",
       "   'nice': True},\n",
       "  {'name': 'layer_1_y',\n",
       "   'type': 'linear',\n",
       "   'domain': [{'signal': '(data(\"source_0_layer_1_y_domain_temperature_change_from_co2\")[0] || {}).min'},\n",
       "    {'signal': '(data(\"source_0_layer_1_y_domain_temperature_change_from_co2\")[0] || {}).max'}],\n",
       "   'range': [{'signal': 'height'}, 0],\n",
       "   'nice': True,\n",
       "   'zero': True}],\n",
       " 'axes': [{'scale': 'layer_0_y',\n",
       "   'gridScale': 'x',\n",
       "   'orient': 'left',\n",
       "   'labels': False,\n",
       "   'domain': False,\n",
       "   'maxExtent': 0,\n",
       "   'grid': True,\n",
       "   'ticks': False,\n",
       "   'tickCount': {'signal': 'ceil(height/40)'},\n",
       "   'aria': False,\n",
       "   'zindex': 0,\n",
       "   'minExtent': 0},\n",
       "  {'scale': 'x',\n",
       "   'labelAngle': 315,\n",
       "   'labelAlign': 'right',\n",
       "   'orient': 'bottom',\n",
       "   'values': [1900,\n",
       "    1906,\n",
       "    1912,\n",
       "    1919,\n",
       "    1925,\n",
       "    1932,\n",
       "    1938,\n",
       "    1944,\n",
       "    1951,\n",
       "    1957,\n",
       "    1964,\n",
       "    1970,\n",
       "    1977,\n",
       "    1983,\n",
       "    1989,\n",
       "    1996,\n",
       "    2002,\n",
       "    2009,\n",
       "    2015,\n",
       "    2022],\n",
       "   'labelBaseline': 'top',\n",
       "   'grid': False,\n",
       "   'zindex': 0,\n",
       "   'title': 'Year'},\n",
       "  {'scale': 'layer_0_y',\n",
       "   'labelOverlap': True,\n",
       "   'tickCount': {'signal': 'ceil(height/40)'},\n",
       "   'zindex': 0,\n",
       "   'orient': 'left',\n",
       "   'grid': False,\n",
       "   'title': 'CO2 Emission (GT)'},\n",
       "  {'scale': 'layer_1_y',\n",
       "   'title': 'Temperature Change (°C)',\n",
       "   'orient': 'right',\n",
       "   'tickCount': {'signal': 'ceil(height/40)'},\n",
       "   'zindex': 0,\n",
       "   'labelOverlap': True,\n",
       "   'grid': False}],\n",
       " 'background': 'white',\n",
       " 'autosize': {'type': 'fit', 'contains': 'padding'},\n",
       " 'style': 'cell',\n",
       " 'config': {'axisLeft': {'titleColor': '#424254', 'titleFontSize': 12},\n",
       "  'axisRight': {'titleColor': '#cc2a40', 'titleFontSize': 12},\n",
       "  'style': {'group-title': {'fontSize': 20}}},\n",
       " 'padding': 5}"
      ]
     },
     "execution_count": 27,
     "metadata": {},
     "output_type": "execute_result"
    }
   ],
   "source": [
    "df = pd.read_csv(\"../data/processed/co2-data.csv\")\n",
    "# df.head()\n",
    "plot_global_temp_co2(df, 1900, 2022)"
   ]
  },
  {
   "cell_type": "markdown",
   "metadata": {},
   "source": [
    "## World Map plot with interactive selection of countries"
   ]
  },
  {
   "cell_type": "code",
   "execution_count": 28,
   "metadata": {},
   "outputs": [
    {
     "data": {
      "text/html": [
       "<div>\n",
       "<style scoped>\n",
       "    .dataframe tbody tr th:only-of-type {\n",
       "        vertical-align: middle;\n",
       "    }\n",
       "\n",
       "    .dataframe tbody tr th {\n",
       "        vertical-align: top;\n",
       "    }\n",
       "\n",
       "    .dataframe thead th {\n",
       "        text-align: right;\n",
       "    }\n",
       "</style>\n",
       "<table border=\"1\" class=\"dataframe\">\n",
       "  <thead>\n",
       "    <tr style=\"text-align: right;\">\n",
       "      <th></th>\n",
       "      <th>country</th>\n",
       "      <th>iso_code</th>\n",
       "      <th>year</th>\n",
       "      <th>co2</th>\n",
       "      <th>temperature_change_from_co2</th>\n",
       "      <th>co2_per_capita</th>\n",
       "    </tr>\n",
       "  </thead>\n",
       "  <tbody>\n",
       "    <tr>\n",
       "      <th>0</th>\n",
       "      <td>Afghanistan</td>\n",
       "      <td>AFG</td>\n",
       "      <td>1900</td>\n",
       "      <td>NaN</td>\n",
       "      <td>0.0</td>\n",
       "      <td>NaN</td>\n",
       "    </tr>\n",
       "    <tr>\n",
       "      <th>1</th>\n",
       "      <td>Afghanistan</td>\n",
       "      <td>AFG</td>\n",
       "      <td>1901</td>\n",
       "      <td>NaN</td>\n",
       "      <td>0.0</td>\n",
       "      <td>NaN</td>\n",
       "    </tr>\n",
       "    <tr>\n",
       "      <th>2</th>\n",
       "      <td>Afghanistan</td>\n",
       "      <td>AFG</td>\n",
       "      <td>1902</td>\n",
       "      <td>NaN</td>\n",
       "      <td>0.0</td>\n",
       "      <td>NaN</td>\n",
       "    </tr>\n",
       "    <tr>\n",
       "      <th>3</th>\n",
       "      <td>Afghanistan</td>\n",
       "      <td>AFG</td>\n",
       "      <td>1903</td>\n",
       "      <td>NaN</td>\n",
       "      <td>0.0</td>\n",
       "      <td>NaN</td>\n",
       "    </tr>\n",
       "    <tr>\n",
       "      <th>4</th>\n",
       "      <td>Afghanistan</td>\n",
       "      <td>AFG</td>\n",
       "      <td>1904</td>\n",
       "      <td>NaN</td>\n",
       "      <td>0.0</td>\n",
       "      <td>NaN</td>\n",
       "    </tr>\n",
       "  </tbody>\n",
       "</table>\n",
       "</div>"
      ],
      "text/plain": [
       "       country iso_code  year  co2  temperature_change_from_co2  \\\n",
       "0  Afghanistan      AFG  1900  NaN                          0.0   \n",
       "1  Afghanistan      AFG  1901  NaN                          0.0   \n",
       "2  Afghanistan      AFG  1902  NaN                          0.0   \n",
       "3  Afghanistan      AFG  1903  NaN                          0.0   \n",
       "4  Afghanistan      AFG  1904  NaN                          0.0   \n",
       "\n",
       "   co2_per_capita  \n",
       "0             NaN  \n",
       "1             NaN  \n",
       "2             NaN  \n",
       "3             NaN  \n",
       "4             NaN  "
      ]
     },
     "execution_count": 28,
     "metadata": {},
     "output_type": "execute_result"
    }
   ],
   "source": [
    "df.head()"
   ]
  },
  {
   "cell_type": "code",
   "execution_count": 29,
   "metadata": {},
   "outputs": [
    {
     "data": {
      "application/vnd.plotly.v1+json": {
       "config": {
        "plotlyServerURL": "https://plot.ly"
       },
       "data": [
        {
         "coloraxis": "coloraxis",
         "geo": "geo",
         "hovertemplate": "<b>%{hovertext}</b><br><br>iso_code=%{location}<br>CO2 Emissions=%{z}<extra></extra>",
         "hovertext": [
          "Brazil",
          "Brazil",
          "Brazil",
          "Brazil",
          "Brazil",
          "Brazil",
          "Brazil",
          "Brazil",
          "Brazil",
          "Brazil",
          "Brazil",
          "Brazil",
          "Brazil",
          "Brazil",
          "Brazil",
          "Brazil",
          "Brazil",
          "Brazil",
          "Brazil",
          "Brazil",
          "Brazil",
          "Brazil",
          "Brazil",
          "China",
          "China",
          "China",
          "China",
          "China",
          "China",
          "China",
          "China",
          "China",
          "China",
          "China",
          "China",
          "China",
          "China",
          "China",
          "China",
          "China",
          "China",
          "China",
          "China",
          "China",
          "China",
          "China",
          "France",
          "France",
          "France",
          "France",
          "France",
          "France",
          "France",
          "France",
          "France",
          "France",
          "France",
          "France",
          "France",
          "France",
          "France",
          "France",
          "France",
          "France",
          "France",
          "France",
          "France",
          "France",
          "France",
          "Germany",
          "Germany",
          "Germany",
          "Germany",
          "Germany",
          "Germany",
          "Germany",
          "Germany",
          "Germany",
          "Germany",
          "Germany",
          "Germany",
          "Germany",
          "Germany",
          "Germany",
          "Germany",
          "Germany",
          "Germany",
          "Germany",
          "Germany",
          "Germany",
          "Germany",
          "Germany",
          "India",
          "India",
          "India",
          "India",
          "India",
          "India",
          "India",
          "India",
          "India",
          "India",
          "India",
          "India",
          "India",
          "India",
          "India",
          "India",
          "India",
          "India",
          "India",
          "India",
          "India",
          "India",
          "India",
          "Indonesia",
          "Indonesia",
          "Indonesia",
          "Indonesia",
          "Indonesia",
          "Indonesia",
          "Indonesia",
          "Indonesia",
          "Indonesia",
          "Indonesia",
          "Indonesia",
          "Indonesia",
          "Indonesia",
          "Indonesia",
          "Indonesia",
          "Indonesia",
          "Indonesia",
          "Indonesia",
          "Indonesia",
          "Indonesia",
          "Indonesia",
          "Indonesia",
          "Indonesia",
          "Iran",
          "Iran",
          "Iran",
          "Iran",
          "Iran",
          "Iran",
          "Iran",
          "Iran",
          "Iran",
          "Iran",
          "Iran",
          "Iran",
          "Iran",
          "Iran",
          "Iran",
          "Iran",
          "Iran",
          "Iran",
          "Iran",
          "Iran",
          "Iran",
          "Iran",
          "Iran",
          "Russia",
          "Russia",
          "Russia",
          "Russia",
          "Russia",
          "Russia",
          "Russia",
          "Russia",
          "Russia",
          "Russia",
          "Russia",
          "Russia",
          "Russia",
          "Russia",
          "Russia",
          "Russia",
          "Russia",
          "Russia",
          "Russia",
          "Russia",
          "Russia",
          "Russia",
          "Russia",
          "United Kingdom",
          "United Kingdom",
          "United Kingdom",
          "United Kingdom",
          "United Kingdom",
          "United Kingdom",
          "United Kingdom",
          "United Kingdom",
          "United Kingdom",
          "United Kingdom",
          "United Kingdom",
          "United Kingdom",
          "United Kingdom",
          "United Kingdom",
          "United Kingdom",
          "United Kingdom",
          "United Kingdom",
          "United Kingdom",
          "United Kingdom",
          "United Kingdom",
          "United Kingdom",
          "United Kingdom",
          "United Kingdom",
          "United States",
          "United States",
          "United States",
          "United States",
          "United States",
          "United States",
          "United States",
          "United States",
          "United States",
          "United States",
          "United States",
          "United States",
          "United States",
          "United States",
          "United States",
          "United States",
          "United States",
          "United States",
          "United States",
          "United States",
          "United States",
          "United States",
          "United States"
         ],
         "locations": [
          "BRA",
          "BRA",
          "BRA",
          "BRA",
          "BRA",
          "BRA",
          "BRA",
          "BRA",
          "BRA",
          "BRA",
          "BRA",
          "BRA",
          "BRA",
          "BRA",
          "BRA",
          "BRA",
          "BRA",
          "BRA",
          "BRA",
          "BRA",
          "BRA",
          "BRA",
          "BRA",
          "CHN",
          "CHN",
          "CHN",
          "CHN",
          "CHN",
          "CHN",
          "CHN",
          "CHN",
          "CHN",
          "CHN",
          "CHN",
          "CHN",
          "CHN",
          "CHN",
          "CHN",
          "CHN",
          "CHN",
          "CHN",
          "CHN",
          "CHN",
          "CHN",
          "CHN",
          "CHN",
          "FRA",
          "FRA",
          "FRA",
          "FRA",
          "FRA",
          "FRA",
          "FRA",
          "FRA",
          "FRA",
          "FRA",
          "FRA",
          "FRA",
          "FRA",
          "FRA",
          "FRA",
          "FRA",
          "FRA",
          "FRA",
          "FRA",
          "FRA",
          "FRA",
          "FRA",
          "FRA",
          "DEU",
          "DEU",
          "DEU",
          "DEU",
          "DEU",
          "DEU",
          "DEU",
          "DEU",
          "DEU",
          "DEU",
          "DEU",
          "DEU",
          "DEU",
          "DEU",
          "DEU",
          "DEU",
          "DEU",
          "DEU",
          "DEU",
          "DEU",
          "DEU",
          "DEU",
          "DEU",
          "IND",
          "IND",
          "IND",
          "IND",
          "IND",
          "IND",
          "IND",
          "IND",
          "IND",
          "IND",
          "IND",
          "IND",
          "IND",
          "IND",
          "IND",
          "IND",
          "IND",
          "IND",
          "IND",
          "IND",
          "IND",
          "IND",
          "IND",
          "IDN",
          "IDN",
          "IDN",
          "IDN",
          "IDN",
          "IDN",
          "IDN",
          "IDN",
          "IDN",
          "IDN",
          "IDN",
          "IDN",
          "IDN",
          "IDN",
          "IDN",
          "IDN",
          "IDN",
          "IDN",
          "IDN",
          "IDN",
          "IDN",
          "IDN",
          "IDN",
          "IRN",
          "IRN",
          "IRN",
          "IRN",
          "IRN",
          "IRN",
          "IRN",
          "IRN",
          "IRN",
          "IRN",
          "IRN",
          "IRN",
          "IRN",
          "IRN",
          "IRN",
          "IRN",
          "IRN",
          "IRN",
          "IRN",
          "IRN",
          "IRN",
          "IRN",
          "IRN",
          "RUS",
          "RUS",
          "RUS",
          "RUS",
          "RUS",
          "RUS",
          "RUS",
          "RUS",
          "RUS",
          "RUS",
          "RUS",
          "RUS",
          "RUS",
          "RUS",
          "RUS",
          "RUS",
          "RUS",
          "RUS",
          "RUS",
          "RUS",
          "RUS",
          "RUS",
          "RUS",
          "GBR",
          "GBR",
          "GBR",
          "GBR",
          "GBR",
          "GBR",
          "GBR",
          "GBR",
          "GBR",
          "GBR",
          "GBR",
          "GBR",
          "GBR",
          "GBR",
          "GBR",
          "GBR",
          "GBR",
          "GBR",
          "GBR",
          "GBR",
          "GBR",
          "GBR",
          "GBR",
          "USA",
          "USA",
          "USA",
          "USA",
          "USA",
          "USA",
          "USA",
          "USA",
          "USA",
          "USA",
          "USA",
          "USA",
          "USA",
          "USA",
          "USA",
          "USA",
          "USA",
          "USA",
          "USA",
          "USA",
          "USA",
          "USA",
          "USA"
         ],
         "name": "",
         "type": "choropleth",
         "z": [
          340.183,
          346.166,
          347.765,
          344.645,
          361.434,
          364.371,
          368.871,
          390.573,
          412.638,
          389.775,
          440.269,
          462.58,
          498.309,
          532.418,
          557.901,
          529.353,
          492.748,
          497.121,
          477.999,
          473.464,
          444.504,
          497.206,
          483.477,
          3649.201,
          3728.513,
          4103.042,
          4841.119,
          5217.351,
          5882.143,
          6494.338,
          6983.577,
          7501.498,
          7891.089,
          8620.627,
          9532.409,
          9779.354,
          9956.376,
          9998.674,
          9866.951,
          9765.029,
          10011.151,
          10353.935,
          10721.042,
          10914.012,
          11336.233,
          11396.777,
          406.508,
          411.016,
          406.431,
          412.457,
          413.663,
          416.151,
          406.31,
          396.198,
          389.427,
          370.966,
          376.564,
          354.089,
          356.445,
          358.487,
          327.009,
          331.414,
          334.005,
          336.896,
          322.079,
          315.45,
          281.539,
          306.776,
          297.534,
          898.938,
          915.242,
          898.835,
          899.858,
          885.633,
          865.471,
          877.498,
          850.23,
          852.858,
          788.286,
          831.13,
          807.614,
          812.816,
          833.804,
          794.738,
          798.085,
          801.745,
          785.986,
          754.811,
          707.491,
          647.252,
          678.799,
          665.605,
          977.526,
          990.97,
          1021.664,
          1059.16,
          1125.096,
          1185.674,
          1292.485,
          1392.506,
          1489.437,
          1612.216,
          1677.337,
          1764.712,
          1925.7,
          1995.098,
          2148.344,
          2234.219,
          2354.658,
          2426.607,
          2593.058,
          2612.888,
          2421.552,
          2674.222,
          2829.644,
          281.33,
          317.027,
          308.486,
          339.357,
          343.022,
          347.617,
          346.633,
          387.858,
          365.718,
          398.942,
          445.806,
          500.725,
          515.954,
          489.055,
          487.89,
          539.149,
          540.086,
          556.944,
          594.101,
          650.906,
          605.985,
          615.923,
          728.883,
          364.302,
          386.158,
          393.41,
          407.077,
          437.679,
          462.003,
          496.07,
          502.565,
          522.557,
          536.605,
          552.953,
          566.289,
          588.365,
          597.952,
          632.673,
          631.581,
          633.827,
          685.401,
          710.215,
          694.667,
          679.007,
          688.076,
          690.635,
          1479.142,
          1515.647,
          1506.788,
          1537.018,
          1543.957,
          1562.577,
          1623.002,
          1623.781,
          1652.064,
          1545.034,
          1632.783,
          1685.91,
          1701.268,
          1640.437,
          1639.959,
          1638.675,
          1634.885,
          1666.121,
          1712.494,
          1705.031,
          1632.929,
          1711.993,
          1652.177,
          569.034,
          577.971,
          560.273,
          571.619,
          573.43,
          570.338,
          567.846,
          559.566,
          544.932,
          494.108,
          511.905,
          469.713,
          487.477,
          477.611,
          438.807,
          422.461,
          399.43,
          387.367,
          379.73,
          364.753,
          326.263,
          347.465,
          318.654,
          6010.136,
          5907.74,
          5946.308,
          6010.146,
          6112.655,
          6132.183,
          6052.686,
          6130.123,
          5915.119,
          5480.726,
          5679.715,
          5546.116,
          5344.086,
          5480.157,
          5528.681,
          5376.473,
          5252.932,
          5212.162,
          5377.797,
          5262.145,
          4714.628,
          5032.213,
          5057.304
         ]
        }
       ],
       "layout": {
        "coloraxis": {
         "colorbar": {
          "title": {
           "text": "CO2 Emissions"
          }
         },
         "colorscale": [
          [
           0,
           "rgb(255,245,240)"
          ],
          [
           0.125,
           "rgb(254,224,210)"
          ],
          [
           0.25,
           "rgb(252,187,161)"
          ],
          [
           0.375,
           "rgb(252,146,114)"
          ],
          [
           0.5,
           "rgb(251,106,74)"
          ],
          [
           0.625,
           "rgb(239,59,44)"
          ],
          [
           0.75,
           "rgb(203,24,29)"
          ],
          [
           0.875,
           "rgb(165,15,21)"
          ],
          [
           1,
           "rgb(103,0,13)"
          ]
         ]
        },
        "geo": {
         "center": {},
         "countrycolor": "darkgrey",
         "domain": {
          "x": [
           0,
           1
          ],
          "y": [
           0,
           1
          ]
         },
         "landcolor": "lightgrey",
         "resolution": 110,
         "scope": "world",
         "showcountries": true,
         "showland": true
        },
        "legend": {
         "tracegroupgap": 0
        },
        "margin": {
         "b": 0,
         "l": 0,
         "r": 0,
         "t": 55
        },
        "template": {
         "data": {
          "bar": [
           {
            "error_x": {
             "color": "#2a3f5f"
            },
            "error_y": {
             "color": "#2a3f5f"
            },
            "marker": {
             "line": {
              "color": "#E5ECF6",
              "width": 0.5
             },
             "pattern": {
              "fillmode": "overlay",
              "size": 10,
              "solidity": 0.2
             }
            },
            "type": "bar"
           }
          ],
          "barpolar": [
           {
            "marker": {
             "line": {
              "color": "#E5ECF6",
              "width": 0.5
             },
             "pattern": {
              "fillmode": "overlay",
              "size": 10,
              "solidity": 0.2
             }
            },
            "type": "barpolar"
           }
          ],
          "carpet": [
           {
            "aaxis": {
             "endlinecolor": "#2a3f5f",
             "gridcolor": "white",
             "linecolor": "white",
             "minorgridcolor": "white",
             "startlinecolor": "#2a3f5f"
            },
            "baxis": {
             "endlinecolor": "#2a3f5f",
             "gridcolor": "white",
             "linecolor": "white",
             "minorgridcolor": "white",
             "startlinecolor": "#2a3f5f"
            },
            "type": "carpet"
           }
          ],
          "choropleth": [
           {
            "colorbar": {
             "outlinewidth": 0,
             "ticks": ""
            },
            "type": "choropleth"
           }
          ],
          "contour": [
           {
            "colorbar": {
             "outlinewidth": 0,
             "ticks": ""
            },
            "colorscale": [
             [
              0,
              "#0d0887"
             ],
             [
              0.1111111111111111,
              "#46039f"
             ],
             [
              0.2222222222222222,
              "#7201a8"
             ],
             [
              0.3333333333333333,
              "#9c179e"
             ],
             [
              0.4444444444444444,
              "#bd3786"
             ],
             [
              0.5555555555555556,
              "#d8576b"
             ],
             [
              0.6666666666666666,
              "#ed7953"
             ],
             [
              0.7777777777777778,
              "#fb9f3a"
             ],
             [
              0.8888888888888888,
              "#fdca26"
             ],
             [
              1,
              "#f0f921"
             ]
            ],
            "type": "contour"
           }
          ],
          "contourcarpet": [
           {
            "colorbar": {
             "outlinewidth": 0,
             "ticks": ""
            },
            "type": "contourcarpet"
           }
          ],
          "heatmap": [
           {
            "colorbar": {
             "outlinewidth": 0,
             "ticks": ""
            },
            "colorscale": [
             [
              0,
              "#0d0887"
             ],
             [
              0.1111111111111111,
              "#46039f"
             ],
             [
              0.2222222222222222,
              "#7201a8"
             ],
             [
              0.3333333333333333,
              "#9c179e"
             ],
             [
              0.4444444444444444,
              "#bd3786"
             ],
             [
              0.5555555555555556,
              "#d8576b"
             ],
             [
              0.6666666666666666,
              "#ed7953"
             ],
             [
              0.7777777777777778,
              "#fb9f3a"
             ],
             [
              0.8888888888888888,
              "#fdca26"
             ],
             [
              1,
              "#f0f921"
             ]
            ],
            "type": "heatmap"
           }
          ],
          "heatmapgl": [
           {
            "colorbar": {
             "outlinewidth": 0,
             "ticks": ""
            },
            "colorscale": [
             [
              0,
              "#0d0887"
             ],
             [
              0.1111111111111111,
              "#46039f"
             ],
             [
              0.2222222222222222,
              "#7201a8"
             ],
             [
              0.3333333333333333,
              "#9c179e"
             ],
             [
              0.4444444444444444,
              "#bd3786"
             ],
             [
              0.5555555555555556,
              "#d8576b"
             ],
             [
              0.6666666666666666,
              "#ed7953"
             ],
             [
              0.7777777777777778,
              "#fb9f3a"
             ],
             [
              0.8888888888888888,
              "#fdca26"
             ],
             [
              1,
              "#f0f921"
             ]
            ],
            "type": "heatmapgl"
           }
          ],
          "histogram": [
           {
            "marker": {
             "pattern": {
              "fillmode": "overlay",
              "size": 10,
              "solidity": 0.2
             }
            },
            "type": "histogram"
           }
          ],
          "histogram2d": [
           {
            "colorbar": {
             "outlinewidth": 0,
             "ticks": ""
            },
            "colorscale": [
             [
              0,
              "#0d0887"
             ],
             [
              0.1111111111111111,
              "#46039f"
             ],
             [
              0.2222222222222222,
              "#7201a8"
             ],
             [
              0.3333333333333333,
              "#9c179e"
             ],
             [
              0.4444444444444444,
              "#bd3786"
             ],
             [
              0.5555555555555556,
              "#d8576b"
             ],
             [
              0.6666666666666666,
              "#ed7953"
             ],
             [
              0.7777777777777778,
              "#fb9f3a"
             ],
             [
              0.8888888888888888,
              "#fdca26"
             ],
             [
              1,
              "#f0f921"
             ]
            ],
            "type": "histogram2d"
           }
          ],
          "histogram2dcontour": [
           {
            "colorbar": {
             "outlinewidth": 0,
             "ticks": ""
            },
            "colorscale": [
             [
              0,
              "#0d0887"
             ],
             [
              0.1111111111111111,
              "#46039f"
             ],
             [
              0.2222222222222222,
              "#7201a8"
             ],
             [
              0.3333333333333333,
              "#9c179e"
             ],
             [
              0.4444444444444444,
              "#bd3786"
             ],
             [
              0.5555555555555556,
              "#d8576b"
             ],
             [
              0.6666666666666666,
              "#ed7953"
             ],
             [
              0.7777777777777778,
              "#fb9f3a"
             ],
             [
              0.8888888888888888,
              "#fdca26"
             ],
             [
              1,
              "#f0f921"
             ]
            ],
            "type": "histogram2dcontour"
           }
          ],
          "mesh3d": [
           {
            "colorbar": {
             "outlinewidth": 0,
             "ticks": ""
            },
            "type": "mesh3d"
           }
          ],
          "parcoords": [
           {
            "line": {
             "colorbar": {
              "outlinewidth": 0,
              "ticks": ""
             }
            },
            "type": "parcoords"
           }
          ],
          "pie": [
           {
            "automargin": true,
            "type": "pie"
           }
          ],
          "scatter": [
           {
            "fillpattern": {
             "fillmode": "overlay",
             "size": 10,
             "solidity": 0.2
            },
            "type": "scatter"
           }
          ],
          "scatter3d": [
           {
            "line": {
             "colorbar": {
              "outlinewidth": 0,
              "ticks": ""
             }
            },
            "marker": {
             "colorbar": {
              "outlinewidth": 0,
              "ticks": ""
             }
            },
            "type": "scatter3d"
           }
          ],
          "scattercarpet": [
           {
            "marker": {
             "colorbar": {
              "outlinewidth": 0,
              "ticks": ""
             }
            },
            "type": "scattercarpet"
           }
          ],
          "scattergeo": [
           {
            "marker": {
             "colorbar": {
              "outlinewidth": 0,
              "ticks": ""
             }
            },
            "type": "scattergeo"
           }
          ],
          "scattergl": [
           {
            "marker": {
             "colorbar": {
              "outlinewidth": 0,
              "ticks": ""
             }
            },
            "type": "scattergl"
           }
          ],
          "scattermapbox": [
           {
            "marker": {
             "colorbar": {
              "outlinewidth": 0,
              "ticks": ""
             }
            },
            "type": "scattermapbox"
           }
          ],
          "scatterpolar": [
           {
            "marker": {
             "colorbar": {
              "outlinewidth": 0,
              "ticks": ""
             }
            },
            "type": "scatterpolar"
           }
          ],
          "scatterpolargl": [
           {
            "marker": {
             "colorbar": {
              "outlinewidth": 0,
              "ticks": ""
             }
            },
            "type": "scatterpolargl"
           }
          ],
          "scatterternary": [
           {
            "marker": {
             "colorbar": {
              "outlinewidth": 0,
              "ticks": ""
             }
            },
            "type": "scatterternary"
           }
          ],
          "surface": [
           {
            "colorbar": {
             "outlinewidth": 0,
             "ticks": ""
            },
            "colorscale": [
             [
              0,
              "#0d0887"
             ],
             [
              0.1111111111111111,
              "#46039f"
             ],
             [
              0.2222222222222222,
              "#7201a8"
             ],
             [
              0.3333333333333333,
              "#9c179e"
             ],
             [
              0.4444444444444444,
              "#bd3786"
             ],
             [
              0.5555555555555556,
              "#d8576b"
             ],
             [
              0.6666666666666666,
              "#ed7953"
             ],
             [
              0.7777777777777778,
              "#fb9f3a"
             ],
             [
              0.8888888888888888,
              "#fdca26"
             ],
             [
              1,
              "#f0f921"
             ]
            ],
            "type": "surface"
           }
          ],
          "table": [
           {
            "cells": {
             "fill": {
              "color": "#EBF0F8"
             },
             "line": {
              "color": "white"
             }
            },
            "header": {
             "fill": {
              "color": "#C8D4E3"
             },
             "line": {
              "color": "white"
             }
            },
            "type": "table"
           }
          ]
         },
         "layout": {
          "annotationdefaults": {
           "arrowcolor": "#2a3f5f",
           "arrowhead": 0,
           "arrowwidth": 1
          },
          "autotypenumbers": "strict",
          "coloraxis": {
           "colorbar": {
            "outlinewidth": 0,
            "ticks": ""
           }
          },
          "colorscale": {
           "diverging": [
            [
             0,
             "#8e0152"
            ],
            [
             0.1,
             "#c51b7d"
            ],
            [
             0.2,
             "#de77ae"
            ],
            [
             0.3,
             "#f1b6da"
            ],
            [
             0.4,
             "#fde0ef"
            ],
            [
             0.5,
             "#f7f7f7"
            ],
            [
             0.6,
             "#e6f5d0"
            ],
            [
             0.7,
             "#b8e186"
            ],
            [
             0.8,
             "#7fbc41"
            ],
            [
             0.9,
             "#4d9221"
            ],
            [
             1,
             "#276419"
            ]
           ],
           "sequential": [
            [
             0,
             "#0d0887"
            ],
            [
             0.1111111111111111,
             "#46039f"
            ],
            [
             0.2222222222222222,
             "#7201a8"
            ],
            [
             0.3333333333333333,
             "#9c179e"
            ],
            [
             0.4444444444444444,
             "#bd3786"
            ],
            [
             0.5555555555555556,
             "#d8576b"
            ],
            [
             0.6666666666666666,
             "#ed7953"
            ],
            [
             0.7777777777777778,
             "#fb9f3a"
            ],
            [
             0.8888888888888888,
             "#fdca26"
            ],
            [
             1,
             "#f0f921"
            ]
           ],
           "sequentialminus": [
            [
             0,
             "#0d0887"
            ],
            [
             0.1111111111111111,
             "#46039f"
            ],
            [
             0.2222222222222222,
             "#7201a8"
            ],
            [
             0.3333333333333333,
             "#9c179e"
            ],
            [
             0.4444444444444444,
             "#bd3786"
            ],
            [
             0.5555555555555556,
             "#d8576b"
            ],
            [
             0.6666666666666666,
             "#ed7953"
            ],
            [
             0.7777777777777778,
             "#fb9f3a"
            ],
            [
             0.8888888888888888,
             "#fdca26"
            ],
            [
             1,
             "#f0f921"
            ]
           ]
          },
          "colorway": [
           "#636efa",
           "#EF553B",
           "#00cc96",
           "#ab63fa",
           "#FFA15A",
           "#19d3f3",
           "#FF6692",
           "#B6E880",
           "#FF97FF",
           "#FECB52"
          ],
          "font": {
           "color": "#2a3f5f"
          },
          "geo": {
           "bgcolor": "white",
           "lakecolor": "white",
           "landcolor": "#E5ECF6",
           "showlakes": true,
           "showland": true,
           "subunitcolor": "white"
          },
          "hoverlabel": {
           "align": "left"
          },
          "hovermode": "closest",
          "mapbox": {
           "style": "light"
          },
          "paper_bgcolor": "white",
          "plot_bgcolor": "#E5ECF6",
          "polar": {
           "angularaxis": {
            "gridcolor": "white",
            "linecolor": "white",
            "ticks": ""
           },
           "bgcolor": "#E5ECF6",
           "radialaxis": {
            "gridcolor": "white",
            "linecolor": "white",
            "ticks": ""
           }
          },
          "scene": {
           "xaxis": {
            "backgroundcolor": "#E5ECF6",
            "gridcolor": "white",
            "gridwidth": 2,
            "linecolor": "white",
            "showbackground": true,
            "ticks": "",
            "zerolinecolor": "white"
           },
           "yaxis": {
            "backgroundcolor": "#E5ECF6",
            "gridcolor": "white",
            "gridwidth": 2,
            "linecolor": "white",
            "showbackground": true,
            "ticks": "",
            "zerolinecolor": "white"
           },
           "zaxis": {
            "backgroundcolor": "#E5ECF6",
            "gridcolor": "white",
            "gridwidth": 2,
            "linecolor": "white",
            "showbackground": true,
            "ticks": "",
            "zerolinecolor": "white"
           }
          },
          "shapedefaults": {
           "line": {
            "color": "#2a3f5f"
           }
          },
          "ternary": {
           "aaxis": {
            "gridcolor": "white",
            "linecolor": "white",
            "ticks": ""
           },
           "baxis": {
            "gridcolor": "white",
            "linecolor": "white",
            "ticks": ""
           },
           "bgcolor": "#E5ECF6",
           "caxis": {
            "gridcolor": "white",
            "linecolor": "white",
            "ticks": ""
           }
          },
          "title": {
           "x": 0.05
          },
          "xaxis": {
           "automargin": true,
           "gridcolor": "white",
           "linecolor": "white",
           "ticks": "",
           "title": {
            "standoff": 15
           },
           "zerolinecolor": "white",
           "zerolinewidth": 2
          },
          "yaxis": {
           "automargin": true,
           "gridcolor": "white",
           "linecolor": "white",
           "ticks": "",
           "title": {
            "standoff": 15
           },
           "zerolinecolor": "white",
           "zerolinewidth": 2
          }
         }
        },
        "title": {
         "font": {
          "size": 30
         },
         "text": "CO2 emissions by country"
        }
       }
      }
     },
     "metadata": {},
     "output_type": "display_data"
    }
   ],
   "source": [
    "start_year = 2000\n",
    "end_year = 2022\n",
    "country_codes = [\"USA\", \"CHN\", \"IND\", \"RUS\",\n",
    "                 \"DEU\", \"GBR\", \"FRA\", \"BRA\", \"IDN\", \"IRN\"]\n",
    "\n",
    "df_filtered = df.query(f\"{start_year} <= year <= {end_year}\")\n",
    "df_filtered = df_filtered[df_filtered.iso_code.isin(country_codes)]\n",
    "\n",
    "fig = px.choropleth(\n",
    "    df_filtered,\n",
    "    locations=\"iso_code\",\n",
    "    color=\"co2\",\n",
    "    color_continuous_scale=\"reds\",\n",
    "    labels={\"co2\": \"CO2 Emissions\"},\n",
    "    hover_name=\"country\",\n",
    "    scope=\"world\",\n",
    ")\n",
    "fig.update_layout(\n",
    "    title_text=\"CO2 emissions by country\",\n",
    "    title_font_size=30,\n",
    "    margin={\"r\": 0, \"t\": 55, \"l\": 0, \"b\": 0},\n",
    ")\n",
    "fig.update_geos(\n",
    "    resolution=110,\n",
    "    showcountries=True,\n",
    "    showland=True,\n",
    "    landcolor=\"lightgrey\",\n",
    "    countrycolor=\"darkgrey\",\n",
    ")\n",
    "fig.show()"
   ]
  },
  {
   "cell_type": "code",
   "execution_count": 30,
   "metadata": {},
   "outputs": [
    {
     "data": {
      "text/plain": [
       "{'Aruba': 'ABW',\n",
       " 'Afghanistan': 'AFG',\n",
       " 'Angola': 'AGO',\n",
       " 'Anguilla': 'AIA',\n",
       " 'Albania': 'ALB',\n",
       " 'Andorra': 'AND',\n",
       " 'United Arab Emirates': 'ARE',\n",
       " 'Argentina': 'ARG',\n",
       " 'Armenia': 'ARM',\n",
       " 'Antarctica': 'ATA',\n",
       " 'Antigua and Barbuda': 'ATG',\n",
       " 'Australia': 'AUS',\n",
       " 'Austria': 'AUT',\n",
       " 'Azerbaijan': 'AZE',\n",
       " 'Burundi': 'BDI',\n",
       " 'Belgium': 'BEL',\n",
       " 'Benin': 'BEN',\n",
       " 'Bonaire Sint Eustatius and Saba': 'BES',\n",
       " 'Burkina Faso': 'BFA',\n",
       " 'Bangladesh': 'BGD',\n",
       " 'Bulgaria': 'BGR',\n",
       " 'Bahrain': 'BHR',\n",
       " 'Bahamas': 'BHS',\n",
       " 'Bosnia and Herzegovina': 'BIH',\n",
       " 'Belarus': 'BLR',\n",
       " 'Belize': 'BLZ',\n",
       " 'Bermuda': 'BMU',\n",
       " 'Bolivia': 'BOL',\n",
       " 'Brazil': 'BRA',\n",
       " 'Barbados': 'BRB',\n",
       " 'Brunei': 'BRN',\n",
       " 'Bhutan': 'BTN',\n",
       " 'Botswana': 'BWA',\n",
       " 'Central African Republic': 'CAF',\n",
       " 'Canada': 'CAN',\n",
       " 'Switzerland': 'CHE',\n",
       " 'Chile': 'CHL',\n",
       " 'China': 'CHN',\n",
       " \"Cote d'Ivoire\": 'CIV',\n",
       " 'Cameroon': 'CMR',\n",
       " 'Democratic Republic of Congo': 'COD',\n",
       " 'Congo': 'COG',\n",
       " 'Cook Islands': 'COK',\n",
       " 'Colombia': 'COL',\n",
       " 'Comoros': 'COM',\n",
       " 'Cape Verde': 'CPV',\n",
       " 'Costa Rica': 'CRI',\n",
       " 'Cuba': 'CUB',\n",
       " 'Curacao': 'CUW',\n",
       " 'Christmas Island': 'CXR',\n",
       " 'Cyprus': 'CYP',\n",
       " 'Czechia': 'CZE',\n",
       " 'Germany': 'DEU',\n",
       " 'Djibouti': 'DJI',\n",
       " 'Dominica': 'DMA',\n",
       " 'Denmark': 'DNK',\n",
       " 'Dominican Republic': 'DOM',\n",
       " 'Algeria': 'DZA',\n",
       " 'Ecuador': 'ECU',\n",
       " 'Egypt': 'EGY',\n",
       " 'Eritrea': 'ERI',\n",
       " 'Spain': 'ESP',\n",
       " 'Estonia': 'EST',\n",
       " 'Ethiopia': 'ETH',\n",
       " 'Finland': 'FIN',\n",
       " 'Fiji': 'FJI',\n",
       " 'France': 'FRA',\n",
       " 'Faroe Islands': 'FRO',\n",
       " 'Micronesia (country)': 'FSM',\n",
       " 'Gabon': 'GAB',\n",
       " 'United Kingdom': 'GBR',\n",
       " 'Georgia': 'GEO',\n",
       " 'Ghana': 'GHA',\n",
       " 'Guinea': 'GIN',\n",
       " 'Gambia': 'GMB',\n",
       " 'Guinea-Bissau': 'GNB',\n",
       " 'Equatorial Guinea': 'GNQ',\n",
       " 'Greece': 'GRC',\n",
       " 'Grenada': 'GRD',\n",
       " 'Greenland': 'GRL',\n",
       " 'Guatemala': 'GTM',\n",
       " 'Guyana': 'GUY',\n",
       " 'Hong Kong': 'HKG',\n",
       " 'Honduras': 'HND',\n",
       " 'Croatia': 'HRV',\n",
       " 'Haiti': 'HTI',\n",
       " 'Hungary': 'HUN',\n",
       " 'Indonesia': 'IDN',\n",
       " 'India': 'IND',\n",
       " 'Ireland': 'IRL',\n",
       " 'Iran': 'IRN',\n",
       " 'Iraq': 'IRQ',\n",
       " 'Iceland': 'ISL',\n",
       " 'Israel': 'ISR',\n",
       " 'Italy': 'ITA',\n",
       " 'Jamaica': 'JAM',\n",
       " 'Jordan': 'JOR',\n",
       " 'Japan': 'JPN',\n",
       " 'Kazakhstan': 'KAZ',\n",
       " 'Kenya': 'KEN',\n",
       " 'Kyrgyzstan': 'KGZ',\n",
       " 'Cambodia': 'KHM',\n",
       " 'Kiribati': 'KIR',\n",
       " 'Saint Kitts and Nevis': 'KNA',\n",
       " 'South Korea': 'KOR',\n",
       " 'Kuwait': 'KWT',\n",
       " 'Laos': 'LAO',\n",
       " 'Lebanon': 'LBN',\n",
       " 'Liberia': 'LBR',\n",
       " 'Libya': 'LBY',\n",
       " 'Saint Lucia': 'LCA',\n",
       " 'Liechtenstein': 'LIE',\n",
       " 'Sri Lanka': 'LKA',\n",
       " 'Lesotho': 'LSO',\n",
       " 'Lithuania': 'LTU',\n",
       " 'Luxembourg': 'LUX',\n",
       " 'Latvia': 'LVA',\n",
       " 'Macao': 'MAC',\n",
       " 'Morocco': 'MAR',\n",
       " 'Monaco': 'MCO',\n",
       " 'Moldova': 'MDA',\n",
       " 'Madagascar': 'MDG',\n",
       " 'Maldives': 'MDV',\n",
       " 'Mexico': 'MEX',\n",
       " 'Marshall Islands': 'MHL',\n",
       " 'North Macedonia': 'MKD',\n",
       " 'Mali': 'MLI',\n",
       " 'Malta': 'MLT',\n",
       " 'Myanmar': 'MMR',\n",
       " 'Montenegro': 'MNE',\n",
       " 'Mongolia': 'MNG',\n",
       " 'Mozambique': 'MOZ',\n",
       " 'Mauritania': 'MRT',\n",
       " 'Montserrat': 'MSR',\n",
       " 'Mauritius': 'MUS',\n",
       " 'Malawi': 'MWI',\n",
       " 'Malaysia': 'MYS',\n",
       " 'Namibia': 'NAM',\n",
       " 'New Caledonia': 'NCL',\n",
       " 'Niger': 'NER',\n",
       " 'Nigeria': 'NGA',\n",
       " 'Nicaragua': 'NIC',\n",
       " 'Niue': 'NIU',\n",
       " 'Netherlands': 'NLD',\n",
       " 'Norway': 'NOR',\n",
       " 'Nepal': 'NPL',\n",
       " 'Nauru': 'NRU',\n",
       " 'New Zealand': 'NZL',\n",
       " 'Oman': 'OMN',\n",
       " 'Pakistan': 'PAK',\n",
       " 'Panama': 'PAN',\n",
       " 'Peru': 'PER',\n",
       " 'Philippines': 'PHL',\n",
       " 'Palau': 'PLW',\n",
       " 'Papua New Guinea': 'PNG',\n",
       " 'Poland': 'POL',\n",
       " 'Puerto Rico': 'PRI',\n",
       " 'North Korea': 'PRK',\n",
       " 'Portugal': 'PRT',\n",
       " 'Paraguay': 'PRY',\n",
       " 'Palestine': 'PSE',\n",
       " 'French Polynesia': 'PYF',\n",
       " 'Qatar': 'QAT',\n",
       " 'Romania': 'ROU',\n",
       " 'Russia': 'RUS',\n",
       " 'Rwanda': 'RWA',\n",
       " 'Saudi Arabia': 'SAU',\n",
       " 'Sudan': 'SDN',\n",
       " 'Senegal': 'SEN',\n",
       " 'Singapore': 'SGP',\n",
       " 'Saint Helena': 'SHN',\n",
       " 'Solomon Islands': 'SLB',\n",
       " 'Sierra Leone': 'SLE',\n",
       " 'El Salvador': 'SLV',\n",
       " 'San Marino': 'SMR',\n",
       " 'Somalia': 'SOM',\n",
       " 'Saint Pierre and Miquelon': 'SPM',\n",
       " 'Serbia': 'SRB',\n",
       " 'South Sudan': 'SSD',\n",
       " 'Sao Tome and Principe': 'STP',\n",
       " 'Suriname': 'SUR',\n",
       " 'Slovakia': 'SVK',\n",
       " 'Slovenia': 'SVN',\n",
       " 'Sweden': 'SWE',\n",
       " 'Eswatini': 'SWZ',\n",
       " 'Sint Maarten (Dutch part)': 'SXM',\n",
       " 'Seychelles': 'SYC',\n",
       " 'Syria': 'SYR',\n",
       " 'Turks and Caicos Islands': 'TCA',\n",
       " 'Chad': 'TCD',\n",
       " 'Togo': 'TGO',\n",
       " 'Thailand': 'THA',\n",
       " 'Tajikistan': 'TJK',\n",
       " 'Turkmenistan': 'TKM',\n",
       " 'East Timor': 'TLS',\n",
       " 'Tonga': 'TON',\n",
       " 'Trinidad and Tobago': 'TTO',\n",
       " 'Tunisia': 'TUN',\n",
       " 'Turkey': 'TUR',\n",
       " 'Tuvalu': 'TUV',\n",
       " 'Taiwan': 'TWN',\n",
       " 'Tanzania': 'TZA',\n",
       " 'Uganda': 'UGA',\n",
       " 'Ukraine': 'UKR',\n",
       " 'Uruguay': 'URY',\n",
       " 'United States': 'USA',\n",
       " 'Uzbekistan': 'UZB',\n",
       " 'Vatican': 'VAT',\n",
       " 'Saint Vincent and the Grenadines': 'VCT',\n",
       " 'Venezuela': 'VEN',\n",
       " 'British Virgin Islands': 'VGB',\n",
       " 'Vietnam': 'VNM',\n",
       " 'Vanuatu': 'VUT',\n",
       " 'Wallis and Futuna': 'WLF',\n",
       " 'Samoa': 'WSM',\n",
       " 'Yemen': 'YEM',\n",
       " 'South Africa': 'ZAF',\n",
       " 'Zambia': 'ZMB',\n",
       " 'Zimbabwe': 'ZWE'}"
      ]
     },
     "execution_count": 30,
     "metadata": {},
     "output_type": "execute_result"
    }
   ],
   "source": [
    "# Get dictionary of country names and codes\n",
    "country_codes = df.groupby([\"iso_code\", \"country\"]).size().reset_index()\n",
    "country_codes = (\n",
    "    country_codes[[\"iso_code\", \"country\"]].set_index(\"country\")[\n",
    "        \"iso_code\"].to_dict()\n",
    ")\n",
    "country_codes"
   ]
  },
  {
   "cell_type": "markdown",
   "metadata": {},
   "source": [
    "## Plot of bar chart of the top 10 countries with highest CO2 Emission in the time period"
   ]
  },
  {
   "cell_type": "code",
   "execution_count": 31,
   "metadata": {},
   "outputs": [],
   "source": [
    "start_year = 2000\n",
    "end_year = 2022\n",
    "country_codes = None\n",
    "\n",
    "df_filtered = df.query(f\"{start_year} <= year <= {end_year}\")\n",
    "if country_codes:\n",
    "    df_filtered = df_filtered[df_filtered.iso_code.isin(country_codes)]\n",
    "# else:\n",
    "#     df_filtered = df_filtered[df_filtered.iso_code == \"WORLD\"]\n",
    "df_sorted = (\n",
    "    df_filtered.groupby(\"country\")\n",
    "    .sum()\n",
    "    .sort_values(\"co2\", ascending=False)\n",
    "    .head(11)\n",
    "    .reset_index()\n",
    ")\n",
    "# df_sorted.head().reset_index()"
   ]
  },
  {
   "cell_type": "code",
   "execution_count": 32,
   "metadata": {},
   "outputs": [
    {
     "data": {
      "text/html": [
       "\n",
       "<style>\n",
       "  #altair-viz-58d298da40464b6aa52df6d30cf6e93e.vega-embed {\n",
       "    width: 100%;\n",
       "    display: flex;\n",
       "  }\n",
       "\n",
       "  #altair-viz-58d298da40464b6aa52df6d30cf6e93e.vega-embed details,\n",
       "  #altair-viz-58d298da40464b6aa52df6d30cf6e93e.vega-embed details summary {\n",
       "    position: relative;\n",
       "  }\n",
       "</style>\n",
       "<div id=\"altair-viz-58d298da40464b6aa52df6d30cf6e93e\"></div>\n",
       "<script type=\"text/javascript\">\n",
       "  var VEGA_DEBUG = (typeof VEGA_DEBUG == \"undefined\") ? {} : VEGA_DEBUG;\n",
       "  (function(spec, embedOpt){\n",
       "    let outputDiv = document.currentScript.previousElementSibling;\n",
       "    if (outputDiv.id !== \"altair-viz-58d298da40464b6aa52df6d30cf6e93e\") {\n",
       "      outputDiv = document.getElementById(\"altair-viz-58d298da40464b6aa52df6d30cf6e93e\");\n",
       "    }\n",
       "    const paths = {\n",
       "      \"vega\": \"https://cdn.jsdelivr.net/npm/vega@5?noext\",\n",
       "      \"vega-lib\": \"https://cdn.jsdelivr.net/npm/vega-lib?noext\",\n",
       "      \"vega-lite\": \"https://cdn.jsdelivr.net/npm/vega-lite@5.17.0?noext\",\n",
       "      \"vega-embed\": \"https://cdn.jsdelivr.net/npm/vega-embed@6?noext\",\n",
       "    };\n",
       "\n",
       "    function maybeLoadScript(lib, version) {\n",
       "      var key = `${lib.replace(\"-\", \"\")}_version`;\n",
       "      return (VEGA_DEBUG[key] == version) ?\n",
       "        Promise.resolve(paths[lib]) :\n",
       "        new Promise(function(resolve, reject) {\n",
       "          var s = document.createElement('script');\n",
       "          document.getElementsByTagName(\"head\")[0].appendChild(s);\n",
       "          s.async = true;\n",
       "          s.onload = () => {\n",
       "            VEGA_DEBUG[key] = version;\n",
       "            return resolve(paths[lib]);\n",
       "          };\n",
       "          s.onerror = () => reject(`Error loading script: ${paths[lib]}`);\n",
       "          s.src = paths[lib];\n",
       "        });\n",
       "    }\n",
       "\n",
       "    function showError(err) {\n",
       "      outputDiv.innerHTML = `<div class=\"error\" style=\"color:red;\">${err}</div>`;\n",
       "      throw err;\n",
       "    }\n",
       "\n",
       "    function displayChart(vegaEmbed) {\n",
       "      vegaEmbed(outputDiv, spec, embedOpt)\n",
       "        .catch(err => showError(`Javascript Error: ${err.message}<br>This usually means there's a typo in your chart specification. See the javascript console for the full traceback.`));\n",
       "    }\n",
       "\n",
       "    if(typeof define === \"function\" && define.amd) {\n",
       "      requirejs.config({paths});\n",
       "      require([\"vega-embed\"], displayChart, err => showError(`Error loading script: ${err.message}`));\n",
       "    } else {\n",
       "      maybeLoadScript(\"vega\", \"5\")\n",
       "        .then(() => maybeLoadScript(\"vega-lite\", \"5.17.0\"))\n",
       "        .then(() => maybeLoadScript(\"vega-embed\", \"6\"))\n",
       "        .catch(showError)\n",
       "        .then(() => displayChart(vegaEmbed));\n",
       "    }\n",
       "  })({\"$schema\": \"https://vega.github.io/schema/vega/v5.json\", \"data\": [{\"name\": \"source_0\"}, {\"name\": \"data_0\", \"values\": [{\"co2_end\": 188544.441, \"co2_start\": 0.0, \"country\": \"China\"}, {\"co2_end\": 128562.231, \"co2_start\": 0.0, \"country\": \"United States\"}, {\"co2_end\": 41804.773, \"co2_start\": 0.0, \"country\": \"India\"}, {\"co2_end\": 37243.672, \"co2_start\": 0.0, \"country\": \"Russia\"}, {\"co2_end\": 27995.696, \"co2_start\": 0.0, \"country\": \"Japan\"}, {\"co2_end\": 18652.725, \"co2_start\": 0.0, \"country\": \"Germany\"}, {\"co2_end\": 13109.904, \"co2_start\": 0.0, \"country\": \"South Korea\"}, {\"co2_end\": 12991.416, \"co2_start\": 0.0, \"country\": \"Canada\"}, {\"co2_end\": 12860.067, \"co2_start\": 0.0, \"country\": \"Iran\"}, {\"co2_end\": 11929.307, \"co2_start\": 0.0, \"country\": \"Saudi Arabia\"}, {\"co2_end\": 10920.753, \"co2_start\": 0.0, \"country\": \"United Kingdom\"}]}, {\"name\": \"source_0_y_domain_country\", \"values\": [{\"country\": \"China\", \"sort_field\": 188544.441}, {\"country\": \"United States\", \"sort_field\": 128562.231}, {\"country\": \"India\", \"sort_field\": 41804.773}, {\"country\": \"Russia\", \"sort_field\": 37243.672}, {\"country\": \"Japan\", \"sort_field\": 27995.696}, {\"country\": \"Germany\", \"sort_field\": 18652.725}, {\"country\": \"South Korea\", \"sort_field\": 13109.904}, {\"country\": \"Canada\", \"sort_field\": 12991.416}, {\"country\": \"Iran\", \"sort_field\": 12860.067}, {\"country\": \"Saudi Arabia\", \"sort_field\": 11929.307}, {\"country\": \"United Kingdom\", \"sort_field\": 10920.753}]}, {\"name\": \"data_0_color_domain_country\", \"values\": [{\"country\": \"China\"}, {\"country\": \"United States\"}, {\"country\": \"India\"}, {\"country\": \"Russia\"}, {\"country\": \"Japan\"}, {\"country\": \"Germany\"}, {\"country\": \"South Korea\"}, {\"country\": \"Canada\"}, {\"country\": \"Iran\"}, {\"country\": \"Saudi Arabia\"}, {\"country\": \"United Kingdom\"}]}], \"signals\": [{\"name\": \"y_step\", \"value\": 20}, {\"name\": \"height\", \"update\": \"bandspace(domain('y').length, 0.1, 0.05) * y_step\"}], \"marks\": [{\"type\": \"rect\", \"name\": \"marks\", \"from\": {\"data\": \"data_0\"}, \"encode\": {\"update\": {\"y\": {\"field\": \"country\", \"scale\": \"y\"}, \"x2\": {\"field\": \"co2_start\", \"scale\": \"x\"}, \"height\": {\"signal\": \"max(0.25, bandwidth('y'))\"}, \"x\": {\"field\": \"co2_end\", \"scale\": \"x\"}, \"fill\": {\"field\": \"country\", \"scale\": \"color\"}}}, \"style\": [\"bar\"]}], \"scales\": [{\"name\": \"x\", \"type\": \"linear\", \"domain\": {\"data\": \"data_0\", \"fields\": [\"co2_start\", \"co2_end\"]}, \"range\": [0, {\"signal\": \"width\"}], \"zero\": true, \"nice\": true}, {\"name\": \"y\", \"type\": \"band\", \"domain\": {\"data\": \"source_0_y_domain_country\", \"field\": \"country\", \"sort\": {\"op\": \"max\", \"field\": \"sort_field\", \"order\": \"descending\"}}, \"range\": {\"step\": {\"signal\": \"y_step\"}}, \"paddingInner\": 0.1, \"paddingOuter\": 0.05}, {\"name\": \"color\", \"type\": \"ordinal\", \"domain\": {\"data\": \"data_0_color_domain_country\", \"field\": \"country\", \"sort\": true}, \"range\": \"category\"}], \"axes\": [{\"scale\": \"x\", \"zindex\": 0, \"aria\": false, \"minExtent\": 0, \"domain\": false, \"gridScale\": \"y\", \"labels\": false, \"orient\": \"bottom\", \"ticks\": false, \"grid\": true, \"tickCount\": {\"signal\": \"ceil(width/40)\"}, \"maxExtent\": 0}, {\"scale\": \"x\", \"labelFlush\": true, \"labelOverlap\": true, \"title\": \"CO2 Emissions\", \"grid\": false, \"orient\": \"bottom\", \"tickCount\": {\"signal\": \"ceil(width/40)\"}, \"zindex\": 0}, {\"scale\": \"y\", \"grid\": false, \"orient\": \"left\", \"zindex\": 0, \"title\": \"Country\"}], \"width\": 300, \"background\": \"white\", \"style\": \"cell\", \"padding\": 5}, {\"mode\": \"vega\"});\n",
       "</script>"
      ],
      "text/plain": [
       "alt.Chart(...)"
      ]
     },
     "execution_count": 32,
     "metadata": {},
     "output_type": "execute_result"
    }
   ],
   "source": [
    "alt.Chart(df_sorted).mark_bar().encode(\n",
    "    y=alt.Y(\"country\", title=\"Country\").sort(\"-x\"),\n",
    "    x=alt.X(\"co2\", title=\"CO2 Emissions\"),\n",
    "    color=alt.Color(\"country\", legend=None),\n",
    ")"
   ]
  },
  {
   "cell_type": "code",
   "execution_count": 33,
   "metadata": {},
   "outputs": [],
   "source": [
    "df_sorted_co2_per_capita = (\n",
    "    df_filtered.groupby(\"country\")\n",
    "    .sum()\n",
    "    .sort_values(\"co2_per_capita\", ascending=False)\n",
    "    .head(11)\n",
    "    .reset_index()\n",
    ")"
   ]
  },
  {
   "cell_type": "code",
   "execution_count": 34,
   "metadata": {},
   "outputs": [
    {
     "data": {
      "text/html": [
       "\n",
       "<style>\n",
       "  #altair-viz-a7dd3021cdd048beb8de7fcde3776cdd.vega-embed {\n",
       "    width: 100%;\n",
       "    display: flex;\n",
       "  }\n",
       "\n",
       "  #altair-viz-a7dd3021cdd048beb8de7fcde3776cdd.vega-embed details,\n",
       "  #altair-viz-a7dd3021cdd048beb8de7fcde3776cdd.vega-embed details summary {\n",
       "    position: relative;\n",
       "  }\n",
       "</style>\n",
       "<div id=\"altair-viz-a7dd3021cdd048beb8de7fcde3776cdd\"></div>\n",
       "<script type=\"text/javascript\">\n",
       "  var VEGA_DEBUG = (typeof VEGA_DEBUG == \"undefined\") ? {} : VEGA_DEBUG;\n",
       "  (function(spec, embedOpt){\n",
       "    let outputDiv = document.currentScript.previousElementSibling;\n",
       "    if (outputDiv.id !== \"altair-viz-a7dd3021cdd048beb8de7fcde3776cdd\") {\n",
       "      outputDiv = document.getElementById(\"altair-viz-a7dd3021cdd048beb8de7fcde3776cdd\");\n",
       "    }\n",
       "    const paths = {\n",
       "      \"vega\": \"https://cdn.jsdelivr.net/npm/vega@5?noext\",\n",
       "      \"vega-lib\": \"https://cdn.jsdelivr.net/npm/vega-lib?noext\",\n",
       "      \"vega-lite\": \"https://cdn.jsdelivr.net/npm/vega-lite@5.17.0?noext\",\n",
       "      \"vega-embed\": \"https://cdn.jsdelivr.net/npm/vega-embed@6?noext\",\n",
       "    };\n",
       "\n",
       "    function maybeLoadScript(lib, version) {\n",
       "      var key = `${lib.replace(\"-\", \"\")}_version`;\n",
       "      return (VEGA_DEBUG[key] == version) ?\n",
       "        Promise.resolve(paths[lib]) :\n",
       "        new Promise(function(resolve, reject) {\n",
       "          var s = document.createElement('script');\n",
       "          document.getElementsByTagName(\"head\")[0].appendChild(s);\n",
       "          s.async = true;\n",
       "          s.onload = () => {\n",
       "            VEGA_DEBUG[key] = version;\n",
       "            return resolve(paths[lib]);\n",
       "          };\n",
       "          s.onerror = () => reject(`Error loading script: ${paths[lib]}`);\n",
       "          s.src = paths[lib];\n",
       "        });\n",
       "    }\n",
       "\n",
       "    function showError(err) {\n",
       "      outputDiv.innerHTML = `<div class=\"error\" style=\"color:red;\">${err}</div>`;\n",
       "      throw err;\n",
       "    }\n",
       "\n",
       "    function displayChart(vegaEmbed) {\n",
       "      vegaEmbed(outputDiv, spec, embedOpt)\n",
       "        .catch(err => showError(`Javascript Error: ${err.message}<br>This usually means there's a typo in your chart specification. See the javascript console for the full traceback.`));\n",
       "    }\n",
       "\n",
       "    if(typeof define === \"function\" && define.amd) {\n",
       "      requirejs.config({paths});\n",
       "      require([\"vega-embed\"], displayChart, err => showError(`Error loading script: ${err.message}`));\n",
       "    } else {\n",
       "      maybeLoadScript(\"vega\", \"5\")\n",
       "        .then(() => maybeLoadScript(\"vega-lite\", \"5.17.0\"))\n",
       "        .then(() => maybeLoadScript(\"vega-embed\", \"6\"))\n",
       "        .catch(showError)\n",
       "        .then(() => displayChart(vegaEmbed));\n",
       "    }\n",
       "  })({\"$schema\": \"https://vega.github.io/schema/vega/v5.json\", \"data\": [{\"name\": \"source_0\"}, {\"name\": \"data_0\", \"values\": [{\"co2_end\": 1726.762, \"co2_start\": 0.0, \"country\": \"Qatar\"}, {\"co2_end\": 111.631, \"co2_start\": 0.0, \"country\": \"Curacao\"}, {\"co2_end\": 1973.1490000000001, \"co2_start\": 0.0, \"country\": \"Kuwait\"}, {\"co2_end\": 905.216, \"co2_start\": 0.0, \"country\": \"Trinidad and Tobago\"}, {\"co2_end\": 4011.604, \"co2_start\": 0.0, \"country\": \"United Arab Emirates\"}, {\"co2_end\": 636.014, \"co2_start\": 0.0, \"country\": \"Bahrain\"}, {\"co2_end\": 184.628, \"co2_start\": 0.0, \"country\": \"Brunei\"}, {\"co2_end\": 231.678, \"co2_start\": 0.0, \"country\": \"Luxembourg\"}, {\"co2_end\": 41.07, \"co2_start\": 0.0, \"country\": \"Aruba\"}, {\"co2_end\": 128562.231, \"co2_start\": 0.0, \"country\": \"United States\"}, {\"co2_end\": 9053.399, \"co2_start\": 0.0, \"country\": \"Australia\"}]}, {\"name\": \"source_0_y_domain_country\", \"values\": [{\"country\": \"Qatar\", \"sort_field\": 1726.762}, {\"country\": \"Curacao\", \"sort_field\": 111.631}, {\"country\": \"Kuwait\", \"sort_field\": 1973.1490000000001}, {\"country\": \"Trinidad and Tobago\", \"sort_field\": 905.216}, {\"country\": \"United Arab Emirates\", \"sort_field\": 4011.604}, {\"country\": \"Bahrain\", \"sort_field\": 636.014}, {\"country\": \"Brunei\", \"sort_field\": 184.628}, {\"country\": \"Luxembourg\", \"sort_field\": 231.678}, {\"country\": \"Aruba\", \"sort_field\": 41.07}, {\"country\": \"United States\", \"sort_field\": 128562.231}, {\"country\": \"Australia\", \"sort_field\": 9053.399}]}, {\"name\": \"data_0_color_domain_country\", \"values\": [{\"country\": \"Qatar\"}, {\"country\": \"Curacao\"}, {\"country\": \"Kuwait\"}, {\"country\": \"Trinidad and Tobago\"}, {\"country\": \"United Arab Emirates\"}, {\"country\": \"Bahrain\"}, {\"country\": \"Brunei\"}, {\"country\": \"Luxembourg\"}, {\"country\": \"Aruba\"}, {\"country\": \"United States\"}, {\"country\": \"Australia\"}]}], \"signals\": [{\"name\": \"y_step\", \"value\": 20}, {\"name\": \"height\", \"update\": \"bandspace(domain('y').length, 0.1, 0.05) * y_step\"}], \"marks\": [{\"type\": \"rect\", \"name\": \"marks\", \"from\": {\"data\": \"data_0\"}, \"encode\": {\"update\": {\"y\": {\"field\": \"country\", \"scale\": \"y\"}, \"x\": {\"field\": \"co2_end\", \"scale\": \"x\"}, \"height\": {\"signal\": \"max(0.25, bandwidth('y'))\"}, \"fill\": {\"field\": \"country\", \"scale\": \"color\"}, \"x2\": {\"field\": \"co2_start\", \"scale\": \"x\"}}}, \"style\": [\"bar\"]}], \"scales\": [{\"name\": \"x\", \"type\": \"linear\", \"domain\": {\"data\": \"data_0\", \"fields\": [\"co2_start\", \"co2_end\"]}, \"range\": [0, {\"signal\": \"width\"}], \"zero\": true, \"nice\": true}, {\"name\": \"y\", \"type\": \"band\", \"domain\": {\"data\": \"source_0_y_domain_country\", \"field\": \"country\", \"sort\": {\"op\": \"max\", \"field\": \"sort_field\", \"order\": \"descending\"}}, \"range\": {\"step\": {\"signal\": \"y_step\"}}, \"paddingOuter\": 0.05, \"paddingInner\": 0.1}, {\"name\": \"color\", \"type\": \"ordinal\", \"domain\": {\"data\": \"data_0_color_domain_country\", \"field\": \"country\", \"sort\": true}, \"range\": \"category\"}], \"axes\": [{\"scale\": \"x\", \"gridScale\": \"y\", \"minExtent\": 0, \"zindex\": 0, \"orient\": \"bottom\", \"grid\": true, \"tickCount\": {\"signal\": \"ceil(width/40)\"}, \"maxExtent\": 0, \"domain\": false, \"labels\": false, \"ticks\": false, \"aria\": false}, {\"scale\": \"x\", \"orient\": \"bottom\", \"grid\": false, \"title\": \"CO2 Emissions\", \"labelFlush\": true, \"labelOverlap\": true, \"tickCount\": {\"signal\": \"ceil(width/40)\"}, \"zindex\": 0}, {\"scale\": \"y\", \"zindex\": 0, \"grid\": false, \"title\": \"Country\", \"orient\": \"left\"}], \"background\": \"white\", \"width\": 300, \"padding\": 5, \"style\": \"cell\"}, {\"mode\": \"vega\"});\n",
       "</script>"
      ],
      "text/plain": [
       "alt.Chart(...)"
      ]
     },
     "execution_count": 34,
     "metadata": {},
     "output_type": "execute_result"
    }
   ],
   "source": [
    "alt.Chart(df_sorted_co2_per_capita).mark_bar().encode(\n",
    "    y=alt.Y(\"country\", title=\"Country\").sort(\"-x\"),\n",
    "    x=alt.X(\"co2_per_capita\", title=\"CO2 Emissions per Capita\"),\n",
    "    color=alt.Color(\"country\", legend=None),\n",
    ")"
   ]
  },
  {
   "cell_type": "markdown",
   "metadata": {},
   "source": [
    "## View the names of the countries in the dataset"
   ]
  },
  {
   "cell_type": "code",
   "execution_count": 35,
   "metadata": {},
   "outputs": [
    {
     "data": {
      "text/plain": [
       "0        False\n",
       "1        False\n",
       "2        False\n",
       "3        False\n",
       "4        False\n",
       "         ...  \n",
       "26929    False\n",
       "26930    False\n",
       "26931    False\n",
       "26932    False\n",
       "26933    False\n",
       "Name: iso_code, Length: 26934, dtype: bool"
      ]
     },
     "execution_count": 35,
     "metadata": {},
     "output_type": "execute_result"
    }
   ],
   "source": [
    "df = pd.read_csv(\"../data/processed/co2-data.csv\")\n",
    "df[\"iso_code\"].isna()"
   ]
  },
  {
   "cell_type": "markdown",
   "metadata": {},
   "source": [
    "## Total Emission over the years"
   ]
  },
  {
   "cell_type": "code",
   "execution_count": 36,
   "metadata": {},
   "outputs": [
    {
     "name": "stdout",
     "output_type": "stream",
     "text": [
      "Total CO2 emissions: 728,341 kT\n"
     ]
    }
   ],
   "source": [
    "start_year = 2000\n",
    "end_year = 2022\n",
    "country_codes = None\n",
    "\n",
    "df_filtered = df.query(f\"{start_year} <= year <= {end_year}\")\n",
    "if country_codes:\n",
    "    df_filtered = df_filtered[df_filtered.iso_code.isin(country_codes)]\n",
    "\n",
    "total_co2 = df_filtered[[\"co2\"]].sum().values[0]\n",
    "print(f\"Total CO2 emissions: {total_co2:,.0f} kT\")"
   ]
  },
  {
   "cell_type": "code",
   "execution_count": 37,
   "metadata": {},
   "outputs": [
    {
     "name": "stdout",
     "output_type": "stream",
     "text": [
      "Number of Empire State Buildings: 386,650\n"
     ]
    }
   ],
   "source": [
    "# Convert to how volume of CO2 released\n",
    "# src = https://www.icbe.com/carbondatabase/CO2volumecalculation.asp\n",
    "ton_to_volume = 556200  # m^3/kt of CO2\n",
    "\n",
    "# src = https://www.esbnyc.com/sites/default/files/esb_fact_sheet_4_9_14_4.pdf\n",
    "vol_of_empire_state_building = 1047723.3239  # m^3\n",
    "\n",
    "number_of_empire_state_buildings = int(\n",
    "    total_co2 * ton_to_volume / vol_of_empire_state_building\n",
    ")\n",
    "\n",
    "print(f\"Number of Empire State Buildings: {number_of_empire_state_buildings:,}\")"
   ]
  },
  {
   "cell_type": "code",
   "execution_count": 38,
   "metadata": {},
   "outputs": [
    {
     "data": {
      "text/plain": [
       "351.0935045008723"
      ]
     },
     "execution_count": 38,
     "metadata": {},
     "output_type": "execute_result"
    }
   ],
   "source": [
    "total_co2 * 1e3 / 1.98 / vol_of_empire_state_building"
   ]
  },
  {
   "cell_type": "markdown",
   "metadata": {},
   "source": [
    "## Test the function"
   ]
  },
  {
   "cell_type": "code",
   "execution_count": 39,
   "metadata": {},
   "outputs": [],
   "source": [
    "def filter_data(df, country_codes, start_year=1900, end_year=2022):\n",
    "    \"\"\"\n",
    "    Filters the data based on the selected countries and year range.\n",
    "    \"\"\"\n",
    "    if country_codes:\n",
    "        df = df[df.iso_code.isin(country_codes)]\n",
    "    return df.query(f\"{start_year} <= year <= {end_year}\")"
   ]
  },
  {
   "cell_type": "code",
   "execution_count": 40,
   "metadata": {},
   "outputs": [
    {
     "data": {
      "text/html": [
       "<div>\n",
       "<style scoped>\n",
       "    .dataframe tbody tr th:only-of-type {\n",
       "        vertical-align: middle;\n",
       "    }\n",
       "\n",
       "    .dataframe tbody tr th {\n",
       "        vertical-align: top;\n",
       "    }\n",
       "\n",
       "    .dataframe thead th {\n",
       "        text-align: right;\n",
       "    }\n",
       "</style>\n",
       "<table border=\"1\" class=\"dataframe\">\n",
       "  <thead>\n",
       "    <tr style=\"text-align: right;\">\n",
       "      <th></th>\n",
       "      <th>country</th>\n",
       "      <th>iso_code</th>\n",
       "      <th>year</th>\n",
       "      <th>co2</th>\n",
       "      <th>temperature_change_from_co2</th>\n",
       "      <th>co2_per_capita</th>\n",
       "    </tr>\n",
       "  </thead>\n",
       "  <tbody>\n",
       "    <tr>\n",
       "      <th>3443</th>\n",
       "      <td>Brazil</td>\n",
       "      <td>BRA</td>\n",
       "      <td>1900</td>\n",
       "      <td>NaN</td>\n",
       "      <td>0.001</td>\n",
       "      <td>NaN</td>\n",
       "    </tr>\n",
       "    <tr>\n",
       "      <th>3444</th>\n",
       "      <td>Brazil</td>\n",
       "      <td>BRA</td>\n",
       "      <td>1901</td>\n",
       "      <td>2.103</td>\n",
       "      <td>0.001</td>\n",
       "      <td>0.114</td>\n",
       "    </tr>\n",
       "    <tr>\n",
       "      <th>3445</th>\n",
       "      <td>Brazil</td>\n",
       "      <td>BRA</td>\n",
       "      <td>1902</td>\n",
       "      <td>2.506</td>\n",
       "      <td>0.001</td>\n",
       "      <td>0.133</td>\n",
       "    </tr>\n",
       "    <tr>\n",
       "      <th>3446</th>\n",
       "      <td>Brazil</td>\n",
       "      <td>BRA</td>\n",
       "      <td>1903</td>\n",
       "      <td>2.440</td>\n",
       "      <td>0.001</td>\n",
       "      <td>0.127</td>\n",
       "    </tr>\n",
       "    <tr>\n",
       "      <th>3447</th>\n",
       "      <td>Brazil</td>\n",
       "      <td>BRA</td>\n",
       "      <td>1904</td>\n",
       "      <td>2.620</td>\n",
       "      <td>0.001</td>\n",
       "      <td>0.133</td>\n",
       "    </tr>\n",
       "  </tbody>\n",
       "</table>\n",
       "</div>"
      ],
      "text/plain": [
       "     country iso_code  year    co2  temperature_change_from_co2  \\\n",
       "3443  Brazil      BRA  1900    NaN                        0.001   \n",
       "3444  Brazil      BRA  1901  2.103                        0.001   \n",
       "3445  Brazil      BRA  1902  2.506                        0.001   \n",
       "3446  Brazil      BRA  1903  2.440                        0.001   \n",
       "3447  Brazil      BRA  1904  2.620                        0.001   \n",
       "\n",
       "      co2_per_capita  \n",
       "3443             NaN  \n",
       "3444           0.114  \n",
       "3445           0.133  \n",
       "3446           0.127  \n",
       "3447           0.133  "
      ]
     },
     "execution_count": 40,
     "metadata": {},
     "output_type": "execute_result"
    }
   ],
   "source": [
    "df = pd.read_csv(\"../data/processed/co2-data.csv\")\n",
    "df_filtered = filter_data(\n",
    "    df, [\"USA\", \"CHN\", \"IND\", \"RUS\", \"DEU\", \"GBR\", \"FRA\", \"BRA\", \"IDN\", \"IRN\"]\n",
    ")\n",
    "df_filtered.head()\n",
    "# df_filtered = df_filtered.groupby([\"iso_code\"]).sum().reset_index()"
   ]
  },
  {
   "cell_type": "code",
   "execution_count": 41,
   "metadata": {},
   "outputs": [
    {
     "data": {
      "text/html": [
       "<div>\n",
       "<style scoped>\n",
       "    .dataframe tbody tr th:only-of-type {\n",
       "        vertical-align: middle;\n",
       "    }\n",
       "\n",
       "    .dataframe tbody tr th {\n",
       "        vertical-align: top;\n",
       "    }\n",
       "\n",
       "    .dataframe thead th {\n",
       "        text-align: right;\n",
       "    }\n",
       "</style>\n",
       "<table border=\"1\" class=\"dataframe\">\n",
       "  <thead>\n",
       "    <tr style=\"text-align: right;\">\n",
       "      <th></th>\n",
       "      <th>iso_code</th>\n",
       "      <th>year</th>\n",
       "      <th>co2</th>\n",
       "      <th>temperature_change_from_co2</th>\n",
       "      <th>co2_per_capita</th>\n",
       "    </tr>\n",
       "  </thead>\n",
       "  <tbody>\n",
       "    <tr>\n",
       "      <th>0</th>\n",
       "      <td>BRA</td>\n",
       "      <td>241203</td>\n",
       "      <td>17176.783</td>\n",
       "      <td>2.084</td>\n",
       "      <td>113.538</td>\n",
       "    </tr>\n",
       "    <tr>\n",
       "      <th>1</th>\n",
       "      <td>CHN</td>\n",
       "      <td>241203</td>\n",
       "      <td>260619.243</td>\n",
       "      <td>3.151</td>\n",
       "      <td>210.337</td>\n",
       "    </tr>\n",
       "    <tr>\n",
       "      <th>2</th>\n",
       "      <td>DEU</td>\n",
       "      <td>241203</td>\n",
       "      <td>87921.775</td>\n",
       "      <td>2.335</td>\n",
       "      <td>1175.671</td>\n",
       "    </tr>\n",
       "    <tr>\n",
       "      <th>3</th>\n",
       "      <td>FRA</td>\n",
       "      <td>241203</td>\n",
       "      <td>35816.506</td>\n",
       "      <td>0.908</td>\n",
       "      <td>711.947</td>\n",
       "    </tr>\n",
       "    <tr>\n",
       "      <th>4</th>\n",
       "      <td>GBR</td>\n",
       "      <td>241203</td>\n",
       "      <td>62504.298</td>\n",
       "      <td>2.410</td>\n",
       "      <td>1190.535</td>\n",
       "    </tr>\n",
       "    <tr>\n",
       "      <th>5</th>\n",
       "      <td>IDN</td>\n",
       "      <td>241203</td>\n",
       "      <td>15705.843</td>\n",
       "      <td>1.827</td>\n",
       "      <td>80.953</td>\n",
       "    </tr>\n",
       "    <tr>\n",
       "      <th>6</th>\n",
       "      <td>IND</td>\n",
       "      <td>241203</td>\n",
       "      <td>59637.621</td>\n",
       "      <td>1.314</td>\n",
       "      <td>59.744</td>\n",
       "    </tr>\n",
       "    <tr>\n",
       "      <th>7</th>\n",
       "      <td>IRN</td>\n",
       "      <td>241203</td>\n",
       "      <td>19852.750</td>\n",
       "      <td>0.234</td>\n",
       "      <td>368.487</td>\n",
       "    </tr>\n",
       "    <tr>\n",
       "      <th>8</th>\n",
       "      <td>RUS</td>\n",
       "      <td>241203</td>\n",
       "      <td>118859.749</td>\n",
       "      <td>4.102</td>\n",
       "      <td>881.414</td>\n",
       "    </tr>\n",
       "    <tr>\n",
       "      <th>9</th>\n",
       "      <td>USA</td>\n",
       "      <td>241203</td>\n",
       "      <td>416912.845</td>\n",
       "      <td>13.673</td>\n",
       "      <td>2101.363</td>\n",
       "    </tr>\n",
       "  </tbody>\n",
       "</table>\n",
       "</div>"
      ],
      "text/plain": [
       "  iso_code    year         co2  temperature_change_from_co2  co2_per_capita\n",
       "0      BRA  241203   17176.783                        2.084         113.538\n",
       "1      CHN  241203  260619.243                        3.151         210.337\n",
       "2      DEU  241203   87921.775                        2.335        1175.671\n",
       "3      FRA  241203   35816.506                        0.908         711.947\n",
       "4      GBR  241203   62504.298                        2.410        1190.535\n",
       "5      IDN  241203   15705.843                        1.827          80.953\n",
       "6      IND  241203   59637.621                        1.314          59.744\n",
       "7      IRN  241203   19852.750                        0.234         368.487\n",
       "8      RUS  241203  118859.749                        4.102         881.414\n",
       "9      USA  241203  416912.845                       13.673        2101.363"
      ]
     },
     "execution_count": 41,
     "metadata": {},
     "output_type": "execute_result"
    }
   ],
   "source": [
    "df_filtered.groupby([\"iso_code\"]).sum(\"co2\").reset_index()"
   ]
  },
  {
   "cell_type": "code",
   "execution_count": 42,
   "metadata": {},
   "outputs": [
    {
     "data": {
      "text/html": [
       "<div>\n",
       "<style scoped>\n",
       "    .dataframe tbody tr th:only-of-type {\n",
       "        vertical-align: middle;\n",
       "    }\n",
       "\n",
       "    .dataframe tbody tr th {\n",
       "        vertical-align: top;\n",
       "    }\n",
       "\n",
       "    .dataframe thead th {\n",
       "        text-align: right;\n",
       "    }\n",
       "</style>\n",
       "<table border=\"1\" class=\"dataframe\">\n",
       "  <thead>\n",
       "    <tr style=\"text-align: right;\">\n",
       "      <th></th>\n",
       "      <th>iso_code</th>\n",
       "      <th>country</th>\n",
       "      <th>year</th>\n",
       "      <th>co2</th>\n",
       "      <th>temperature_change_from_co2</th>\n",
       "      <th>co2_per_capita</th>\n",
       "    </tr>\n",
       "  </thead>\n",
       "  <tbody>\n",
       "    <tr>\n",
       "      <th>0</th>\n",
       "      <td>BRA</td>\n",
       "      <td>BrazilBrazilBrazilBrazilBrazilBrazilBrazilBraz...</td>\n",
       "      <td>241203</td>\n",
       "      <td>17176.783</td>\n",
       "      <td>2.084</td>\n",
       "      <td>113.538</td>\n",
       "    </tr>\n",
       "    <tr>\n",
       "      <th>1</th>\n",
       "      <td>CHN</td>\n",
       "      <td>ChinaChinaChinaChinaChinaChinaChinaChinaChinaC...</td>\n",
       "      <td>241203</td>\n",
       "      <td>260619.243</td>\n",
       "      <td>3.151</td>\n",
       "      <td>210.337</td>\n",
       "    </tr>\n",
       "    <tr>\n",
       "      <th>2</th>\n",
       "      <td>DEU</td>\n",
       "      <td>GermanyGermanyGermanyGermanyGermanyGermanyGerm...</td>\n",
       "      <td>241203</td>\n",
       "      <td>87921.775</td>\n",
       "      <td>2.335</td>\n",
       "      <td>1175.671</td>\n",
       "    </tr>\n",
       "    <tr>\n",
       "      <th>3</th>\n",
       "      <td>FRA</td>\n",
       "      <td>FranceFranceFranceFranceFranceFranceFranceFran...</td>\n",
       "      <td>241203</td>\n",
       "      <td>35816.506</td>\n",
       "      <td>0.908</td>\n",
       "      <td>711.947</td>\n",
       "    </tr>\n",
       "    <tr>\n",
       "      <th>4</th>\n",
       "      <td>GBR</td>\n",
       "      <td>United KingdomUnited KingdomUnited KingdomUnit...</td>\n",
       "      <td>241203</td>\n",
       "      <td>62504.298</td>\n",
       "      <td>2.410</td>\n",
       "      <td>1190.535</td>\n",
       "    </tr>\n",
       "    <tr>\n",
       "      <th>5</th>\n",
       "      <td>IDN</td>\n",
       "      <td>IndonesiaIndonesiaIndonesiaIndonesiaIndonesiaI...</td>\n",
       "      <td>241203</td>\n",
       "      <td>15705.843</td>\n",
       "      <td>1.827</td>\n",
       "      <td>80.953</td>\n",
       "    </tr>\n",
       "    <tr>\n",
       "      <th>6</th>\n",
       "      <td>IND</td>\n",
       "      <td>IndiaIndiaIndiaIndiaIndiaIndiaIndiaIndiaIndiaI...</td>\n",
       "      <td>241203</td>\n",
       "      <td>59637.621</td>\n",
       "      <td>1.314</td>\n",
       "      <td>59.744</td>\n",
       "    </tr>\n",
       "    <tr>\n",
       "      <th>7</th>\n",
       "      <td>IRN</td>\n",
       "      <td>IranIranIranIranIranIranIranIranIranIranIranIr...</td>\n",
       "      <td>241203</td>\n",
       "      <td>19852.750</td>\n",
       "      <td>0.234</td>\n",
       "      <td>368.487</td>\n",
       "    </tr>\n",
       "    <tr>\n",
       "      <th>8</th>\n",
       "      <td>RUS</td>\n",
       "      <td>RussiaRussiaRussiaRussiaRussiaRussiaRussiaRuss...</td>\n",
       "      <td>241203</td>\n",
       "      <td>118859.749</td>\n",
       "      <td>4.102</td>\n",
       "      <td>881.414</td>\n",
       "    </tr>\n",
       "    <tr>\n",
       "      <th>9</th>\n",
       "      <td>USA</td>\n",
       "      <td>United StatesUnited StatesUnited StatesUnited ...</td>\n",
       "      <td>241203</td>\n",
       "      <td>416912.845</td>\n",
       "      <td>13.673</td>\n",
       "      <td>2101.363</td>\n",
       "    </tr>\n",
       "  </tbody>\n",
       "</table>\n",
       "</div>"
      ],
      "text/plain": [
       "  iso_code                                            country    year  \\\n",
       "0      BRA  BrazilBrazilBrazilBrazilBrazilBrazilBrazilBraz...  241203   \n",
       "1      CHN  ChinaChinaChinaChinaChinaChinaChinaChinaChinaC...  241203   \n",
       "2      DEU  GermanyGermanyGermanyGermanyGermanyGermanyGerm...  241203   \n",
       "3      FRA  FranceFranceFranceFranceFranceFranceFranceFran...  241203   \n",
       "4      GBR  United KingdomUnited KingdomUnited KingdomUnit...  241203   \n",
       "5      IDN  IndonesiaIndonesiaIndonesiaIndonesiaIndonesiaI...  241203   \n",
       "6      IND  IndiaIndiaIndiaIndiaIndiaIndiaIndiaIndiaIndiaI...  241203   \n",
       "7      IRN  IranIranIranIranIranIranIranIranIranIranIranIr...  241203   \n",
       "8      RUS  RussiaRussiaRussiaRussiaRussiaRussiaRussiaRuss...  241203   \n",
       "9      USA  United StatesUnited StatesUnited StatesUnited ...  241203   \n",
       "\n",
       "          co2  temperature_change_from_co2  co2_per_capita  \n",
       "0   17176.783                        2.084         113.538  \n",
       "1  260619.243                        3.151         210.337  \n",
       "2   87921.775                        2.335        1175.671  \n",
       "3   35816.506                        0.908         711.947  \n",
       "4   62504.298                        2.410        1190.535  \n",
       "5   15705.843                        1.827          80.953  \n",
       "6   59637.621                        1.314          59.744  \n",
       "7   19852.750                        0.234         368.487  \n",
       "8  118859.749                        4.102         881.414  \n",
       "9  416912.845                       13.673        2101.363  "
      ]
     },
     "execution_count": 42,
     "metadata": {},
     "output_type": "execute_result"
    }
   ],
   "source": [
    "df_filtered.groupby(\"iso_code\", as_index=False).sum()"
   ]
  },
  {
   "cell_type": "code",
   "execution_count": null,
   "metadata": {},
   "outputs": [],
   "source": []
  }
 ],
 "metadata": {
  "kernelspec": {
   "display_name": "hotspot",
   "language": "python",
   "name": "python3"
  },
  "language_info": {
   "codemirror_mode": {
    "name": "ipython",
    "version": 3
   },
   "file_extension": ".py",
   "mimetype": "text/x-python",
   "name": "python",
   "nbconvert_exporter": "python",
   "pygments_lexer": "ipython3",
   "version": "3.11.8"
  }
 },
 "nbformat": 4,
 "nbformat_minor": 2
}
